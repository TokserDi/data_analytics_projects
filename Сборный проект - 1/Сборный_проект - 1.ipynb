{
 "cells": [
  {
   "cell_type": "markdown",
   "metadata": {},
   "source": [
    "## Описание проекта\n",
    "Имеется датафрейм интернет-магазина `«Стримчик»`, который продаёт по всему миру компьютерные игры. Из открытых источников доступны исторические данные о продажах игр, оценки пользователей и экспертов, жанры и платформы (например, `Xbox или PlayStation`). В исследовании необходимо выявить определяющие успешность игры закономерности. Это позволит сделать ставку на потенциально популярный продукт и спланировать рекламные кампании.  \n",
    "В датафрейме представленны данные `до 2016 года`. Необходимо предсказать/спланировать кампанию `на 2017-й`.  "
   ]
  },
  {
   "cell_type": "markdown",
   "metadata": {},
   "source": [
    "## Откроем файл с данными и изучим общую информацию"
   ]
  },
  {
   "cell_type": "markdown",
   "metadata": {},
   "source": [
    "Для начала необходимо провести первичный осмотр данных: из каких столбцов состоит датафрейм, какие столбцы числовые, булевые и текстовые. Уже по первым пяти строкам мы видим, где присутствуют пропущенные значения. Оценим типы столбцов и заполним пропуски медианными значениями. Далее построим гистограммы и оценим - каким зависимостям подчиняются числовые столбцы. У `'NA_sales', 'EU_sales', 'JP_sales'` пик около нулевого значения, убывающие по мере роста целевой функции. Поэтому пропущенные значения актуальнее заполнить медианными значениями.\n",
    "\n",
    "В случае `'Year_of_Release' и 'Critic_Score'` похожи на распределение Пуассона с пиком в правой части графика."
   ]
  },
  {
   "cell_type": "code",
   "execution_count": 1,
   "metadata": {},
   "outputs": [],
   "source": [
    "import pandas as pd\n",
    "import numpy as np\n",
    "import matplotlib.pyplot as plt\n",
    "import statistics\n",
    "import seaborn as sns\n",
    "from scipy import stats as st\n",
    "\n",
    "pd.set_option('display.max_columns', None)"
   ]
  },
  {
   "cell_type": "code",
   "execution_count": 2,
   "metadata": {},
   "outputs": [],
   "source": [
    "df = pd.read_csv('/datasets/games.csv')"
   ]
  },
  {
   "cell_type": "code",
   "execution_count": 3,
   "metadata": {},
   "outputs": [
    {
     "data": {
      "text/html": [
       "<div>\n",
       "<style scoped>\n",
       "    .dataframe tbody tr th:only-of-type {\n",
       "        vertical-align: middle;\n",
       "    }\n",
       "\n",
       "    .dataframe tbody tr th {\n",
       "        vertical-align: top;\n",
       "    }\n",
       "\n",
       "    .dataframe thead th {\n",
       "        text-align: right;\n",
       "    }\n",
       "</style>\n",
       "<table border=\"1\" class=\"dataframe\">\n",
       "  <thead>\n",
       "    <tr style=\"text-align: right;\">\n",
       "      <th></th>\n",
       "      <th>Name</th>\n",
       "      <th>Platform</th>\n",
       "      <th>Year_of_Release</th>\n",
       "      <th>Genre</th>\n",
       "      <th>NA_sales</th>\n",
       "      <th>EU_sales</th>\n",
       "      <th>JP_sales</th>\n",
       "      <th>Other_sales</th>\n",
       "      <th>Critic_Score</th>\n",
       "      <th>User_Score</th>\n",
       "      <th>Rating</th>\n",
       "    </tr>\n",
       "  </thead>\n",
       "  <tbody>\n",
       "    <tr>\n",
       "      <th>0</th>\n",
       "      <td>Wii Sports</td>\n",
       "      <td>Wii</td>\n",
       "      <td>2006.0</td>\n",
       "      <td>Sports</td>\n",
       "      <td>41.36</td>\n",
       "      <td>28.96</td>\n",
       "      <td>3.77</td>\n",
       "      <td>8.45</td>\n",
       "      <td>76.0</td>\n",
       "      <td>8</td>\n",
       "      <td>E</td>\n",
       "    </tr>\n",
       "    <tr>\n",
       "      <th>1</th>\n",
       "      <td>Super Mario Bros.</td>\n",
       "      <td>NES</td>\n",
       "      <td>1985.0</td>\n",
       "      <td>Platform</td>\n",
       "      <td>29.08</td>\n",
       "      <td>3.58</td>\n",
       "      <td>6.81</td>\n",
       "      <td>0.77</td>\n",
       "      <td>NaN</td>\n",
       "      <td>NaN</td>\n",
       "      <td>NaN</td>\n",
       "    </tr>\n",
       "    <tr>\n",
       "      <th>2</th>\n",
       "      <td>Mario Kart Wii</td>\n",
       "      <td>Wii</td>\n",
       "      <td>2008.0</td>\n",
       "      <td>Racing</td>\n",
       "      <td>15.68</td>\n",
       "      <td>12.76</td>\n",
       "      <td>3.79</td>\n",
       "      <td>3.29</td>\n",
       "      <td>82.0</td>\n",
       "      <td>8.3</td>\n",
       "      <td>E</td>\n",
       "    </tr>\n",
       "    <tr>\n",
       "      <th>3</th>\n",
       "      <td>Wii Sports Resort</td>\n",
       "      <td>Wii</td>\n",
       "      <td>2009.0</td>\n",
       "      <td>Sports</td>\n",
       "      <td>15.61</td>\n",
       "      <td>10.93</td>\n",
       "      <td>3.28</td>\n",
       "      <td>2.95</td>\n",
       "      <td>80.0</td>\n",
       "      <td>8</td>\n",
       "      <td>E</td>\n",
       "    </tr>\n",
       "    <tr>\n",
       "      <th>4</th>\n",
       "      <td>Pokemon Red/Pokemon Blue</td>\n",
       "      <td>GB</td>\n",
       "      <td>1996.0</td>\n",
       "      <td>Role-Playing</td>\n",
       "      <td>11.27</td>\n",
       "      <td>8.89</td>\n",
       "      <td>10.22</td>\n",
       "      <td>1.00</td>\n",
       "      <td>NaN</td>\n",
       "      <td>NaN</td>\n",
       "      <td>NaN</td>\n",
       "    </tr>\n",
       "    <tr>\n",
       "      <th>5</th>\n",
       "      <td>Tetris</td>\n",
       "      <td>GB</td>\n",
       "      <td>1989.0</td>\n",
       "      <td>Puzzle</td>\n",
       "      <td>23.20</td>\n",
       "      <td>2.26</td>\n",
       "      <td>4.22</td>\n",
       "      <td>0.58</td>\n",
       "      <td>NaN</td>\n",
       "      <td>NaN</td>\n",
       "      <td>NaN</td>\n",
       "    </tr>\n",
       "    <tr>\n",
       "      <th>6</th>\n",
       "      <td>New Super Mario Bros.</td>\n",
       "      <td>DS</td>\n",
       "      <td>2006.0</td>\n",
       "      <td>Platform</td>\n",
       "      <td>11.28</td>\n",
       "      <td>9.14</td>\n",
       "      <td>6.50</td>\n",
       "      <td>2.88</td>\n",
       "      <td>89.0</td>\n",
       "      <td>8.5</td>\n",
       "      <td>E</td>\n",
       "    </tr>\n",
       "    <tr>\n",
       "      <th>7</th>\n",
       "      <td>Wii Play</td>\n",
       "      <td>Wii</td>\n",
       "      <td>2006.0</td>\n",
       "      <td>Misc</td>\n",
       "      <td>13.96</td>\n",
       "      <td>9.18</td>\n",
       "      <td>2.93</td>\n",
       "      <td>2.84</td>\n",
       "      <td>58.0</td>\n",
       "      <td>6.6</td>\n",
       "      <td>E</td>\n",
       "    </tr>\n",
       "    <tr>\n",
       "      <th>8</th>\n",
       "      <td>New Super Mario Bros. Wii</td>\n",
       "      <td>Wii</td>\n",
       "      <td>2009.0</td>\n",
       "      <td>Platform</td>\n",
       "      <td>14.44</td>\n",
       "      <td>6.94</td>\n",
       "      <td>4.70</td>\n",
       "      <td>2.24</td>\n",
       "      <td>87.0</td>\n",
       "      <td>8.4</td>\n",
       "      <td>E</td>\n",
       "    </tr>\n",
       "    <tr>\n",
       "      <th>9</th>\n",
       "      <td>Duck Hunt</td>\n",
       "      <td>NES</td>\n",
       "      <td>1984.0</td>\n",
       "      <td>Shooter</td>\n",
       "      <td>26.93</td>\n",
       "      <td>0.63</td>\n",
       "      <td>0.28</td>\n",
       "      <td>0.47</td>\n",
       "      <td>NaN</td>\n",
       "      <td>NaN</td>\n",
       "      <td>NaN</td>\n",
       "    </tr>\n",
       "  </tbody>\n",
       "</table>\n",
       "</div>"
      ],
      "text/plain": [
       "                        Name Platform  Year_of_Release         Genre  \\\n",
       "0                 Wii Sports      Wii           2006.0        Sports   \n",
       "1          Super Mario Bros.      NES           1985.0      Platform   \n",
       "2             Mario Kart Wii      Wii           2008.0        Racing   \n",
       "3          Wii Sports Resort      Wii           2009.0        Sports   \n",
       "4   Pokemon Red/Pokemon Blue       GB           1996.0  Role-Playing   \n",
       "5                     Tetris       GB           1989.0        Puzzle   \n",
       "6      New Super Mario Bros.       DS           2006.0      Platform   \n",
       "7                   Wii Play      Wii           2006.0          Misc   \n",
       "8  New Super Mario Bros. Wii      Wii           2009.0      Platform   \n",
       "9                  Duck Hunt      NES           1984.0       Shooter   \n",
       "\n",
       "   NA_sales  EU_sales  JP_sales  Other_sales  Critic_Score User_Score Rating  \n",
       "0     41.36     28.96      3.77         8.45          76.0          8      E  \n",
       "1     29.08      3.58      6.81         0.77           NaN        NaN    NaN  \n",
       "2     15.68     12.76      3.79         3.29          82.0        8.3      E  \n",
       "3     15.61     10.93      3.28         2.95          80.0          8      E  \n",
       "4     11.27      8.89     10.22         1.00           NaN        NaN    NaN  \n",
       "5     23.20      2.26      4.22         0.58           NaN        NaN    NaN  \n",
       "6     11.28      9.14      6.50         2.88          89.0        8.5      E  \n",
       "7     13.96      9.18      2.93         2.84          58.0        6.6      E  \n",
       "8     14.44      6.94      4.70         2.24          87.0        8.4      E  \n",
       "9     26.93      0.63      0.28         0.47           NaN        NaN    NaN  "
      ]
     },
     "metadata": {},
     "output_type": "display_data"
    },
    {
     "name": "stdout",
     "output_type": "stream",
     "text": [
      "<class 'pandas.core.frame.DataFrame'>\n",
      "RangeIndex: 16715 entries, 0 to 16714\n",
      "Data columns (total 11 columns):\n",
      " #   Column           Non-Null Count  Dtype  \n",
      "---  ------           --------------  -----  \n",
      " 0   Name             16713 non-null  object \n",
      " 1   Platform         16715 non-null  object \n",
      " 2   Year_of_Release  16446 non-null  float64\n",
      " 3   Genre            16713 non-null  object \n",
      " 4   NA_sales         16715 non-null  float64\n",
      " 5   EU_sales         16715 non-null  float64\n",
      " 6   JP_sales         16715 non-null  float64\n",
      " 7   Other_sales      16715 non-null  float64\n",
      " 8   Critic_Score     8137 non-null   float64\n",
      " 9   User_Score       10014 non-null  object \n",
      " 10  Rating           9949 non-null   object \n",
      "dtypes: float64(6), object(5)\n",
      "memory usage: 1.4+ MB\n"
     ]
    },
    {
     "data": {
      "text/plain": [
       "None"
      ]
     },
     "metadata": {},
     "output_type": "display_data"
    }
   ],
   "source": [
    "display(df.head(10));\n",
    "display(df.info());"
   ]
  },
  {
   "cell_type": "code",
   "execution_count": 4,
   "metadata": {},
   "outputs": [
    {
     "data": {
      "text/html": [
       "<div>\n",
       "<style scoped>\n",
       "    .dataframe tbody tr th:only-of-type {\n",
       "        vertical-align: middle;\n",
       "    }\n",
       "\n",
       "    .dataframe tbody tr th {\n",
       "        vertical-align: top;\n",
       "    }\n",
       "\n",
       "    .dataframe thead th {\n",
       "        text-align: right;\n",
       "    }\n",
       "</style>\n",
       "<table border=\"1\" class=\"dataframe\">\n",
       "  <thead>\n",
       "    <tr style=\"text-align: right;\">\n",
       "      <th></th>\n",
       "      <th>Name</th>\n",
       "      <th>Platform</th>\n",
       "      <th>Year_of_Release</th>\n",
       "      <th>Genre</th>\n",
       "      <th>NA_sales</th>\n",
       "      <th>EU_sales</th>\n",
       "      <th>JP_sales</th>\n",
       "      <th>Other_sales</th>\n",
       "      <th>Critic_Score</th>\n",
       "      <th>User_Score</th>\n",
       "      <th>Rating</th>\n",
       "    </tr>\n",
       "  </thead>\n",
       "  <tbody>\n",
       "    <tr>\n",
       "      <th>0</th>\n",
       "      <td>Wii Sports</td>\n",
       "      <td>Wii</td>\n",
       "      <td>2006.0</td>\n",
       "      <td>Sports</td>\n",
       "      <td>41.36</td>\n",
       "      <td>28.96</td>\n",
       "      <td>3.77</td>\n",
       "      <td>8.45</td>\n",
       "      <td>76.0</td>\n",
       "      <td>8</td>\n",
       "      <td>E</td>\n",
       "    </tr>\n",
       "    <tr>\n",
       "      <th>1</th>\n",
       "      <td>Super Mario Bros.</td>\n",
       "      <td>NES</td>\n",
       "      <td>1985.0</td>\n",
       "      <td>Platform</td>\n",
       "      <td>29.08</td>\n",
       "      <td>3.58</td>\n",
       "      <td>6.81</td>\n",
       "      <td>0.77</td>\n",
       "      <td>NaN</td>\n",
       "      <td>NaN</td>\n",
       "      <td>NaN</td>\n",
       "    </tr>\n",
       "    <tr>\n",
       "      <th>2</th>\n",
       "      <td>Mario Kart Wii</td>\n",
       "      <td>Wii</td>\n",
       "      <td>2008.0</td>\n",
       "      <td>Racing</td>\n",
       "      <td>15.68</td>\n",
       "      <td>12.76</td>\n",
       "      <td>3.79</td>\n",
       "      <td>3.29</td>\n",
       "      <td>82.0</td>\n",
       "      <td>8.3</td>\n",
       "      <td>E</td>\n",
       "    </tr>\n",
       "    <tr>\n",
       "      <th>3</th>\n",
       "      <td>Wii Sports Resort</td>\n",
       "      <td>Wii</td>\n",
       "      <td>2009.0</td>\n",
       "      <td>Sports</td>\n",
       "      <td>15.61</td>\n",
       "      <td>10.93</td>\n",
       "      <td>3.28</td>\n",
       "      <td>2.95</td>\n",
       "      <td>80.0</td>\n",
       "      <td>8</td>\n",
       "      <td>E</td>\n",
       "    </tr>\n",
       "    <tr>\n",
       "      <th>4</th>\n",
       "      <td>Pokemon Red/Pokemon Blue</td>\n",
       "      <td>GB</td>\n",
       "      <td>1996.0</td>\n",
       "      <td>Role-Playing</td>\n",
       "      <td>11.27</td>\n",
       "      <td>8.89</td>\n",
       "      <td>10.22</td>\n",
       "      <td>1.00</td>\n",
       "      <td>NaN</td>\n",
       "      <td>NaN</td>\n",
       "      <td>NaN</td>\n",
       "    </tr>\n",
       "    <tr>\n",
       "      <th>...</th>\n",
       "      <td>...</td>\n",
       "      <td>...</td>\n",
       "      <td>...</td>\n",
       "      <td>...</td>\n",
       "      <td>...</td>\n",
       "      <td>...</td>\n",
       "      <td>...</td>\n",
       "      <td>...</td>\n",
       "      <td>...</td>\n",
       "      <td>...</td>\n",
       "      <td>...</td>\n",
       "    </tr>\n",
       "    <tr>\n",
       "      <th>16710</th>\n",
       "      <td>Samurai Warriors: Sanada Maru</td>\n",
       "      <td>PS3</td>\n",
       "      <td>2016.0</td>\n",
       "      <td>Action</td>\n",
       "      <td>0.00</td>\n",
       "      <td>0.00</td>\n",
       "      <td>0.01</td>\n",
       "      <td>0.00</td>\n",
       "      <td>NaN</td>\n",
       "      <td>NaN</td>\n",
       "      <td>NaN</td>\n",
       "    </tr>\n",
       "    <tr>\n",
       "      <th>16711</th>\n",
       "      <td>LMA Manager 2007</td>\n",
       "      <td>X360</td>\n",
       "      <td>2006.0</td>\n",
       "      <td>Sports</td>\n",
       "      <td>0.00</td>\n",
       "      <td>0.01</td>\n",
       "      <td>0.00</td>\n",
       "      <td>0.00</td>\n",
       "      <td>NaN</td>\n",
       "      <td>NaN</td>\n",
       "      <td>NaN</td>\n",
       "    </tr>\n",
       "    <tr>\n",
       "      <th>16712</th>\n",
       "      <td>Haitaka no Psychedelica</td>\n",
       "      <td>PSV</td>\n",
       "      <td>2016.0</td>\n",
       "      <td>Adventure</td>\n",
       "      <td>0.00</td>\n",
       "      <td>0.00</td>\n",
       "      <td>0.01</td>\n",
       "      <td>0.00</td>\n",
       "      <td>NaN</td>\n",
       "      <td>NaN</td>\n",
       "      <td>NaN</td>\n",
       "    </tr>\n",
       "    <tr>\n",
       "      <th>16713</th>\n",
       "      <td>Spirits &amp; Spells</td>\n",
       "      <td>GBA</td>\n",
       "      <td>2003.0</td>\n",
       "      <td>Platform</td>\n",
       "      <td>0.01</td>\n",
       "      <td>0.00</td>\n",
       "      <td>0.00</td>\n",
       "      <td>0.00</td>\n",
       "      <td>NaN</td>\n",
       "      <td>NaN</td>\n",
       "      <td>NaN</td>\n",
       "    </tr>\n",
       "    <tr>\n",
       "      <th>16714</th>\n",
       "      <td>Winning Post 8 2016</td>\n",
       "      <td>PSV</td>\n",
       "      <td>2016.0</td>\n",
       "      <td>Simulation</td>\n",
       "      <td>0.00</td>\n",
       "      <td>0.00</td>\n",
       "      <td>0.01</td>\n",
       "      <td>0.00</td>\n",
       "      <td>NaN</td>\n",
       "      <td>NaN</td>\n",
       "      <td>NaN</td>\n",
       "    </tr>\n",
       "  </tbody>\n",
       "</table>\n",
       "<p>16715 rows × 11 columns</p>\n",
       "</div>"
      ],
      "text/plain": [
       "                                Name Platform  Year_of_Release         Genre  \\\n",
       "0                         Wii Sports      Wii           2006.0        Sports   \n",
       "1                  Super Mario Bros.      NES           1985.0      Platform   \n",
       "2                     Mario Kart Wii      Wii           2008.0        Racing   \n",
       "3                  Wii Sports Resort      Wii           2009.0        Sports   \n",
       "4           Pokemon Red/Pokemon Blue       GB           1996.0  Role-Playing   \n",
       "...                              ...      ...              ...           ...   \n",
       "16710  Samurai Warriors: Sanada Maru      PS3           2016.0        Action   \n",
       "16711               LMA Manager 2007     X360           2006.0        Sports   \n",
       "16712        Haitaka no Psychedelica      PSV           2016.0     Adventure   \n",
       "16713               Spirits & Spells      GBA           2003.0      Platform   \n",
       "16714            Winning Post 8 2016      PSV           2016.0    Simulation   \n",
       "\n",
       "       NA_sales  EU_sales  JP_sales  Other_sales  Critic_Score User_Score  \\\n",
       "0         41.36     28.96      3.77         8.45          76.0          8   \n",
       "1         29.08      3.58      6.81         0.77           NaN        NaN   \n",
       "2         15.68     12.76      3.79         3.29          82.0        8.3   \n",
       "3         15.61     10.93      3.28         2.95          80.0          8   \n",
       "4         11.27      8.89     10.22         1.00           NaN        NaN   \n",
       "...         ...       ...       ...          ...           ...        ...   \n",
       "16710      0.00      0.00      0.01         0.00           NaN        NaN   \n",
       "16711      0.00      0.01      0.00         0.00           NaN        NaN   \n",
       "16712      0.00      0.00      0.01         0.00           NaN        NaN   \n",
       "16713      0.01      0.00      0.00         0.00           NaN        NaN   \n",
       "16714      0.00      0.00      0.01         0.00           NaN        NaN   \n",
       "\n",
       "      Rating  \n",
       "0          E  \n",
       "1        NaN  \n",
       "2          E  \n",
       "3          E  \n",
       "4        NaN  \n",
       "...      ...  \n",
       "16710    NaN  \n",
       "16711    NaN  \n",
       "16712    NaN  \n",
       "16713    NaN  \n",
       "16714    NaN  \n",
       "\n",
       "[16715 rows x 11 columns]"
      ]
     },
     "metadata": {},
     "output_type": "display_data"
    }
   ],
   "source": [
    "display(df)"
   ]
  },
  {
   "cell_type": "markdown",
   "metadata": {},
   "source": [
    "Кол-во строк и столбцов изначального датафрейма:"
   ]
  },
  {
   "cell_type": "code",
   "execution_count": 5,
   "metadata": {},
   "outputs": [
    {
     "data": {
      "text/plain": [
       "(16715, 11)"
      ]
     },
     "execution_count": 5,
     "metadata": {},
     "output_type": "execute_result"
    }
   ],
   "source": [
    "df.shape"
   ]
  },
  {
   "cell_type": "code",
   "execution_count": 6,
   "metadata": {},
   "outputs": [
    {
     "data": {
      "image/png": "[encoded data removed]",
      "text/plain": [
       "<Figure size 1080x1440 with 6 Axes>"
      ]
     },
     "metadata": {
      "needs_background": "light"
     },
     "output_type": "display_data"
    }
   ],
   "source": [
    "df.hist(figsize=(15, 20), bins=50);"
   ]
  },
  {
   "cell_type": "markdown",
   "metadata": {},
   "source": [
    "## Предобработка данных"
   ]
  },
  {
   "cell_type": "markdown",
   "metadata": {},
   "source": [
    "Следуя правилам синтаксиса и хорошему стилю, было обнаружено, что названия колонок начинаются с заглавных букв. Приведем их всех к нижнему регистру:"
   ]
  },
  {
   "cell_type": "code",
   "execution_count": 7,
   "metadata": {},
   "outputs": [
    {
     "name": "stdout",
     "output_type": "stream",
     "text": [
      "Index(['name', 'platform', 'year_of_release', 'genre', 'na_sales', 'eu_sales',\n",
      "       'jp_sales', 'other_sales', 'critic_score', 'user_score', 'rating'],\n",
      "      dtype='object')\n"
     ]
    }
   ],
   "source": [
    "df.columns = df.columns.str.lower()\n",
    "print(df.columns)"
   ]
  },
  {
   "cell_type": "markdown",
   "metadata": {},
   "source": [
    "Давайте посмотрим, какие есть уникальные значения в столбцах:"
   ]
  },
  {
   "cell_type": "code",
   "execution_count": 8,
   "metadata": {},
   "outputs": [
    {
     "data": {
      "text/plain": [
       "array(['0', '0.2', '0.3', '0.5', '0.6', '0.7', '0.9', '1', '1.1', '1.2',\n",
       "       '1.3', '1.4', '1.5', '1.6', '1.7', '1.8', '1.9', '2', '2.1', '2.2',\n",
       "       '2.3', '2.4', '2.5', '2.6', '2.7', '2.8', '2.9', '3', '3.1', '3.2',\n",
       "       '3.3', '3.4', '3.5', '3.6', '3.7', '3.8', '3.9', '4', '4.1', '4.2',\n",
       "       '4.3', '4.4', '4.5', '4.6', '4.7', '4.8', '4.9', '5', '5.1', '5.2',\n",
       "       '5.3', '5.4', '5.5', '5.6', '5.7', '5.8', '5.9', '6', '6.1', '6.2',\n",
       "       '6.3', '6.4', '6.5', '6.6', '6.7', '6.8', '6.9', '7', '7.1', '7.2',\n",
       "       '7.3', '7.4', '7.5', '7.6', '7.7', '7.8', '7.9', '8', '8.1', '8.2',\n",
       "       '8.3', '8.4', '8.5', '8.6', '8.7', '8.8', '8.9', '9', '9.1', '9.2',\n",
       "       '9.3', '9.4', '9.5', '9.6', '9.7', 'tbd', nan], dtype=object)"
      ]
     },
     "metadata": {},
     "output_type": "display_data"
    }
   ],
   "source": [
    "display(df['user_score'].sort_values().unique())"
   ]
  },
  {
   "cell_type": "markdown",
   "metadata": {},
   "source": [
    "Значения столбца `'user_score'` должны быть числовыми типа `'float'`. Отсортировав по возрастанию, мы видим, что имеются `'tbd'` (текстовое значение) и `'nan'` (пропуски). Давайте на следующем шаге изменим значение `'tbd'` просто на пропуск `'nan'`."
   ]
  },
  {
   "cell_type": "code",
   "execution_count": 9,
   "metadata": {},
   "outputs": [
    {
     "data": {
      "text/plain": [
       "array(['0', '0.2', '0.3', '0.5', '0.6', '0.7', '0.9', '1', '1.1', '1.2',\n",
       "       '1.3', '1.4', '1.5', '1.6', '1.7', '1.8', '1.9', '2', '2.1', '2.2',\n",
       "       '2.3', '2.4', '2.5', '2.6', '2.7', '2.8', '2.9', '3', '3.1', '3.2',\n",
       "       '3.3', '3.4', '3.5', '3.6', '3.7', '3.8', '3.9', '4', '4.1', '4.2',\n",
       "       '4.3', '4.4', '4.5', '4.6', '4.7', '4.8', '4.9', '5', '5.1', '5.2',\n",
       "       '5.3', '5.4', '5.5', '5.6', '5.7', '5.8', '5.9', '6', '6.1', '6.2',\n",
       "       '6.3', '6.4', '6.5', '6.6', '6.7', '6.8', '6.9', '7', '7.1', '7.2',\n",
       "       '7.3', '7.4', '7.5', '7.6', '7.7', '7.8', '7.9', '8', '8.1', '8.2',\n",
       "       '8.3', '8.4', '8.5', '8.6', '8.7', '8.8', '8.9', '9', '9.1', '9.2',\n",
       "       '9.3', '9.4', '9.5', '9.6', '9.7', nan], dtype=object)"
      ]
     },
     "metadata": {},
     "output_type": "display_data"
    }
   ],
   "source": [
    "df['user_score'] = df['user_score'].replace('tbd', np.nan)\n",
    "display(df['user_score'].sort_values().unique())"
   ]
  },
  {
   "cell_type": "markdown",
   "metadata": {},
   "source": [
    "Теперь `'tbd'` в столбце `'user_score'` не существует, вместо них стоят пропуски `'nan'`. После этого шага теперь можно спокойно заполнить эти ячейки необходимыми значениями."
   ]
  },
  {
   "cell_type": "code",
   "execution_count": 10,
   "metadata": {},
   "outputs": [
    {
     "data": {
      "text/plain": [
       "array([13., 17., 19., 20., 21., 22., 23., 24., 25., 26., 27., 28., 29.,\n",
       "       30., 31., 32., 33., 34., 35., 36., 37., 38., 39., 40., 41., 42.,\n",
       "       43., 44., 45., 46., 47., 48., 49., 50., 51., 52., 53., 54., 55.,\n",
       "       56., 57., 58., 59., 60., 61., 62., 63., 64., 65., 66., 67., 68.,\n",
       "       69., 70., 71., 72., 73., 74., 75., 76., 77., 78., 79., 80., 81.,\n",
       "       82., 83., 84., 85., 86., 87., 88., 89., 90., 91., 92., 93., 94.,\n",
       "       95., 96., 97., 98., nan])"
      ]
     },
     "metadata": {},
     "output_type": "display_data"
    }
   ],
   "source": [
    "display(df['critic_score'].sort_values().unique())"
   ]
  },
  {
   "cell_type": "markdown",
   "metadata": {},
   "source": [
    "Рассмотрим типы данных в каждом столбце:"
   ]
  },
  {
   "cell_type": "code",
   "execution_count": 11,
   "metadata": {},
   "outputs": [
    {
     "name": "stdout",
     "output_type": "stream",
     "text": [
      "<class 'pandas.core.frame.DataFrame'>\n",
      "RangeIndex: 16715 entries, 0 to 16714\n",
      "Data columns (total 11 columns):\n",
      " #   Column           Non-Null Count  Dtype  \n",
      "---  ------           --------------  -----  \n",
      " 0   name             16713 non-null  object \n",
      " 1   platform         16715 non-null  object \n",
      " 2   year_of_release  16446 non-null  float64\n",
      " 3   genre            16713 non-null  object \n",
      " 4   na_sales         16715 non-null  float64\n",
      " 5   eu_sales         16715 non-null  float64\n",
      " 6   jp_sales         16715 non-null  float64\n",
      " 7   other_sales      16715 non-null  float64\n",
      " 8   critic_score     8137 non-null   float64\n",
      " 9   user_score       7590 non-null   object \n",
      " 10  rating           9949 non-null   object \n",
      "dtypes: float64(6), object(5)\n",
      "memory usage: 1.4+ MB\n"
     ]
    }
   ],
   "source": [
    "df.info()"
   ]
  },
  {
   "cell_type": "markdown",
   "metadata": {},
   "source": [
    "В некоторых числовых данных замечено, что присвоен не совсем корректный тип данных. Для таких столбцов, как: `'user_score' `(оценка пользователей) используется тип `'object'`, когда нужно использовать тип `'float64'` с точностью до 1 знака после запятой.\n",
    "\n",
    "`'year_of_release'` (год выпуска) типа `'float'`. Для этого столбца странно и просто не логично использовать тип `'float'`, приведём его к `'int'`, но для этого сначала нужно заполнить пропуски. Т.к. в `'year_of_release'` имеется 269 пропусков, то будет достаточно сложно расставить к отдельно взятым играм их год выпуска, т.к. заполнять построчно слишком кропотливо и противоречит мышлению программиста и технаря. Пометим незаполненные значения в '`year_of_release'` значением -1. Далее приведем к типу `'int'`.\n",
    "\n",
    "По хорошему, `'year_of_release'` нужно привести к типу int, но для этого сначала необходимо заполнить пропуски. Распределение достаточно ровно, представляет из себя распределение Пуассона, скошенное влево. Но заполнять пропуски медианными значениями будет достаточно глупо, т.к. если в последствии рассматривать отдельно взятые игры, их год выпуска не будет соответсвовать реальным годам выпуска игры, что будет являться ошибкой. И поэтому, чтобы не портить таблицу и не забивать её ложными данными, оставим пропуски и, соответственно, тип данных `'float64'` для `'year_of_release'`."
   ]
  },
  {
   "cell_type": "code",
   "execution_count": 12,
   "metadata": {},
   "outputs": [
    {
     "data": {
      "text/plain": [
       "1.609"
      ]
     },
     "metadata": {},
     "output_type": "display_data"
    }
   ],
   "source": [
    "display(round(df['year_of_release'].isna().mean()*100, 3))"
   ]
  },
  {
   "cell_type": "markdown",
   "metadata": {},
   "source": [
    "В `year_of_release` имеется всего-лишь **1,6%** пропусков. Можем спокойно удалить значения этого столбца."
   ]
  },
  {
   "cell_type": "code",
   "execution_count": 13,
   "metadata": {},
   "outputs": [
    {
     "data": {
      "text/plain": [
       "array([1980, 1981, 1982, 1983, 1984, 1985, 1986, 1987, 1988, 1989, 1990,\n",
       "       1991, 1992, 1993, 1994, 1995, 1996, 1997, 1998, 1999, 2000, 2001,\n",
       "       2002, 2003, 2004, 2005, 2006, 2007, 2008, 2009, 2010, 2011, 2012,\n",
       "       2013, 2014, 2015, 2016])"
      ]
     },
     "metadata": {},
     "output_type": "display_data"
    }
   ],
   "source": [
    "df = df.dropna(subset=['name', 'genre', 'year_of_release'])\n",
    "\n",
    "df['year_of_release'] = df['year_of_release'].astype(int)\n",
    "display(df['year_of_release'].sort_values().unique())"
   ]
  },
  {
   "cell_type": "code",
   "execution_count": 14,
   "metadata": {},
   "outputs": [
    {
     "data": {
      "text/plain": [
       "name               0.000000\n",
       "platform           0.000000\n",
       "year_of_release    0.000000\n",
       "genre              0.000000\n",
       "na_sales           0.000000\n",
       "eu_sales           0.000000\n",
       "jp_sales           0.000000\n",
       "other_sales        0.000000\n",
       "critic_score       0.514534\n",
       "user_score         0.546157\n",
       "rating             0.405984\n",
       "dtype: float64"
      ]
     },
     "metadata": {},
     "output_type": "display_data"
    }
   ],
   "source": [
    "display(df.isna().mean())"
   ]
  },
  {
   "cell_type": "markdown",
   "metadata": {},
   "source": [
    "Кол-во пропусков после удаления пропусков в столбце `year_of_release`."
   ]
  },
  {
   "cell_type": "code",
   "execution_count": 15,
   "metadata": {},
   "outputs": [
    {
     "name": "stdout",
     "output_type": "stream",
     "text": [
      "<class 'pandas.core.frame.DataFrame'>\n",
      "Int64Index: 16444 entries, 0 to 16714\n",
      "Data columns (total 11 columns):\n",
      " #   Column           Non-Null Count  Dtype  \n",
      "---  ------           --------------  -----  \n",
      " 0   name             16444 non-null  object \n",
      " 1   platform         16444 non-null  object \n",
      " 2   year_of_release  16444 non-null  int64  \n",
      " 3   genre            16444 non-null  object \n",
      " 4   na_sales         16444 non-null  float64\n",
      " 5   eu_sales         16444 non-null  float64\n",
      " 6   jp_sales         16444 non-null  float64\n",
      " 7   other_sales      16444 non-null  float64\n",
      " 8   critic_score     7983 non-null   float64\n",
      " 9   user_score       7463 non-null   float64\n",
      " 10  rating           9768 non-null   object \n",
      "dtypes: float64(6), int64(1), object(4)\n",
      "memory usage: 1.5+ MB\n"
     ]
    }
   ],
   "source": [
    "df['user_score'] = df['user_score'].astype(float)\n",
    "df.info()"
   ]
  },
  {
   "cell_type": "markdown",
   "metadata": {},
   "source": [
    "### Найдем и изучим пропущенные значения в столбцах\n",
    "Пропуски имеются в столбцах `'user_score', 'critic_score', 'rating', 'year_of_release', 'name' и 'genre'`."
   ]
  },
  {
   "cell_type": "code",
   "execution_count": 16,
   "metadata": {},
   "outputs": [
    {
     "data": {
      "text/html": [
       "<div>\n",
       "<style scoped>\n",
       "    .dataframe tbody tr th:only-of-type {\n",
       "        vertical-align: middle;\n",
       "    }\n",
       "\n",
       "    .dataframe tbody tr th {\n",
       "        vertical-align: top;\n",
       "    }\n",
       "\n",
       "    .dataframe thead th {\n",
       "        text-align: right;\n",
       "    }\n",
       "</style>\n",
       "<table border=\"1\" class=\"dataframe\">\n",
       "  <thead>\n",
       "    <tr style=\"text-align: right;\">\n",
       "      <th></th>\n",
       "      <th>name</th>\n",
       "      <th>platform</th>\n",
       "      <th>year_of_release</th>\n",
       "      <th>genre</th>\n",
       "      <th>na_sales</th>\n",
       "      <th>eu_sales</th>\n",
       "      <th>jp_sales</th>\n",
       "      <th>other_sales</th>\n",
       "      <th>critic_score</th>\n",
       "      <th>user_score</th>\n",
       "      <th>rating</th>\n",
       "    </tr>\n",
       "  </thead>\n",
       "  <tbody>\n",
       "    <tr>\n",
       "      <th>0</th>\n",
       "      <td>Wii Sports</td>\n",
       "      <td>Wii</td>\n",
       "      <td>2006</td>\n",
       "      <td>Sports</td>\n",
       "      <td>41.36</td>\n",
       "      <td>28.96</td>\n",
       "      <td>3.77</td>\n",
       "      <td>8.45</td>\n",
       "      <td>76.0</td>\n",
       "      <td>8.0</td>\n",
       "      <td>E</td>\n",
       "    </tr>\n",
       "    <tr>\n",
       "      <th>1</th>\n",
       "      <td>Super Mario Bros.</td>\n",
       "      <td>NES</td>\n",
       "      <td>1985</td>\n",
       "      <td>Platform</td>\n",
       "      <td>29.08</td>\n",
       "      <td>3.58</td>\n",
       "      <td>6.81</td>\n",
       "      <td>0.77</td>\n",
       "      <td>NaN</td>\n",
       "      <td>NaN</td>\n",
       "      <td>NaN</td>\n",
       "    </tr>\n",
       "    <tr>\n",
       "      <th>2</th>\n",
       "      <td>Mario Kart Wii</td>\n",
       "      <td>Wii</td>\n",
       "      <td>2008</td>\n",
       "      <td>Racing</td>\n",
       "      <td>15.68</td>\n",
       "      <td>12.76</td>\n",
       "      <td>3.79</td>\n",
       "      <td>3.29</td>\n",
       "      <td>82.0</td>\n",
       "      <td>8.3</td>\n",
       "      <td>E</td>\n",
       "    </tr>\n",
       "    <tr>\n",
       "      <th>3</th>\n",
       "      <td>Wii Sports Resort</td>\n",
       "      <td>Wii</td>\n",
       "      <td>2009</td>\n",
       "      <td>Sports</td>\n",
       "      <td>15.61</td>\n",
       "      <td>10.93</td>\n",
       "      <td>3.28</td>\n",
       "      <td>2.95</td>\n",
       "      <td>80.0</td>\n",
       "      <td>8.0</td>\n",
       "      <td>E</td>\n",
       "    </tr>\n",
       "    <tr>\n",
       "      <th>4</th>\n",
       "      <td>Pokemon Red/Pokemon Blue</td>\n",
       "      <td>GB</td>\n",
       "      <td>1996</td>\n",
       "      <td>Role-Playing</td>\n",
       "      <td>11.27</td>\n",
       "      <td>8.89</td>\n",
       "      <td>10.22</td>\n",
       "      <td>1.00</td>\n",
       "      <td>NaN</td>\n",
       "      <td>NaN</td>\n",
       "      <td>NaN</td>\n",
       "    </tr>\n",
       "  </tbody>\n",
       "</table>\n",
       "</div>"
      ],
      "text/plain": [
       "                       name platform  year_of_release         genre  na_sales  \\\n",
       "0                Wii Sports      Wii             2006        Sports     41.36   \n",
       "1         Super Mario Bros.      NES             1985      Platform     29.08   \n",
       "2            Mario Kart Wii      Wii             2008        Racing     15.68   \n",
       "3         Wii Sports Resort      Wii             2009        Sports     15.61   \n",
       "4  Pokemon Red/Pokemon Blue       GB             1996  Role-Playing     11.27   \n",
       "\n",
       "   eu_sales  jp_sales  other_sales  critic_score  user_score rating  \n",
       "0     28.96      3.77         8.45          76.0         8.0      E  \n",
       "1      3.58      6.81         0.77           NaN         NaN    NaN  \n",
       "2     12.76      3.79         3.29          82.0         8.3      E  \n",
       "3     10.93      3.28         2.95          80.0         8.0      E  \n",
       "4      8.89     10.22         1.00           NaN         NaN    NaN  "
      ]
     },
     "metadata": {},
     "output_type": "display_data"
    }
   ],
   "source": [
    "display(df.head())"
   ]
  },
  {
   "cell_type": "markdown",
   "metadata": {},
   "source": [
    "Рассмотрим кол-во пропусков в датафрейме по убыванию кол-ва пропусков в столбцах:"
   ]
  },
  {
   "cell_type": "code",
   "execution_count": 17,
   "metadata": {},
   "outputs": [
    {
     "data": {
      "text/plain": [
       "user_score         8981\n",
       "critic_score       8461\n",
       "rating             6676\n",
       "name                  0\n",
       "platform              0\n",
       "year_of_release       0\n",
       "genre                 0\n",
       "na_sales              0\n",
       "eu_sales              0\n",
       "jp_sales              0\n",
       "other_sales           0\n",
       "dtype: int64"
      ]
     },
     "execution_count": 17,
     "metadata": {},
     "output_type": "execute_result"
    }
   ],
   "source": [
    "df.isna().sum().sort_values(ascending=False)"
   ]
  },
  {
   "cell_type": "code",
   "execution_count": 18,
   "metadata": {},
   "outputs": [
    {
     "data": {
      "text/html": [
       "<div>\n",
       "<style scoped>\n",
       "    .dataframe tbody tr th:only-of-type {\n",
       "        vertical-align: middle;\n",
       "    }\n",
       "\n",
       "    .dataframe tbody tr th {\n",
       "        vertical-align: top;\n",
       "    }\n",
       "\n",
       "    .dataframe thead th {\n",
       "        text-align: right;\n",
       "    }\n",
       "</style>\n",
       "<table border=\"1\" class=\"dataframe\">\n",
       "  <thead>\n",
       "    <tr style=\"text-align: right;\">\n",
       "      <th></th>\n",
       "      <th>name</th>\n",
       "      <th>platform</th>\n",
       "      <th>year_of_release</th>\n",
       "      <th>genre</th>\n",
       "      <th>na_sales</th>\n",
       "      <th>eu_sales</th>\n",
       "      <th>jp_sales</th>\n",
       "      <th>other_sales</th>\n",
       "      <th>critic_score</th>\n",
       "      <th>user_score</th>\n",
       "      <th>rating</th>\n",
       "    </tr>\n",
       "  </thead>\n",
       "  <tbody>\n",
       "    <tr>\n",
       "      <th>1</th>\n",
       "      <td>Super Mario Bros.</td>\n",
       "      <td>NES</td>\n",
       "      <td>1985</td>\n",
       "      <td>Platform</td>\n",
       "      <td>29.08</td>\n",
       "      <td>3.58</td>\n",
       "      <td>6.81</td>\n",
       "      <td>0.77</td>\n",
       "      <td>NaN</td>\n",
       "      <td>NaN</td>\n",
       "      <td>NaN</td>\n",
       "    </tr>\n",
       "    <tr>\n",
       "      <th>4</th>\n",
       "      <td>Pokemon Red/Pokemon Blue</td>\n",
       "      <td>GB</td>\n",
       "      <td>1996</td>\n",
       "      <td>Role-Playing</td>\n",
       "      <td>11.27</td>\n",
       "      <td>8.89</td>\n",
       "      <td>10.22</td>\n",
       "      <td>1.00</td>\n",
       "      <td>NaN</td>\n",
       "      <td>NaN</td>\n",
       "      <td>NaN</td>\n",
       "    </tr>\n",
       "    <tr>\n",
       "      <th>5</th>\n",
       "      <td>Tetris</td>\n",
       "      <td>GB</td>\n",
       "      <td>1989</td>\n",
       "      <td>Puzzle</td>\n",
       "      <td>23.20</td>\n",
       "      <td>2.26</td>\n",
       "      <td>4.22</td>\n",
       "      <td>0.58</td>\n",
       "      <td>NaN</td>\n",
       "      <td>NaN</td>\n",
       "      <td>NaN</td>\n",
       "    </tr>\n",
       "    <tr>\n",
       "      <th>9</th>\n",
       "      <td>Duck Hunt</td>\n",
       "      <td>NES</td>\n",
       "      <td>1984</td>\n",
       "      <td>Shooter</td>\n",
       "      <td>26.93</td>\n",
       "      <td>0.63</td>\n",
       "      <td>0.28</td>\n",
       "      <td>0.47</td>\n",
       "      <td>NaN</td>\n",
       "      <td>NaN</td>\n",
       "      <td>NaN</td>\n",
       "    </tr>\n",
       "    <tr>\n",
       "      <th>10</th>\n",
       "      <td>Nintendogs</td>\n",
       "      <td>DS</td>\n",
       "      <td>2005</td>\n",
       "      <td>Simulation</td>\n",
       "      <td>9.05</td>\n",
       "      <td>10.95</td>\n",
       "      <td>1.93</td>\n",
       "      <td>2.74</td>\n",
       "      <td>NaN</td>\n",
       "      <td>NaN</td>\n",
       "      <td>NaN</td>\n",
       "    </tr>\n",
       "  </tbody>\n",
       "</table>\n",
       "</div>"
      ],
      "text/plain": [
       "                        name platform  year_of_release         genre  \\\n",
       "1          Super Mario Bros.      NES             1985      Platform   \n",
       "4   Pokemon Red/Pokemon Blue       GB             1996  Role-Playing   \n",
       "5                     Tetris       GB             1989        Puzzle   \n",
       "9                  Duck Hunt      NES             1984       Shooter   \n",
       "10                Nintendogs       DS             2005    Simulation   \n",
       "\n",
       "    na_sales  eu_sales  jp_sales  other_sales  critic_score  user_score rating  \n",
       "1      29.08      3.58      6.81         0.77           NaN         NaN    NaN  \n",
       "4      11.27      8.89     10.22         1.00           NaN         NaN    NaN  \n",
       "5      23.20      2.26      4.22         0.58           NaN         NaN    NaN  \n",
       "9      26.93      0.63      0.28         0.47           NaN         NaN    NaN  \n",
       "10      9.05     10.95      1.93         2.74           NaN         NaN    NaN  "
      ]
     },
     "execution_count": 18,
     "metadata": {},
     "output_type": "execute_result"
    }
   ],
   "source": [
    "df[(df['user_score'].isna()) & (df['critic_score'].isna()) & (df['rating'].isna())].head()"
   ]
  },
  {
   "cell_type": "code",
   "execution_count": 19,
   "metadata": {},
   "outputs": [
    {
     "data": {
      "text/plain": [
       "6580"
      ]
     },
     "execution_count": 19,
     "metadata": {},
     "output_type": "execute_result"
    }
   ],
   "source": [
    "df[(df['user_score'].isna()) & (df['critic_score'].isna()) & (df['rating'].isna())].count()[1]"
   ]
  },
  {
   "cell_type": "markdown",
   "metadata": {},
   "source": [
    "Для столбцов `'user_score', 'critic_score', 'rating'` имеется *6667* общих строк с пропусками. Скорее всего, это взаимосвязано. Можно заполнить эти столбцы медианными значениями, потому что распределения являются распределениями Пуассона, скошенными влево. Но графики сами по себе чистые, ровные, практически идеальные. По ним можно сразу искать нужные значения медиан и средних."
   ]
  },
  {
   "cell_type": "markdown",
   "metadata": {},
   "source": [
    "Построим график по убыванию кол-ва пропусков в столбцах в **`%`** :"
   ]
  },
  {
   "cell_type": "code",
   "execution_count": 20,
   "metadata": {},
   "outputs": [],
   "source": [
    "# check\n",
    "# пропущенные значения бары\n",
    "\n",
    "def pass_value_barh(df):\n",
    "    try:\n",
    "        (\n",
    "            (df.isna().mean()*100)\n",
    "            .to_frame()\n",
    "            .rename(columns = {0:'space'})\n",
    "            .query('space > 0')\n",
    "            .sort_values(by = 'space', ascending = True)\n",
    "            .plot(kind= 'barh', color='lategray', figsize=(19,6), rot = -5, legend = False, fontsize = 16)\n",
    "            .set_title('Кол-во пропусков в % соотношении от кол-ва строк в столбце' + \"\\n\", fontsize = 22, color = 'indigo')    \n",
    "        );    \n",
    "    except:\n",
    "        print('пропусков не осталось :) ')"
   ]
  },
  {
   "cell_type": "code",
   "execution_count": 21,
   "metadata": {},
   "outputs": [
    {
     "name": "stdout",
     "output_type": "stream",
     "text": [
      "пропусков не осталось :) \n"
     ]
    },
    {
     "data": {
      "image/png": "[encoded data removed]",
      "text/plain": [
       "<Figure size 1368x432 with 1 Axes>"
      ]
     },
     "metadata": {
      "needs_background": "light"
     },
     "output_type": "display_data"
    }
   ],
   "source": [
    "pass_value_barh(df)"
   ]
  },
  {
   "cell_type": "markdown",
   "metadata": {},
   "source": [
    "В `critic_score, user_score` оставляем пропуски, потому что уникальных игр `name` огромное множество. Нет общей медианы на отдельно взятую игру. Допустим, игра присутвует на 4х платформах, в 3х из них стоит рейтинг. Но по этим 3м рейтингам мы не сможем проставить по медиане 4ый рейтинг. Потому что отдельно взятые платформы занимают свои нишы, как на общих рынках, допустим, Америки и Европы, но в Японии в неё вообще могут не играть.\n",
    "   \n",
    "Подобная замена медианой в дальнейшем исказит наши результаты."
   ]
  },
  {
   "cell_type": "code",
   "execution_count": 22,
   "metadata": {},
   "outputs": [
    {
     "data": {
      "text/plain": [
       "array(['AO', 'E', 'E10+', 'EC', 'K-A', 'M', 'RP', 'T', 'no_rating'],\n",
       "      dtype=object)"
      ]
     },
     "metadata": {},
     "output_type": "display_data"
    }
   ],
   "source": [
    "df['rating'] = df['rating'].fillna('no_rating');\n",
    "display(df['rating'].sort_values().unique())"
   ]
  },
  {
   "cell_type": "markdown",
   "metadata": {},
   "source": [
    "Так выглядят продажи в разных регионах"
   ]
  },
  {
   "cell_type": "markdown",
   "metadata": {},
   "source": [
    "Кол-во строк после среза хвостов:"
   ]
  },
  {
   "cell_type": "code",
   "execution_count": 23,
   "metadata": {},
   "outputs": [
    {
     "data": {
      "text/plain": [
       "(16444, 11)"
      ]
     },
     "execution_count": 23,
     "metadata": {},
     "output_type": "execute_result"
    }
   ],
   "source": [
    "# check\n",
    "df.shape"
   ]
  },
  {
   "cell_type": "code",
   "execution_count": 24,
   "metadata": {},
   "outputs": [
    {
     "name": "stdout",
     "output_type": "stream",
     "text": [
      "Процент потерь: 1.6199999999999999 %\n"
     ]
    }
   ],
   "source": [
    "x = (16715 - df.shape[0]) / 16715\n",
    "print('Процент потерь:', round(x, 4)*100, '%')"
   ]
  },
  {
   "cell_type": "markdown",
   "metadata": {},
   "source": [
    "После предобработки в датафрейме `16444` строк и процент потерь: `1.62 %`. Этого вполне достаточно, чтобы продолжить анализ.\n"
   ]
  },
  {
   "cell_type": "markdown",
   "metadata": {},
   "source": [
    "### Посчитаем суммарные продажи в каждом столбце и запишем их в новый столбец:"
   ]
  },
  {
   "cell_type": "code",
   "execution_count": 25,
   "metadata": {},
   "outputs": [
    {
     "data": {
      "text/html": [
       "<div>\n",
       "<style scoped>\n",
       "    .dataframe tbody tr th:only-of-type {\n",
       "        vertical-align: middle;\n",
       "    }\n",
       "\n",
       "    .dataframe tbody tr th {\n",
       "        vertical-align: top;\n",
       "    }\n",
       "\n",
       "    .dataframe thead th {\n",
       "        text-align: right;\n",
       "    }\n",
       "</style>\n",
       "<table border=\"1\" class=\"dataframe\">\n",
       "  <thead>\n",
       "    <tr style=\"text-align: right;\">\n",
       "      <th></th>\n",
       "      <th>name</th>\n",
       "      <th>platform</th>\n",
       "      <th>year_of_release</th>\n",
       "      <th>genre</th>\n",
       "      <th>na_sales</th>\n",
       "      <th>eu_sales</th>\n",
       "      <th>jp_sales</th>\n",
       "      <th>other_sales</th>\n",
       "      <th>critic_score</th>\n",
       "      <th>user_score</th>\n",
       "      <th>rating</th>\n",
       "    </tr>\n",
       "  </thead>\n",
       "  <tbody>\n",
       "    <tr>\n",
       "      <th>0</th>\n",
       "      <td>Wii Sports</td>\n",
       "      <td>Wii</td>\n",
       "      <td>2006</td>\n",
       "      <td>Sports</td>\n",
       "      <td>41.36</td>\n",
       "      <td>28.96</td>\n",
       "      <td>3.77</td>\n",
       "      <td>8.45</td>\n",
       "      <td>76.0</td>\n",
       "      <td>8.0</td>\n",
       "      <td>E</td>\n",
       "    </tr>\n",
       "    <tr>\n",
       "      <th>1</th>\n",
       "      <td>Super Mario Bros.</td>\n",
       "      <td>NES</td>\n",
       "      <td>1985</td>\n",
       "      <td>Platform</td>\n",
       "      <td>29.08</td>\n",
       "      <td>3.58</td>\n",
       "      <td>6.81</td>\n",
       "      <td>0.77</td>\n",
       "      <td>NaN</td>\n",
       "      <td>NaN</td>\n",
       "      <td>no_rating</td>\n",
       "    </tr>\n",
       "    <tr>\n",
       "      <th>2</th>\n",
       "      <td>Mario Kart Wii</td>\n",
       "      <td>Wii</td>\n",
       "      <td>2008</td>\n",
       "      <td>Racing</td>\n",
       "      <td>15.68</td>\n",
       "      <td>12.76</td>\n",
       "      <td>3.79</td>\n",
       "      <td>3.29</td>\n",
       "      <td>82.0</td>\n",
       "      <td>8.3</td>\n",
       "      <td>E</td>\n",
       "    </tr>\n",
       "    <tr>\n",
       "      <th>3</th>\n",
       "      <td>Wii Sports Resort</td>\n",
       "      <td>Wii</td>\n",
       "      <td>2009</td>\n",
       "      <td>Sports</td>\n",
       "      <td>15.61</td>\n",
       "      <td>10.93</td>\n",
       "      <td>3.28</td>\n",
       "      <td>2.95</td>\n",
       "      <td>80.0</td>\n",
       "      <td>8.0</td>\n",
       "      <td>E</td>\n",
       "    </tr>\n",
       "    <tr>\n",
       "      <th>4</th>\n",
       "      <td>Pokemon Red/Pokemon Blue</td>\n",
       "      <td>GB</td>\n",
       "      <td>1996</td>\n",
       "      <td>Role-Playing</td>\n",
       "      <td>11.27</td>\n",
       "      <td>8.89</td>\n",
       "      <td>10.22</td>\n",
       "      <td>1.00</td>\n",
       "      <td>NaN</td>\n",
       "      <td>NaN</td>\n",
       "      <td>no_rating</td>\n",
       "    </tr>\n",
       "  </tbody>\n",
       "</table>\n",
       "</div>"
      ],
      "text/plain": [
       "                       name platform  year_of_release         genre  na_sales  \\\n",
       "0                Wii Sports      Wii             2006        Sports     41.36   \n",
       "1         Super Mario Bros.      NES             1985      Platform     29.08   \n",
       "2            Mario Kart Wii      Wii             2008        Racing     15.68   \n",
       "3         Wii Sports Resort      Wii             2009        Sports     15.61   \n",
       "4  Pokemon Red/Pokemon Blue       GB             1996  Role-Playing     11.27   \n",
       "\n",
       "   eu_sales  jp_sales  other_sales  critic_score  user_score     rating  \n",
       "0     28.96      3.77         8.45          76.0         8.0          E  \n",
       "1      3.58      6.81         0.77           NaN         NaN  no_rating  \n",
       "2     12.76      3.79         3.29          82.0         8.3          E  \n",
       "3     10.93      3.28         2.95          80.0         8.0          E  \n",
       "4      8.89     10.22         1.00           NaN         NaN  no_rating  "
      ]
     },
     "metadata": {},
     "output_type": "display_data"
    }
   ],
   "source": [
    "display(df.head())"
   ]
  },
  {
   "cell_type": "code",
   "execution_count": 26,
   "metadata": {},
   "outputs": [],
   "source": [
    "df['sum_sales'] = df[['na_sales','eu_sales','jp_sales', 'other_sales']].sum(axis = 1);"
   ]
  },
  {
   "cell_type": "code",
   "execution_count": 27,
   "metadata": {},
   "outputs": [
    {
     "data": {
      "text/html": [
       "<div>\n",
       "<style scoped>\n",
       "    .dataframe tbody tr th:only-of-type {\n",
       "        vertical-align: middle;\n",
       "    }\n",
       "\n",
       "    .dataframe tbody tr th {\n",
       "        vertical-align: top;\n",
       "    }\n",
       "\n",
       "    .dataframe thead th {\n",
       "        text-align: right;\n",
       "    }\n",
       "</style>\n",
       "<table border=\"1\" class=\"dataframe\">\n",
       "  <thead>\n",
       "    <tr style=\"text-align: right;\">\n",
       "      <th></th>\n",
       "      <th>name</th>\n",
       "      <th>platform</th>\n",
       "      <th>year_of_release</th>\n",
       "      <th>genre</th>\n",
       "      <th>na_sales</th>\n",
       "      <th>eu_sales</th>\n",
       "      <th>jp_sales</th>\n",
       "      <th>other_sales</th>\n",
       "      <th>critic_score</th>\n",
       "      <th>user_score</th>\n",
       "      <th>rating</th>\n",
       "      <th>sum_sales</th>\n",
       "    </tr>\n",
       "  </thead>\n",
       "  <tbody>\n",
       "    <tr>\n",
       "      <th>0</th>\n",
       "      <td>Wii Sports</td>\n",
       "      <td>Wii</td>\n",
       "      <td>2006</td>\n",
       "      <td>Sports</td>\n",
       "      <td>41.36</td>\n",
       "      <td>28.96</td>\n",
       "      <td>3.77</td>\n",
       "      <td>8.45</td>\n",
       "      <td>76.0</td>\n",
       "      <td>8.0</td>\n",
       "      <td>E</td>\n",
       "      <td>82.54</td>\n",
       "    </tr>\n",
       "    <tr>\n",
       "      <th>1</th>\n",
       "      <td>Super Mario Bros.</td>\n",
       "      <td>NES</td>\n",
       "      <td>1985</td>\n",
       "      <td>Platform</td>\n",
       "      <td>29.08</td>\n",
       "      <td>3.58</td>\n",
       "      <td>6.81</td>\n",
       "      <td>0.77</td>\n",
       "      <td>NaN</td>\n",
       "      <td>NaN</td>\n",
       "      <td>no_rating</td>\n",
       "      <td>40.24</td>\n",
       "    </tr>\n",
       "    <tr>\n",
       "      <th>2</th>\n",
       "      <td>Mario Kart Wii</td>\n",
       "      <td>Wii</td>\n",
       "      <td>2008</td>\n",
       "      <td>Racing</td>\n",
       "      <td>15.68</td>\n",
       "      <td>12.76</td>\n",
       "      <td>3.79</td>\n",
       "      <td>3.29</td>\n",
       "      <td>82.0</td>\n",
       "      <td>8.3</td>\n",
       "      <td>E</td>\n",
       "      <td>35.52</td>\n",
       "    </tr>\n",
       "    <tr>\n",
       "      <th>3</th>\n",
       "      <td>Wii Sports Resort</td>\n",
       "      <td>Wii</td>\n",
       "      <td>2009</td>\n",
       "      <td>Sports</td>\n",
       "      <td>15.61</td>\n",
       "      <td>10.93</td>\n",
       "      <td>3.28</td>\n",
       "      <td>2.95</td>\n",
       "      <td>80.0</td>\n",
       "      <td>8.0</td>\n",
       "      <td>E</td>\n",
       "      <td>32.77</td>\n",
       "    </tr>\n",
       "    <tr>\n",
       "      <th>4</th>\n",
       "      <td>Pokemon Red/Pokemon Blue</td>\n",
       "      <td>GB</td>\n",
       "      <td>1996</td>\n",
       "      <td>Role-Playing</td>\n",
       "      <td>11.27</td>\n",
       "      <td>8.89</td>\n",
       "      <td>10.22</td>\n",
       "      <td>1.00</td>\n",
       "      <td>NaN</td>\n",
       "      <td>NaN</td>\n",
       "      <td>no_rating</td>\n",
       "      <td>31.38</td>\n",
       "    </tr>\n",
       "  </tbody>\n",
       "</table>\n",
       "</div>"
      ],
      "text/plain": [
       "                       name platform  year_of_release         genre  na_sales  \\\n",
       "0                Wii Sports      Wii             2006        Sports     41.36   \n",
       "1         Super Mario Bros.      NES             1985      Platform     29.08   \n",
       "2            Mario Kart Wii      Wii             2008        Racing     15.68   \n",
       "3         Wii Sports Resort      Wii             2009        Sports     15.61   \n",
       "4  Pokemon Red/Pokemon Blue       GB             1996  Role-Playing     11.27   \n",
       "\n",
       "   eu_sales  jp_sales  other_sales  critic_score  user_score     rating  \\\n",
       "0     28.96      3.77         8.45          76.0         8.0          E   \n",
       "1      3.58      6.81         0.77           NaN         NaN  no_rating   \n",
       "2     12.76      3.79         3.29          82.0         8.3          E   \n",
       "3     10.93      3.28         2.95          80.0         8.0          E   \n",
       "4      8.89     10.22         1.00           NaN         NaN  no_rating   \n",
       "\n",
       "   sum_sales  \n",
       "0      82.54  \n",
       "1      40.24  \n",
       "2      35.52  \n",
       "3      32.77  \n",
       "4      31.38  "
      ]
     },
     "metadata": {},
     "output_type": "display_data"
    }
   ],
   "source": [
    "display(df.head())"
   ]
  },
  {
   "cell_type": "markdown",
   "metadata": {},
   "source": [
    "## Исследовательский анализ данных"
   ]
  },
  {
   "cell_type": "markdown",
   "metadata": {},
   "source": [
    "### Посмотрим, сколько игр выпускалось в разные года"
   ]
  },
  {
   "cell_type": "code",
   "execution_count": 28,
   "metadata": {},
   "outputs": [
    {
     "data": {
      "image/png": "[encoded data removed]",
      "text/plain": [
       "<Figure size 720x360 with 1 Axes>"
      ]
     },
     "metadata": {
      "needs_background": "light"
     },
     "output_type": "display_data"
    }
   ],
   "source": [
    "count_per_years = df[df['year_of_release'] > 0].groupby('year_of_release')['name'].agg(['count'])\n",
    "count_per_years.plot(kind='bar', title = 'Количество игр, выпущенных по годам:', figsize = (10,5));"
   ]
  },
  {
   "cell_type": "markdown",
   "metadata": {},
   "source": [
    "Мы видим, что до *2000* игр выпускалось крайне мало, вероятно индустрия только зарождалась. Скачок произошел с *2001-2002* и длился до пика *2008-2009 года*, после чего количество выпускаемых игр пошло на спад, полагаю это может быть связано с разивтием мобильной индустрии, увеличением времени и средств на разработку игр."
   ]
  },
  {
   "cell_type": "code",
   "execution_count": 29,
   "metadata": {},
   "outputs": [
    {
     "data": {
      "image/png": "[encoded data removed]",
      "text/plain": [
       "<Figure size 720x360 with 1 Axes>"
      ]
     },
     "metadata": {
      "needs_background": "light"
     },
     "output_type": "display_data"
    }
   ],
   "source": [
    "count_per_years = count_per_years.query('year_of_release >= 1986')\n",
    "count_per_years.plot(kind='bar', title = 'Количество игр, выпущенных по годам:', figsize = (10,5));"
   ]
  },
  {
   "cell_type": "markdown",
   "metadata": {},
   "source": [
    "Наиболее заметный рост кол-ва игр начался в 1996 году. Пик же пришелся на `2008 г. - 174, 2010 - 179, 2011 - 177`. Далее кол-во выпускаемых игр пошло на спад."
   ]
  },
  {
   "cell_type": "markdown",
   "metadata": {},
   "source": [
    "### Выберем платформы с наибольшими суммарными продажами и постройте распределение по годам."
   ]
  },
  {
   "cell_type": "markdown",
   "metadata": {},
   "source": [
    "#### Отберем топ-10 платформ"
   ]
  },
  {
   "cell_type": "code",
   "execution_count": 30,
   "metadata": {},
   "outputs": [
    {
     "data": {
      "text/plain": [
       "array(['Wii', 'NES', 'GB', 'DS', 'X360', 'PS3', 'PS2', 'SNES', 'GBA',\n",
       "       'PS4', '3DS', 'N64', 'PS', 'XB', 'PC', '2600', 'PSP', 'XOne',\n",
       "       'WiiU', 'GC', 'GEN', 'DC', 'PSV', 'SAT', 'SCD', 'WS', 'NG', 'TG16',\n",
       "       '3DO', 'GG', 'PCFX'], dtype=object)"
      ]
     },
     "metadata": {},
     "output_type": "display_data"
    },
    {
     "data": {
      "image/png": "[encoded data removed]",
      "text/plain": [
       "<Figure size 720x360 with 1 Axes>"
      ]
     },
     "metadata": {
      "needs_background": "light"
     },
     "output_type": "display_data"
    }
   ],
   "source": [
    "sales_by_platform = df.groupby('platform')['sum_sales'].agg(['sum']).sort_values(by='sum', ascending=False)\n",
    "display(pd.unique(df['platform']))\n",
    "\n",
    "top_ten_platforms = sales_by_platform.query('sum > 188')\n",
    "top_ten_platforms.plot(kind='barh', title = 'Наибольшие суммарные продажи по платформам:', figsize = (10,5));"
   ]
  },
  {
   "cell_type": "markdown",
   "metadata": {},
   "source": [
    "Наибольшие суммарные продажи у `'3DS', 'NES', 'GB', 'PS4', 'PS', 'DS', 'Wii', 'PS2', 'X360', 'PS3'` по возрастанию продаж. \n",
    "\n",
    "#### Построим распределения по годам и выберем актуальный период"
   ]
  },
  {
   "cell_type": "code",
   "execution_count": 31,
   "metadata": {},
   "outputs": [
    {
     "data": {
      "text/html": [
       "<div>\n",
       "<style scoped>\n",
       "    .dataframe tbody tr th:only-of-type {\n",
       "        vertical-align: middle;\n",
       "    }\n",
       "\n",
       "    .dataframe tbody tr th {\n",
       "        vertical-align: top;\n",
       "    }\n",
       "\n",
       "    .dataframe thead th {\n",
       "        text-align: right;\n",
       "    }\n",
       "</style>\n",
       "<table border=\"1\" class=\"dataframe\">\n",
       "  <thead>\n",
       "    <tr style=\"text-align: right;\">\n",
       "      <th></th>\n",
       "      <th>count</th>\n",
       "    </tr>\n",
       "    <tr>\n",
       "      <th>platform</th>\n",
       "      <th></th>\n",
       "    </tr>\n",
       "  </thead>\n",
       "  <tbody>\n",
       "    <tr>\n",
       "      <th>2600</th>\n",
       "      <td>116</td>\n",
       "    </tr>\n",
       "    <tr>\n",
       "      <th>3DO</th>\n",
       "      <td>3</td>\n",
       "    </tr>\n",
       "    <tr>\n",
       "      <th>3DS</th>\n",
       "      <td>512</td>\n",
       "    </tr>\n",
       "    <tr>\n",
       "      <th>DC</th>\n",
       "      <td>52</td>\n",
       "    </tr>\n",
       "    <tr>\n",
       "      <th>DS</th>\n",
       "      <td>2121</td>\n",
       "    </tr>\n",
       "    <tr>\n",
       "      <th>GB</th>\n",
       "      <td>97</td>\n",
       "    </tr>\n",
       "    <tr>\n",
       "      <th>GBA</th>\n",
       "      <td>811</td>\n",
       "    </tr>\n",
       "    <tr>\n",
       "      <th>GC</th>\n",
       "      <td>542</td>\n",
       "    </tr>\n",
       "    <tr>\n",
       "      <th>GEN</th>\n",
       "      <td>27</td>\n",
       "    </tr>\n",
       "    <tr>\n",
       "      <th>GG</th>\n",
       "      <td>1</td>\n",
       "    </tr>\n",
       "    <tr>\n",
       "      <th>N64</th>\n",
       "      <td>316</td>\n",
       "    </tr>\n",
       "    <tr>\n",
       "      <th>NES</th>\n",
       "      <td>98</td>\n",
       "    </tr>\n",
       "    <tr>\n",
       "      <th>NG</th>\n",
       "      <td>12</td>\n",
       "    </tr>\n",
       "    <tr>\n",
       "      <th>PC</th>\n",
       "      <td>957</td>\n",
       "    </tr>\n",
       "    <tr>\n",
       "      <th>PCFX</th>\n",
       "      <td>1</td>\n",
       "    </tr>\n",
       "    <tr>\n",
       "      <th>PS</th>\n",
       "      <td>1190</td>\n",
       "    </tr>\n",
       "    <tr>\n",
       "      <th>PS2</th>\n",
       "      <td>2127</td>\n",
       "    </tr>\n",
       "    <tr>\n",
       "      <th>PS3</th>\n",
       "      <td>1306</td>\n",
       "    </tr>\n",
       "    <tr>\n",
       "      <th>PS4</th>\n",
       "      <td>392</td>\n",
       "    </tr>\n",
       "    <tr>\n",
       "      <th>PSP</th>\n",
       "      <td>1193</td>\n",
       "    </tr>\n",
       "    <tr>\n",
       "      <th>PSV</th>\n",
       "      <td>429</td>\n",
       "    </tr>\n",
       "    <tr>\n",
       "      <th>SAT</th>\n",
       "      <td>173</td>\n",
       "    </tr>\n",
       "    <tr>\n",
       "      <th>SCD</th>\n",
       "      <td>6</td>\n",
       "    </tr>\n",
       "    <tr>\n",
       "      <th>SNES</th>\n",
       "      <td>239</td>\n",
       "    </tr>\n",
       "    <tr>\n",
       "      <th>TG16</th>\n",
       "      <td>2</td>\n",
       "    </tr>\n",
       "    <tr>\n",
       "      <th>WS</th>\n",
       "      <td>6</td>\n",
       "    </tr>\n",
       "    <tr>\n",
       "      <th>Wii</th>\n",
       "      <td>1286</td>\n",
       "    </tr>\n",
       "    <tr>\n",
       "      <th>WiiU</th>\n",
       "      <td>147</td>\n",
       "    </tr>\n",
       "    <tr>\n",
       "      <th>X360</th>\n",
       "      <td>1232</td>\n",
       "    </tr>\n",
       "    <tr>\n",
       "      <th>XB</th>\n",
       "      <td>803</td>\n",
       "    </tr>\n",
       "    <tr>\n",
       "      <th>XOne</th>\n",
       "      <td>247</td>\n",
       "    </tr>\n",
       "  </tbody>\n",
       "</table>\n",
       "</div>"
      ],
      "text/plain": [
       "          count\n",
       "platform       \n",
       "2600        116\n",
       "3DO           3\n",
       "3DS         512\n",
       "DC           52\n",
       "DS         2121\n",
       "GB           97\n",
       "GBA         811\n",
       "GC          542\n",
       "GEN          27\n",
       "GG            1\n",
       "N64         316\n",
       "NES          98\n",
       "NG           12\n",
       "PC          957\n",
       "PCFX          1\n",
       "PS         1190\n",
       "PS2        2127\n",
       "PS3        1306\n",
       "PS4         392\n",
       "PSP        1193\n",
       "PSV         429\n",
       "SAT         173\n",
       "SCD           6\n",
       "SNES        239\n",
       "TG16          2\n",
       "WS            6\n",
       "Wii        1286\n",
       "WiiU        147\n",
       "X360       1232\n",
       "XB          803\n",
       "XOne        247"
      ]
     },
     "metadata": {},
     "output_type": "display_data"
    }
   ],
   "source": [
    "df_sales_by_platform = df.groupby('platform')['year_of_release'].agg(['count'])\n",
    "display(df_sales_by_platform)"
   ]
  },
  {
   "cell_type": "code",
   "execution_count": 32,
   "metadata": {},
   "outputs": [
    {
     "data": {
      "text/html": [
       "<div>\n",
       "<style scoped>\n",
       "    .dataframe tbody tr th:only-of-type {\n",
       "        vertical-align: middle;\n",
       "    }\n",
       "\n",
       "    .dataframe tbody tr th {\n",
       "        vertical-align: top;\n",
       "    }\n",
       "\n",
       "    .dataframe thead th {\n",
       "        text-align: right;\n",
       "    }\n",
       "</style>\n",
       "<table border=\"1\" class=\"dataframe\">\n",
       "  <thead>\n",
       "    <tr style=\"text-align: right;\">\n",
       "      <th></th>\n",
       "      <th>name</th>\n",
       "      <th>platform</th>\n",
       "      <th>year_of_release</th>\n",
       "      <th>genre</th>\n",
       "      <th>na_sales</th>\n",
       "      <th>eu_sales</th>\n",
       "      <th>jp_sales</th>\n",
       "      <th>other_sales</th>\n",
       "      <th>critic_score</th>\n",
       "      <th>user_score</th>\n",
       "      <th>rating</th>\n",
       "      <th>sum_sales</th>\n",
       "    </tr>\n",
       "  </thead>\n",
       "  <tbody>\n",
       "    <tr>\n",
       "      <th>0</th>\n",
       "      <td>Wii Sports</td>\n",
       "      <td>Wii</td>\n",
       "      <td>2006</td>\n",
       "      <td>Sports</td>\n",
       "      <td>41.36</td>\n",
       "      <td>28.96</td>\n",
       "      <td>3.77</td>\n",
       "      <td>8.45</td>\n",
       "      <td>76.0</td>\n",
       "      <td>8.0</td>\n",
       "      <td>E</td>\n",
       "      <td>82.54</td>\n",
       "    </tr>\n",
       "    <tr>\n",
       "      <th>1</th>\n",
       "      <td>Super Mario Bros.</td>\n",
       "      <td>NES</td>\n",
       "      <td>1985</td>\n",
       "      <td>Platform</td>\n",
       "      <td>29.08</td>\n",
       "      <td>3.58</td>\n",
       "      <td>6.81</td>\n",
       "      <td>0.77</td>\n",
       "      <td>NaN</td>\n",
       "      <td>NaN</td>\n",
       "      <td>no_rating</td>\n",
       "      <td>40.24</td>\n",
       "    </tr>\n",
       "    <tr>\n",
       "      <th>2</th>\n",
       "      <td>Mario Kart Wii</td>\n",
       "      <td>Wii</td>\n",
       "      <td>2008</td>\n",
       "      <td>Racing</td>\n",
       "      <td>15.68</td>\n",
       "      <td>12.76</td>\n",
       "      <td>3.79</td>\n",
       "      <td>3.29</td>\n",
       "      <td>82.0</td>\n",
       "      <td>8.3</td>\n",
       "      <td>E</td>\n",
       "      <td>35.52</td>\n",
       "    </tr>\n",
       "    <tr>\n",
       "      <th>3</th>\n",
       "      <td>Wii Sports Resort</td>\n",
       "      <td>Wii</td>\n",
       "      <td>2009</td>\n",
       "      <td>Sports</td>\n",
       "      <td>15.61</td>\n",
       "      <td>10.93</td>\n",
       "      <td>3.28</td>\n",
       "      <td>2.95</td>\n",
       "      <td>80.0</td>\n",
       "      <td>8.0</td>\n",
       "      <td>E</td>\n",
       "      <td>32.77</td>\n",
       "    </tr>\n",
       "    <tr>\n",
       "      <th>4</th>\n",
       "      <td>Pokemon Red/Pokemon Blue</td>\n",
       "      <td>GB</td>\n",
       "      <td>1996</td>\n",
       "      <td>Role-Playing</td>\n",
       "      <td>11.27</td>\n",
       "      <td>8.89</td>\n",
       "      <td>10.22</td>\n",
       "      <td>1.00</td>\n",
       "      <td>NaN</td>\n",
       "      <td>NaN</td>\n",
       "      <td>no_rating</td>\n",
       "      <td>31.38</td>\n",
       "    </tr>\n",
       "  </tbody>\n",
       "</table>\n",
       "</div>"
      ],
      "text/plain": [
       "                       name platform  year_of_release         genre  na_sales  \\\n",
       "0                Wii Sports      Wii             2006        Sports     41.36   \n",
       "1         Super Mario Bros.      NES             1985      Platform     29.08   \n",
       "2            Mario Kart Wii      Wii             2008        Racing     15.68   \n",
       "3         Wii Sports Resort      Wii             2009        Sports     15.61   \n",
       "4  Pokemon Red/Pokemon Blue       GB             1996  Role-Playing     11.27   \n",
       "\n",
       "   eu_sales  jp_sales  other_sales  critic_score  user_score     rating  \\\n",
       "0     28.96      3.77         8.45          76.0         8.0          E   \n",
       "1      3.58      6.81         0.77           NaN         NaN  no_rating   \n",
       "2     12.76      3.79         3.29          82.0         8.3          E   \n",
       "3     10.93      3.28         2.95          80.0         8.0          E   \n",
       "4      8.89     10.22         1.00           NaN         NaN  no_rating   \n",
       "\n",
       "   sum_sales  \n",
       "0      82.54  \n",
       "1      40.24  \n",
       "2      35.52  \n",
       "3      32.77  \n",
       "4      31.38  "
      ]
     },
     "metadata": {},
     "output_type": "display_data"
    },
    {
     "data": {
      "image/png": "[encoded data removed]",
      "text/plain": [
       "<Figure size 1440x504 with 1 Axes>"
      ]
     },
     "metadata": {
      "needs_background": "light"
     },
     "output_type": "display_data"
    }
   ],
   "source": [
    "top_sales = ['3DS', 'NES', 'GB', 'PS4', 'PS', 'DS', 'Wii', 'PS2', 'X360', 'PS3']\n",
    "rows = df['platform'].isin(top_sales)\n",
    "df_top_sales = df.loc[rows].query('year_of_release > 0')\n",
    "display(df_top_sales.head())\n",
    "\n",
    "df_top_sales_plot = df_top_sales.groupby(['platform', 'year_of_release'], as_index=False)['sum_sales'].sum()\n",
    "\n",
    "plt.figure(figsize = (20,7))\n",
    "ax = sns.barplot(data=df_top_sales_plot,\n",
    "                 x='platform',\n",
    "                 y='sum_sales',\n",
    "                 hue='year_of_release')\n",
    "plt.legend(bbox_to_anchor=(1.02, 1), loc='upper left', borderaxespad=0);\n"
   ]
  },
  {
   "cell_type": "markdown",
   "metadata": {},
   "source": [
    "**Второй способ построения графика:**"
   ]
  },
  {
   "cell_type": "code",
   "execution_count": 33,
   "metadata": {},
   "outputs": [
    {
     "data": {
      "text/plain": [
       "<Figure size 1440x504 with 0 Axes>"
      ]
     },
     "metadata": {},
     "output_type": "display_data"
    },
    {
     "data": {
      "image/png": "[encoded data removed]",
      "text/plain": [
       "<Figure size 1440x504 with 1 Axes>"
      ]
     },
     "metadata": {
      "needs_background": "light"
     },
     "output_type": "display_data"
    }
   ],
   "source": [
    "plt.figure(figsize = (20,7))\n",
    "df_top_sales_plot = df_top_sales.groupby(['platform', 'year_of_release'], as_index=False)['sum_sales'].sum()\n",
    "\n",
    "(df\n",
    "    .query('platform in @top_sales and year_of_release > 2000')\n",
    "    .pivot_table(index=['year_of_release'], columns='platform', values=['sum_sales'], aggfunc='sum')\n",
    "    .reset_index()\n",
    "    .plot(x='year_of_release', y='sum_sales', kind='line', grid=True, figsize = (20,7))\n",
    ");\n",
    "\n",
    "plt.title('Распределение игр по платформам и годам', fontweight='bold')\n",
    "plt.xlabel('Годы выпуска')\n",
    "plt.ylabel('Кол-во проданных копий (в млн)')\n",
    "plt.show();"
   ]
  },
  {
   "cell_type": "markdown",
   "metadata": {},
   "source": [
    "<b>Вывод:</b>  \n",
    "1.Судя из графика, можно сделать вывод, что платформами, которые пользуются популярностью `с 2013 по 2016 год` стали:\n",
    "    \n",
    "    'PS4', 'PS3', '3DS', 'X360', 'Wii'\n",
    "2. Актуальный период получился с `2013 по 2016 гг`."
   ]
  },
  {
   "cell_type": "markdown",
   "metadata": {},
   "source": [
    "#### Поиск лидеров по продажам в актуальном периоде"
   ]
  },
  {
   "cell_type": "markdown",
   "metadata": {},
   "source": [
    "Для этого отсечём методом .query данные с датафрейма по актуальному периоду `с 2013-2016 гг.`:"
   ]
  },
  {
   "cell_type": "code",
   "execution_count": 34,
   "metadata": {},
   "outputs": [],
   "source": [
    "data_actual = df.query('year_of_release >= 2013')\n",
    "data_actual_grouped = data_actual.groupby(['platform', 'year_of_release'], as_index=False)['sum_sales'].sum()"
   ]
  },
  {
   "cell_type": "code",
   "execution_count": 35,
   "metadata": {},
   "outputs": [
    {
     "data": {
      "text/plain": [
       "array([2013, 2015, 2014, 2016])"
      ]
     },
     "metadata": {},
     "output_type": "display_data"
    }
   ],
   "source": [
    "display(data_actual['year_of_release'].unique())"
   ]
  },
  {
   "cell_type": "code",
   "execution_count": 36,
   "metadata": {},
   "outputs": [
    {
     "data": {
      "text/html": [
       "<div>\n",
       "<style scoped>\n",
       "    .dataframe tbody tr th:only-of-type {\n",
       "        vertical-align: middle;\n",
       "    }\n",
       "\n",
       "    .dataframe tbody tr th {\n",
       "        vertical-align: top;\n",
       "    }\n",
       "\n",
       "    .dataframe thead th {\n",
       "        text-align: right;\n",
       "    }\n",
       "</style>\n",
       "<table border=\"1\" class=\"dataframe\">\n",
       "  <thead>\n",
       "    <tr style=\"text-align: right;\">\n",
       "      <th></th>\n",
       "      <th>name</th>\n",
       "      <th>platform</th>\n",
       "      <th>year_of_release</th>\n",
       "      <th>genre</th>\n",
       "      <th>na_sales</th>\n",
       "      <th>eu_sales</th>\n",
       "      <th>jp_sales</th>\n",
       "      <th>other_sales</th>\n",
       "      <th>critic_score</th>\n",
       "      <th>user_score</th>\n",
       "      <th>rating</th>\n",
       "      <th>sum_sales</th>\n",
       "    </tr>\n",
       "  </thead>\n",
       "  <tbody>\n",
       "    <tr>\n",
       "      <th>16</th>\n",
       "      <td>Grand Theft Auto V</td>\n",
       "      <td>PS3</td>\n",
       "      <td>2013</td>\n",
       "      <td>Action</td>\n",
       "      <td>7.02</td>\n",
       "      <td>9.09</td>\n",
       "      <td>0.98</td>\n",
       "      <td>3.96</td>\n",
       "      <td>97.0</td>\n",
       "      <td>8.2</td>\n",
       "      <td>M</td>\n",
       "      <td>21.05</td>\n",
       "    </tr>\n",
       "    <tr>\n",
       "      <th>23</th>\n",
       "      <td>Grand Theft Auto V</td>\n",
       "      <td>X360</td>\n",
       "      <td>2013</td>\n",
       "      <td>Action</td>\n",
       "      <td>9.66</td>\n",
       "      <td>5.14</td>\n",
       "      <td>0.06</td>\n",
       "      <td>1.41</td>\n",
       "      <td>97.0</td>\n",
       "      <td>8.1</td>\n",
       "      <td>M</td>\n",
       "      <td>16.27</td>\n",
       "    </tr>\n",
       "    <tr>\n",
       "      <th>31</th>\n",
       "      <td>Call of Duty: Black Ops 3</td>\n",
       "      <td>PS4</td>\n",
       "      <td>2015</td>\n",
       "      <td>Shooter</td>\n",
       "      <td>6.03</td>\n",
       "      <td>5.86</td>\n",
       "      <td>0.36</td>\n",
       "      <td>2.38</td>\n",
       "      <td>NaN</td>\n",
       "      <td>NaN</td>\n",
       "      <td>no_rating</td>\n",
       "      <td>14.63</td>\n",
       "    </tr>\n",
       "    <tr>\n",
       "      <th>33</th>\n",
       "      <td>Pokemon X/Pokemon Y</td>\n",
       "      <td>3DS</td>\n",
       "      <td>2013</td>\n",
       "      <td>Role-Playing</td>\n",
       "      <td>5.28</td>\n",
       "      <td>4.19</td>\n",
       "      <td>4.35</td>\n",
       "      <td>0.78</td>\n",
       "      <td>NaN</td>\n",
       "      <td>NaN</td>\n",
       "      <td>no_rating</td>\n",
       "      <td>14.60</td>\n",
       "    </tr>\n",
       "    <tr>\n",
       "      <th>42</th>\n",
       "      <td>Grand Theft Auto V</td>\n",
       "      <td>PS4</td>\n",
       "      <td>2014</td>\n",
       "      <td>Action</td>\n",
       "      <td>3.96</td>\n",
       "      <td>6.31</td>\n",
       "      <td>0.38</td>\n",
       "      <td>1.97</td>\n",
       "      <td>97.0</td>\n",
       "      <td>8.3</td>\n",
       "      <td>M</td>\n",
       "      <td>12.62</td>\n",
       "    </tr>\n",
       "  </tbody>\n",
       "</table>\n",
       "</div>"
      ],
      "text/plain": [
       "                         name platform  year_of_release         genre  \\\n",
       "16         Grand Theft Auto V      PS3             2013        Action   \n",
       "23         Grand Theft Auto V     X360             2013        Action   \n",
       "31  Call of Duty: Black Ops 3      PS4             2015       Shooter   \n",
       "33        Pokemon X/Pokemon Y      3DS             2013  Role-Playing   \n",
       "42         Grand Theft Auto V      PS4             2014        Action   \n",
       "\n",
       "    na_sales  eu_sales  jp_sales  other_sales  critic_score  user_score  \\\n",
       "16      7.02      9.09      0.98         3.96          97.0         8.2   \n",
       "23      9.66      5.14      0.06         1.41          97.0         8.1   \n",
       "31      6.03      5.86      0.36         2.38           NaN         NaN   \n",
       "33      5.28      4.19      4.35         0.78           NaN         NaN   \n",
       "42      3.96      6.31      0.38         1.97          97.0         8.3   \n",
       "\n",
       "       rating  sum_sales  \n",
       "16          M      21.05  \n",
       "23          M      16.27  \n",
       "31  no_rating      14.63  \n",
       "33  no_rating      14.60  \n",
       "42          M      12.62  "
      ]
     },
     "execution_count": 36,
     "metadata": {},
     "output_type": "execute_result"
    }
   ],
   "source": [
    "data_actual.head()"
   ]
  },
  {
   "cell_type": "code",
   "execution_count": 37,
   "metadata": {},
   "outputs": [
    {
     "data": {
      "image/png": "[encoded data removed]",
      "text/plain": [
       "<Figure size 1440x504 with 1 Axes>"
      ]
     },
     "metadata": {
      "needs_background": "light"
     },
     "output_type": "display_data"
    }
   ],
   "source": [
    "plt.figure(figsize = (20,7))\n",
    "ax = sns.barplot(data=data_actual_grouped,\n",
    "                 x='platform',\n",
    "                 y='sum_sales',\n",
    "                 hue='year_of_release')\n",
    "plt.legend(bbox_to_anchor=(1.02, 1), loc='upper left', borderaxespad=0)\n",
    "ax.set_title('Распределение количества продаж в актуальном периоде')\n",
    "ax.set(xlabel='Название платформы с распределением по годам (по цвету)', ylabel='Кол-во продаж');"
   ]
  },
  {
   "cell_type": "markdown",
   "metadata": {},
   "source": [
    "<b>Вывод:</b>\n",
    "1.Судя из графика, можно сделать вывод, что платформами, которые пользуются популярностью `с 2013 по 2016` год стали:\n",
    "    \n",
    "    'PS4', 'PS3', 'X360', '3DS'\n",
    "2. Актуальный период получился `с 2013 по 2016 гг`."
   ]
  },
  {
   "cell_type": "markdown",
   "metadata": {},
   "source": [
    "### Построим график «ящик с усами» по глобальным продажам игр в разбивке по платформам"
   ]
  },
  {
   "cell_type": "code",
   "execution_count": 38,
   "metadata": {},
   "outputs": [
    {
     "data": {
      "text/html": [
       "<div>\n",
       "<style scoped>\n",
       "    .dataframe tbody tr th:only-of-type {\n",
       "        vertical-align: middle;\n",
       "    }\n",
       "\n",
       "    .dataframe tbody tr th {\n",
       "        vertical-align: top;\n",
       "    }\n",
       "\n",
       "    .dataframe thead th {\n",
       "        text-align: right;\n",
       "    }\n",
       "</style>\n",
       "<table border=\"1\" class=\"dataframe\">\n",
       "  <thead>\n",
       "    <tr style=\"text-align: right;\">\n",
       "      <th></th>\n",
       "      <th>name</th>\n",
       "      <th>platform</th>\n",
       "      <th>year_of_release</th>\n",
       "      <th>genre</th>\n",
       "      <th>na_sales</th>\n",
       "      <th>eu_sales</th>\n",
       "      <th>jp_sales</th>\n",
       "      <th>other_sales</th>\n",
       "      <th>critic_score</th>\n",
       "      <th>user_score</th>\n",
       "      <th>rating</th>\n",
       "      <th>sum_sales</th>\n",
       "    </tr>\n",
       "  </thead>\n",
       "  <tbody>\n",
       "    <tr>\n",
       "      <th>16</th>\n",
       "      <td>Grand Theft Auto V</td>\n",
       "      <td>PS3</td>\n",
       "      <td>2013</td>\n",
       "      <td>Action</td>\n",
       "      <td>7.02</td>\n",
       "      <td>9.09</td>\n",
       "      <td>0.98</td>\n",
       "      <td>3.96</td>\n",
       "      <td>97.0</td>\n",
       "      <td>8.2</td>\n",
       "      <td>M</td>\n",
       "      <td>21.05</td>\n",
       "    </tr>\n",
       "    <tr>\n",
       "      <th>23</th>\n",
       "      <td>Grand Theft Auto V</td>\n",
       "      <td>X360</td>\n",
       "      <td>2013</td>\n",
       "      <td>Action</td>\n",
       "      <td>9.66</td>\n",
       "      <td>5.14</td>\n",
       "      <td>0.06</td>\n",
       "      <td>1.41</td>\n",
       "      <td>97.0</td>\n",
       "      <td>8.1</td>\n",
       "      <td>M</td>\n",
       "      <td>16.27</td>\n",
       "    </tr>\n",
       "    <tr>\n",
       "      <th>31</th>\n",
       "      <td>Call of Duty: Black Ops 3</td>\n",
       "      <td>PS4</td>\n",
       "      <td>2015</td>\n",
       "      <td>Shooter</td>\n",
       "      <td>6.03</td>\n",
       "      <td>5.86</td>\n",
       "      <td>0.36</td>\n",
       "      <td>2.38</td>\n",
       "      <td>NaN</td>\n",
       "      <td>NaN</td>\n",
       "      <td>no_rating</td>\n",
       "      <td>14.63</td>\n",
       "    </tr>\n",
       "    <tr>\n",
       "      <th>33</th>\n",
       "      <td>Pokemon X/Pokemon Y</td>\n",
       "      <td>3DS</td>\n",
       "      <td>2013</td>\n",
       "      <td>Role-Playing</td>\n",
       "      <td>5.28</td>\n",
       "      <td>4.19</td>\n",
       "      <td>4.35</td>\n",
       "      <td>0.78</td>\n",
       "      <td>NaN</td>\n",
       "      <td>NaN</td>\n",
       "      <td>no_rating</td>\n",
       "      <td>14.60</td>\n",
       "    </tr>\n",
       "    <tr>\n",
       "      <th>42</th>\n",
       "      <td>Grand Theft Auto V</td>\n",
       "      <td>PS4</td>\n",
       "      <td>2014</td>\n",
       "      <td>Action</td>\n",
       "      <td>3.96</td>\n",
       "      <td>6.31</td>\n",
       "      <td>0.38</td>\n",
       "      <td>1.97</td>\n",
       "      <td>97.0</td>\n",
       "      <td>8.3</td>\n",
       "      <td>M</td>\n",
       "      <td>12.62</td>\n",
       "    </tr>\n",
       "  </tbody>\n",
       "</table>\n",
       "</div>"
      ],
      "text/plain": [
       "                         name platform  year_of_release         genre  \\\n",
       "16         Grand Theft Auto V      PS3             2013        Action   \n",
       "23         Grand Theft Auto V     X360             2013        Action   \n",
       "31  Call of Duty: Black Ops 3      PS4             2015       Shooter   \n",
       "33        Pokemon X/Pokemon Y      3DS             2013  Role-Playing   \n",
       "42         Grand Theft Auto V      PS4             2014        Action   \n",
       "\n",
       "    na_sales  eu_sales  jp_sales  other_sales  critic_score  user_score  \\\n",
       "16      7.02      9.09      0.98         3.96          97.0         8.2   \n",
       "23      9.66      5.14      0.06         1.41          97.0         8.1   \n",
       "31      6.03      5.86      0.36         2.38           NaN         NaN   \n",
       "33      5.28      4.19      4.35         0.78           NaN         NaN   \n",
       "42      3.96      6.31      0.38         1.97          97.0         8.3   \n",
       "\n",
       "       rating  sum_sales  \n",
       "16          M      21.05  \n",
       "23          M      16.27  \n",
       "31  no_rating      14.63  \n",
       "33  no_rating      14.60  \n",
       "42          M      12.62  "
      ]
     },
     "metadata": {},
     "output_type": "display_data"
    }
   ],
   "source": [
    "display(data_actual.head())"
   ]
  },
  {
   "cell_type": "code",
   "execution_count": 39,
   "metadata": {},
   "outputs": [
    {
     "data": {
      "image/png": "[encoded data removed]",
      "text/plain": [
       "<Figure size 1440x720 with 1 Axes>"
      ]
     },
     "metadata": {
      "needs_background": "light"
     },
     "output_type": "display_data"
    }
   ],
   "source": [
    "df_game_sales = df_top_sales.groupby(['name', 'platform'], as_index=False)['sum_sales'].sum() \\\n",
    "                            .sort_values('sum_sales', ascending=False)\n",
    "plt.figure(figsize = (20,10))\n",
    "plt.ylim(-0.5, 7)\n",
    "ax = sns.boxplot(data=data_actual,\n",
    "                 x=\"platform\",\n",
    "                 y=\"sum_sales\")\n",
    "ax.set_title('График «ящик с усами» по глобальным продажам игр в разбивке по платформам')\n",
    "ax.set(xlabel='Название платформ', ylabel='Глобальны продажи игр (в млн проданных копий)');"
   ]
  },
  {
   "cell_type": "markdown",
   "metadata": {},
   "source": [
    "<b>Вывод:</b>\n",
    "1.Судя из графика, можно сделать вывод, что платформами, которые пользуются популярностью `с 2013 по 2016 год` стали:\n",
    "    \n",
    "    'PS4', 'PS3', '3DS', 'X360', 'Wii'\n",
    "2. Актуальный период получился `с 2013 по 2016 гг`."
   ]
  },
  {
   "cell_type": "markdown",
   "metadata": {},
   "source": [
    "### Посмотрим, как влияют на продажи внутри одной популярной платформы отзывы пользователей и критиков и сравним с продажами игр на других платформах"
   ]
  },
  {
   "cell_type": "markdown",
   "metadata": {},
   "source": [
    "Отберём для начала самую крупную платформу. Самая высокая медиана у 'PS4' и верхний квантиль тоже в тройке максимумов."
   ]
  },
  {
   "cell_type": "code",
   "execution_count": 55,
   "metadata": {},
   "outputs": [],
   "source": [
    "df_top_sales_plot\n",
    "top_sales = ['3DS', 'PS4', 'PS', 'DS', 'Wii', 'PS2', 'X360', 'PS3']"
   ]
  },
  {
   "cell_type": "code",
   "execution_count": 54,
   "metadata": {},
   "outputs": [
    {
     "data": {
      "text/html": [
       "<div>\n",
       "<style scoped>\n",
       "    .dataframe tbody tr th:only-of-type {\n",
       "        vertical-align: middle;\n",
       "    }\n",
       "\n",
       "    .dataframe tbody tr th {\n",
       "        vertical-align: top;\n",
       "    }\n",
       "\n",
       "    .dataframe thead th {\n",
       "        text-align: right;\n",
       "    }\n",
       "</style>\n",
       "<table border=\"1\" class=\"dataframe\">\n",
       "  <thead>\n",
       "    <tr style=\"text-align: right;\">\n",
       "      <th></th>\n",
       "      <th>name</th>\n",
       "      <th>platform</th>\n",
       "      <th>year_of_release</th>\n",
       "      <th>genre</th>\n",
       "      <th>na_sales</th>\n",
       "      <th>eu_sales</th>\n",
       "      <th>jp_sales</th>\n",
       "      <th>other_sales</th>\n",
       "      <th>critic_score</th>\n",
       "      <th>user_score</th>\n",
       "      <th>rating</th>\n",
       "      <th>sum_sales</th>\n",
       "    </tr>\n",
       "  </thead>\n",
       "  <tbody>\n",
       "    <tr>\n",
       "      <th>16</th>\n",
       "      <td>Grand Theft Auto V</td>\n",
       "      <td>PS3</td>\n",
       "      <td>2013</td>\n",
       "      <td>Action</td>\n",
       "      <td>7.02</td>\n",
       "      <td>9.09</td>\n",
       "      <td>0.98</td>\n",
       "      <td>3.96</td>\n",
       "      <td>97.0</td>\n",
       "      <td>8.2</td>\n",
       "      <td>M</td>\n",
       "      <td>21.05</td>\n",
       "    </tr>\n",
       "    <tr>\n",
       "      <th>23</th>\n",
       "      <td>Grand Theft Auto V</td>\n",
       "      <td>X360</td>\n",
       "      <td>2013</td>\n",
       "      <td>Action</td>\n",
       "      <td>9.66</td>\n",
       "      <td>5.14</td>\n",
       "      <td>0.06</td>\n",
       "      <td>1.41</td>\n",
       "      <td>97.0</td>\n",
       "      <td>8.1</td>\n",
       "      <td>M</td>\n",
       "      <td>16.27</td>\n",
       "    </tr>\n",
       "    <tr>\n",
       "      <th>31</th>\n",
       "      <td>Call of Duty: Black Ops 3</td>\n",
       "      <td>PS4</td>\n",
       "      <td>2015</td>\n",
       "      <td>Shooter</td>\n",
       "      <td>6.03</td>\n",
       "      <td>5.86</td>\n",
       "      <td>0.36</td>\n",
       "      <td>2.38</td>\n",
       "      <td>NaN</td>\n",
       "      <td>NaN</td>\n",
       "      <td>no_rating</td>\n",
       "      <td>14.63</td>\n",
       "    </tr>\n",
       "    <tr>\n",
       "      <th>33</th>\n",
       "      <td>Pokemon X/Pokemon Y</td>\n",
       "      <td>3DS</td>\n",
       "      <td>2013</td>\n",
       "      <td>Role-Playing</td>\n",
       "      <td>5.28</td>\n",
       "      <td>4.19</td>\n",
       "      <td>4.35</td>\n",
       "      <td>0.78</td>\n",
       "      <td>NaN</td>\n",
       "      <td>NaN</td>\n",
       "      <td>no_rating</td>\n",
       "      <td>14.60</td>\n",
       "    </tr>\n",
       "    <tr>\n",
       "      <th>42</th>\n",
       "      <td>Grand Theft Auto V</td>\n",
       "      <td>PS4</td>\n",
       "      <td>2014</td>\n",
       "      <td>Action</td>\n",
       "      <td>3.96</td>\n",
       "      <td>6.31</td>\n",
       "      <td>0.38</td>\n",
       "      <td>1.97</td>\n",
       "      <td>97.0</td>\n",
       "      <td>8.3</td>\n",
       "      <td>M</td>\n",
       "      <td>12.62</td>\n",
       "    </tr>\n",
       "  </tbody>\n",
       "</table>\n",
       "</div>"
      ],
      "text/plain": [
       "                         name platform  year_of_release         genre  \\\n",
       "16         Grand Theft Auto V      PS3             2013        Action   \n",
       "23         Grand Theft Auto V     X360             2013        Action   \n",
       "31  Call of Duty: Black Ops 3      PS4             2015       Shooter   \n",
       "33        Pokemon X/Pokemon Y      3DS             2013  Role-Playing   \n",
       "42         Grand Theft Auto V      PS4             2014        Action   \n",
       "\n",
       "    na_sales  eu_sales  jp_sales  other_sales  critic_score  user_score  \\\n",
       "16      7.02      9.09      0.98         3.96          97.0         8.2   \n",
       "23      9.66      5.14      0.06         1.41          97.0         8.1   \n",
       "31      6.03      5.86      0.36         2.38           NaN         NaN   \n",
       "33      5.28      4.19      4.35         0.78           NaN         NaN   \n",
       "42      3.96      6.31      0.38         1.97          97.0         8.3   \n",
       "\n",
       "       rating  sum_sales  \n",
       "16          M      21.05  \n",
       "23          M      16.27  \n",
       "31  no_rating      14.63  \n",
       "33  no_rating      14.60  \n",
       "42          M      12.62  "
      ]
     },
     "metadata": {},
     "output_type": "display_data"
    }
   ],
   "source": [
    "display(data_actual.head())"
   ]
  },
  {
   "cell_type": "markdown",
   "metadata": {},
   "source": [
    "Построение для оценки пользователей и продаж `'X360', 'PS3', 'PS4'` ниже."
   ]
  },
  {
   "cell_type": "code",
   "execution_count": 81,
   "metadata": {},
   "outputs": [
    {
     "name": "stdout",
     "output_type": "stream",
     "text": [
      "Рассчитаем коэфф-т корреляции между оценкой пользователей и продажами для \"X360\": -0.012\n",
      "Рассчитаем коэфф-т корреляции между оценкой пользователей и продажами для \"PS3\": 0.002\n",
      "Рассчитаем коэфф-т корреляции между оценкой пользователей и продажами для \"PS4\": -0.032\n"
     ]
    },
    {
     "data": {
      "image/png": "[encoded data removed]",
      "text/plain": [
       "<Figure size 936x504 with 1 Axes>"
      ]
     },
     "metadata": {
      "needs_background": "light"
     },
     "output_type": "display_data"
    }
   ],
   "source": [
    "platform_list = ['X360', 'PS3', 'PS4']\n",
    "plt.figure(figsize = (13,7))\n",
    "for el in platform_list:\n",
    "    df_best_seller = data_actual[(data_actual['platform'] == str(el)) & (data_actual['user_score'].notna())]\n",
    "    sns.scatterplot(data=df_best_seller, x=\"user_score\", y=\"sum_sales\")\n",
    "    ;\n",
    "    print(f'Рассчитаем коэфф-т корреляции между оценкой пользователей и продажами для \"{str(el)}\":', \\\n",
    "         round(df_best_seller['user_score'].corr(df_best_seller['sum_sales']), 3))\n",
    "    "
   ]
  },
  {
   "cell_type": "markdown",
   "metadata": {},
   "source": [
    "Построение для оценки критиков и продаж `'X360', 'PS3', 'PS4'` ниже."
   ]
  },
  {
   "cell_type": "code",
   "execution_count": 82,
   "metadata": {},
   "outputs": [
    {
     "name": "stdout",
     "output_type": "stream",
     "text": [
      "Рассчитаем коэфф-т корреляции между оценкой критиков и продажами для \"X360\": 0.35\n",
      "Рассчитаем коэфф-т корреляции между оценкой критиков и продажами для \"PS3\": 0.334\n",
      "Рассчитаем коэфф-т корреляции между оценкой критиков и продажами для \"PS4\": 0.407\n"
     ]
    },
    {
     "data": {
      "image/png": "[encoded data removed]",
      "text/plain": [
       "<Figure size 936x504 with 1 Axes>"
      ]
     },
     "metadata": {
      "needs_background": "light"
     },
     "output_type": "display_data"
    }
   ],
   "source": [
    "plt.figure(figsize = (13,7))\n",
    "for el in platform_list:\n",
    "    df_best_seller = data_actual[(data_actual['platform'] == str(el)) & (data_actual['critic_score'].notna())]\n",
    "    sns.scatterplot(data=df_best_seller, x=\"critic_score\", y=\"sum_sales\");\n",
    "    print(f'Рассчитаем коэфф-т корреляции между оценкой критиков и продажами для \"{str(el)}\":', \\\n",
    "         round(df_best_seller['critic_score'].corr(df_best_seller['sum_sales']), 3))"
   ]
  },
  {
   "cell_type": "markdown",
   "metadata": {},
   "source": [
    "<b>Вывод:</b>  \n",
    "В целом коэффициенты корреляций относительно невысокие.\n",
    "    \n",
    "Коэффициенты корреляции отн-о критиков **выше**, чем коэф. корреляции для пользователей.\n",
    "    \n",
    "Если коэфф. корреляции для оценок критиков:\n",
    "    \n",
    "    \"PS4\": 0.407\n",
    "    \"PS3\": 0.334\n",
    "    \"X360\": 0.35\n",
    "\n",
    "То коэфф. корреляции для оценок пользователей:\n",
    "    \n",
    "    \"PS4\": -0.032\n",
    "    \"X360\": -0.012\n",
    "    \"PS3\": 0.002\n",
    "    \n",
    "Из чего можно сделать вывод, что *присутствует некоторая корреляция* между суммарными продажами и оценкой критиков. А в случае между суммарными продажами и оценкой пользователей *корреляции нет*."
   ]
  },
  {
   "cell_type": "markdown",
   "metadata": {},
   "source": [
    "### Посмотрим на общее распределение игр по жанрам."
   ]
  },
  {
   "cell_type": "code",
   "execution_count": 83,
   "metadata": {},
   "outputs": [
    {
     "data": {
      "text/html": [
       "<div>\n",
       "<style scoped>\n",
       "    .dataframe tbody tr th:only-of-type {\n",
       "        vertical-align: middle;\n",
       "    }\n",
       "\n",
       "    .dataframe tbody tr th {\n",
       "        vertical-align: top;\n",
       "    }\n",
       "\n",
       "    .dataframe thead th {\n",
       "        text-align: right;\n",
       "    }\n",
       "</style>\n",
       "<table border=\"1\" class=\"dataframe\">\n",
       "  <thead>\n",
       "    <tr style=\"text-align: right;\">\n",
       "      <th></th>\n",
       "      <th>genre</th>\n",
       "      <th>sum_sales</th>\n",
       "    </tr>\n",
       "  </thead>\n",
       "  <tbody>\n",
       "    <tr>\n",
       "      <th>0</th>\n",
       "      <td>Action</td>\n",
       "      <td>1716.52</td>\n",
       "    </tr>\n",
       "    <tr>\n",
       "      <th>10</th>\n",
       "      <td>Sports</td>\n",
       "      <td>1309.67</td>\n",
       "    </tr>\n",
       "    <tr>\n",
       "      <th>8</th>\n",
       "      <td>Shooter</td>\n",
       "      <td>1041.36</td>\n",
       "    </tr>\n",
       "    <tr>\n",
       "      <th>7</th>\n",
       "      <td>Role-Playing</td>\n",
       "      <td>931.08</td>\n",
       "    </tr>\n",
       "    <tr>\n",
       "      <th>4</th>\n",
       "      <td>Platform</td>\n",
       "      <td>825.55</td>\n",
       "    </tr>\n",
       "    <tr>\n",
       "      <th>3</th>\n",
       "      <td>Misc</td>\n",
       "      <td>790.29</td>\n",
       "    </tr>\n",
       "    <tr>\n",
       "      <th>6</th>\n",
       "      <td>Racing</td>\n",
       "      <td>723.49</td>\n",
       "    </tr>\n",
       "    <tr>\n",
       "      <th>2</th>\n",
       "      <td>Fighting</td>\n",
       "      <td>442.66</td>\n",
       "    </tr>\n",
       "    <tr>\n",
       "      <th>9</th>\n",
       "      <td>Simulation</td>\n",
       "      <td>387.96</td>\n",
       "    </tr>\n",
       "    <tr>\n",
       "      <th>5</th>\n",
       "      <td>Puzzle</td>\n",
       "      <td>239.89</td>\n",
       "    </tr>\n",
       "    <tr>\n",
       "      <th>1</th>\n",
       "      <td>Adventure</td>\n",
       "      <td>233.33</td>\n",
       "    </tr>\n",
       "    <tr>\n",
       "      <th>11</th>\n",
       "      <td>Strategy</td>\n",
       "      <td>172.57</td>\n",
       "    </tr>\n",
       "  </tbody>\n",
       "</table>\n",
       "</div>"
      ],
      "text/plain": [
       "           genre  sum_sales\n",
       "0         Action    1716.52\n",
       "10        Sports    1309.67\n",
       "8        Shooter    1041.36\n",
       "7   Role-Playing     931.08\n",
       "4       Platform     825.55\n",
       "3           Misc     790.29\n",
       "6         Racing     723.49\n",
       "2       Fighting     442.66\n",
       "9     Simulation     387.96\n",
       "5         Puzzle     239.89\n",
       "1      Adventure     233.33\n",
       "11      Strategy     172.57"
      ]
     },
     "metadata": {},
     "output_type": "display_data"
    }
   ],
   "source": [
    "sales_by_platform = df.groupby('genre', as_index=False)['sum_sales'].sum() \\\n",
    "                      .sort_values(by='sum_sales', ascending=False)\n",
    "\n",
    "display(sales_by_platform)"
   ]
  },
  {
   "cell_type": "code",
   "execution_count": 84,
   "metadata": {},
   "outputs": [
    {
     "data": {
      "image/png": "[encoded data removed]",
      "text/plain": [
       "<Figure size 1440x720 with 1 Axes>"
      ]
     },
     "metadata": {
      "needs_background": "light"
     },
     "output_type": "display_data"
    }
   ],
   "source": [
    "plt.figure(figsize = (20,10))\n",
    "plt.ylim(-0.5, 5)\n",
    "ax = sns.boxplot(data=data_actual,\n",
    "                 x=\"genre\",\n",
    "                 y=\"sum_sales\")\n",
    "ax.set_title('График «ящик с усами» по глобальным продажам игр в разбивке по жанрам')\n",
    "ax.set(xlabel='Распределение жанров', ylabel='Глобальны продажи игр (в млн проданных копий)');\n"
   ]
  },
  {
   "cell_type": "markdown",
   "metadata": {},
   "source": [
    "<b>Вывод:</b>\n",
    "1. Самый высокий верхний квартиль и медиана у `'Shooter'`. Следом идут `'Sports' и 'Platform'` их медианы и верхние квартили, примерно, на одном уровне.\n",
    "2. Самые же малочисленные жанры: `'Strategy', 'Adventure', 'Puzzle'`, по мере убывания кол-ва проданных копий."
   ]
  },
  {
   "cell_type": "markdown",
   "metadata": {},
   "source": [
    "## Составим портрет пользователя каждого региона"
   ]
  },
  {
   "cell_type": "markdown",
   "metadata": {},
   "source": [
    "### Определим для пользователей региона NA (Северная Америка) следующие параметры:"
   ]
  },
  {
   "cell_type": "markdown",
   "metadata": {},
   "source": [
    "#### Самые популярные (топ-5) платформ:"
   ]
  },
  {
   "cell_type": "code",
   "execution_count": 85,
   "metadata": {},
   "outputs": [
    {
     "data": {
      "text/html": [
       "<div>\n",
       "<style scoped>\n",
       "    .dataframe tbody tr th:only-of-type {\n",
       "        vertical-align: middle;\n",
       "    }\n",
       "\n",
       "    .dataframe tbody tr th {\n",
       "        vertical-align: top;\n",
       "    }\n",
       "\n",
       "    .dataframe thead th {\n",
       "        text-align: right;\n",
       "    }\n",
       "</style>\n",
       "<table border=\"1\" class=\"dataframe\">\n",
       "  <thead>\n",
       "    <tr style=\"text-align: right;\">\n",
       "      <th></th>\n",
       "      <th>name</th>\n",
       "      <th>platform</th>\n",
       "      <th>year_of_release</th>\n",
       "      <th>genre</th>\n",
       "      <th>na_sales</th>\n",
       "      <th>eu_sales</th>\n",
       "      <th>jp_sales</th>\n",
       "      <th>other_sales</th>\n",
       "      <th>critic_score</th>\n",
       "      <th>user_score</th>\n",
       "      <th>rating</th>\n",
       "      <th>sum_sales</th>\n",
       "    </tr>\n",
       "  </thead>\n",
       "  <tbody>\n",
       "    <tr>\n",
       "      <th>0</th>\n",
       "      <td>Wii Sports</td>\n",
       "      <td>Wii</td>\n",
       "      <td>2006</td>\n",
       "      <td>Sports</td>\n",
       "      <td>41.36</td>\n",
       "      <td>28.96</td>\n",
       "      <td>3.77</td>\n",
       "      <td>8.45</td>\n",
       "      <td>76.0</td>\n",
       "      <td>8.0</td>\n",
       "      <td>E</td>\n",
       "      <td>82.54</td>\n",
       "    </tr>\n",
       "    <tr>\n",
       "      <th>1</th>\n",
       "      <td>Super Mario Bros.</td>\n",
       "      <td>NES</td>\n",
       "      <td>1985</td>\n",
       "      <td>Platform</td>\n",
       "      <td>29.08</td>\n",
       "      <td>3.58</td>\n",
       "      <td>6.81</td>\n",
       "      <td>0.77</td>\n",
       "      <td>NaN</td>\n",
       "      <td>NaN</td>\n",
       "      <td>no_rating</td>\n",
       "      <td>40.24</td>\n",
       "    </tr>\n",
       "    <tr>\n",
       "      <th>2</th>\n",
       "      <td>Mario Kart Wii</td>\n",
       "      <td>Wii</td>\n",
       "      <td>2008</td>\n",
       "      <td>Racing</td>\n",
       "      <td>15.68</td>\n",
       "      <td>12.76</td>\n",
       "      <td>3.79</td>\n",
       "      <td>3.29</td>\n",
       "      <td>82.0</td>\n",
       "      <td>8.3</td>\n",
       "      <td>E</td>\n",
       "      <td>35.52</td>\n",
       "    </tr>\n",
       "    <tr>\n",
       "      <th>3</th>\n",
       "      <td>Wii Sports Resort</td>\n",
       "      <td>Wii</td>\n",
       "      <td>2009</td>\n",
       "      <td>Sports</td>\n",
       "      <td>15.61</td>\n",
       "      <td>10.93</td>\n",
       "      <td>3.28</td>\n",
       "      <td>2.95</td>\n",
       "      <td>80.0</td>\n",
       "      <td>8.0</td>\n",
       "      <td>E</td>\n",
       "      <td>32.77</td>\n",
       "    </tr>\n",
       "    <tr>\n",
       "      <th>4</th>\n",
       "      <td>Pokemon Red/Pokemon Blue</td>\n",
       "      <td>GB</td>\n",
       "      <td>1996</td>\n",
       "      <td>Role-Playing</td>\n",
       "      <td>11.27</td>\n",
       "      <td>8.89</td>\n",
       "      <td>10.22</td>\n",
       "      <td>1.00</td>\n",
       "      <td>NaN</td>\n",
       "      <td>NaN</td>\n",
       "      <td>no_rating</td>\n",
       "      <td>31.38</td>\n",
       "    </tr>\n",
       "  </tbody>\n",
       "</table>\n",
       "</div>"
      ],
      "text/plain": [
       "                       name platform  year_of_release         genre  na_sales  \\\n",
       "0                Wii Sports      Wii             2006        Sports     41.36   \n",
       "1         Super Mario Bros.      NES             1985      Platform     29.08   \n",
       "2            Mario Kart Wii      Wii             2008        Racing     15.68   \n",
       "3         Wii Sports Resort      Wii             2009        Sports     15.61   \n",
       "4  Pokemon Red/Pokemon Blue       GB             1996  Role-Playing     11.27   \n",
       "\n",
       "   eu_sales  jp_sales  other_sales  critic_score  user_score     rating  \\\n",
       "0     28.96      3.77         8.45          76.0         8.0          E   \n",
       "1      3.58      6.81         0.77           NaN         NaN  no_rating   \n",
       "2     12.76      3.79         3.29          82.0         8.3          E   \n",
       "3     10.93      3.28         2.95          80.0         8.0          E   \n",
       "4      8.89     10.22         1.00           NaN         NaN  no_rating   \n",
       "\n",
       "   sum_sales  \n",
       "0      82.54  \n",
       "1      40.24  \n",
       "2      35.52  \n",
       "3      32.77  \n",
       "4      31.38  "
      ]
     },
     "execution_count": 85,
     "metadata": {},
     "output_type": "execute_result"
    }
   ],
   "source": [
    "df.head()"
   ]
  },
  {
   "cell_type": "code",
   "execution_count": 86,
   "metadata": {
    "scrolled": false
   },
   "outputs": [
    {
     "data": {
      "text/html": [
       "<div>\n",
       "<style scoped>\n",
       "    .dataframe tbody tr th:only-of-type {\n",
       "        vertical-align: middle;\n",
       "    }\n",
       "\n",
       "    .dataframe tbody tr th {\n",
       "        vertical-align: top;\n",
       "    }\n",
       "\n",
       "    .dataframe thead th {\n",
       "        text-align: right;\n",
       "    }\n",
       "</style>\n",
       "<table border=\"1\" class=\"dataframe\">\n",
       "  <thead>\n",
       "    <tr style=\"text-align: right;\">\n",
       "      <th></th>\n",
       "      <th>platform</th>\n",
       "      <th>na_sales</th>\n",
       "    </tr>\n",
       "  </thead>\n",
       "  <tbody>\n",
       "    <tr>\n",
       "      <th>4</th>\n",
       "      <td>PS4</td>\n",
       "      <td>108.74</td>\n",
       "    </tr>\n",
       "    <tr>\n",
       "      <th>10</th>\n",
       "      <td>XOne</td>\n",
       "      <td>93.12</td>\n",
       "    </tr>\n",
       "    <tr>\n",
       "      <th>9</th>\n",
       "      <td>X360</td>\n",
       "      <td>81.66</td>\n",
       "    </tr>\n",
       "    <tr>\n",
       "      <th>3</th>\n",
       "      <td>PS3</td>\n",
       "      <td>63.50</td>\n",
       "    </tr>\n",
       "    <tr>\n",
       "      <th>0</th>\n",
       "      <td>3DS</td>\n",
       "      <td>38.20</td>\n",
       "    </tr>\n",
       "  </tbody>\n",
       "</table>\n",
       "</div>"
      ],
      "text/plain": [
       "   platform  na_sales\n",
       "4       PS4    108.74\n",
       "10     XOne     93.12\n",
       "9      X360     81.66\n",
       "3       PS3     63.50\n",
       "0       3DS     38.20"
      ]
     },
     "metadata": {},
     "output_type": "display_data"
    },
    {
     "name": "stdout",
     "output_type": "stream",
     "text": [
      "Среднее:\n"
     ]
    },
    {
     "data": {
      "text/plain": [
       "77"
      ]
     },
     "metadata": {},
     "output_type": "display_data"
    },
    {
     "name": "stdout",
     "output_type": "stream",
     "text": [
      "Медиана:\n"
     ]
    },
    {
     "data": {
      "text/plain": [
       "82"
      ]
     },
     "metadata": {},
     "output_type": "display_data"
    },
    {
     "data": {
      "image/png": "[encoded data removed]",
      "text/plain": [
       "<Figure size 864x360 with 1 Axes>"
      ]
     },
     "metadata": {
      "needs_background": "light"
     },
     "output_type": "display_data"
    }
   ],
   "source": [
    "platform_na_top_5 = data_actual.groupby('platform', as_index=False)['na_sales'].sum().nlargest(5, 'na_sales')\n",
    "display(platform_na_top_5)\n",
    "\n",
    "print('Среднее:')\n",
    "display(round(platform_na_top_5['na_sales'].mean()))\n",
    "print('Медиана:')\n",
    "display(round(platform_na_top_5['na_sales'].median()))\n",
    "\n",
    "plt.figure(figsize = (12,5))\n",
    "ax = sns.barplot(data=platform_na_top_5,\n",
    "                 x='platform',\n",
    "                 y='na_sales')\n",
    "ax.axhline(y = platform_na_top_5['na_sales'].mean(), color = 'r', linestyle = 'dashed', label = 'mean')\n",
    "ax.axhline(y = platform_na_top_5['na_sales'].median(), color = 'y', linestyle = 'dashed', label = 'median')\n",
    "plt.legend()\n",
    "plt.title('Распределение платформ в регионе \"NA\" (Северная Америка)')\n",
    "plt.ylabel('Суммарные продажи (в млн проданных копий)');"
   ]
  },
  {
   "cell_type": "markdown",
   "metadata": {},
   "source": [
    "**Вывод**\n",
    "\n",
    "Для региона Северной Америки две самые популярные конкурирующие платформы, которые выше медианы `'PS4' и 'XOne'`. Прям на медиане располагается  `'X360' - 82 млн копий`.\n",
    "\n",
    "Самая низкая по продажам `'3DS'`."
   ]
  },
  {
   "cell_type": "markdown",
   "metadata": {},
   "source": [
    "#### Самые популярные жанры (топ-5) для NA:"
   ]
  },
  {
   "cell_type": "code",
   "execution_count": null,
   "metadata": {},
   "outputs": [],
   "source": [
    "data_actual.head()"
   ]
  },
  {
   "cell_type": "code",
   "execution_count": null,
   "metadata": {},
   "outputs": [],
   "source": [
    "genre_na_top_5 = data_actual.groupby('genre', as_index=False)['na_sales'].sum().nlargest(5, 'na_sales')\n",
    "display(genre_na_top_5)\n",
    "\n",
    "print('Среднее:')\n",
    "display(round(genre_na_top_5['na_sales'].mean()))\n",
    "print('Медиана:')\n",
    "display(round(genre_na_top_5['na_sales'].median()))\n",
    "\n",
    "plt.figure(figsize = (12,5))\n",
    "ax = sns.barplot(data=genre_na_top_5,\n",
    "                 x='genre',\n",
    "                 y='na_sales')\n",
    "ax.axhline(y = genre_na_top_5['na_sales'].mean(), color = 'r', linestyle = 'dashed', label = 'mean')\n",
    "ax.axhline(y = genre_na_top_5['na_sales'].median(), color = 'y', linestyle = 'dashed', label = 'median')\n",
    "plt.legend()\n",
    "plt.title('Распределение жанров в регионе \"NA\" (Северная Америка)')\n",
    "plt.ylabel('Суммарные продажи (в млн проданных копий)')\n",
    "plt.show()"
   ]
  },
  {
   "cell_type": "markdown",
   "metadata": {},
   "source": [
    "**Вывод**\n",
    "\n",
    "Для региона **Северной Америки** самые популярные жанры: `'Action', 'Shooter'`. Прям на медиане располагается `'Sports' - 65.27 млн копий`.\n",
    "\n",
    "Остальные жанры находятся ниже."
   ]
  },
  {
   "cell_type": "markdown",
   "metadata": {},
   "source": [
    "В данных попадается аббревиатура `ESRB (Entertainment Software Rating Board)` — это ассоциация, определяющая возрастной рейтинг компьютерных игр. `ESRB` оценивает игровой контент и присваивает ему подходящую возрастную категорию, например, `«Для взрослых», «Для детей младшего возраста» или «Для подростков»`.\n",
    "\n",
    "В работе изучим, влияет ли рейтинг ESRB на продажи в исследуемых регионах?"
   ]
  },
  {
   "cell_type": "markdown",
   "metadata": {},
   "source": [
    "#### Проверим, влияет ли рейтинг ESRB на продажи в NA?"
   ]
  },
  {
   "cell_type": "code",
   "execution_count": null,
   "metadata": {},
   "outputs": [],
   "source": [
    "display(df_top_sales.head())"
   ]
  },
  {
   "cell_type": "code",
   "execution_count": null,
   "metadata": {},
   "outputs": [],
   "source": [
    "rating_na_top_5 = data_actual.groupby('rating', as_index=False)['na_sales'].sum().nlargest(5, 'na_sales')\n",
    "display(rating_na_top_5)\n",
    "\n",
    "print('Среднее:')\n",
    "display(round(rating_na_top_5['na_sales'].mean()))\n",
    "print('Медиана:')\n",
    "display(round(rating_na_top_5['na_sales'].median()))\n",
    "\n",
    "plt.figure(figsize = (12,5))\n",
    "ax = sns.barplot(data=rating_na_top_5,\n",
    "                 x='rating',\n",
    "                 y='na_sales')\n",
    "ax.axhline(y = rating_na_top_5['na_sales'].mean(), color = 'r', linestyle = 'dashed', label = 'mean')\n",
    "ax.axhline(y = rating_na_top_5['na_sales'].median(), color = 'y', linestyle = 'dashed', label = 'median')\n",
    "plt.legend()\n",
    "plt.title('Зависимость продаж от рейтинга в \"NA\" (Северная Америка)')\n",
    "plt.ylabel('Суммарные продажи (в млн проданных копий)')\n",
    "plt.show()"
   ]
  },
  {
   "cell_type": "markdown",
   "metadata": {},
   "source": [
    "**Вывод**\n",
    "\n",
    "Медиана расположилась на значении `79 млн копий`. Следовательно, от неё можно отсчитывать 3 основные рейтинга, которые повлияли на продажи. Более всех влияют на продажи два рейтинга: `'M', 'no_rating' и 'E'` (располагается прямо на медиане). Замыкает четвёрку рейтинг `'E10+'`.\n",
    "\n",
    "Наименьшее влияние у `'T' около 49.79 млн копий`."
   ]
  },
  {
   "cell_type": "markdown",
   "metadata": {},
   "source": [
    "<b>Вывод по NA:</b>\n",
    "1. Для региона Северной Америки две самые популярные конкурирующие платформы, которые выше медианы `'PS4' и 'XOne'`. Прям на медиане располагается `'X360' 82 млн копий`.\n",
    "2. Для региона Северной Америки самые популярные жанры: `'Action', 'Shooter'`. Прям на медиане располагается `'Sports' 65.27`.\n",
    "3. Более всех влияют на продажи два рейтинга: `'M', 'no_rating' и 'E' `(располагается прямо на медиане). Замыкает четвёрку рейтинг `'E10+'`."
   ]
  },
  {
   "cell_type": "markdown",
   "metadata": {},
   "source": [
    "### Определим для пользователей региона EU (Европа) следующие параметры:"
   ]
  },
  {
   "cell_type": "markdown",
   "metadata": {},
   "source": [
    "#### Самые популярные (топ-5) платформ в Европе:"
   ]
  },
  {
   "cell_type": "code",
   "execution_count": null,
   "metadata": {},
   "outputs": [],
   "source": [
    "platform_eu_top_5 = data_actual.groupby('platform', as_index=False)['eu_sales'].sum().nlargest(5, 'eu_sales')\n",
    "display(platform_eu_top_5)\n",
    "\n",
    "print('Среднее:')\n",
    "display(round(platform_eu_top_5['eu_sales'].mean()))\n",
    "print('Медиана:')\n",
    "display(round(platform_eu_top_5['eu_sales'].median()))\n",
    "\n",
    "plt.figure(figsize = (12,5))\n",
    "ax = sns.barplot(data=platform_eu_top_5,\n",
    "                 x='platform',\n",
    "                 y='eu_sales')\n",
    "ax.axhline(y = platform_eu_top_5['eu_sales'].mean(), color = 'r', linestyle = 'dashed', label = 'mean')\n",
    "ax.axhline(y = platform_eu_top_5['eu_sales'].median(), color = 'y', linestyle = 'dashed', label = 'median')\n",
    "plt.legend()\n",
    "plt.title('Распределение платформ в регионе \"EU\" (Европа)')\n",
    "plt.ylabel('Суммарные продажи (в млн проданных копий)');"
   ]
  },
  {
   "cell_type": "markdown",
   "metadata": {},
   "source": [
    "**Вывод**\n",
    "\n",
    "Для региона Европа две самая популярная платформа `'PS4' и 'PS3'`.\n",
    "\n",
    "На третьем месте платформа, которая располагается на медиане `'XOne' - 51.59 млн копий`.\n",
    "\n",
    "Замыкает четверку платформа `'X360'`, его значение - `42.52 млн копий`.\n",
    "\n",
    "Самая низкая по продажам `'PS' - 30.96 млн копий`."
   ]
  },
  {
   "cell_type": "markdown",
   "metadata": {},
   "source": [
    "#### Самые популярные жанры (топ-5) для `EU (Европа)`:"
   ]
  },
  {
   "cell_type": "code",
   "execution_count": null,
   "metadata": {},
   "outputs": [],
   "source": [
    "genre_eu_top_5 = data_actual.groupby('genre', as_index=False)['eu_sales'].sum().nlargest(5, 'eu_sales')\n",
    "display(genre_eu_top_5)\n",
    "\n",
    "print('Среднее:')\n",
    "display(round(genre_eu_top_5['eu_sales'].mean()))\n",
    "print('Медиана:')\n",
    "display(round(genre_eu_top_5['eu_sales'].median()))\n",
    "\n",
    "plt.figure(figsize = (12,5))\n",
    "ax = sns.barplot(data=genre_eu_top_5,\n",
    "                 x='genre',\n",
    "                 y='eu_sales')\n",
    "ax.axhline(y = genre_eu_top_5['eu_sales'].mean(), color = 'r', linestyle = 'dashed', label = 'mean')\n",
    "ax.axhline(y = genre_eu_top_5['eu_sales'].median(), color = 'y', linestyle = 'dashed', label = 'median')\n",
    "plt.legend()\n",
    "plt.title('Распределение жанров в регионе \"EU\" (Европа)')\n",
    "plt.ylabel('Суммарные продажи (в млн проданных копий)')\n",
    "plt.show()"
   ]
  },
  {
   "cell_type": "markdown",
   "metadata": {},
   "source": [
    "**Вывод**\n",
    "\n",
    "Для региона Европа самые популярные жанры: `'Action', 'Shooter' и 'Sports'`. `'Sports' 60.52 млн копий` располагается на медиане `61 млн копий`.\n",
    "\n",
    "Остальные жанры находятся ниже: `'Role-Playing', 'Racing'`."
   ]
  },
  {
   "cell_type": "markdown",
   "metadata": {},
   "source": [
    "#### Проверим, влияет ли рейтинг ESRB на продажи в `EU (Европа)`?"
   ]
  },
  {
   "cell_type": "code",
   "execution_count": null,
   "metadata": {},
   "outputs": [],
   "source": [
    "rating_eu_top_5 = data_actual.groupby('rating', as_index=False)['eu_sales'].sum().nlargest(5, 'eu_sales')\n",
    "display(rating_eu_top_5)\n",
    "\n",
    "print('Среднее:')\n",
    "display(round(rating_eu_top_5['eu_sales'].mean()))\n",
    "print('Медиана:')\n",
    "display(round(rating_eu_top_5['eu_sales'].median()))\n",
    "\n",
    "plt.figure(figsize = (12,5))\n",
    "ax = sns.barplot(data=rating_eu_top_5,\n",
    "                 x='rating',\n",
    "                 y='eu_sales')\n",
    "ax.axhline(y = rating_eu_top_5['eu_sales'].mean(), color = 'r', linestyle = 'dashed', label = 'mean')\n",
    "ax.axhline(y = rating_eu_top_5['eu_sales'].median(), color = 'y', linestyle = 'dashed', label = 'median')\n",
    "plt.legend()\n",
    "plt.title('Распределение жанров в регионе \"EU\" (Европа)')\n",
    "plt.ylabel('Суммарные продажи (в млн проданных копий)')\n",
    "plt.show()"
   ]
  },
  {
   "cell_type": "markdown",
   "metadata": {},
   "source": [
    "**Вывод**\n",
    "\n",
    "*Медиана* расположилась на значении `79 млн копий`. Следовательно, от неё можно отсчитывать 3 основные рейтинга, которые повлияли на продажи. Более всех влияют на продажи два рейтинга: `'М', 'E' и 'no_rating' 78.91 млн копий` находится прям ровно на медиане **79**.\n",
    "\n",
    "Наименьшее влияние у `'T' около 41.95 млн копий`."
   ]
  },
  {
   "cell_type": "markdown",
   "metadata": {},
   "source": [
    "<b>Вывод по EU:</b>\n",
    "1. Для региона **Европа** две самые популярные платформы `'PS4' и 'PS3'`. На третьем месте платформа, которая располагается на медиане `'XOne' - 51.59 млн копий`.\n",
    "2. Для региона Европа самые популярные жанры: `'Action', 'Shooter' и 'Sports'`. `'Sports' 60.52 млн копий` располагается на медиане `61 млн копий`.\n",
    "3.  Более всех влияют на продажи два рейтинга: `'М', 'E' и 'no_rating' 78.91 млн копий` находится прям ровно на медиане `79 млн копий`."
   ]
  },
  {
   "cell_type": "markdown",
   "metadata": {},
   "source": [
    "### Определим для пользователей региона `JP (Япония)` следующие параметры:"
   ]
  },
  {
   "cell_type": "markdown",
   "metadata": {},
   "source": [
    "#### Самые популярные (топ-5) платформ `JP (Япония)`:"
   ]
  },
  {
   "cell_type": "code",
   "execution_count": null,
   "metadata": {},
   "outputs": [],
   "source": [
    "platform_jp_top_5 = data_actual.groupby('platform', as_index=False)['jp_sales'].sum().nlargest(5, 'jp_sales')\n",
    "display(platform_jp_top_5)\n",
    "\n",
    "print('Среднее:')\n",
    "display(round(platform_jp_top_5['jp_sales'].mean()))\n",
    "print('Медиана:')\n",
    "display(round(platform_jp_top_5['jp_sales'].median()))\n",
    "\n",
    "plt.figure(figsize = (12,5))\n",
    "ax = sns.barplot(data=platform_jp_top_5,\n",
    "                 x='platform',\n",
    "                 y='jp_sales')\n",
    "ax.axhline(y = platform_jp_top_5['jp_sales'].mean(), color = 'r', linestyle = 'dashed', label = 'mean')\n",
    "ax.axhline(y = platform_jp_top_5['jp_sales'].median(), color = 'y', linestyle = 'dashed', label = 'median')\n",
    "plt.legend()\n",
    "plt.title('Распределение платформ в регионе \"JP\" (Япония)')\n",
    "plt.ylabel('Суммарные продажи (в млн проданных копий)');"
   ]
  },
  {
   "cell_type": "markdown",
   "metadata": {},
   "source": [
    "**Вывод**\n",
    "\n",
    "Для региона **Япония** три самые *популярные платформы* `'3DS', 'PS3', 'PS4'. 'PS4'` находится практически на медиане `19 млн копий` с значением `18.59 млн копий`.\n",
    "\n",
    "Самая низкая по продажам `'WiiU'`."
   ]
  },
  {
   "cell_type": "markdown",
   "metadata": {},
   "source": [
    "#### Самые популярные жанры (топ-5) для `JP (Япония)`:"
   ]
  },
  {
   "cell_type": "code",
   "execution_count": null,
   "metadata": {},
   "outputs": [],
   "source": [
    "genre_jp_top_5 = data_actual.groupby('genre', as_index=False)['jp_sales'].sum().nlargest(5, 'jp_sales')\n",
    "display(genre_jp_top_5)\n",
    "\n",
    "print('Среднее:')\n",
    "display(round(genre_jp_top_5['jp_sales'].mean()))\n",
    "print('Медиана:')\n",
    "display(round(genre_jp_top_5['jp_sales'].median()))\n",
    "\n",
    "plt.figure(figsize = (12,5))\n",
    "ax = sns.barplot(data=genre_jp_top_5,\n",
    "                 x='genre',\n",
    "                 y='jp_sales')\n",
    "ax.axhline(y = genre_jp_top_5['jp_sales'].mean(), color = 'r', linestyle = 'dashed', label = 'mean')\n",
    "ax.axhline(y = genre_jp_top_5['jp_sales'].median(), color = 'y', linestyle = 'dashed', label = 'median')\n",
    "plt.legend()\n",
    "plt.title('Распределение жанров в регионе \"JP\" (Япония)')\n",
    "plt.ylabel('Суммарные продажи (в млн проданных копий)')\n",
    "plt.show()"
   ]
  },
  {
   "cell_type": "markdown",
   "metadata": {},
   "source": [
    "**Вывод**\n",
    "\n",
    "Для региона **Япония** самые *популярные жанры*: `'Role-Playing', 'Action'` и прям на медиане находится `'Misc'` со значением `9.20 млн копий` находится практически на медиане `9 млн копий`.\n",
    "\n",
    "Самый *не популярный жанр* `'Shooter'`."
   ]
  },
  {
   "cell_type": "markdown",
   "metadata": {},
   "source": [
    "#### Проверим, влияет ли рейтинг ESRB на продажи в `JP (Япония)`?"
   ]
  },
  {
   "cell_type": "code",
   "execution_count": null,
   "metadata": {},
   "outputs": [],
   "source": [
    "rating_jp_top_5 = data_actual.groupby('rating', as_index=False)['jp_sales'].sum().nlargest(5, 'jp_sales')\n",
    "display(rating_jp_top_5)\n",
    "\n",
    "print('Среднее:')\n",
    "display(round(rating_jp_top_5['jp_sales'].mean()))\n",
    "print('Медиана:')\n",
    "display(round(rating_jp_top_5['jp_sales'].median()))\n",
    "\n",
    "plt.figure(figsize = (12,5))\n",
    "ax = sns.barplot(data=rating_jp_top_5,\n",
    "                 x='rating',\n",
    "                 y='jp_sales')\n",
    "ax.axhline(y = rating_jp_top_5['jp_sales'].mean(), color = 'r', linestyle = 'dashed', label = 'mean')\n",
    "ax.axhline(y = rating_jp_top_5['jp_sales'].median(), color = 'y', linestyle = 'dashed', label = 'median')\n",
    "plt.legend()\n",
    "plt.title('Зависимость продаж от рейтинга в \"JP\" (Япония)')\n",
    "plt.ylabel('Суммарные продажи (в млн проданных копий)')\n",
    "plt.show()"
   ]
  },
  {
   "cell_type": "markdown",
   "metadata": {},
   "source": [
    "**Вывод**\n",
    "\n",
    "Медиана расположилась на значении `15 млн копий`.  \n",
    "Следовательно, от неё можно отсчитывать 3 основные рейтинга, которые повлияли на продажи. Более всех влияют на продажи 'no_rating'. Следом 'T'. Замыкает тройку рейтинг 'E', его значение `15.14 млн копий` находится практически на медиане `15 млн копий`.\n",
    "\n",
    "Наименьшее влияние у `'E10+' около 5.89 млн копий`."
   ]
  },
  {
   "cell_type": "markdown",
   "metadata": {},
   "source": [
    "<b>Вывод по JP:</b>\n",
    "1. Три самые популярные платформы `'3DS', 'PS3', 'PS4'. 'PS4'` находится практически на медиане `19 млн копий` со значением `18.59 млн копий`.\n",
    "2. Самые популярные жанры: `'Role-Playing', 'Action'` и прям на медиане находится `'Misc'`со значением `9.20 млн копий` находится на медиане 9 (млн. копий).\n",
    "3.  Более всех влияют на продажи `'no_rating'`. Следом `'T'`. Замыкает тройку рейтинг `'E'`, его значение `15.14 млн копий` находится на медиане `15 млн копий`."
   ]
  },
  {
   "cell_type": "markdown",
   "metadata": {},
   "source": [
    "## Проверим гипотезы"
   ]
  },
  {
   "cell_type": "markdown",
   "metadata": {},
   "source": [
    "### Проверим одинаковы ли средние пользовательские рейтинги платформ Xbox One и PC"
   ]
  },
  {
   "cell_type": "markdown",
   "metadata": {},
   "source": [
    "В данном случае у нас двухсторонняя проверка гипотезы, т.е. средние пользовательские рейтинги платформ Xbox One и PC либо равны, либо не равны.\n",
    "\n",
    "Поэтому примем нулевую гипотезу `H0`: средние рейтинги по платформам равны.  \n",
    "Альтернативная же `H1`: средние рейтинги по платформам разные.\n",
    "\n",
    "Если alpha слишком мал, то нам необходимо будет отвергнуть нулевую гипотезу и принять альтернативную.  \n",
    "Примем `значение alpha` за стандартный порог `0.05%`."
   ]
  },
  {
   "cell_type": "code",
   "execution_count": 87,
   "metadata": {},
   "outputs": [
    {
     "name": "stdout",
     "output_type": "stream",
     "text": [
      "(182, 12)\n",
      "(155, 12)\n",
      "p-значение: 0.14759594013430463\n",
      "Не получилось отвергнуть нулевую гипотезу\n"
     ]
    }
   ],
   "source": [
    "# Гипотеза: средние пользовательские рейтинги платформ Xbox One и PC одинаковые.\n",
    "# H0: средние рейтинги по платформам равны\n",
    "# H1: средние рейтинги по платформам разные\n",
    "\n",
    "data_actual = data_actual.dropna(subset=['user_score'])\n",
    "\n",
    "print(data_actual[data_actual['platform'] == 'XOne'].shape)\n",
    "print(data_actual[data_actual['platform'] == 'PC'].shape)\n",
    "df_xb = data_actual[data_actual['platform'] == 'XOne']['user_score']\n",
    "df_pc = data_actual[data_actual['platform'] == 'PC']['user_score']\n",
    "\n",
    "\n",
    "alpha = .05 # критический уровень статистической значимости\n",
    "\n",
    "results = st.ttest_ind(\n",
    "    df_xb, \n",
    "    df_pc,\n",
    "    equal_var=False)\n",
    "\n",
    "print('p-значение:', results.pvalue)\n",
    "\n",
    "if results.pvalue < alpha:\n",
    "    print(\"Отвергаем нулевую гипотезу\")\n",
    "else:\n",
    "    print(\"Не получилось отвергнуть нулевую гипотезу\") "
   ]
  },
  {
   "cell_type": "markdown",
   "metadata": {},
   "source": [
    "**Вывод**\n",
    "    \n",
    "p-значение: `0.14759594013430463`, что *существенно больше `alpha = 0.05`*.\n",
    "\n",
    "Из этого можно сделать вывод, что данные **не противоречат** нулевой гипотезе: средние рейтинги по платформам равны. Поэтому мы её не отвергаем."
   ]
  },
  {
   "cell_type": "markdown",
   "metadata": {},
   "source": [
    "### Проверим, что cредние пользовательские рейтинги жанров Action и Sports разные"
   ]
  },
  {
   "cell_type": "markdown",
   "metadata": {},
   "source": [
    "В данном случае у нас двухсторонняя проверка гипотезы, т.е. cредние пользовательские рейтинги жанров Action и Sports либо равны, либо не равны.\n",
    "\n",
    "Примем нулевую гипотезу `H0`: средние рейтинги по платформам равны.  \n",
    "Альтернативная же `H1`: средние рейтинги по платформам разные.\n",
    "\n",
    "Если alpha слишком мал, то нам необходимо будет отвергнуть нулевую гипотезу и принять альтернативную.  \n",
    "Примем `значение alpha` за стандартный порог `0.05%`."
   ]
  },
  {
   "cell_type": "code",
   "execution_count": null,
   "metadata": {
    "scrolled": true
   },
   "outputs": [],
   "source": [
    "# Гипотеза: средние пользовательские рейтинги жанров одинаковые.\n",
    "# H0: средние рейтинги по платформам равны\n",
    "# H1: средние рейтинги по платформам разные\n",
    "\n",
    "data_actual = data_actual.query('user_score.notna()')\n",
    "print(data_actual[data_actual['genre'] == 'Action'].shape)\n",
    "print(data_actual[data_actual['genre'] == 'Sports'].shape)\n",
    "df_action = data_actual[data_actual['genre'] == 'Action']['user_score']\n",
    "df_sports = data_actual[data_actual['genre'] == 'Sports']['user_score']\n",
    "\n",
    "\n",
    "alpha = .05 # критический уровень статистической значимости\n",
    "\n",
    "results = st.ttest_ind(\n",
    "    df_action, \n",
    "    df_sports,\n",
    "    equal_var=False)\n",
    "\n",
    "print('p-значение:', results.pvalue)\n",
    "\n",
    "if results.pvalue < alpha:\n",
    "    print(\"Отвергаем нулевую гипотезу\")\n",
    "else:\n",
    "    print(\"Не получилось отвергнуть нулевую гипотезу\") "
   ]
  },
  {
   "cell_type": "markdown",
   "metadata": {},
   "source": [
    "**Вывод:**\n",
    "p-значение: `1.4460039700704315e-20`, что *существенно меньше `alpha = 0.05`*.\n",
    "\n",
    "Отвергаем нулевую гипотезу.\n",
    "\n",
    "Мы получили очень низкое значение *p-value*, равное `1.446e-20`.\n",
    "\n",
    "Это значит, что мы имеем основание отбросить нулевую гипотезу и принять альтернативную: пользовательские рейтинги жанров Action и Sports *имеют статистически значимые различия*."
   ]
  },
  {
   "cell_type": "markdown",
   "metadata": {},
   "source": [
    "## Общий вывод"
   ]
  },
  {
   "cell_type": "markdown",
   "metadata": {},
   "source": [
    "**Вывод:**\n",
    "    \n",
    "Итак, нами был рассмотрен датафрейм интернет-магазина «Стримчик», который продаёт по всему миру компьютерные игры. Были собраны данные до декабря 2016 г. и проведен анализ.\n",
    "\n",
    "Для начала был проведен первичный осмотр данных: из каких столбцов состоит датафрейм, какие столбцы числовые, булевые и текстовые. Оценены типы столбцов и заполнены пропуски. Посчитаны суммарные продажи в каждом столбце и записаны в новый столбец.\n",
    "\n",
    "Далее построили кол-во игр, выпущенных по годам. Графики представляют из себя распределения Пуассона, скошенные влево.\n",
    "\n",
    "Далее отобрали топ-10 платформ по суммарным продажам.\n",
    "Судя из графика, можно сделать вывод, что платформами, существующие в 2016 году стали: `'PS4', 'PS3', '3DS', 'X360', 'Wii'`. `Актуальный период получился с 2013 по 2016 гг`.\n",
    "\n",
    "Далее определили лидера по продажам в актуальном периоде с 2013-2016 гг., им стала `'PS4'`. Продажи этой платформы сильно превышают продажи за предыдущий 2013 г. и она имеет наибольший объём продаж в 2016 г. На втором месте `'XOne'`, её продажи в 2014 уменьшились по сравнению с 2013 годом, но в случае `'PS3'` её продажи в 2014 уменьшились в 2.4 раза по сравнению с 2013 годом. Сильно заметно, как уменьшились продажи `'PS3'` в 2.4 раза с 2013 на 2014 год. Это можно объяснить появлением `'PS4'`. С 2013 г. она перехватывала инициативу у `'PS3'`, если в 2013 у `'PS4'` гораздо меньше `'PS3'`, то в 2014 отрывается более чем в 2 раза по сравнению с `'PS3'`.\n",
    "Другие же платформы сильно уступают платформе `'PS3' и 'PS4'`. У `'X360'` большие продажи  были в 2013 г., дальше они шли только на спад. Вторым заметным конкурентом, который разделит часть рынка с `'PS4'` можно выделить `'XOne'`.\n",
    "\n",
    "Построили график «ящик с усами» по глобальным продажам игр в разбивке по платформам. Тройку лидеров определили по медиане. Самая высокая медиана и верхний квартиль у `'X360'`. Следом идут `'PS4'`, `'Wii'` и `'XOne'`. Их медианы, примерно, на одном уровне. Верхний квартиль превышает `'X360'` у `'PS3'`. Аутсайдерами же в отчетном периоде оказались: `'PSV' и 'PSP'`.\n",
    "\n",
    "Рассмотрели, как влияют на продажи внутри одной популярной платформы отзывы пользователей и критиков и сравнили с продажами игр на других платформах. В целом коэффициенты корреляций относительно невысокие. Коэффициенты корреляции отн-о критиков выше, чем коэф. корреляции для пользователей. Из чего можно сделать вывод, что присутствует некоторая корреляция между суммарными продажами и оценкой критиков. А в случае между суммарными продажами и оценкой пользователей корреляции нет, если она и есть, то очень не большая.\n",
    "\n",
    "Рассмотрели общее распределение игр по жанрам. Самый высокий верхний квартиль и медиана у `'Shooter'`. Следом идут `'Sports' и 'Platform'` их медианы и верхние квартили, примерно, на одном уровне.\n",
    " Самые же малочисленные жанры: `'Strategy', 'Adventure', 'Puzzle'`, по мере убывания кол-ва проданных копий.\n",
    "\n",
    "Рассмотрели портрет пользователей по каждому региону: `Северная Америка, Европа, Япония`.\n",
    "    \n",
    "`SA`\n",
    "    \n",
    "1. Для региона Северной Америки две самые популярные конкурирующие платформы, которые выше медианы `'PS4'` и `'XOne'`. Прям на медиане располагается `'X360'` 82 (млн. копий).\n",
    "2. Для региона Северной Америки самые популярные жанры: `'Action'`, `'Shooter'`. Прям на медиане располагается `'Sports'` 65.27.\n",
    "3. Более всех влияют на продажи два рейтинга: `'M', 'no_rating' и 'E'` (располагается прямо на медиане). Замыкает четвёрку рейтинг `'E10+'`.\n",
    "    \n",
    "`EU`\n",
    "    \n",
    "1. Для региона Европа две самые популярные платформы `'PS4' и 'PS3'`. На третьем месте платформа, которая располагается на медиане `'XOne'` - 51.59 (млн. копий).\n",
    "2. Для региона Европа самые популярные жанры: `'Action', 'Shooter' и 'Sports'`. `'Sports'` 60.52 (млн. копий) располагается на медиане 61 (млн. копий).\n",
    "3.  Более всех влияют на продажи два рейтинга: `'М', 'E' и 'no_rating'` 78.91 (млн копий) находится прям ровно на медиане 79.\n",
    "    \n",
    "`JP`\n",
    "    \n",
    "1. Для региона Япония три самые популярные платформы `'3DS', 'PS3', 'PS4'`. `'PS4'` находится на медиане 19 (млн копий) с значением 18.59 (млн копий).\n",
    "2. Для региона Япония самые популярные жанры: `'Role-Playing', 'Action'` и прям на медиане находится `'Misc'` со значением 9.20 (млн. копий) на медиане 9 (млн. копий).\n",
    "3.  Более всех влияют на продажи `'no_rating'`. Следом `'T'`. Замыкает тройку рейтинг `'E'`, его значение 15.14 (млн копий) находится на медиане 15 (млн копий).\n",
    "\n",
    "Проверили гипотезы о равенстве средних пользовательский рейтинга платформ `Xbox One` и `PC`.  \n",
    "Было получено p-значение: `0.14759594013430463`, что существенно больше *`alpha=0.05`*. Из этого можно сделать вывод, что данные *не противоречат* нулевой гипотезе: средние рейтинги по платформам равны, поэтому мы её не отвергаем.\n",
    "\n",
    "Проверили гипотезу, что пользовательские рейтинги жанров `Action и Sports` различаются.  \n",
    "После проверки с точностью *`alpha=0.05`* мы получили очень низкое значение p-value, равное `1.446e-20`. Это значит, что мы имеем основание отбросить нулевую гипотезу и принять альтернативную: пользовательские рейтинги жанров Action и Sports *имеют статистически значимые различия*."
   ]
  }
 ],
 "metadata": {
  "ExecuteTimeLog": [
   {
    "duration": 444,
    "start_time": "2022-11-14T19:00:07.816Z"
   },
   {
    "duration": 97,
    "start_time": "2022-11-14T19:00:32.584Z"
   },
   {
    "duration": 2,
    "start_time": "2022-11-14T19:01:18.942Z"
   },
   {
    "duration": 24,
    "start_time": "2022-11-14T19:02:48.739Z"
   },
   {
    "duration": 1444,
    "start_time": "2022-11-14T19:04:33.096Z"
   },
   {
    "duration": 1436,
    "start_time": "2022-11-14T19:04:38.956Z"
   },
   {
    "duration": 37,
    "start_time": "2022-11-14T19:04:51.779Z"
   },
   {
    "duration": 895,
    "start_time": "2022-11-14T19:04:56.582Z"
   },
   {
    "duration": 1326,
    "start_time": "2022-11-14T19:05:20.701Z"
   },
   {
    "duration": 50,
    "start_time": "2022-11-14T21:15:19.621Z"
   },
   {
    "duration": 464,
    "start_time": "2022-11-14T21:15:28.161Z"
   },
   {
    "duration": 95,
    "start_time": "2022-11-14T21:15:28.627Z"
   },
   {
    "duration": 40,
    "start_time": "2022-11-14T21:15:28.724Z"
   },
   {
    "duration": 1649,
    "start_time": "2022-11-14T21:15:28.767Z"
   },
   {
    "duration": 85,
    "start_time": "2022-11-14T21:15:30.419Z"
   },
   {
    "duration": 0,
    "start_time": "2022-11-14T21:15:30.506Z"
   },
   {
    "duration": 3,
    "start_time": "2022-11-14T21:15:38.572Z"
   },
   {
    "duration": 8,
    "start_time": "2022-11-14T21:15:40.278Z"
   },
   {
    "duration": 4,
    "start_time": "2022-11-14T21:16:33.393Z"
   },
   {
    "duration": 15,
    "start_time": "2022-11-14T21:16:39.574Z"
   },
   {
    "duration": 62,
    "start_time": "2022-11-15T17:20:46.998Z"
   },
   {
    "duration": 358,
    "start_time": "2022-11-15T17:21:00.673Z"
   },
   {
    "duration": 112,
    "start_time": "2022-11-15T17:21:01.033Z"
   },
   {
    "duration": 38,
    "start_time": "2022-11-15T17:21:01.147Z"
   },
   {
    "duration": 1223,
    "start_time": "2022-11-15T17:21:01.187Z"
   },
   {
    "duration": 5,
    "start_time": "2022-11-15T17:21:02.412Z"
   },
   {
    "duration": 31,
    "start_time": "2022-11-15T17:21:02.419Z"
   },
   {
    "duration": 10,
    "start_time": "2022-11-15T17:21:38.851Z"
   },
   {
    "duration": 160,
    "start_time": "2022-11-15T17:21:57.621Z"
   },
   {
    "duration": 5,
    "start_time": "2022-11-15T17:23:05.563Z"
   },
   {
    "duration": 153,
    "start_time": "2022-11-15T17:23:08.226Z"
   },
   {
    "duration": 1415,
    "start_time": "2022-11-15T17:28:25.874Z"
   },
   {
    "duration": 15,
    "start_time": "2022-11-15T17:29:05.869Z"
   },
   {
    "duration": 13,
    "start_time": "2022-11-15T17:32:15.223Z"
   },
   {
    "duration": 13,
    "start_time": "2022-11-15T17:35:00.875Z"
   },
   {
    "duration": 10,
    "start_time": "2022-11-15T18:02:00.851Z"
   },
   {
    "duration": 6,
    "start_time": "2022-11-15T18:05:51.809Z"
   },
   {
    "duration": 4,
    "start_time": "2022-11-15T18:05:58.339Z"
   },
   {
    "duration": 14,
    "start_time": "2022-11-15T18:06:04.338Z"
   },
   {
    "duration": 7,
    "start_time": "2022-11-15T18:06:13.737Z"
   },
   {
    "duration": 2,
    "start_time": "2022-11-15T18:15:14.626Z"
   },
   {
    "duration": 374,
    "start_time": "2022-11-15T18:15:19.646Z"
   },
   {
    "duration": 47,
    "start_time": "2022-11-15T18:15:20.021Z"
   },
   {
    "duration": 29,
    "start_time": "2022-11-15T18:15:20.070Z"
   },
   {
    "duration": 1185,
    "start_time": "2022-11-15T18:15:20.100Z"
   },
   {
    "duration": 4,
    "start_time": "2022-11-15T18:15:21.286Z"
   },
   {
    "duration": 18,
    "start_time": "2022-11-15T18:15:21.291Z"
   },
   {
    "duration": 75,
    "start_time": "2022-11-15T18:15:21.310Z"
   },
   {
    "duration": 0,
    "start_time": "2022-11-15T18:15:21.386Z"
   },
   {
    "duration": 0,
    "start_time": "2022-11-15T18:15:21.388Z"
   },
   {
    "duration": 0,
    "start_time": "2022-11-15T18:15:21.389Z"
   },
   {
    "duration": 13,
    "start_time": "2022-11-15T18:15:40.700Z"
   },
   {
    "duration": 8,
    "start_time": "2022-11-15T18:15:58.899Z"
   },
   {
    "duration": 6,
    "start_time": "2022-11-15T18:18:39.300Z"
   },
   {
    "duration": 4,
    "start_time": "2022-11-15T18:18:41.432Z"
   },
   {
    "duration": 157,
    "start_time": "2022-11-15T18:18:43.107Z"
   },
   {
    "duration": 9,
    "start_time": "2022-11-15T18:19:13.084Z"
   },
   {
    "duration": 14,
    "start_time": "2022-11-15T18:19:18.388Z"
   },
   {
    "duration": 419,
    "start_time": "2022-11-15T18:19:23.143Z"
   },
   {
    "duration": 48,
    "start_time": "2022-11-15T18:19:23.565Z"
   },
   {
    "duration": 34,
    "start_time": "2022-11-15T18:19:23.614Z"
   },
   {
    "duration": 1245,
    "start_time": "2022-11-15T18:19:23.651Z"
   },
   {
    "duration": 4,
    "start_time": "2022-11-15T18:19:24.897Z"
   },
   {
    "duration": 11,
    "start_time": "2022-11-15T18:19:24.902Z"
   },
   {
    "duration": 12,
    "start_time": "2022-11-15T18:19:24.915Z"
   },
   {
    "duration": 31,
    "start_time": "2022-11-15T18:19:24.928Z"
   },
   {
    "duration": 11,
    "start_time": "2022-11-15T18:19:24.962Z"
   },
   {
    "duration": 4,
    "start_time": "2022-11-15T18:19:24.976Z"
   },
   {
    "duration": 158,
    "start_time": "2022-11-15T18:19:24.981Z"
   },
   {
    "duration": 12,
    "start_time": "2022-11-15T18:24:12.516Z"
   },
   {
    "duration": 16,
    "start_time": "2022-11-15T18:24:45.885Z"
   },
   {
    "duration": 4,
    "start_time": "2022-11-15T18:25:01.708Z"
   },
   {
    "duration": 11,
    "start_time": "2022-11-15T18:25:19.267Z"
   },
   {
    "duration": 7,
    "start_time": "2022-11-15T18:25:39.368Z"
   },
   {
    "duration": 7,
    "start_time": "2022-11-15T18:25:59.921Z"
   },
   {
    "duration": 6,
    "start_time": "2022-11-15T18:26:05.863Z"
   },
   {
    "duration": 6,
    "start_time": "2022-11-15T18:26:12.871Z"
   },
   {
    "duration": 6,
    "start_time": "2022-11-15T18:26:18.687Z"
   },
   {
    "duration": 9,
    "start_time": "2022-11-15T18:26:32.365Z"
   },
   {
    "duration": 18,
    "start_time": "2022-11-15T18:27:47.748Z"
   },
   {
    "duration": 77,
    "start_time": "2022-11-15T18:28:23.230Z"
   },
   {
    "duration": 1224,
    "start_time": "2022-11-15T18:28:27.420Z"
   },
   {
    "duration": 10,
    "start_time": "2022-11-15T18:28:36.957Z"
   },
   {
    "duration": 15,
    "start_time": "2022-11-15T18:28:47.050Z"
   },
   {
    "duration": 14,
    "start_time": "2022-11-15T18:40:19.068Z"
   },
   {
    "duration": 11,
    "start_time": "2022-11-15T18:44:55.273Z"
   },
   {
    "duration": 10,
    "start_time": "2022-11-15T18:44:58.740Z"
   },
   {
    "duration": 3,
    "start_time": "2022-11-15T18:45:41.356Z"
   },
   {
    "duration": 11,
    "start_time": "2022-11-15T18:46:35.140Z"
   },
   {
    "duration": 12,
    "start_time": "2022-11-15T18:47:58.371Z"
   },
   {
    "duration": 5,
    "start_time": "2022-11-15T18:55:19.076Z"
   },
   {
    "duration": 16,
    "start_time": "2022-11-15T19:21:56.259Z"
   },
   {
    "duration": 14,
    "start_time": "2022-11-15T19:22:10.582Z"
   },
   {
    "duration": 329,
    "start_time": "2022-11-15T19:22:17.289Z"
   },
   {
    "duration": 44,
    "start_time": "2022-11-15T19:22:17.620Z"
   },
   {
    "duration": 26,
    "start_time": "2022-11-15T19:22:17.666Z"
   },
   {
    "duration": 1112,
    "start_time": "2022-11-15T19:22:17.694Z"
   },
   {
    "duration": 3,
    "start_time": "2022-11-15T19:22:18.808Z"
   },
   {
    "duration": 14,
    "start_time": "2022-11-15T19:22:18.813Z"
   },
   {
    "duration": 10,
    "start_time": "2022-11-15T19:22:18.828Z"
   },
   {
    "duration": 21,
    "start_time": "2022-11-15T19:22:18.840Z"
   },
   {
    "duration": 12,
    "start_time": "2022-11-15T19:22:18.862Z"
   },
   {
    "duration": 3,
    "start_time": "2022-11-15T19:22:18.876Z"
   },
   {
    "duration": 11,
    "start_time": "2022-11-15T19:22:18.880Z"
   },
   {
    "duration": 7,
    "start_time": "2022-11-15T19:22:18.892Z"
   },
   {
    "duration": 201,
    "start_time": "2022-11-15T19:22:18.900Z"
   },
   {
    "duration": 1301,
    "start_time": "2022-11-15T19:24:26.216Z"
   },
   {
    "duration": 6,
    "start_time": "2022-11-15T19:24:32.871Z"
   },
   {
    "duration": 4,
    "start_time": "2022-11-15T19:27:51.538Z"
   },
   {
    "duration": 145,
    "start_time": "2022-11-15T19:27:57.272Z"
   },
   {
    "duration": 4,
    "start_time": "2022-11-15T19:28:05.020Z"
   },
   {
    "duration": 144,
    "start_time": "2022-11-15T19:28:05.625Z"
   },
   {
    "duration": 4,
    "start_time": "2022-11-15T19:28:21.762Z"
   },
   {
    "duration": 5,
    "start_time": "2022-11-15T19:28:27.462Z"
   },
   {
    "duration": 146,
    "start_time": "2022-11-15T19:28:28.697Z"
   },
   {
    "duration": 4,
    "start_time": "2022-11-15T19:28:36.462Z"
   },
   {
    "duration": 147,
    "start_time": "2022-11-15T19:28:36.940Z"
   },
   {
    "duration": 48,
    "start_time": "2022-11-16T16:54:25.884Z"
   },
   {
    "duration": 344,
    "start_time": "2022-11-16T16:54:31.548Z"
   },
   {
    "duration": 196,
    "start_time": "2022-11-16T16:54:31.895Z"
   },
   {
    "duration": 33,
    "start_time": "2022-11-16T16:54:32.092Z"
   },
   {
    "duration": 1441,
    "start_time": "2022-11-16T16:54:32.126Z"
   },
   {
    "duration": 4,
    "start_time": "2022-11-16T16:54:33.570Z"
   },
   {
    "duration": 24,
    "start_time": "2022-11-16T16:54:33.576Z"
   },
   {
    "duration": 9,
    "start_time": "2022-11-16T16:54:33.602Z"
   },
   {
    "duration": 6,
    "start_time": "2022-11-16T16:54:33.613Z"
   },
   {
    "duration": 12,
    "start_time": "2022-11-16T16:54:33.621Z"
   },
   {
    "duration": 13,
    "start_time": "2022-11-16T16:54:33.635Z"
   },
   {
    "duration": 3,
    "start_time": "2022-11-16T16:54:33.650Z"
   },
   {
    "duration": 13,
    "start_time": "2022-11-16T16:54:33.655Z"
   },
   {
    "duration": 4,
    "start_time": "2022-11-16T16:54:33.697Z"
   },
   {
    "duration": 178,
    "start_time": "2022-11-16T16:54:33.703Z"
   },
   {
    "duration": 423,
    "start_time": "2022-11-16T16:57:18.400Z"
   },
   {
    "duration": 735,
    "start_time": "2022-11-16T16:57:32.786Z"
   },
   {
    "duration": 726,
    "start_time": "2022-11-16T16:57:45.852Z"
   },
   {
    "duration": 44,
    "start_time": "2022-11-16T16:58:00.994Z"
   },
   {
    "duration": 1531,
    "start_time": "2022-11-16T16:58:11.912Z"
   },
   {
    "duration": 711,
    "start_time": "2022-11-16T16:58:16.406Z"
   },
   {
    "duration": 23,
    "start_time": "2022-11-16T16:58:19.546Z"
   },
   {
    "duration": 1195,
    "start_time": "2022-11-16T16:59:07.085Z"
   },
   {
    "duration": 15,
    "start_time": "2022-11-16T17:04:15.072Z"
   },
   {
    "duration": 31,
    "start_time": "2022-11-16T17:06:01.225Z"
   },
   {
    "duration": 107,
    "start_time": "2022-11-16T17:06:13.362Z"
   },
   {
    "duration": 431,
    "start_time": "2022-11-16T17:06:46.184Z"
   },
   {
    "duration": 52,
    "start_time": "2022-11-16T17:06:46.617Z"
   },
   {
    "duration": 34,
    "start_time": "2022-11-16T17:06:46.670Z"
   },
   {
    "duration": 21,
    "start_time": "2022-11-16T17:06:46.705Z"
   },
   {
    "duration": 1304,
    "start_time": "2022-11-16T17:06:46.728Z"
   },
   {
    "duration": 4,
    "start_time": "2022-11-16T17:06:48.033Z"
   },
   {
    "duration": 36,
    "start_time": "2022-11-16T17:06:48.039Z"
   },
   {
    "duration": 20,
    "start_time": "2022-11-16T17:06:48.077Z"
   },
   {
    "duration": 26,
    "start_time": "2022-11-16T17:06:48.098Z"
   },
   {
    "duration": 22,
    "start_time": "2022-11-16T17:06:48.127Z"
   },
   {
    "duration": 33,
    "start_time": "2022-11-16T17:06:48.151Z"
   },
   {
    "duration": 19,
    "start_time": "2022-11-16T17:06:48.185Z"
   },
   {
    "duration": 30,
    "start_time": "2022-11-16T17:06:48.205Z"
   },
   {
    "duration": 36,
    "start_time": "2022-11-16T17:06:48.236Z"
   },
   {
    "duration": 105,
    "start_time": "2022-11-16T17:06:48.274Z"
   },
   {
    "duration": 0,
    "start_time": "2022-11-16T17:06:48.381Z"
   },
   {
    "duration": 0,
    "start_time": "2022-11-16T17:06:48.382Z"
   },
   {
    "duration": 10,
    "start_time": "2022-11-16T17:09:58.587Z"
   },
   {
    "duration": 10,
    "start_time": "2022-11-16T17:10:14.848Z"
   },
   {
    "duration": 28,
    "start_time": "2022-11-16T17:10:25.391Z"
   },
   {
    "duration": 12,
    "start_time": "2022-11-16T17:10:40.343Z"
   },
   {
    "duration": 23,
    "start_time": "2022-11-16T17:10:50.296Z"
   },
   {
    "duration": 4,
    "start_time": "2022-11-16T17:11:17.482Z"
   },
   {
    "duration": 172,
    "start_time": "2022-11-16T17:11:18.288Z"
   },
   {
    "duration": 17,
    "start_time": "2022-11-16T17:15:17.484Z"
   },
   {
    "duration": 12,
    "start_time": "2022-11-16T17:16:10.883Z"
   },
   {
    "duration": 11,
    "start_time": "2022-11-16T17:16:26.208Z"
   },
   {
    "duration": 10,
    "start_time": "2022-11-16T17:16:29.299Z"
   },
   {
    "duration": 11,
    "start_time": "2022-11-16T17:20:39.744Z"
   },
   {
    "duration": 11,
    "start_time": "2022-11-16T17:20:44.698Z"
   },
   {
    "duration": 9,
    "start_time": "2022-11-16T17:50:52.146Z"
   },
   {
    "duration": 279,
    "start_time": "2022-11-16T17:51:31.381Z"
   },
   {
    "duration": 301,
    "start_time": "2022-11-16T17:51:45.469Z"
   },
   {
    "duration": 310,
    "start_time": "2022-11-16T17:51:55.147Z"
   },
   {
    "duration": 384,
    "start_time": "2022-11-16T17:53:24.600Z"
   },
   {
    "duration": 288,
    "start_time": "2022-11-16T17:53:42.660Z"
   },
   {
    "duration": 302,
    "start_time": "2022-11-16T17:53:57.703Z"
   },
   {
    "duration": 30,
    "start_time": "2022-11-16T17:55:56.180Z"
   },
   {
    "duration": 323,
    "start_time": "2022-11-16T17:56:06.554Z"
   },
   {
    "duration": 384,
    "start_time": "2022-11-16T17:56:12.593Z"
   },
   {
    "duration": 293,
    "start_time": "2022-11-16T17:56:22.014Z"
   },
   {
    "duration": 274,
    "start_time": "2022-11-16T17:56:39.281Z"
   },
   {
    "duration": 278,
    "start_time": "2022-11-16T17:56:48.367Z"
   },
   {
    "duration": 381,
    "start_time": "2022-11-16T17:57:02.306Z"
   },
   {
    "duration": 304,
    "start_time": "2022-11-16T17:57:09.769Z"
   },
   {
    "duration": 277,
    "start_time": "2022-11-16T17:57:21.481Z"
   },
   {
    "duration": 306,
    "start_time": "2022-11-16T17:57:36.975Z"
   },
   {
    "duration": 1310,
    "start_time": "2022-11-16T19:48:12.239Z"
   },
   {
    "duration": 403,
    "start_time": "2022-11-16T19:48:35.311Z"
   },
   {
    "duration": 52,
    "start_time": "2022-11-16T19:48:35.716Z"
   },
   {
    "duration": 34,
    "start_time": "2022-11-16T19:48:35.769Z"
   },
   {
    "duration": 21,
    "start_time": "2022-11-16T19:48:35.805Z"
   },
   {
    "duration": 1373,
    "start_time": "2022-11-16T19:48:35.828Z"
   },
   {
    "duration": 4,
    "start_time": "2022-11-16T19:48:37.203Z"
   },
   {
    "duration": 27,
    "start_time": "2022-11-16T19:48:37.209Z"
   },
   {
    "duration": 20,
    "start_time": "2022-11-16T19:48:37.238Z"
   },
   {
    "duration": 25,
    "start_time": "2022-11-16T19:48:37.260Z"
   },
   {
    "duration": 19,
    "start_time": "2022-11-16T19:48:37.288Z"
   },
   {
    "duration": 36,
    "start_time": "2022-11-16T19:48:37.309Z"
   },
   {
    "duration": 4,
    "start_time": "2022-11-16T19:48:37.346Z"
   },
   {
    "duration": 31,
    "start_time": "2022-11-16T19:48:37.351Z"
   },
   {
    "duration": 26,
    "start_time": "2022-11-16T19:48:37.384Z"
   },
   {
    "duration": 26,
    "start_time": "2022-11-16T19:48:37.412Z"
   },
   {
    "duration": 10,
    "start_time": "2022-11-16T19:48:37.440Z"
   },
   {
    "duration": 10,
    "start_time": "2022-11-16T19:48:37.451Z"
   },
   {
    "duration": 180,
    "start_time": "2022-11-16T19:48:37.462Z"
   },
   {
    "duration": 298,
    "start_time": "2022-11-16T19:48:37.644Z"
   },
   {
    "duration": 312,
    "start_time": "2022-11-16T19:48:37.944Z"
   },
   {
    "duration": 326,
    "start_time": "2022-11-16T19:48:38.258Z"
   },
   {
    "duration": 395,
    "start_time": "2022-11-16T19:48:38.585Z"
   },
   {
    "duration": 25,
    "start_time": "2022-11-16T19:48:38.982Z"
   },
   {
    "duration": 329,
    "start_time": "2022-11-16T19:48:39.009Z"
   },
   {
    "duration": 329,
    "start_time": "2022-11-16T19:48:39.339Z"
   },
   {
    "duration": 304,
    "start_time": "2022-11-16T19:48:39.669Z"
   },
   {
    "duration": 410,
    "start_time": "2022-11-16T19:48:39.975Z"
   },
   {
    "duration": 22,
    "start_time": "2022-11-16T19:49:20.793Z"
   },
   {
    "duration": 374,
    "start_time": "2022-11-16T19:49:36.316Z"
   },
   {
    "duration": 284,
    "start_time": "2022-11-16T19:49:43.138Z"
   },
   {
    "duration": 279,
    "start_time": "2022-11-16T19:49:51.235Z"
   },
   {
    "duration": 374,
    "start_time": "2022-11-16T19:49:55.642Z"
   },
   {
    "duration": 15,
    "start_time": "2022-11-16T19:50:14.460Z"
   },
   {
    "duration": 310,
    "start_time": "2022-11-16T19:50:17.602Z"
   },
   {
    "duration": 403,
    "start_time": "2022-11-16T19:50:26.963Z"
   },
   {
    "duration": 52,
    "start_time": "2022-11-16T19:50:27.368Z"
   },
   {
    "duration": 34,
    "start_time": "2022-11-16T19:50:27.421Z"
   },
   {
    "duration": 20,
    "start_time": "2022-11-16T19:50:27.457Z"
   },
   {
    "duration": 1362,
    "start_time": "2022-11-16T19:50:27.497Z"
   },
   {
    "duration": 4,
    "start_time": "2022-11-16T19:50:28.861Z"
   },
   {
    "duration": 12,
    "start_time": "2022-11-16T19:50:28.867Z"
   },
   {
    "duration": 24,
    "start_time": "2022-11-16T19:50:28.881Z"
   },
   {
    "duration": 5,
    "start_time": "2022-11-16T19:50:28.907Z"
   },
   {
    "duration": 13,
    "start_time": "2022-11-16T19:50:28.915Z"
   },
   {
    "duration": 14,
    "start_time": "2022-11-16T19:50:28.930Z"
   },
   {
    "duration": 4,
    "start_time": "2022-11-16T19:50:28.946Z"
   },
   {
    "duration": 53,
    "start_time": "2022-11-16T19:50:28.951Z"
   },
   {
    "duration": 10,
    "start_time": "2022-11-16T19:50:29.006Z"
   },
   {
    "duration": 20,
    "start_time": "2022-11-16T19:50:29.017Z"
   },
   {
    "duration": 10,
    "start_time": "2022-11-16T19:50:29.039Z"
   },
   {
    "duration": 4,
    "start_time": "2022-11-16T19:50:29.051Z"
   },
   {
    "duration": 222,
    "start_time": "2022-11-16T19:50:29.056Z"
   },
   {
    "duration": 309,
    "start_time": "2022-11-16T19:50:29.280Z"
   },
   {
    "duration": 331,
    "start_time": "2022-11-16T19:50:29.595Z"
   },
   {
    "duration": 331,
    "start_time": "2022-11-16T19:50:29.933Z"
   },
   {
    "duration": 438,
    "start_time": "2022-11-16T19:50:30.266Z"
   },
   {
    "duration": 21,
    "start_time": "2022-11-16T19:50:30.707Z"
   },
   {
    "duration": 322,
    "start_time": "2022-11-16T19:50:30.730Z"
   },
   {
    "duration": 317,
    "start_time": "2022-11-16T19:50:31.054Z"
   },
   {
    "duration": 364,
    "start_time": "2022-11-16T19:50:31.373Z"
   },
   {
    "duration": 895,
    "start_time": "2022-11-16T19:50:31.740Z"
   },
   {
    "duration": 63,
    "start_time": "2022-11-16T20:06:54.961Z"
   },
   {
    "duration": 22,
    "start_time": "2022-11-16T20:07:45.830Z"
   },
   {
    "duration": 5,
    "start_time": "2022-11-16T20:08:28.789Z"
   },
   {
    "duration": 23,
    "start_time": "2022-11-16T20:08:35.015Z"
   },
   {
    "duration": 6,
    "start_time": "2022-11-16T20:08:50.518Z"
   },
   {
    "duration": 21,
    "start_time": "2022-11-16T20:08:51.169Z"
   },
   {
    "duration": 12,
    "start_time": "2022-11-16T20:29:06.381Z"
   },
   {
    "duration": 12,
    "start_time": "2022-11-16T20:30:54.042Z"
   },
   {
    "duration": 38,
    "start_time": "2022-11-16T20:31:37.543Z"
   },
   {
    "duration": 11,
    "start_time": "2022-11-16T20:31:55.784Z"
   },
   {
    "duration": 4,
    "start_time": "2022-11-16T20:32:43.933Z"
   },
   {
    "duration": 6,
    "start_time": "2022-11-16T20:32:47.453Z"
   },
   {
    "duration": 7,
    "start_time": "2022-11-16T20:32:54.650Z"
   },
   {
    "duration": 94,
    "start_time": "2022-11-16T20:36:05.971Z"
   },
   {
    "duration": 151,
    "start_time": "2022-11-16T20:37:04.206Z"
   },
   {
    "duration": 144,
    "start_time": "2022-11-16T20:37:16.569Z"
   },
   {
    "duration": 191,
    "start_time": "2022-11-16T20:37:23.717Z"
   },
   {
    "duration": 333,
    "start_time": "2022-11-16T20:37:55.529Z"
   },
   {
    "duration": 196,
    "start_time": "2022-11-16T20:48:19.532Z"
   },
   {
    "duration": 481,
    "start_time": "2022-11-16T20:48:37.329Z"
   },
   {
    "duration": 398,
    "start_time": "2022-11-16T20:48:46.475Z"
   },
   {
    "duration": 340,
    "start_time": "2022-11-16T20:50:25.039Z"
   },
   {
    "duration": 380,
    "start_time": "2022-11-16T20:50:35.679Z"
   },
   {
    "duration": 321,
    "start_time": "2022-11-16T20:51:08.187Z"
   },
   {
    "duration": 296,
    "start_time": "2022-11-16T20:56:14.398Z"
   },
   {
    "duration": 389,
    "start_time": "2022-11-16T20:56:23.218Z"
   },
   {
    "duration": 303,
    "start_time": "2022-11-16T20:56:52.054Z"
   },
   {
    "duration": 304,
    "start_time": "2022-11-16T20:59:37.954Z"
   },
   {
    "duration": 298,
    "start_time": "2022-11-16T21:00:21.069Z"
   },
   {
    "duration": 284,
    "start_time": "2022-11-16T21:00:29.524Z"
   },
   {
    "duration": 5,
    "start_time": "2022-11-16T21:04:11.978Z"
   },
   {
    "duration": 269,
    "start_time": "2022-11-16T21:04:46.103Z"
   },
   {
    "duration": 10,
    "start_time": "2022-11-16T21:05:22.130Z"
   },
   {
    "duration": 223,
    "start_time": "2022-11-16T21:05:39.437Z"
   },
   {
    "duration": 11,
    "start_time": "2022-11-16T21:07:12.040Z"
   },
   {
    "duration": 316,
    "start_time": "2022-11-16T21:07:47.058Z"
   },
   {
    "duration": 222,
    "start_time": "2022-11-16T21:07:53.954Z"
   },
   {
    "duration": 226,
    "start_time": "2022-11-16T21:08:02.654Z"
   },
   {
    "duration": 221,
    "start_time": "2022-11-16T21:08:25.308Z"
   },
   {
    "duration": 15,
    "start_time": "2022-11-16T21:19:32.148Z"
   },
   {
    "duration": 235,
    "start_time": "2022-11-16T21:19:41.222Z"
   },
   {
    "duration": 247,
    "start_time": "2022-11-16T21:20:14.780Z"
   },
   {
    "duration": 240,
    "start_time": "2022-11-16T21:20:57.503Z"
   },
   {
    "duration": 396,
    "start_time": "2022-11-16T21:21:11.503Z"
   },
   {
    "duration": 187,
    "start_time": "2022-11-16T21:22:30.218Z"
   },
   {
    "duration": 169,
    "start_time": "2022-11-16T21:22:39.676Z"
   },
   {
    "duration": 266,
    "start_time": "2022-11-16T21:23:09.006Z"
   },
   {
    "duration": 172,
    "start_time": "2022-11-16T21:23:19.941Z"
   },
   {
    "duration": 219,
    "start_time": "2022-11-16T21:28:35.940Z"
   },
   {
    "duration": 168,
    "start_time": "2022-11-16T21:28:59.546Z"
   },
   {
    "duration": 681,
    "start_time": "2022-11-16T21:29:16.288Z"
   },
   {
    "duration": 739,
    "start_time": "2022-11-16T21:29:20.006Z"
   },
   {
    "duration": 178,
    "start_time": "2022-11-16T21:29:34.941Z"
   },
   {
    "duration": 13,
    "start_time": "2022-11-16T21:29:43.030Z"
   },
   {
    "duration": 18,
    "start_time": "2022-11-16T21:30:20.292Z"
   },
   {
    "duration": 744,
    "start_time": "2022-11-16T21:30:37.257Z"
   },
   {
    "duration": 182,
    "start_time": "2022-11-16T21:30:49.212Z"
   },
   {
    "duration": 174,
    "start_time": "2022-11-16T21:31:23.131Z"
   },
   {
    "duration": 176,
    "start_time": "2022-11-16T21:31:35.448Z"
   },
   {
    "duration": 44,
    "start_time": "2022-11-17T14:02:43.767Z"
   },
   {
    "duration": 5,
    "start_time": "2022-11-17T14:02:56.144Z"
   },
   {
    "duration": 751,
    "start_time": "2022-11-17T14:03:12.114Z"
   },
   {
    "duration": 97,
    "start_time": "2022-11-17T14:03:12.866Z"
   },
   {
    "duration": 42,
    "start_time": "2022-11-17T14:03:12.964Z"
   },
   {
    "duration": 23,
    "start_time": "2022-11-17T14:03:13.008Z"
   },
   {
    "duration": 1086,
    "start_time": "2022-11-17T14:03:13.033Z"
   },
   {
    "duration": 4,
    "start_time": "2022-11-17T14:03:14.121Z"
   },
   {
    "duration": 17,
    "start_time": "2022-11-17T14:03:14.126Z"
   },
   {
    "duration": 10,
    "start_time": "2022-11-17T14:03:14.144Z"
   },
   {
    "duration": 5,
    "start_time": "2022-11-17T14:03:14.155Z"
   },
   {
    "duration": 15,
    "start_time": "2022-11-17T14:03:14.162Z"
   },
   {
    "duration": 43,
    "start_time": "2022-11-17T14:03:14.178Z"
   },
   {
    "duration": 3,
    "start_time": "2022-11-17T14:03:14.223Z"
   },
   {
    "duration": 45,
    "start_time": "2022-11-17T14:03:14.228Z"
   },
   {
    "duration": 19,
    "start_time": "2022-11-17T14:03:14.275Z"
   },
   {
    "duration": 20,
    "start_time": "2022-11-17T14:03:14.296Z"
   },
   {
    "duration": 9,
    "start_time": "2022-11-17T14:03:14.317Z"
   },
   {
    "duration": 17,
    "start_time": "2022-11-17T14:03:14.328Z"
   },
   {
    "duration": 159,
    "start_time": "2022-11-17T14:03:14.347Z"
   },
   {
    "duration": 308,
    "start_time": "2022-11-17T14:03:14.508Z"
   },
   {
    "duration": 285,
    "start_time": "2022-11-17T14:03:14.818Z"
   },
   {
    "duration": 277,
    "start_time": "2022-11-17T14:03:15.105Z"
   },
   {
    "duration": 368,
    "start_time": "2022-11-17T14:03:15.384Z"
   },
   {
    "duration": 18,
    "start_time": "2022-11-17T14:03:15.754Z"
   },
   {
    "duration": 283,
    "start_time": "2022-11-17T14:03:15.773Z"
   },
   {
    "duration": 266,
    "start_time": "2022-11-17T14:03:16.057Z"
   },
   {
    "duration": 278,
    "start_time": "2022-11-17T14:03:16.325Z"
   },
   {
    "duration": 372,
    "start_time": "2022-11-17T14:03:16.605Z"
   },
   {
    "duration": 13,
    "start_time": "2022-11-17T14:03:16.981Z"
   },
   {
    "duration": 17,
    "start_time": "2022-11-17T14:03:16.996Z"
   },
   {
    "duration": 16,
    "start_time": "2022-11-17T14:03:17.015Z"
   },
   {
    "duration": 308,
    "start_time": "2022-11-17T14:03:17.033Z"
   },
   {
    "duration": 273,
    "start_time": "2022-11-17T14:03:17.342Z"
   },
   {
    "duration": 167,
    "start_time": "2022-11-17T14:03:17.617Z"
   },
   {
    "duration": 8,
    "start_time": "2022-11-17T14:03:17.785Z"
   },
   {
    "duration": 3,
    "start_time": "2022-11-17T14:05:43.275Z"
   },
   {
    "duration": 4,
    "start_time": "2022-11-17T14:05:53.126Z"
   },
   {
    "duration": 3,
    "start_time": "2022-11-17T14:06:06.192Z"
   },
   {
    "duration": 15,
    "start_time": "2022-11-17T14:06:14.602Z"
   },
   {
    "duration": 22,
    "start_time": "2022-11-17T14:06:19.986Z"
   },
   {
    "duration": 11,
    "start_time": "2022-11-17T14:07:10.203Z"
   },
   {
    "duration": 5,
    "start_time": "2022-11-17T14:25:20.366Z"
   },
   {
    "duration": 637,
    "start_time": "2022-11-17T14:25:34.488Z"
   },
   {
    "duration": 46,
    "start_time": "2022-11-17T14:25:35.127Z"
   },
   {
    "duration": 28,
    "start_time": "2022-11-17T14:25:35.175Z"
   },
   {
    "duration": 20,
    "start_time": "2022-11-17T14:25:35.205Z"
   },
   {
    "duration": 5,
    "start_time": "2022-11-17T14:25:35.227Z"
   },
   {
    "duration": 1072,
    "start_time": "2022-11-17T14:25:35.234Z"
   },
   {
    "duration": 6,
    "start_time": "2022-11-17T14:25:36.308Z"
   },
   {
    "duration": 14,
    "start_time": "2022-11-17T14:25:36.316Z"
   },
   {
    "duration": 12,
    "start_time": "2022-11-17T14:25:36.332Z"
   },
   {
    "duration": 6,
    "start_time": "2022-11-17T14:25:36.346Z"
   },
   {
    "duration": 13,
    "start_time": "2022-11-17T14:25:36.353Z"
   },
   {
    "duration": 14,
    "start_time": "2022-11-17T14:25:36.367Z"
   },
   {
    "duration": 4,
    "start_time": "2022-11-17T14:25:36.413Z"
   },
   {
    "duration": 17,
    "start_time": "2022-11-17T14:25:36.419Z"
   },
   {
    "duration": 9,
    "start_time": "2022-11-17T14:25:36.437Z"
   },
   {
    "duration": 15,
    "start_time": "2022-11-17T14:25:36.448Z"
   },
   {
    "duration": 9,
    "start_time": "2022-11-17T14:25:36.465Z"
   },
   {
    "duration": 4,
    "start_time": "2022-11-17T14:25:36.476Z"
   },
   {
    "duration": 171,
    "start_time": "2022-11-17T14:25:36.512Z"
   },
   {
    "duration": 297,
    "start_time": "2022-11-17T14:25:36.684Z"
   },
   {
    "duration": 277,
    "start_time": "2022-11-17T14:25:36.983Z"
   },
   {
    "duration": 270,
    "start_time": "2022-11-17T14:25:37.262Z"
   },
   {
    "duration": 375,
    "start_time": "2022-11-17T14:25:37.534Z"
   },
   {
    "duration": 19,
    "start_time": "2022-11-17T14:25:37.913Z"
   },
   {
    "duration": 284,
    "start_time": "2022-11-17T14:25:37.934Z"
   },
   {
    "duration": 332,
    "start_time": "2022-11-17T14:25:38.220Z"
   },
   {
    "duration": 600,
    "start_time": "2022-11-17T14:25:38.553Z"
   },
   {
    "duration": 779,
    "start_time": "2022-11-17T14:25:39.155Z"
   },
   {
    "duration": 14,
    "start_time": "2022-11-17T14:25:39.936Z"
   },
   {
    "duration": 5,
    "start_time": "2022-11-17T14:25:39.951Z"
   },
   {
    "duration": 14,
    "start_time": "2022-11-17T14:25:40.014Z"
   },
   {
    "duration": 363,
    "start_time": "2022-11-17T14:25:40.029Z"
   },
   {
    "duration": 286,
    "start_time": "2022-11-17T14:25:40.394Z"
   },
   {
    "duration": 160,
    "start_time": "2022-11-17T14:25:40.682Z"
   },
   {
    "duration": 8,
    "start_time": "2022-11-17T14:25:40.844Z"
   },
   {
    "duration": 3,
    "start_time": "2022-11-17T14:27:06.873Z"
   },
   {
    "duration": 268,
    "start_time": "2022-11-17T14:27:43.793Z"
   },
   {
    "duration": 628,
    "start_time": "2022-11-17T14:28:04.020Z"
   },
   {
    "duration": 57,
    "start_time": "2022-11-17T14:28:04.650Z"
   },
   {
    "duration": 31,
    "start_time": "2022-11-17T14:28:04.709Z"
   },
   {
    "duration": 18,
    "start_time": "2022-11-17T14:28:04.742Z"
   },
   {
    "duration": 6,
    "start_time": "2022-11-17T14:28:04.761Z"
   },
   {
    "duration": 1046,
    "start_time": "2022-11-17T14:28:04.768Z"
   },
   {
    "duration": 4,
    "start_time": "2022-11-17T14:28:05.815Z"
   },
   {
    "duration": 13,
    "start_time": "2022-11-17T14:28:05.820Z"
   },
   {
    "duration": 10,
    "start_time": "2022-11-17T14:28:05.834Z"
   },
   {
    "duration": 5,
    "start_time": "2022-11-17T14:28:05.847Z"
   },
   {
    "duration": 20,
    "start_time": "2022-11-17T14:28:05.853Z"
   },
   {
    "duration": 13,
    "start_time": "2022-11-17T14:28:05.874Z"
   },
   {
    "duration": 4,
    "start_time": "2022-11-17T14:28:05.912Z"
   },
   {
    "duration": 15,
    "start_time": "2022-11-17T14:28:05.918Z"
   },
   {
    "duration": 14,
    "start_time": "2022-11-17T14:28:05.935Z"
   },
   {
    "duration": 19,
    "start_time": "2022-11-17T14:28:05.951Z"
   },
   {
    "duration": 10,
    "start_time": "2022-11-17T14:28:05.972Z"
   },
   {
    "duration": 29,
    "start_time": "2022-11-17T14:28:05.983Z"
   },
   {
    "duration": 167,
    "start_time": "2022-11-17T14:28:06.014Z"
   },
   {
    "duration": 264,
    "start_time": "2022-11-17T14:28:06.182Z"
   },
   {
    "duration": 293,
    "start_time": "2022-11-17T14:28:06.447Z"
   },
   {
    "duration": 296,
    "start_time": "2022-11-17T14:28:06.741Z"
   },
   {
    "duration": 367,
    "start_time": "2022-11-17T14:28:07.039Z"
   },
   {
    "duration": 20,
    "start_time": "2022-11-17T14:28:07.408Z"
   },
   {
    "duration": 322,
    "start_time": "2022-11-17T14:28:07.430Z"
   },
   {
    "duration": 289,
    "start_time": "2022-11-17T14:28:07.754Z"
   },
   {
    "duration": 283,
    "start_time": "2022-11-17T14:28:08.045Z"
   },
   {
    "duration": 370,
    "start_time": "2022-11-17T14:28:08.330Z"
   },
   {
    "duration": 12,
    "start_time": "2022-11-17T14:28:08.702Z"
   },
   {
    "duration": 17,
    "start_time": "2022-11-17T14:28:08.715Z"
   },
   {
    "duration": 7,
    "start_time": "2022-11-17T14:28:08.733Z"
   },
   {
    "duration": 15,
    "start_time": "2022-11-17T14:28:08.742Z"
   },
   {
    "duration": 302,
    "start_time": "2022-11-17T14:28:08.758Z"
   },
   {
    "duration": 281,
    "start_time": "2022-11-17T14:28:09.061Z"
   },
   {
    "duration": 170,
    "start_time": "2022-11-17T14:28:09.344Z"
   },
   {
    "duration": 8,
    "start_time": "2022-11-17T14:28:09.516Z"
   },
   {
    "duration": 269,
    "start_time": "2022-11-17T14:29:14.857Z"
   },
   {
    "duration": 597,
    "start_time": "2022-11-17T14:29:22.233Z"
   },
   {
    "duration": 47,
    "start_time": "2022-11-17T14:29:22.832Z"
   },
   {
    "duration": 27,
    "start_time": "2022-11-17T14:29:22.880Z"
   },
   {
    "duration": 20,
    "start_time": "2022-11-17T14:29:22.909Z"
   },
   {
    "duration": 5,
    "start_time": "2022-11-17T14:29:22.931Z"
   },
   {
    "duration": 1048,
    "start_time": "2022-11-17T14:29:22.938Z"
   },
   {
    "duration": 4,
    "start_time": "2022-11-17T14:29:23.988Z"
   },
   {
    "duration": 20,
    "start_time": "2022-11-17T14:29:23.993Z"
   },
   {
    "duration": 9,
    "start_time": "2022-11-17T14:29:24.015Z"
   },
   {
    "duration": 5,
    "start_time": "2022-11-17T14:29:24.027Z"
   },
   {
    "duration": 12,
    "start_time": "2022-11-17T14:29:24.034Z"
   },
   {
    "duration": 13,
    "start_time": "2022-11-17T14:29:24.048Z"
   },
   {
    "duration": 3,
    "start_time": "2022-11-17T14:29:24.063Z"
   },
   {
    "duration": 46,
    "start_time": "2022-11-17T14:29:24.068Z"
   },
   {
    "duration": 8,
    "start_time": "2022-11-17T14:29:24.116Z"
   },
   {
    "duration": 16,
    "start_time": "2022-11-17T14:29:24.126Z"
   },
   {
    "duration": 9,
    "start_time": "2022-11-17T14:29:24.143Z"
   },
   {
    "duration": 4,
    "start_time": "2022-11-17T14:29:24.153Z"
   },
   {
    "duration": 184,
    "start_time": "2022-11-17T14:29:24.159Z"
   },
   {
    "duration": 289,
    "start_time": "2022-11-17T14:29:24.345Z"
   },
   {
    "duration": 302,
    "start_time": "2022-11-17T14:29:24.636Z"
   },
   {
    "duration": 287,
    "start_time": "2022-11-17T14:29:24.940Z"
   },
   {
    "duration": 369,
    "start_time": "2022-11-17T14:29:25.229Z"
   },
   {
    "duration": 25,
    "start_time": "2022-11-17T14:29:25.599Z"
   },
   {
    "duration": 278,
    "start_time": "2022-11-17T14:29:25.625Z"
   },
   {
    "duration": 277,
    "start_time": "2022-11-17T14:29:25.905Z"
   },
   {
    "duration": 291,
    "start_time": "2022-11-17T14:29:26.184Z"
   },
   {
    "duration": 391,
    "start_time": "2022-11-17T14:29:26.479Z"
   },
   {
    "duration": 4,
    "start_time": "2022-11-17T14:29:26.873Z"
   },
   {
    "duration": 15,
    "start_time": "2022-11-17T14:29:26.879Z"
   },
   {
    "duration": 5,
    "start_time": "2022-11-17T14:29:26.912Z"
   },
   {
    "duration": 20,
    "start_time": "2022-11-17T14:29:26.918Z"
   },
   {
    "duration": 308,
    "start_time": "2022-11-17T14:29:26.940Z"
   },
   {
    "duration": 275,
    "start_time": "2022-11-17T14:29:27.249Z"
   },
   {
    "duration": 161,
    "start_time": "2022-11-17T14:29:27.526Z"
   },
   {
    "duration": 9,
    "start_time": "2022-11-17T14:29:27.688Z"
   },
   {
    "duration": 305,
    "start_time": "2022-11-17T16:35:39.231Z"
   },
   {
    "duration": 551,
    "start_time": "2022-11-17T16:36:02.175Z"
   },
   {
    "duration": 46,
    "start_time": "2022-11-17T16:36:02.728Z"
   },
   {
    "duration": 28,
    "start_time": "2022-11-17T16:36:02.775Z"
   },
   {
    "duration": 19,
    "start_time": "2022-11-17T16:36:02.805Z"
   },
   {
    "duration": 4,
    "start_time": "2022-11-17T16:36:02.826Z"
   },
   {
    "duration": 1013,
    "start_time": "2022-11-17T16:36:02.831Z"
   },
   {
    "duration": 4,
    "start_time": "2022-11-17T16:36:03.845Z"
   },
   {
    "duration": 12,
    "start_time": "2022-11-17T16:36:03.851Z"
   },
   {
    "duration": 9,
    "start_time": "2022-11-17T16:36:03.865Z"
   },
   {
    "duration": 5,
    "start_time": "2022-11-17T16:36:03.876Z"
   },
   {
    "duration": 37,
    "start_time": "2022-11-17T16:36:03.882Z"
   },
   {
    "duration": 13,
    "start_time": "2022-11-17T16:36:03.921Z"
   },
   {
    "duration": 4,
    "start_time": "2022-11-17T16:36:03.936Z"
   },
   {
    "duration": 13,
    "start_time": "2022-11-17T16:36:03.942Z"
   },
   {
    "duration": 8,
    "start_time": "2022-11-17T16:36:03.956Z"
   },
   {
    "duration": 16,
    "start_time": "2022-11-17T16:36:03.965Z"
   },
   {
    "duration": 38,
    "start_time": "2022-11-17T16:36:03.982Z"
   },
   {
    "duration": 3,
    "start_time": "2022-11-17T16:36:04.022Z"
   },
   {
    "duration": 176,
    "start_time": "2022-11-17T16:36:04.027Z"
   },
   {
    "duration": 272,
    "start_time": "2022-11-17T16:36:04.205Z"
   },
   {
    "duration": 321,
    "start_time": "2022-11-17T16:36:04.480Z"
   },
   {
    "duration": 309,
    "start_time": "2022-11-17T16:36:04.803Z"
   },
   {
    "duration": 369,
    "start_time": "2022-11-17T16:36:05.114Z"
   },
   {
    "duration": 28,
    "start_time": "2022-11-17T16:36:05.485Z"
   },
   {
    "duration": 279,
    "start_time": "2022-11-17T16:36:05.514Z"
   },
   {
    "duration": 286,
    "start_time": "2022-11-17T16:36:05.795Z"
   },
   {
    "duration": 286,
    "start_time": "2022-11-17T16:36:06.083Z"
   },
   {
    "duration": 401,
    "start_time": "2022-11-17T16:36:06.371Z"
   },
   {
    "duration": 4,
    "start_time": "2022-11-17T16:36:06.774Z"
   },
   {
    "duration": 16,
    "start_time": "2022-11-17T16:36:06.779Z"
   },
   {
    "duration": 17,
    "start_time": "2022-11-17T16:36:06.796Z"
   },
   {
    "duration": 18,
    "start_time": "2022-11-17T16:36:06.815Z"
   },
   {
    "duration": 305,
    "start_time": "2022-11-17T16:36:06.835Z"
   },
   {
    "duration": 280,
    "start_time": "2022-11-17T16:36:07.142Z"
   },
   {
    "duration": 162,
    "start_time": "2022-11-17T16:36:07.423Z"
   },
   {
    "duration": 8,
    "start_time": "2022-11-17T16:36:07.587Z"
   },
   {
    "duration": 1271,
    "start_time": "2022-11-17T16:50:26.769Z"
   },
   {
    "duration": 5,
    "start_time": "2022-11-17T16:50:48.027Z"
   },
   {
    "duration": 24,
    "start_time": "2022-11-17T16:51:01.829Z"
   },
   {
    "duration": 16,
    "start_time": "2022-11-17T16:51:32.461Z"
   },
   {
    "duration": 69,
    "start_time": "2022-11-17T16:56:08.706Z"
   },
   {
    "duration": 20,
    "start_time": "2022-11-17T16:56:12.439Z"
   },
   {
    "duration": 25,
    "start_time": "2022-11-17T16:56:26.877Z"
   },
   {
    "duration": 29,
    "start_time": "2022-11-17T16:57:01.242Z"
   },
   {
    "duration": 32,
    "start_time": "2022-11-17T16:57:24.275Z"
   },
   {
    "duration": 146,
    "start_time": "2022-11-17T16:57:36.267Z"
   },
   {
    "duration": 181,
    "start_time": "2022-11-17T16:57:56.282Z"
   },
   {
    "duration": 34,
    "start_time": "2022-11-17T16:58:07.367Z"
   },
   {
    "duration": 29,
    "start_time": "2022-11-17T17:00:16.158Z"
   },
   {
    "duration": 140,
    "start_time": "2022-11-17T17:00:25.984Z"
   },
   {
    "duration": 148,
    "start_time": "2022-11-17T17:02:18.709Z"
   },
   {
    "duration": 225,
    "start_time": "2022-11-17T17:02:26.280Z"
   },
   {
    "duration": 33,
    "start_time": "2022-11-17T17:03:46.732Z"
   },
   {
    "duration": 21,
    "start_time": "2022-11-17T17:07:32.238Z"
   },
   {
    "duration": 22,
    "start_time": "2022-11-17T17:07:58.586Z"
   },
   {
    "duration": 6725,
    "start_time": "2022-11-17T17:08:45.165Z"
   },
   {
    "duration": 5921,
    "start_time": "2022-11-17T17:10:56.970Z"
   },
   {
    "duration": 476,
    "start_time": "2022-11-17T17:11:23.684Z"
   },
   {
    "duration": 12256,
    "start_time": "2022-11-17T17:11:32.959Z"
   },
   {
    "duration": 12343,
    "start_time": "2022-11-17T17:13:50.918Z"
   },
   {
    "duration": 0,
    "start_time": "2022-11-17T17:17:49.739Z"
   },
   {
    "duration": 12913,
    "start_time": "2022-11-17T17:18:23.322Z"
   },
   {
    "duration": 14782,
    "start_time": "2022-11-17T17:18:51.881Z"
   },
   {
    "duration": 12179,
    "start_time": "2022-11-17T17:24:20.665Z"
   },
   {
    "duration": 4411,
    "start_time": "2022-11-17T17:28:47.510Z"
   },
   {
    "duration": 16,
    "start_time": "2022-11-17T17:35:06.448Z"
   },
   {
    "duration": 5,
    "start_time": "2022-11-17T17:37:29.321Z"
   },
   {
    "duration": 7,
    "start_time": "2022-11-17T17:42:22.260Z"
   },
   {
    "duration": 1070,
    "start_time": "2022-11-17T17:42:39.359Z"
   },
   {
    "duration": 47,
    "start_time": "2022-11-17T17:42:40.431Z"
   },
   {
    "duration": 30,
    "start_time": "2022-11-17T17:42:40.479Z"
   },
   {
    "duration": 19,
    "start_time": "2022-11-17T17:42:40.511Z"
   },
   {
    "duration": 10,
    "start_time": "2022-11-17T17:42:40.532Z"
   },
   {
    "duration": 987,
    "start_time": "2022-11-17T17:42:40.543Z"
   },
   {
    "duration": 4,
    "start_time": "2022-11-17T17:42:41.532Z"
   },
   {
    "duration": 12,
    "start_time": "2022-11-17T17:42:41.538Z"
   },
   {
    "duration": 9,
    "start_time": "2022-11-17T17:42:41.551Z"
   },
   {
    "duration": 5,
    "start_time": "2022-11-17T17:42:41.562Z"
   },
   {
    "duration": 14,
    "start_time": "2022-11-17T17:42:41.568Z"
   },
   {
    "duration": 40,
    "start_time": "2022-11-17T17:42:41.583Z"
   },
   {
    "duration": 7,
    "start_time": "2022-11-17T17:42:41.625Z"
   },
   {
    "duration": 12,
    "start_time": "2022-11-17T17:42:41.633Z"
   },
   {
    "duration": 9,
    "start_time": "2022-11-17T17:42:41.647Z"
   },
   {
    "duration": 15,
    "start_time": "2022-11-17T17:42:41.658Z"
   },
   {
    "duration": 42,
    "start_time": "2022-11-17T17:42:41.675Z"
   },
   {
    "duration": 4,
    "start_time": "2022-11-17T17:42:41.719Z"
   },
   {
    "duration": 160,
    "start_time": "2022-11-17T17:42:41.724Z"
   },
   {
    "duration": 369,
    "start_time": "2022-11-17T17:42:41.885Z"
   },
   {
    "duration": 297,
    "start_time": "2022-11-17T17:42:42.256Z"
   },
   {
    "duration": 288,
    "start_time": "2022-11-17T17:42:42.554Z"
   },
   {
    "duration": 305,
    "start_time": "2022-11-17T17:42:42.844Z"
   },
   {
    "duration": 17,
    "start_time": "2022-11-17T17:42:43.151Z"
   },
   {
    "duration": 402,
    "start_time": "2022-11-17T17:42:43.170Z"
   },
   {
    "duration": 278,
    "start_time": "2022-11-17T17:42:43.573Z"
   },
   {
    "duration": 286,
    "start_time": "2022-11-17T17:42:43.852Z"
   },
   {
    "duration": 264,
    "start_time": "2022-11-17T17:42:44.141Z"
   },
   {
    "duration": 8,
    "start_time": "2022-11-17T17:42:44.406Z"
   },
   {
    "duration": 14,
    "start_time": "2022-11-17T17:42:44.416Z"
   },
   {
    "duration": 8,
    "start_time": "2022-11-17T17:42:44.431Z"
   },
   {
    "duration": 15,
    "start_time": "2022-11-17T17:42:44.440Z"
   },
   {
    "duration": 424,
    "start_time": "2022-11-17T17:42:44.457Z"
   },
   {
    "duration": 286,
    "start_time": "2022-11-17T17:42:44.882Z"
   },
   {
    "duration": 168,
    "start_time": "2022-11-17T17:42:45.169Z"
   },
   {
    "duration": 8,
    "start_time": "2022-11-17T17:42:45.339Z"
   },
   {
    "duration": 4229,
    "start_time": "2022-11-17T17:42:45.349Z"
   },
   {
    "duration": 7,
    "start_time": "2022-11-17T17:44:22.037Z"
   },
   {
    "duration": 8,
    "start_time": "2022-11-17T17:45:06.289Z"
   },
   {
    "duration": 1174,
    "start_time": "2022-11-17T17:45:14.608Z"
   },
   {
    "duration": 55,
    "start_time": "2022-11-17T17:45:15.784Z"
   },
   {
    "duration": 35,
    "start_time": "2022-11-17T17:45:15.841Z"
   },
   {
    "duration": 19,
    "start_time": "2022-11-17T17:45:15.877Z"
   },
   {
    "duration": 16,
    "start_time": "2022-11-17T17:45:15.897Z"
   },
   {
    "duration": 992,
    "start_time": "2022-11-17T17:45:15.915Z"
   },
   {
    "duration": 6,
    "start_time": "2022-11-17T17:45:16.909Z"
   },
   {
    "duration": 18,
    "start_time": "2022-11-17T17:45:16.916Z"
   },
   {
    "duration": 15,
    "start_time": "2022-11-17T17:45:16.936Z"
   },
   {
    "duration": 11,
    "start_time": "2022-11-17T17:45:16.955Z"
   },
   {
    "duration": 13,
    "start_time": "2022-11-17T17:45:16.968Z"
   },
   {
    "duration": 37,
    "start_time": "2022-11-17T17:45:16.983Z"
   },
   {
    "duration": 8,
    "start_time": "2022-11-17T17:45:17.022Z"
   },
   {
    "duration": 13,
    "start_time": "2022-11-17T17:45:17.032Z"
   },
   {
    "duration": 9,
    "start_time": "2022-11-17T17:45:17.046Z"
   },
   {
    "duration": 16,
    "start_time": "2022-11-17T17:45:17.057Z"
   },
   {
    "duration": 43,
    "start_time": "2022-11-17T17:45:17.075Z"
   },
   {
    "duration": 4,
    "start_time": "2022-11-17T17:45:17.120Z"
   },
   {
    "duration": 173,
    "start_time": "2022-11-17T17:45:17.125Z"
   },
   {
    "duration": 367,
    "start_time": "2022-11-17T17:45:17.300Z"
   },
   {
    "duration": 302,
    "start_time": "2022-11-17T17:45:17.668Z"
   },
   {
    "duration": 312,
    "start_time": "2022-11-17T17:45:17.971Z"
   },
   {
    "duration": 303,
    "start_time": "2022-11-17T17:45:18.285Z"
   },
   {
    "duration": 28,
    "start_time": "2022-11-17T17:45:18.590Z"
   },
   {
    "duration": 404,
    "start_time": "2022-11-17T17:45:18.620Z"
   },
   {
    "duration": 303,
    "start_time": "2022-11-17T17:45:19.025Z"
   },
   {
    "duration": 287,
    "start_time": "2022-11-17T17:45:19.329Z"
   },
   {
    "duration": 277,
    "start_time": "2022-11-17T17:45:19.619Z"
   },
   {
    "duration": 4,
    "start_time": "2022-11-17T17:45:19.898Z"
   },
   {
    "duration": 22,
    "start_time": "2022-11-17T17:45:19.903Z"
   },
   {
    "duration": 7,
    "start_time": "2022-11-17T17:45:19.926Z"
   },
   {
    "duration": 17,
    "start_time": "2022-11-17T17:45:19.935Z"
   },
   {
    "duration": 450,
    "start_time": "2022-11-17T17:45:19.953Z"
   },
   {
    "duration": 292,
    "start_time": "2022-11-17T17:45:20.405Z"
   },
   {
    "duration": 168,
    "start_time": "2022-11-17T17:45:20.698Z"
   },
   {
    "duration": 9,
    "start_time": "2022-11-17T17:45:20.868Z"
   },
   {
    "duration": 4356,
    "start_time": "2022-11-17T17:45:20.878Z"
   },
   {
    "duration": 6,
    "start_time": "2022-11-17T17:47:49.118Z"
   },
   {
    "duration": 14,
    "start_time": "2022-11-17T17:48:00.524Z"
   },
   {
    "duration": 14,
    "start_time": "2022-11-17T17:48:08.570Z"
   },
   {
    "duration": 40,
    "start_time": "2022-11-17T17:48:53.022Z"
   },
   {
    "duration": 27,
    "start_time": "2022-11-17T18:28:38.251Z"
   },
   {
    "duration": 29,
    "start_time": "2022-11-17T18:28:48.316Z"
   },
   {
    "duration": 27,
    "start_time": "2022-11-17T18:31:06.861Z"
   },
   {
    "duration": 28,
    "start_time": "2022-11-17T18:32:07.942Z"
   },
   {
    "duration": 27,
    "start_time": "2022-11-17T18:32:25.577Z"
   },
   {
    "duration": 1090,
    "start_time": "2022-11-17T18:35:53.525Z"
   },
   {
    "duration": 52,
    "start_time": "2022-11-17T18:35:54.618Z"
   },
   {
    "duration": 35,
    "start_time": "2022-11-17T18:35:54.673Z"
   },
   {
    "duration": 24,
    "start_time": "2022-11-17T18:35:54.709Z"
   },
   {
    "duration": 4,
    "start_time": "2022-11-17T18:35:54.735Z"
   },
   {
    "duration": 998,
    "start_time": "2022-11-17T18:35:54.741Z"
   },
   {
    "duration": 4,
    "start_time": "2022-11-17T18:35:55.741Z"
   },
   {
    "duration": 17,
    "start_time": "2022-11-17T18:35:55.746Z"
   },
   {
    "duration": 10,
    "start_time": "2022-11-17T18:35:55.764Z"
   },
   {
    "duration": 5,
    "start_time": "2022-11-17T18:35:55.776Z"
   },
   {
    "duration": 30,
    "start_time": "2022-11-17T18:35:55.783Z"
   },
   {
    "duration": 6,
    "start_time": "2022-11-17T18:35:55.815Z"
   },
   {
    "duration": 14,
    "start_time": "2022-11-17T18:35:55.822Z"
   },
   {
    "duration": 12,
    "start_time": "2022-11-17T18:35:55.839Z"
   },
   {
    "duration": 9,
    "start_time": "2022-11-17T18:35:55.852Z"
   },
   {
    "duration": 16,
    "start_time": "2022-11-17T18:35:55.863Z"
   },
   {
    "duration": 40,
    "start_time": "2022-11-17T18:35:55.881Z"
   },
   {
    "duration": 4,
    "start_time": "2022-11-17T18:35:55.922Z"
   },
   {
    "duration": 169,
    "start_time": "2022-11-17T18:35:55.928Z"
   },
   {
    "duration": 369,
    "start_time": "2022-11-17T18:35:56.099Z"
   },
   {
    "duration": 321,
    "start_time": "2022-11-17T18:35:56.470Z"
   },
   {
    "duration": 314,
    "start_time": "2022-11-17T18:35:56.793Z"
   },
   {
    "duration": 306,
    "start_time": "2022-11-17T18:35:57.108Z"
   },
   {
    "duration": 20,
    "start_time": "2022-11-17T18:35:57.415Z"
   },
   {
    "duration": 406,
    "start_time": "2022-11-17T18:35:57.436Z"
   },
   {
    "duration": 280,
    "start_time": "2022-11-17T18:35:57.844Z"
   },
   {
    "duration": 299,
    "start_time": "2022-11-17T18:35:58.126Z"
   },
   {
    "duration": 298,
    "start_time": "2022-11-17T18:35:58.427Z"
   },
   {
    "duration": 3,
    "start_time": "2022-11-17T18:35:58.727Z"
   },
   {
    "duration": 15,
    "start_time": "2022-11-17T18:35:58.732Z"
   },
   {
    "duration": 5,
    "start_time": "2022-11-17T18:35:58.749Z"
   },
   {
    "duration": 16,
    "start_time": "2022-11-17T18:35:58.755Z"
   },
   {
    "duration": 435,
    "start_time": "2022-11-17T18:35:58.772Z"
   },
   {
    "duration": 280,
    "start_time": "2022-11-17T18:35:59.213Z"
   },
   {
    "duration": 170,
    "start_time": "2022-11-17T18:35:59.494Z"
   },
   {
    "duration": 9,
    "start_time": "2022-11-17T18:35:59.665Z"
   },
   {
    "duration": 124,
    "start_time": "2022-11-17T18:35:59.675Z"
   },
   {
    "duration": 33,
    "start_time": "2022-11-17T18:36:22.564Z"
   },
   {
    "duration": 27,
    "start_time": "2022-11-17T18:36:44.779Z"
   },
   {
    "duration": 27,
    "start_time": "2022-11-17T18:37:06.245Z"
   },
   {
    "duration": 24,
    "start_time": "2022-11-17T18:37:14.014Z"
   },
   {
    "duration": 27,
    "start_time": "2022-11-17T18:37:37.374Z"
   },
   {
    "duration": 33,
    "start_time": "2022-11-17T18:37:52.189Z"
   },
   {
    "duration": 31,
    "start_time": "2022-11-17T18:37:59.673Z"
   },
   {
    "duration": 32,
    "start_time": "2022-11-17T18:38:04.848Z"
   },
   {
    "duration": 29,
    "start_time": "2022-11-17T18:38:21.269Z"
   },
   {
    "duration": 38,
    "start_time": "2022-11-17T18:40:09.138Z"
   },
   {
    "duration": 37,
    "start_time": "2022-11-17T18:45:27.548Z"
   },
   {
    "duration": 41,
    "start_time": "2022-11-17T18:45:32.111Z"
   },
   {
    "duration": 36,
    "start_time": "2022-11-17T18:45:40.271Z"
   },
   {
    "duration": 1224,
    "start_time": "2022-11-17T18:45:47.473Z"
   },
   {
    "duration": 1257,
    "start_time": "2022-11-17T18:45:51.683Z"
   },
   {
    "duration": 29,
    "start_time": "2022-11-17T18:46:00.766Z"
   },
   {
    "duration": 41,
    "start_time": "2022-11-17T18:50:04.477Z"
   },
   {
    "duration": 50,
    "start_time": "2022-11-17T18:50:20.767Z"
   },
   {
    "duration": 40,
    "start_time": "2022-11-17T19:16:35.747Z"
   },
   {
    "duration": 40,
    "start_time": "2022-11-17T19:17:07.356Z"
   },
   {
    "duration": 26,
    "start_time": "2022-11-17T19:18:40.643Z"
   },
   {
    "duration": 35,
    "start_time": "2022-11-17T19:18:52.141Z"
   },
   {
    "duration": 150,
    "start_time": "2022-11-17T19:20:31.022Z"
   },
   {
    "duration": 26,
    "start_time": "2022-11-17T19:21:13.875Z"
   },
   {
    "duration": 1420,
    "start_time": "2022-11-17T19:21:35.664Z"
   },
   {
    "duration": 37,
    "start_time": "2022-11-17T19:24:02.611Z"
   },
   {
    "duration": 37,
    "start_time": "2022-11-17T19:26:05.948Z"
   },
   {
    "duration": 27,
    "start_time": "2022-11-17T19:26:20.798Z"
   },
   {
    "duration": 28,
    "start_time": "2022-11-17T19:28:12.300Z"
   },
   {
    "duration": 33,
    "start_time": "2022-11-17T19:28:31.196Z"
   },
   {
    "duration": 1200,
    "start_time": "2022-11-17T19:29:00.832Z"
   },
   {
    "duration": 27,
    "start_time": "2022-11-17T19:30:08.096Z"
   },
   {
    "duration": 87,
    "start_time": "2022-11-17T19:30:27.502Z"
   },
   {
    "duration": 117,
    "start_time": "2022-11-17T19:30:32.146Z"
   },
   {
    "duration": 70,
    "start_time": "2022-11-17T19:30:37.057Z"
   },
   {
    "duration": 30,
    "start_time": "2022-11-17T19:30:44.650Z"
   },
   {
    "duration": 28,
    "start_time": "2022-11-17T19:33:33.595Z"
   },
   {
    "duration": 27,
    "start_time": "2022-11-17T19:33:43.725Z"
   },
   {
    "duration": 26,
    "start_time": "2022-11-17T19:34:02.530Z"
   },
   {
    "duration": 34,
    "start_time": "2022-11-17T19:34:13.048Z"
   },
   {
    "duration": 2166,
    "start_time": "2022-11-17T19:34:24.735Z"
   },
   {
    "duration": 6166,
    "start_time": "2022-11-17T20:02:52.569Z"
   },
   {
    "duration": 2235,
    "start_time": "2022-11-17T20:03:24.799Z"
   },
   {
    "duration": 2252,
    "start_time": "2022-11-17T20:04:10.699Z"
   },
   {
    "duration": 1196,
    "start_time": "2022-11-17T20:05:25.051Z"
   },
   {
    "duration": 931,
    "start_time": "2022-11-17T20:05:36.952Z"
   },
   {
    "duration": 1240,
    "start_time": "2022-11-17T20:05:52.261Z"
   },
   {
    "duration": 1011,
    "start_time": "2022-11-17T20:07:37.926Z"
   },
   {
    "duration": 1278,
    "start_time": "2022-11-17T20:07:45.210Z"
   },
   {
    "duration": 956,
    "start_time": "2022-11-17T20:09:53.800Z"
   },
   {
    "duration": 1248,
    "start_time": "2022-11-17T20:10:04.652Z"
   },
   {
    "duration": 1214,
    "start_time": "2022-11-17T20:11:21.874Z"
   },
   {
    "duration": 983,
    "start_time": "2022-11-17T20:11:30.617Z"
   },
   {
    "duration": 1096,
    "start_time": "2022-11-17T20:12:57.606Z"
   },
   {
    "duration": 46,
    "start_time": "2022-11-17T20:12:58.704Z"
   },
   {
    "duration": 28,
    "start_time": "2022-11-17T20:12:58.751Z"
   },
   {
    "duration": 19,
    "start_time": "2022-11-17T20:12:58.780Z"
   },
   {
    "duration": 6,
    "start_time": "2022-11-17T20:12:58.800Z"
   },
   {
    "duration": 978,
    "start_time": "2022-11-17T20:12:58.807Z"
   },
   {
    "duration": 4,
    "start_time": "2022-11-17T20:12:59.787Z"
   },
   {
    "duration": 21,
    "start_time": "2022-11-17T20:12:59.792Z"
   },
   {
    "duration": 10,
    "start_time": "2022-11-17T20:12:59.815Z"
   },
   {
    "duration": 4,
    "start_time": "2022-11-17T20:12:59.828Z"
   },
   {
    "duration": 12,
    "start_time": "2022-11-17T20:12:59.834Z"
   },
   {
    "duration": 6,
    "start_time": "2022-11-17T20:12:59.847Z"
   },
   {
    "duration": 13,
    "start_time": "2022-11-17T20:12:59.854Z"
   },
   {
    "duration": 12,
    "start_time": "2022-11-17T20:12:59.868Z"
   },
   {
    "duration": 9,
    "start_time": "2022-11-17T20:12:59.913Z"
   },
   {
    "duration": 16,
    "start_time": "2022-11-17T20:12:59.924Z"
   },
   {
    "duration": 9,
    "start_time": "2022-11-17T20:12:59.941Z"
   },
   {
    "duration": 4,
    "start_time": "2022-11-17T20:12:59.951Z"
   },
   {
    "duration": 182,
    "start_time": "2022-11-17T20:12:59.957Z"
   },
   {
    "duration": 421,
    "start_time": "2022-11-17T20:13:00.141Z"
   },
   {
    "duration": 293,
    "start_time": "2022-11-17T20:13:00.564Z"
   },
   {
    "duration": 293,
    "start_time": "2022-11-17T20:13:00.858Z"
   },
   {
    "duration": 301,
    "start_time": "2022-11-17T20:13:01.153Z"
   },
   {
    "duration": 19,
    "start_time": "2022-11-17T20:13:01.455Z"
   },
   {
    "duration": 394,
    "start_time": "2022-11-17T20:13:01.475Z"
   },
   {
    "duration": 277,
    "start_time": "2022-11-17T20:13:01.870Z"
   },
   {
    "duration": 285,
    "start_time": "2022-11-17T20:13:02.149Z"
   },
   {
    "duration": 271,
    "start_time": "2022-11-17T20:13:02.437Z"
   },
   {
    "duration": 3,
    "start_time": "2022-11-17T20:13:02.713Z"
   },
   {
    "duration": 15,
    "start_time": "2022-11-17T20:13:02.717Z"
   },
   {
    "duration": 6,
    "start_time": "2022-11-17T20:13:02.733Z"
   },
   {
    "duration": 14,
    "start_time": "2022-11-17T20:13:02.741Z"
   },
   {
    "duration": 407,
    "start_time": "2022-11-17T20:13:02.756Z"
   },
   {
    "duration": 262,
    "start_time": "2022-11-17T20:13:03.165Z"
   },
   {
    "duration": 165,
    "start_time": "2022-11-17T20:13:03.429Z"
   },
   {
    "duration": 16,
    "start_time": "2022-11-17T20:13:03.596Z"
   },
   {
    "duration": 1090,
    "start_time": "2022-11-17T20:13:03.614Z"
   },
   {
    "duration": 2209,
    "start_time": "2022-11-17T20:17:04.496Z"
   },
   {
    "duration": 1312,
    "start_time": "2022-11-17T20:19:57.529Z"
   },
   {
    "duration": 1414,
    "start_time": "2022-11-17T20:20:12.073Z"
   },
   {
    "duration": 2365,
    "start_time": "2022-11-17T20:20:23.441Z"
   },
   {
    "duration": 1487,
    "start_time": "2022-11-17T20:20:32.391Z"
   },
   {
    "duration": 1560,
    "start_time": "2022-11-17T20:21:01.755Z"
   },
   {
    "duration": 1370,
    "start_time": "2022-11-17T20:21:53.580Z"
   },
   {
    "duration": 1572,
    "start_time": "2022-11-17T20:22:12.492Z"
   },
   {
    "duration": 1354,
    "start_time": "2022-11-17T20:22:20.164Z"
   },
   {
    "duration": 4,
    "start_time": "2022-11-17T20:28:22.911Z"
   },
   {
    "duration": 6,
    "start_time": "2022-11-17T20:44:01.973Z"
   },
   {
    "duration": 5,
    "start_time": "2022-11-17T20:50:00.497Z"
   },
   {
    "duration": 8,
    "start_time": "2022-11-17T20:52:35.241Z"
   },
   {
    "duration": 14,
    "start_time": "2022-11-17T20:54:42.164Z"
   },
   {
    "duration": 8,
    "start_time": "2022-11-17T20:54:48.869Z"
   },
   {
    "duration": 14,
    "start_time": "2022-11-17T20:54:55.027Z"
   },
   {
    "duration": 8,
    "start_time": "2022-11-17T20:55:11.473Z"
   },
   {
    "duration": 69,
    "start_time": "2022-11-17T20:56:47.352Z"
   },
   {
    "duration": 8,
    "start_time": "2022-11-17T20:57:03.058Z"
   },
   {
    "duration": 7,
    "start_time": "2022-11-17T20:57:07.393Z"
   },
   {
    "duration": 990,
    "start_time": "2022-11-17T20:58:48.336Z"
   },
   {
    "duration": 74,
    "start_time": "2022-11-17T21:02:41.868Z"
   },
   {
    "duration": 629,
    "start_time": "2022-11-17T21:02:51.985Z"
   },
   {
    "duration": 632,
    "start_time": "2022-11-17T21:03:20.564Z"
   },
   {
    "duration": 1286,
    "start_time": "2022-11-18T16:58:10.666Z"
   },
   {
    "duration": 111,
    "start_time": "2022-11-18T16:58:11.954Z"
   },
   {
    "duration": 38,
    "start_time": "2022-11-18T16:58:12.067Z"
   },
   {
    "duration": 25,
    "start_time": "2022-11-18T16:58:12.108Z"
   },
   {
    "duration": 5,
    "start_time": "2022-11-18T16:58:12.137Z"
   },
   {
    "duration": 1192,
    "start_time": "2022-11-18T16:58:12.144Z"
   },
   {
    "duration": 4,
    "start_time": "2022-11-18T16:58:13.337Z"
   },
   {
    "duration": 13,
    "start_time": "2022-11-18T16:58:13.343Z"
   },
   {
    "duration": 10,
    "start_time": "2022-11-18T16:58:13.359Z"
   },
   {
    "duration": 9,
    "start_time": "2022-11-18T16:58:13.371Z"
   },
   {
    "duration": 34,
    "start_time": "2022-11-18T16:58:13.382Z"
   },
   {
    "duration": 8,
    "start_time": "2022-11-18T16:58:13.418Z"
   },
   {
    "duration": 21,
    "start_time": "2022-11-18T16:58:13.428Z"
   },
   {
    "duration": 12,
    "start_time": "2022-11-18T16:58:13.451Z"
   },
   {
    "duration": 11,
    "start_time": "2022-11-18T16:58:13.465Z"
   },
   {
    "duration": 45,
    "start_time": "2022-11-18T16:58:13.478Z"
   },
   {
    "duration": 13,
    "start_time": "2022-11-18T16:58:13.525Z"
   },
   {
    "duration": 4,
    "start_time": "2022-11-18T16:58:13.540Z"
   },
   {
    "duration": 199,
    "start_time": "2022-11-18T16:58:13.545Z"
   },
   {
    "duration": 419,
    "start_time": "2022-11-18T16:58:13.746Z"
   },
   {
    "duration": 326,
    "start_time": "2022-11-18T16:58:14.166Z"
   },
   {
    "duration": 352,
    "start_time": "2022-11-18T16:58:14.494Z"
   },
   {
    "duration": 331,
    "start_time": "2022-11-18T16:58:14.848Z"
   },
   {
    "duration": 18,
    "start_time": "2022-11-18T16:58:15.181Z"
   },
   {
    "duration": 432,
    "start_time": "2022-11-18T16:58:15.201Z"
   },
   {
    "duration": 302,
    "start_time": "2022-11-18T16:58:15.635Z"
   },
   {
    "duration": 332,
    "start_time": "2022-11-18T16:58:15.940Z"
   },
   {
    "duration": 385,
    "start_time": "2022-11-18T16:58:16.274Z"
   },
   {
    "duration": 3,
    "start_time": "2022-11-18T16:58:16.661Z"
   },
   {
    "duration": 8,
    "start_time": "2022-11-18T16:58:16.665Z"
   },
   {
    "duration": 18,
    "start_time": "2022-11-18T16:58:16.674Z"
   },
   {
    "duration": 23,
    "start_time": "2022-11-18T16:58:16.693Z"
   },
   {
    "duration": 25,
    "start_time": "2022-11-18T16:58:16.718Z"
   },
   {
    "duration": 434,
    "start_time": "2022-11-18T16:58:16.744Z"
   },
   {
    "duration": 309,
    "start_time": "2022-11-18T16:58:17.180Z"
   },
   {
    "duration": 197,
    "start_time": "2022-11-18T16:58:17.491Z"
   },
   {
    "duration": 10,
    "start_time": "2022-11-18T16:58:17.690Z"
   },
   {
    "duration": 1609,
    "start_time": "2022-11-18T16:58:17.701Z"
   },
   {
    "duration": 13,
    "start_time": "2022-11-18T16:58:19.312Z"
   },
   {
    "duration": 31,
    "start_time": "2022-11-18T16:58:19.330Z"
   },
   {
    "duration": 771,
    "start_time": "2022-11-18T16:58:19.363Z"
   },
   {
    "duration": 402,
    "start_time": "2022-11-18T17:02:58.328Z"
   },
   {
    "duration": 562,
    "start_time": "2022-11-18T17:03:15.900Z"
   },
   {
    "duration": 442,
    "start_time": "2022-11-18T17:04:57.860Z"
   },
   {
    "duration": 472,
    "start_time": "2022-11-18T17:05:40.245Z"
   },
   {
    "duration": 560,
    "start_time": "2022-11-18T17:05:46.002Z"
   },
   {
    "duration": 620,
    "start_time": "2022-11-18T17:07:38.299Z"
   },
   {
    "duration": 482,
    "start_time": "2022-11-18T17:08:10.283Z"
   },
   {
    "duration": 324,
    "start_time": "2022-11-18T17:26:08.273Z"
   },
   {
    "duration": 277,
    "start_time": "2022-11-18T17:26:17.635Z"
   },
   {
    "duration": 326,
    "start_time": "2022-11-18T17:26:24.644Z"
   },
   {
    "duration": 260,
    "start_time": "2022-11-18T17:26:33.848Z"
   },
   {
    "duration": 273,
    "start_time": "2022-11-18T17:26:39.152Z"
   },
   {
    "duration": 154,
    "start_time": "2022-11-18T18:20:16.313Z"
   },
   {
    "duration": 31,
    "start_time": "2022-11-18T18:52:56.079Z"
   },
   {
    "duration": 144,
    "start_time": "2022-11-18T19:08:03.089Z"
   },
   {
    "duration": 141,
    "start_time": "2022-11-18T19:10:43.956Z"
   },
   {
    "duration": 142,
    "start_time": "2022-11-18T19:11:17.393Z"
   },
   {
    "duration": 140,
    "start_time": "2022-11-18T19:42:47.400Z"
   },
   {
    "duration": 157,
    "start_time": "2022-11-18T19:44:55.632Z"
   },
   {
    "duration": 37,
    "start_time": "2022-11-18T19:45:47.303Z"
   },
   {
    "duration": 359,
    "start_time": "2022-11-18T19:45:52.087Z"
   },
   {
    "duration": 159,
    "start_time": "2022-11-18T19:46:04.828Z"
   },
   {
    "duration": 180,
    "start_time": "2022-11-18T19:46:18.171Z"
   },
   {
    "duration": 13,
    "start_time": "2022-11-18T19:46:30.393Z"
   },
   {
    "duration": 154,
    "start_time": "2022-11-18T19:46:35.772Z"
   },
   {
    "duration": 148,
    "start_time": "2022-11-18T19:57:30.633Z"
   },
   {
    "duration": 143,
    "start_time": "2022-11-18T20:07:42.717Z"
   },
   {
    "duration": 143,
    "start_time": "2022-11-18T20:07:47.944Z"
   },
   {
    "duration": 151,
    "start_time": "2022-11-18T20:09:18.518Z"
   },
   {
    "duration": 147,
    "start_time": "2022-11-18T20:09:31.874Z"
   },
   {
    "duration": 147,
    "start_time": "2022-11-18T20:15:48.487Z"
   },
   {
    "duration": 142,
    "start_time": "2022-11-18T20:15:56.710Z"
   },
   {
    "duration": 38,
    "start_time": "2022-11-18T20:16:43.083Z"
   },
   {
    "duration": 42,
    "start_time": "2022-11-18T20:17:00.054Z"
   },
   {
    "duration": 138,
    "start_time": "2022-11-18T20:17:10.649Z"
   },
   {
    "duration": 14,
    "start_time": "2022-11-18T20:20:05.572Z"
   },
   {
    "duration": 297,
    "start_time": "2022-11-18T20:20:42.578Z"
   },
   {
    "duration": 278,
    "start_time": "2022-11-18T20:21:09.032Z"
   },
   {
    "duration": 280,
    "start_time": "2022-11-18T21:30:32.863Z"
   },
   {
    "duration": 52,
    "start_time": "2022-11-18T21:35:58.584Z"
   },
   {
    "duration": 49,
    "start_time": "2022-11-18T21:37:44.175Z"
   },
   {
    "duration": 47,
    "start_time": "2022-11-18T21:37:55.490Z"
   },
   {
    "duration": 310,
    "start_time": "2022-11-18T21:38:47.412Z"
   },
   {
    "duration": 330,
    "start_time": "2022-11-18T21:41:32.063Z"
   },
   {
    "duration": 285,
    "start_time": "2022-11-18T21:42:07.250Z"
   },
   {
    "duration": 303,
    "start_time": "2022-11-18T21:43:04.956Z"
   },
   {
    "duration": 302,
    "start_time": "2022-11-18T21:43:18.302Z"
   },
   {
    "duration": 367,
    "start_time": "2022-11-18T21:43:46.114Z"
   },
   {
    "duration": 298,
    "start_time": "2022-11-18T21:44:04.395Z"
   },
   {
    "duration": 45,
    "start_time": "2022-11-19T09:19:46.567Z"
   },
   {
    "duration": 7,
    "start_time": "2022-11-19T09:19:55.684Z"
   },
   {
    "duration": 1370,
    "start_time": "2022-11-19T09:20:01.729Z"
   },
   {
    "duration": 177,
    "start_time": "2022-11-19T09:20:03.101Z"
   },
   {
    "duration": 30,
    "start_time": "2022-11-19T09:20:03.280Z"
   },
   {
    "duration": 19,
    "start_time": "2022-11-19T09:20:03.312Z"
   },
   {
    "duration": 11,
    "start_time": "2022-11-19T09:20:03.333Z"
   },
   {
    "duration": 1005,
    "start_time": "2022-11-19T09:20:03.346Z"
   },
   {
    "duration": 4,
    "start_time": "2022-11-19T09:20:04.353Z"
   },
   {
    "duration": 21,
    "start_time": "2022-11-19T09:20:04.359Z"
   },
   {
    "duration": 24,
    "start_time": "2022-11-19T09:20:04.381Z"
   },
   {
    "duration": 5,
    "start_time": "2022-11-19T09:20:04.408Z"
   },
   {
    "duration": 16,
    "start_time": "2022-11-19T09:20:04.415Z"
   },
   {
    "duration": 5,
    "start_time": "2022-11-19T09:20:04.433Z"
   },
   {
    "duration": 17,
    "start_time": "2022-11-19T09:20:04.440Z"
   },
   {
    "duration": 13,
    "start_time": "2022-11-19T09:20:04.458Z"
   },
   {
    "duration": 36,
    "start_time": "2022-11-19T09:20:04.473Z"
   },
   {
    "duration": 16,
    "start_time": "2022-11-19T09:20:04.510Z"
   },
   {
    "duration": 10,
    "start_time": "2022-11-19T09:20:04.527Z"
   },
   {
    "duration": 4,
    "start_time": "2022-11-19T09:20:04.539Z"
   },
   {
    "duration": 175,
    "start_time": "2022-11-19T09:20:04.544Z"
   },
   {
    "duration": 364,
    "start_time": "2022-11-19T09:20:04.720Z"
   },
   {
    "duration": 295,
    "start_time": "2022-11-19T09:20:05.085Z"
   },
   {
    "duration": 300,
    "start_time": "2022-11-19T09:20:05.382Z"
   },
   {
    "duration": 291,
    "start_time": "2022-11-19T09:20:05.683Z"
   },
   {
    "duration": 19,
    "start_time": "2022-11-19T09:20:05.975Z"
   },
   {
    "duration": 401,
    "start_time": "2022-11-19T09:20:06.004Z"
   },
   {
    "duration": 274,
    "start_time": "2022-11-19T09:20:06.406Z"
   },
   {
    "duration": 291,
    "start_time": "2022-11-19T09:20:06.682Z"
   },
   {
    "duration": 305,
    "start_time": "2022-11-19T09:20:06.977Z"
   },
   {
    "duration": 4,
    "start_time": "2022-11-19T09:20:07.284Z"
   },
   {
    "duration": 9,
    "start_time": "2022-11-19T09:20:07.304Z"
   },
   {
    "duration": 26,
    "start_time": "2022-11-19T09:20:07.315Z"
   },
   {
    "duration": 10,
    "start_time": "2022-11-19T09:20:07.343Z"
   },
   {
    "duration": 39,
    "start_time": "2022-11-19T09:20:07.355Z"
   },
   {
    "duration": 462,
    "start_time": "2022-11-19T09:20:07.396Z"
   },
   {
    "duration": 292,
    "start_time": "2022-11-19T09:20:07.860Z"
   },
   {
    "duration": 189,
    "start_time": "2022-11-19T09:20:08.154Z"
   },
   {
    "duration": 10,
    "start_time": "2022-11-19T09:20:08.344Z"
   },
   {
    "duration": 1499,
    "start_time": "2022-11-19T09:20:08.355Z"
   },
   {
    "duration": 9,
    "start_time": "2022-11-19T09:20:09.855Z"
   },
   {
    "duration": 7,
    "start_time": "2022-11-19T09:20:09.866Z"
   },
   {
    "duration": 334,
    "start_time": "2022-11-19T09:20:09.875Z"
   },
   {
    "duration": 293,
    "start_time": "2022-11-19T09:20:10.211Z"
   },
   {
    "duration": 100,
    "start_time": "2022-11-19T09:20:10.506Z"
   },
   {
    "duration": 0,
    "start_time": "2022-11-19T09:20:10.608Z"
   },
   {
    "duration": 0,
    "start_time": "2022-11-19T09:20:10.609Z"
   },
   {
    "duration": 1200,
    "start_time": "2022-11-19T12:08:30.693Z"
   },
   {
    "duration": 89,
    "start_time": "2022-11-19T12:08:31.895Z"
   },
   {
    "duration": 35,
    "start_time": "2022-11-19T12:08:31.985Z"
   },
   {
    "duration": 21,
    "start_time": "2022-11-19T12:08:32.022Z"
   },
   {
    "duration": 6,
    "start_time": "2022-11-19T12:08:32.046Z"
   },
   {
    "duration": 1123,
    "start_time": "2022-11-19T12:08:32.053Z"
   },
   {
    "duration": 5,
    "start_time": "2022-11-19T12:08:33.178Z"
   },
   {
    "duration": 24,
    "start_time": "2022-11-19T12:08:33.185Z"
   },
   {
    "duration": 15,
    "start_time": "2022-11-19T12:08:33.216Z"
   },
   {
    "duration": 6,
    "start_time": "2022-11-19T12:08:33.233Z"
   },
   {
    "duration": 14,
    "start_time": "2022-11-19T12:08:33.241Z"
   },
   {
    "duration": 5,
    "start_time": "2022-11-19T12:08:33.257Z"
   },
   {
    "duration": 50,
    "start_time": "2022-11-19T12:08:33.263Z"
   },
   {
    "duration": 20,
    "start_time": "2022-11-19T12:08:33.320Z"
   },
   {
    "duration": 11,
    "start_time": "2022-11-19T12:08:33.342Z"
   },
   {
    "duration": 18,
    "start_time": "2022-11-19T12:08:33.355Z"
   },
   {
    "duration": 10,
    "start_time": "2022-11-19T12:08:33.375Z"
   },
   {
    "duration": 8,
    "start_time": "2022-11-19T12:08:33.407Z"
   },
   {
    "duration": 189,
    "start_time": "2022-11-19T12:08:33.419Z"
   },
   {
    "duration": 417,
    "start_time": "2022-11-19T12:08:33.610Z"
   },
   {
    "duration": 324,
    "start_time": "2022-11-19T12:08:34.029Z"
   },
   {
    "duration": 309,
    "start_time": "2022-11-19T12:08:34.355Z"
   },
   {
    "duration": 316,
    "start_time": "2022-11-19T12:08:34.666Z"
   },
   {
    "duration": 36,
    "start_time": "2022-11-19T12:08:34.984Z"
   },
   {
    "duration": 411,
    "start_time": "2022-11-19T12:08:35.021Z"
   },
   {
    "duration": 299,
    "start_time": "2022-11-19T12:08:35.434Z"
   },
   {
    "duration": 332,
    "start_time": "2022-11-19T12:08:35.735Z"
   },
   {
    "duration": 326,
    "start_time": "2022-11-19T12:08:36.068Z"
   },
   {
    "duration": 19,
    "start_time": "2022-11-19T12:08:36.396Z"
   },
   {
    "duration": 18,
    "start_time": "2022-11-19T12:08:36.417Z"
   },
   {
    "duration": 18,
    "start_time": "2022-11-19T12:08:36.436Z"
   },
   {
    "duration": 7,
    "start_time": "2022-11-19T12:08:36.456Z"
   },
   {
    "duration": 25,
    "start_time": "2022-11-19T12:08:36.465Z"
   },
   {
    "duration": 432,
    "start_time": "2022-11-19T12:08:36.492Z"
   },
   {
    "duration": 306,
    "start_time": "2022-11-19T12:08:36.926Z"
   },
   {
    "duration": 214,
    "start_time": "2022-11-19T12:08:37.234Z"
   },
   {
    "duration": 14,
    "start_time": "2022-11-19T12:08:37.450Z"
   },
   {
    "duration": 1705,
    "start_time": "2022-11-19T12:08:37.465Z"
   },
   {
    "duration": 10,
    "start_time": "2022-11-19T12:08:39.172Z"
   },
   {
    "duration": 29,
    "start_time": "2022-11-19T12:08:39.183Z"
   },
   {
    "duration": 311,
    "start_time": "2022-11-19T12:08:39.216Z"
   },
   {
    "duration": 310,
    "start_time": "2022-11-19T12:08:39.528Z"
   },
   {
    "duration": 113,
    "start_time": "2022-11-19T12:08:39.840Z"
   },
   {
    "duration": 0,
    "start_time": "2022-11-19T12:08:39.954Z"
   },
   {
    "duration": 0,
    "start_time": "2022-11-19T12:08:39.955Z"
   },
   {
    "duration": 380,
    "start_time": "2022-11-19T12:15:00.449Z"
   },
   {
    "duration": 9,
    "start_time": "2022-11-19T12:15:10.249Z"
   },
   {
    "duration": 328,
    "start_time": "2022-11-19T12:18:12.800Z"
   },
   {
    "duration": 294,
    "start_time": "2022-11-19T12:47:51.040Z"
   },
   {
    "duration": 312,
    "start_time": "2022-11-19T12:48:04.441Z"
   },
   {
    "duration": 311,
    "start_time": "2022-11-19T12:48:44.173Z"
   },
   {
    "duration": 313,
    "start_time": "2022-11-19T12:50:32.151Z"
   },
   {
    "duration": 5,
    "start_time": "2022-11-19T12:55:02.071Z"
   },
   {
    "duration": 8,
    "start_time": "2022-11-19T12:55:07.640Z"
   },
   {
    "duration": 8,
    "start_time": "2022-11-19T12:55:46.477Z"
   },
   {
    "duration": 9,
    "start_time": "2022-11-19T12:55:51.694Z"
   },
   {
    "duration": 14,
    "start_time": "2022-11-19T12:55:57.511Z"
   },
   {
    "duration": 26,
    "start_time": "2022-11-19T12:56:15.393Z"
   },
   {
    "duration": 82615,
    "start_time": "2022-11-19T12:59:47.935Z"
   },
   {
    "duration": 41,
    "start_time": "2022-11-19T13:02:59.189Z"
   },
   {
    "duration": 14,
    "start_time": "2022-11-19T13:03:13.332Z"
   },
   {
    "duration": 8,
    "start_time": "2022-11-19T13:03:58.988Z"
   },
   {
    "duration": 7,
    "start_time": "2022-11-19T13:04:03.596Z"
   },
   {
    "duration": 15,
    "start_time": "2022-11-19T13:04:06.372Z"
   },
   {
    "duration": 527,
    "start_time": "2022-11-19T13:08:05.698Z"
   },
   {
    "duration": 241,
    "start_time": "2022-11-19T13:09:28.071Z"
   },
   {
    "duration": 478,
    "start_time": "2022-11-19T13:09:34.322Z"
   },
   {
    "duration": 500,
    "start_time": "2022-11-19T13:10:26.791Z"
   },
   {
    "duration": 505,
    "start_time": "2022-11-19T13:10:34.586Z"
   },
   {
    "duration": 365,
    "start_time": "2022-11-19T13:11:26.491Z"
   },
   {
    "duration": 15,
    "start_time": "2022-11-19T13:11:40.955Z"
   },
   {
    "duration": 8,
    "start_time": "2022-11-19T13:11:57.831Z"
   },
   {
    "duration": 321,
    "start_time": "2022-11-19T13:14:44.860Z"
   },
   {
    "duration": 322,
    "start_time": "2022-11-19T13:15:50.126Z"
   },
   {
    "duration": 362,
    "start_time": "2022-11-19T13:15:56.564Z"
   },
   {
    "duration": 298,
    "start_time": "2022-11-19T13:18:25.552Z"
   },
   {
    "duration": 82,
    "start_time": "2022-11-19T13:22:51.797Z"
   },
   {
    "duration": 89,
    "start_time": "2022-11-19T13:22:59.948Z"
   },
   {
    "duration": 75,
    "start_time": "2022-11-19T13:23:03.864Z"
   },
   {
    "duration": 76,
    "start_time": "2022-11-19T13:23:20.712Z"
   },
   {
    "duration": 32,
    "start_time": "2022-11-19T13:23:25.848Z"
   },
   {
    "duration": 303,
    "start_time": "2022-11-19T13:23:29.627Z"
   },
   {
    "duration": 36,
    "start_time": "2022-11-19T13:23:39.111Z"
   },
   {
    "duration": 351,
    "start_time": "2022-11-19T13:23:56.869Z"
   },
   {
    "duration": 241,
    "start_time": "2022-11-19T13:24:42.842Z"
   },
   {
    "duration": 241,
    "start_time": "2022-11-19T13:24:58.758Z"
   },
   {
    "duration": 245,
    "start_time": "2022-11-19T13:25:13.414Z"
   },
   {
    "duration": 305,
    "start_time": "2022-11-19T13:25:41.473Z"
   },
   {
    "duration": 298,
    "start_time": "2022-11-19T13:28:09.574Z"
   },
   {
    "duration": 332,
    "start_time": "2022-11-19T13:29:27.900Z"
   },
   {
    "duration": 343,
    "start_time": "2022-11-19T13:30:27.674Z"
   },
   {
    "duration": 346,
    "start_time": "2022-11-19T13:31:41.636Z"
   },
   {
    "duration": 375,
    "start_time": "2022-11-19T13:32:17.874Z"
   },
   {
    "duration": 325,
    "start_time": "2022-11-19T13:32:55.373Z"
   },
   {
    "duration": 302,
    "start_time": "2022-11-19T13:35:10.418Z"
   },
   {
    "duration": 314,
    "start_time": "2022-11-19T13:35:29.691Z"
   },
   {
    "duration": 604,
    "start_time": "2022-11-19T13:41:26.270Z"
   },
   {
    "duration": 3,
    "start_time": "2022-11-19T13:42:19.415Z"
   },
   {
    "duration": 3998,
    "start_time": "2022-11-19T13:42:21.778Z"
   },
   {
    "duration": 2644,
    "start_time": "2022-11-19T13:49:44.922Z"
   },
   {
    "duration": 2948,
    "start_time": "2022-11-19T13:51:15.971Z"
   },
   {
    "duration": 2864,
    "start_time": "2022-11-19T13:54:36.603Z"
   },
   {
    "duration": 2914,
    "start_time": "2022-11-19T13:55:31.018Z"
   },
   {
    "duration": 2894,
    "start_time": "2022-11-19T13:56:02.647Z"
   },
   {
    "duration": 80,
    "start_time": "2022-11-19T13:56:32.202Z"
   },
   {
    "duration": 3136,
    "start_time": "2022-11-19T13:56:44.630Z"
   },
   {
    "duration": 3230,
    "start_time": "2022-11-19T14:03:59.287Z"
   },
   {
    "duration": 3054,
    "start_time": "2022-11-19T14:07:40.609Z"
   },
   {
    "duration": 2957,
    "start_time": "2022-11-19T14:08:22.111Z"
   },
   {
    "duration": 3016,
    "start_time": "2022-11-19T14:08:31.256Z"
   },
   {
    "duration": 2956,
    "start_time": "2022-11-19T14:08:41.475Z"
   },
   {
    "duration": 3049,
    "start_time": "2022-11-19T14:08:49.987Z"
   },
   {
    "duration": 2703,
    "start_time": "2022-11-19T15:27:57.437Z"
   },
   {
    "duration": 2939,
    "start_time": "2022-11-19T15:28:45.276Z"
   },
   {
    "duration": 72,
    "start_time": "2022-11-19T15:29:35.447Z"
   },
   {
    "duration": 2784,
    "start_time": "2022-11-19T15:29:51.665Z"
   },
   {
    "duration": 2944,
    "start_time": "2022-11-19T15:30:16.803Z"
   },
   {
    "duration": 2868,
    "start_time": "2022-11-19T15:30:49.248Z"
   },
   {
    "duration": 10,
    "start_time": "2022-11-19T15:38:14.151Z"
   },
   {
    "duration": 16,
    "start_time": "2022-11-19T15:38:17.074Z"
   },
   {
    "duration": 7,
    "start_time": "2022-11-19T15:38:43.783Z"
   },
   {
    "duration": 16,
    "start_time": "2022-11-19T15:39:46.763Z"
   },
   {
    "duration": 1207,
    "start_time": "2022-11-19T15:40:02.492Z"
   },
   {
    "duration": 52,
    "start_time": "2022-11-19T15:40:03.701Z"
   },
   {
    "duration": 29,
    "start_time": "2022-11-19T15:40:03.754Z"
   },
   {
    "duration": 20,
    "start_time": "2022-11-19T15:40:03.785Z"
   },
   {
    "duration": 3,
    "start_time": "2022-11-19T15:40:03.806Z"
   },
   {
    "duration": 1003,
    "start_time": "2022-11-19T15:40:03.811Z"
   },
   {
    "duration": 4,
    "start_time": "2022-11-19T15:40:04.816Z"
   },
   {
    "duration": 14,
    "start_time": "2022-11-19T15:40:04.821Z"
   },
   {
    "duration": 10,
    "start_time": "2022-11-19T15:40:04.836Z"
   },
   {
    "duration": 7,
    "start_time": "2022-11-19T15:40:04.848Z"
   },
   {
    "duration": 15,
    "start_time": "2022-11-19T15:40:04.856Z"
   },
   {
    "duration": 33,
    "start_time": "2022-11-19T15:40:04.873Z"
   },
   {
    "duration": 14,
    "start_time": "2022-11-19T15:40:04.908Z"
   },
   {
    "duration": 15,
    "start_time": "2022-11-19T15:40:04.924Z"
   },
   {
    "duration": 12,
    "start_time": "2022-11-19T15:40:04.942Z"
   },
   {
    "duration": 20,
    "start_time": "2022-11-19T15:40:04.955Z"
   },
   {
    "duration": 35,
    "start_time": "2022-11-19T15:40:04.976Z"
   },
   {
    "duration": 5,
    "start_time": "2022-11-19T15:40:05.013Z"
   },
   {
    "duration": 173,
    "start_time": "2022-11-19T15:40:05.020Z"
   },
   {
    "duration": 377,
    "start_time": "2022-11-19T15:40:05.195Z"
   },
   {
    "duration": 325,
    "start_time": "2022-11-19T15:40:05.573Z"
   },
   {
    "duration": 309,
    "start_time": "2022-11-19T15:40:05.904Z"
   },
   {
    "duration": 299,
    "start_time": "2022-11-19T15:40:06.214Z"
   },
   {
    "duration": 18,
    "start_time": "2022-11-19T15:40:06.514Z"
   },
   {
    "duration": 397,
    "start_time": "2022-11-19T15:40:06.534Z"
   },
   {
    "duration": 284,
    "start_time": "2022-11-19T15:40:06.933Z"
   },
   {
    "duration": 368,
    "start_time": "2022-11-19T15:40:07.218Z"
   },
   {
    "duration": 292,
    "start_time": "2022-11-19T15:40:07.590Z"
   },
   {
    "duration": 3,
    "start_time": "2022-11-19T15:40:07.884Z"
   },
   {
    "duration": 17,
    "start_time": "2022-11-19T15:40:07.889Z"
   },
   {
    "duration": 16,
    "start_time": "2022-11-19T15:40:07.907Z"
   },
   {
    "duration": 11,
    "start_time": "2022-11-19T15:40:07.924Z"
   },
   {
    "duration": 15,
    "start_time": "2022-11-19T15:40:07.936Z"
   },
   {
    "duration": 476,
    "start_time": "2022-11-19T15:40:07.952Z"
   },
   {
    "duration": 311,
    "start_time": "2022-11-19T15:40:08.431Z"
   },
   {
    "duration": 164,
    "start_time": "2022-11-19T15:40:08.744Z"
   },
   {
    "duration": 9,
    "start_time": "2022-11-19T15:40:08.909Z"
   },
   {
    "duration": 1409,
    "start_time": "2022-11-19T15:40:08.919Z"
   },
   {
    "duration": 9,
    "start_time": "2022-11-19T15:40:10.329Z"
   },
   {
    "duration": 7,
    "start_time": "2022-11-19T15:40:10.340Z"
   },
   {
    "duration": 302,
    "start_time": "2022-11-19T15:40:10.348Z"
   },
   {
    "duration": 14,
    "start_time": "2022-11-19T15:40:10.652Z"
   },
   {
    "duration": 308,
    "start_time": "2022-11-19T15:40:10.668Z"
   },
   {
    "duration": 3,
    "start_time": "2022-11-19T15:40:10.978Z"
   },
   {
    "duration": 2778,
    "start_time": "2022-11-19T15:40:10.983Z"
   },
   {
    "duration": 13,
    "start_time": "2022-11-19T15:40:13.762Z"
   },
   {
    "duration": 16,
    "start_time": "2022-11-19T15:40:13.777Z"
   },
   {
    "duration": 105,
    "start_time": "2022-11-19T15:40:13.794Z"
   },
   {
    "duration": 11,
    "start_time": "2022-11-19T15:40:25.887Z"
   },
   {
    "duration": 8,
    "start_time": "2022-11-19T15:42:25.024Z"
   },
   {
    "duration": 15,
    "start_time": "2022-11-19T15:42:28.546Z"
   },
   {
    "duration": 8,
    "start_time": "2022-11-19T15:43:45.146Z"
   },
   {
    "duration": 10,
    "start_time": "2022-11-19T15:43:55.280Z"
   },
   {
    "duration": 16,
    "start_time": "2022-11-19T15:44:01.670Z"
   },
   {
    "duration": 11,
    "start_time": "2022-11-19T15:44:31.538Z"
   },
   {
    "duration": 14,
    "start_time": "2022-11-19T15:44:39.747Z"
   },
   {
    "duration": 27,
    "start_time": "2022-11-19T15:44:58.215Z"
   },
   {
    "duration": 16,
    "start_time": "2022-11-19T15:45:31.170Z"
   },
   {
    "duration": 17,
    "start_time": "2022-11-19T15:51:13.012Z"
   },
   {
    "duration": 11,
    "start_time": "2022-11-19T15:51:22.944Z"
   },
   {
    "duration": 17,
    "start_time": "2022-11-19T15:53:15.568Z"
   },
   {
    "duration": 13,
    "start_time": "2022-11-19T15:53:31.915Z"
   },
   {
    "duration": 13,
    "start_time": "2022-11-19T15:53:41.968Z"
   },
   {
    "duration": 5,
    "start_time": "2022-11-19T15:53:49.185Z"
   },
   {
    "duration": 18,
    "start_time": "2022-11-19T15:53:52.565Z"
   },
   {
    "duration": 71,
    "start_time": "2022-11-19T15:54:09.522Z"
   },
   {
    "duration": 68,
    "start_time": "2022-11-19T15:54:16.084Z"
   },
   {
    "duration": 12,
    "start_time": "2022-11-19T15:54:19.893Z"
   },
   {
    "duration": 210,
    "start_time": "2022-11-19T15:54:40.959Z"
   },
   {
    "duration": 227,
    "start_time": "2022-11-19T16:05:33.477Z"
   },
   {
    "duration": 220,
    "start_time": "2022-11-19T16:05:45.145Z"
   },
   {
    "duration": 201,
    "start_time": "2022-11-19T16:06:12.454Z"
   },
   {
    "duration": 4,
    "start_time": "2022-11-19T16:11:08.353Z"
   },
   {
    "duration": 5,
    "start_time": "2022-11-19T16:11:18.493Z"
   },
   {
    "duration": 13,
    "start_time": "2022-11-19T16:19:56.152Z"
   },
   {
    "duration": 14,
    "start_time": "2022-11-19T16:20:02.070Z"
   },
   {
    "duration": 12,
    "start_time": "2022-11-19T16:20:09.667Z"
   },
   {
    "duration": 18,
    "start_time": "2022-11-19T16:39:47.329Z"
   },
   {
    "duration": 14,
    "start_time": "2022-11-19T16:42:05.371Z"
   },
   {
    "duration": 14,
    "start_time": "2022-11-19T16:42:14.289Z"
   },
   {
    "duration": 6,
    "start_time": "2022-11-19T16:49:11.841Z"
   },
   {
    "duration": 7,
    "start_time": "2022-11-19T16:54:26.925Z"
   },
   {
    "duration": 8,
    "start_time": "2022-11-19T16:54:46.136Z"
   },
   {
    "duration": 7,
    "start_time": "2022-11-19T16:55:35.495Z"
   },
   {
    "duration": 9,
    "start_time": "2022-11-19T16:55:44.663Z"
   },
   {
    "duration": 6,
    "start_time": "2022-11-19T16:56:15.776Z"
   },
   {
    "duration": 7,
    "start_time": "2022-11-19T16:56:23.396Z"
   },
   {
    "duration": 5,
    "start_time": "2022-11-19T16:56:26.916Z"
   },
   {
    "duration": 7,
    "start_time": "2022-11-19T16:56:29.436Z"
   },
   {
    "duration": 16,
    "start_time": "2022-11-19T17:00:21.027Z"
   },
   {
    "duration": 5,
    "start_time": "2022-11-19T17:00:33.628Z"
   },
   {
    "duration": 7,
    "start_time": "2022-11-19T17:00:47.239Z"
   },
   {
    "duration": 11,
    "start_time": "2022-11-19T17:01:22.829Z"
   },
   {
    "duration": 13,
    "start_time": "2022-11-19T17:02:27.377Z"
   },
   {
    "duration": 10,
    "start_time": "2022-11-19T17:02:40.746Z"
   },
   {
    "duration": 12,
    "start_time": "2022-11-19T17:02:52.907Z"
   },
   {
    "duration": 12,
    "start_time": "2022-11-19T17:03:03.900Z"
   },
   {
    "duration": 12,
    "start_time": "2022-11-19T17:03:25.145Z"
   },
   {
    "duration": 12,
    "start_time": "2022-11-19T17:03:33.793Z"
   },
   {
    "duration": 12,
    "start_time": "2022-11-19T17:03:37.514Z"
   },
   {
    "duration": 193,
    "start_time": "2022-11-19T17:03:52.402Z"
   },
   {
    "duration": 158,
    "start_time": "2022-11-19T17:04:01.050Z"
   },
   {
    "duration": 151,
    "start_time": "2022-11-19T17:04:07.592Z"
   },
   {
    "duration": 168,
    "start_time": "2022-11-19T17:04:46.301Z"
   },
   {
    "duration": 143,
    "start_time": "2022-11-19T17:34:06.325Z"
   },
   {
    "duration": 149,
    "start_time": "2022-11-19T17:35:34.165Z"
   },
   {
    "duration": 12,
    "start_time": "2022-11-19T17:36:05.038Z"
   },
   {
    "duration": 30,
    "start_time": "2022-11-19T17:37:29.366Z"
   },
   {
    "duration": 152,
    "start_time": "2022-11-19T17:37:39.130Z"
   },
   {
    "duration": 158,
    "start_time": "2022-11-19T17:46:18.196Z"
   },
   {
    "duration": 19,
    "start_time": "2022-11-19T17:49:27.397Z"
   },
   {
    "duration": 11,
    "start_time": "2022-11-19T17:49:42.697Z"
   },
   {
    "duration": 152,
    "start_time": "2022-11-19T17:53:53.736Z"
   },
   {
    "duration": 392,
    "start_time": "2022-11-19T17:54:10.978Z"
   },
   {
    "duration": 398,
    "start_time": "2022-11-19T17:54:46.789Z"
   },
   {
    "duration": 308,
    "start_time": "2022-11-19T17:55:04.268Z"
   },
   {
    "duration": 317,
    "start_time": "2022-11-19T17:55:17.298Z"
   },
   {
    "duration": 267,
    "start_time": "2022-11-19T17:55:28.921Z"
   },
   {
    "duration": 273,
    "start_time": "2022-11-19T17:56:03.121Z"
   },
   {
    "duration": 76,
    "start_time": "2022-11-19T17:56:30.807Z"
   },
   {
    "duration": 329,
    "start_time": "2022-11-19T17:56:37.469Z"
   },
   {
    "duration": 305,
    "start_time": "2022-11-19T17:56:51.176Z"
   },
   {
    "duration": 299,
    "start_time": "2022-11-19T17:57:01.099Z"
   },
   {
    "duration": 303,
    "start_time": "2022-11-19T17:57:09.804Z"
   },
   {
    "duration": 286,
    "start_time": "2022-11-19T17:57:51.907Z"
   },
   {
    "duration": 30,
    "start_time": "2022-11-19T18:00:46.926Z"
   },
   {
    "duration": 13,
    "start_time": "2022-11-19T18:01:01.075Z"
   },
   {
    "duration": 341,
    "start_time": "2022-11-19T18:01:27.376Z"
   },
   {
    "duration": 2,
    "start_time": "2022-11-19T18:01:46.512Z"
   },
   {
    "duration": 290,
    "start_time": "2022-11-19T18:03:04.687Z"
   },
   {
    "duration": 24,
    "start_time": "2022-11-19T18:14:25.674Z"
   },
   {
    "duration": 1202,
    "start_time": "2022-11-19T18:14:58.907Z"
   },
   {
    "duration": 271,
    "start_time": "2022-11-19T18:15:21.822Z"
   },
   {
    "duration": 437,
    "start_time": "2022-11-19T18:17:08.345Z"
   },
   {
    "duration": 29,
    "start_time": "2022-11-19T18:23:51.212Z"
   },
   {
    "duration": 324,
    "start_time": "2022-11-19T18:24:05.661Z"
   },
   {
    "duration": 2,
    "start_time": "2022-11-19T18:42:03.021Z"
   },
   {
    "duration": 3,
    "start_time": "2022-11-19T18:42:14.337Z"
   },
   {
    "duration": 324,
    "start_time": "2022-11-19T18:43:30.285Z"
   },
   {
    "duration": 32,
    "start_time": "2022-11-19T18:45:41.977Z"
   },
   {
    "duration": 308,
    "start_time": "2022-11-19T18:45:53.246Z"
   },
   {
    "duration": 16,
    "start_time": "2022-11-19T18:50:18.412Z"
   },
   {
    "duration": 294,
    "start_time": "2022-11-19T18:51:40.612Z"
   },
   {
    "duration": 298,
    "start_time": "2022-11-19T18:54:51.154Z"
   },
   {
    "duration": 280,
    "start_time": "2022-11-19T18:56:03.445Z"
   },
   {
    "duration": 278,
    "start_time": "2022-11-19T18:56:38.850Z"
   },
   {
    "duration": 294,
    "start_time": "2022-11-19T18:57:33.946Z"
   },
   {
    "duration": 280,
    "start_time": "2022-11-19T18:58:42.004Z"
   },
   {
    "duration": 270,
    "start_time": "2022-11-19T18:58:56.122Z"
   },
   {
    "duration": 30,
    "start_time": "2022-11-19T19:02:11.188Z"
   },
   {
    "duration": 27,
    "start_time": "2022-11-19T19:02:30.088Z"
   },
   {
    "duration": 26,
    "start_time": "2022-11-19T19:02:44.555Z"
   },
   {
    "duration": 309,
    "start_time": "2022-11-19T19:05:39.185Z"
   },
   {
    "duration": 278,
    "start_time": "2022-11-19T19:08:56.330Z"
   },
   {
    "duration": 301,
    "start_time": "2022-11-19T19:14:09.105Z"
   },
   {
    "duration": 292,
    "start_time": "2022-11-19T19:14:25.835Z"
   },
   {
    "duration": 233,
    "start_time": "2022-11-19T19:44:33.485Z"
   },
   {
    "duration": 290,
    "start_time": "2022-11-19T19:45:00.382Z"
   },
   {
    "duration": 8,
    "start_time": "2022-11-19T20:22:56.737Z"
   },
   {
    "duration": 14,
    "start_time": "2022-11-19T20:23:09.841Z"
   },
   {
    "duration": 1248,
    "start_time": "2022-11-19T20:37:44.681Z"
   },
   {
    "duration": 54,
    "start_time": "2022-11-19T20:37:45.931Z"
   },
   {
    "duration": 30,
    "start_time": "2022-11-19T20:37:45.986Z"
   },
   {
    "duration": 21,
    "start_time": "2022-11-19T20:37:46.018Z"
   },
   {
    "duration": 5,
    "start_time": "2022-11-19T20:37:46.041Z"
   },
   {
    "duration": 1057,
    "start_time": "2022-11-19T20:37:46.048Z"
   },
   {
    "duration": 5,
    "start_time": "2022-11-19T20:37:47.106Z"
   },
   {
    "duration": 14,
    "start_time": "2022-11-19T20:37:47.112Z"
   },
   {
    "duration": 10,
    "start_time": "2022-11-19T20:37:47.127Z"
   },
   {
    "duration": 10,
    "start_time": "2022-11-19T20:37:47.140Z"
   },
   {
    "duration": 15,
    "start_time": "2022-11-19T20:37:47.152Z"
   },
   {
    "duration": 36,
    "start_time": "2022-11-19T20:37:47.169Z"
   },
   {
    "duration": 16,
    "start_time": "2022-11-19T20:37:47.206Z"
   },
   {
    "duration": 12,
    "start_time": "2022-11-19T20:37:47.223Z"
   },
   {
    "duration": 13,
    "start_time": "2022-11-19T20:37:47.236Z"
   },
   {
    "duration": 19,
    "start_time": "2022-11-19T20:37:47.250Z"
   },
   {
    "duration": 9,
    "start_time": "2022-11-19T20:37:47.270Z"
   },
   {
    "duration": 25,
    "start_time": "2022-11-19T20:37:47.281Z"
   },
   {
    "duration": 220,
    "start_time": "2022-11-19T20:37:47.308Z"
   },
   {
    "duration": 377,
    "start_time": "2022-11-19T20:37:47.530Z"
   },
   {
    "duration": 320,
    "start_time": "2022-11-19T20:37:47.909Z"
   },
   {
    "duration": 343,
    "start_time": "2022-11-19T20:37:48.231Z"
   },
   {
    "duration": 303,
    "start_time": "2022-11-19T20:37:48.576Z"
   },
   {
    "duration": 26,
    "start_time": "2022-11-19T20:37:48.881Z"
   },
   {
    "duration": 426,
    "start_time": "2022-11-19T20:37:48.909Z"
   },
   {
    "duration": 276,
    "start_time": "2022-11-19T20:37:49.336Z"
   },
   {
    "duration": 275,
    "start_time": "2022-11-19T20:37:49.614Z"
   },
   {
    "duration": 293,
    "start_time": "2022-11-19T20:37:49.893Z"
   },
   {
    "duration": 4,
    "start_time": "2022-11-19T20:37:50.188Z"
   },
   {
    "duration": 4,
    "start_time": "2022-11-19T20:37:50.205Z"
   },
   {
    "duration": 18,
    "start_time": "2022-11-19T20:37:50.211Z"
   },
   {
    "duration": 10,
    "start_time": "2022-11-19T20:37:50.230Z"
   },
   {
    "duration": 17,
    "start_time": "2022-11-19T20:37:50.241Z"
   },
   {
    "duration": 420,
    "start_time": "2022-11-19T20:37:50.259Z"
   },
   {
    "duration": 291,
    "start_time": "2022-11-19T20:37:50.680Z"
   },
   {
    "duration": 204,
    "start_time": "2022-11-19T20:37:50.973Z"
   },
   {
    "duration": 9,
    "start_time": "2022-11-19T20:37:51.179Z"
   },
   {
    "duration": 1534,
    "start_time": "2022-11-19T20:37:51.190Z"
   },
   {
    "duration": 9,
    "start_time": "2022-11-19T20:37:52.725Z"
   },
   {
    "duration": 11,
    "start_time": "2022-11-19T20:37:52.736Z"
   },
   {
    "duration": 312,
    "start_time": "2022-11-19T20:37:52.748Z"
   },
   {
    "duration": 13,
    "start_time": "2022-11-19T20:37:53.062Z"
   },
   {
    "duration": 318,
    "start_time": "2022-11-19T20:37:53.077Z"
   },
   {
    "duration": 2,
    "start_time": "2022-11-19T20:37:53.396Z"
   },
   {
    "duration": 2914,
    "start_time": "2022-11-19T20:37:53.400Z"
   },
   {
    "duration": 12,
    "start_time": "2022-11-19T20:37:56.316Z"
   },
   {
    "duration": 233,
    "start_time": "2022-11-19T20:37:56.330Z"
   },
   {
    "duration": 14,
    "start_time": "2022-11-19T20:37:56.565Z"
   },
   {
    "duration": 129,
    "start_time": "2022-11-19T20:37:56.581Z"
   },
   {
    "duration": 0,
    "start_time": "2022-11-19T20:37:56.711Z"
   },
   {
    "duration": 0,
    "start_time": "2022-11-19T20:37:56.713Z"
   },
   {
    "duration": 0,
    "start_time": "2022-11-19T20:37:56.714Z"
   },
   {
    "duration": 0,
    "start_time": "2022-11-19T20:37:56.715Z"
   },
   {
    "duration": 0,
    "start_time": "2022-11-19T20:37:56.716Z"
   },
   {
    "duration": 0,
    "start_time": "2022-11-19T20:37:56.717Z"
   },
   {
    "duration": 0,
    "start_time": "2022-11-19T20:37:56.718Z"
   },
   {
    "duration": 0,
    "start_time": "2022-11-19T20:37:56.719Z"
   },
   {
    "duration": 0,
    "start_time": "2022-11-19T20:37:56.720Z"
   },
   {
    "duration": 0,
    "start_time": "2022-11-19T20:37:56.721Z"
   },
   {
    "duration": 0,
    "start_time": "2022-11-19T20:37:56.722Z"
   },
   {
    "duration": 0,
    "start_time": "2022-11-19T20:37:56.723Z"
   },
   {
    "duration": 1212,
    "start_time": "2022-11-19T20:38:07.204Z"
   },
   {
    "duration": 57,
    "start_time": "2022-11-19T20:38:08.419Z"
   },
   {
    "duration": 32,
    "start_time": "2022-11-19T20:38:08.481Z"
   },
   {
    "duration": 21,
    "start_time": "2022-11-19T20:38:08.514Z"
   },
   {
    "duration": 13,
    "start_time": "2022-11-19T20:38:08.536Z"
   },
   {
    "duration": 1002,
    "start_time": "2022-11-19T20:38:08.550Z"
   },
   {
    "duration": 4,
    "start_time": "2022-11-19T20:38:09.554Z"
   },
   {
    "duration": 25,
    "start_time": "2022-11-19T20:38:09.560Z"
   },
   {
    "duration": 16,
    "start_time": "2022-11-19T20:38:09.588Z"
   },
   {
    "duration": 15,
    "start_time": "2022-11-19T20:38:09.606Z"
   },
   {
    "duration": 29,
    "start_time": "2022-11-19T20:38:09.622Z"
   },
   {
    "duration": 14,
    "start_time": "2022-11-19T20:38:09.652Z"
   },
   {
    "duration": 24,
    "start_time": "2022-11-19T20:38:09.668Z"
   },
   {
    "duration": 23,
    "start_time": "2022-11-19T20:38:09.694Z"
   },
   {
    "duration": 21,
    "start_time": "2022-11-19T20:38:09.718Z"
   },
   {
    "duration": 25,
    "start_time": "2022-11-19T20:38:09.740Z"
   },
   {
    "duration": 11,
    "start_time": "2022-11-19T20:38:09.767Z"
   },
   {
    "duration": 15,
    "start_time": "2022-11-19T20:38:09.779Z"
   },
   {
    "duration": 167,
    "start_time": "2022-11-19T20:38:09.796Z"
   },
   {
    "duration": 393,
    "start_time": "2022-11-19T20:38:09.965Z"
   },
   {
    "duration": 293,
    "start_time": "2022-11-19T20:38:10.360Z"
   },
   {
    "duration": 301,
    "start_time": "2022-11-19T20:38:10.655Z"
   },
   {
    "duration": 311,
    "start_time": "2022-11-19T20:38:10.958Z"
   },
   {
    "duration": 19,
    "start_time": "2022-11-19T20:38:11.271Z"
   },
   {
    "duration": 423,
    "start_time": "2022-11-19T20:38:11.291Z"
   },
   {
    "duration": 291,
    "start_time": "2022-11-19T20:38:11.716Z"
   },
   {
    "duration": 322,
    "start_time": "2022-11-19T20:38:12.011Z"
   },
   {
    "duration": 290,
    "start_time": "2022-11-19T20:38:12.335Z"
   },
   {
    "duration": 4,
    "start_time": "2022-11-19T20:38:12.627Z"
   },
   {
    "duration": 8,
    "start_time": "2022-11-19T20:38:12.632Z"
   },
   {
    "duration": 24,
    "start_time": "2022-11-19T20:38:12.642Z"
   },
   {
    "duration": 7,
    "start_time": "2022-11-19T20:38:12.667Z"
   },
   {
    "duration": 28,
    "start_time": "2022-11-19T20:38:12.676Z"
   },
   {
    "duration": 431,
    "start_time": "2022-11-19T20:38:12.706Z"
   },
   {
    "duration": 280,
    "start_time": "2022-11-19T20:38:13.140Z"
   },
   {
    "duration": 191,
    "start_time": "2022-11-19T20:38:13.421Z"
   },
   {
    "duration": 8,
    "start_time": "2022-11-19T20:38:13.614Z"
   },
   {
    "duration": 1568,
    "start_time": "2022-11-19T20:38:13.624Z"
   },
   {
    "duration": 13,
    "start_time": "2022-11-19T20:38:15.195Z"
   },
   {
    "duration": 9,
    "start_time": "2022-11-19T20:38:15.209Z"
   },
   {
    "duration": 291,
    "start_time": "2022-11-19T20:38:15.219Z"
   },
   {
    "duration": 15,
    "start_time": "2022-11-19T20:38:15.511Z"
   },
   {
    "duration": 295,
    "start_time": "2022-11-19T20:38:15.528Z"
   },
   {
    "duration": 3,
    "start_time": "2022-11-19T20:38:15.824Z"
   },
   {
    "duration": 2935,
    "start_time": "2022-11-19T20:38:15.829Z"
   },
   {
    "duration": 12,
    "start_time": "2022-11-19T20:38:18.765Z"
   },
   {
    "duration": 233,
    "start_time": "2022-11-19T20:38:18.779Z"
   },
   {
    "duration": 19,
    "start_time": "2022-11-19T20:38:19.014Z"
   },
   {
    "duration": 148,
    "start_time": "2022-11-19T20:38:19.035Z"
   },
   {
    "duration": 0,
    "start_time": "2022-11-19T20:38:19.185Z"
   },
   {
    "duration": 0,
    "start_time": "2022-11-19T20:38:19.187Z"
   },
   {
    "duration": 0,
    "start_time": "2022-11-19T20:38:19.188Z"
   },
   {
    "duration": 0,
    "start_time": "2022-11-19T20:38:19.190Z"
   },
   {
    "duration": 0,
    "start_time": "2022-11-19T20:38:19.191Z"
   },
   {
    "duration": 0,
    "start_time": "2022-11-19T20:38:19.204Z"
   },
   {
    "duration": 1,
    "start_time": "2022-11-19T20:38:19.205Z"
   },
   {
    "duration": 0,
    "start_time": "2022-11-19T20:38:19.207Z"
   },
   {
    "duration": 0,
    "start_time": "2022-11-19T20:38:19.207Z"
   },
   {
    "duration": 0,
    "start_time": "2022-11-19T20:38:19.208Z"
   },
   {
    "duration": 0,
    "start_time": "2022-11-19T20:38:19.209Z"
   },
   {
    "duration": 0,
    "start_time": "2022-11-19T20:38:19.210Z"
   },
   {
    "duration": 1185,
    "start_time": "2022-11-19T20:38:44.508Z"
   },
   {
    "duration": 52,
    "start_time": "2022-11-19T20:38:45.695Z"
   },
   {
    "duration": 29,
    "start_time": "2022-11-19T20:38:45.749Z"
   },
   {
    "duration": 19,
    "start_time": "2022-11-19T20:38:45.779Z"
   },
   {
    "duration": 6,
    "start_time": "2022-11-19T20:38:45.799Z"
   },
   {
    "duration": 1026,
    "start_time": "2022-11-19T20:38:45.807Z"
   },
   {
    "duration": 4,
    "start_time": "2022-11-19T20:38:46.835Z"
   },
   {
    "duration": 18,
    "start_time": "2022-11-19T20:38:46.841Z"
   },
   {
    "duration": 13,
    "start_time": "2022-11-19T20:38:46.861Z"
   },
   {
    "duration": 12,
    "start_time": "2022-11-19T20:38:46.876Z"
   },
   {
    "duration": 15,
    "start_time": "2022-11-19T20:38:46.905Z"
   },
   {
    "duration": 7,
    "start_time": "2022-11-19T20:38:46.922Z"
   },
   {
    "duration": 17,
    "start_time": "2022-11-19T20:38:46.931Z"
   },
   {
    "duration": 14,
    "start_time": "2022-11-19T20:38:46.950Z"
   },
   {
    "duration": 43,
    "start_time": "2022-11-19T20:38:46.966Z"
   },
   {
    "duration": 16,
    "start_time": "2022-11-19T20:38:47.011Z"
   },
   {
    "duration": 10,
    "start_time": "2022-11-19T20:38:47.029Z"
   },
   {
    "duration": 4,
    "start_time": "2022-11-19T20:38:47.041Z"
   },
   {
    "duration": 177,
    "start_time": "2022-11-19T20:38:47.046Z"
   },
   {
    "duration": 414,
    "start_time": "2022-11-19T20:38:47.224Z"
   },
   {
    "duration": 305,
    "start_time": "2022-11-19T20:38:47.640Z"
   },
   {
    "duration": 328,
    "start_time": "2022-11-19T20:38:47.947Z"
   },
   {
    "duration": 348,
    "start_time": "2022-11-19T20:38:48.278Z"
   },
   {
    "duration": 20,
    "start_time": "2022-11-19T20:38:48.628Z"
   },
   {
    "duration": 443,
    "start_time": "2022-11-19T20:38:48.650Z"
   },
   {
    "duration": 311,
    "start_time": "2022-11-19T20:38:49.095Z"
   },
   {
    "duration": 286,
    "start_time": "2022-11-19T20:38:49.408Z"
   },
   {
    "duration": 288,
    "start_time": "2022-11-19T20:38:49.704Z"
   },
   {
    "duration": 12,
    "start_time": "2022-11-19T20:38:49.994Z"
   },
   {
    "duration": 11,
    "start_time": "2022-11-19T20:38:50.007Z"
   },
   {
    "duration": 21,
    "start_time": "2022-11-19T20:38:50.020Z"
   },
   {
    "duration": 12,
    "start_time": "2022-11-19T20:38:50.043Z"
   },
   {
    "duration": 19,
    "start_time": "2022-11-19T20:38:50.057Z"
   },
   {
    "duration": 412,
    "start_time": "2022-11-19T20:38:50.077Z"
   },
   {
    "duration": 272,
    "start_time": "2022-11-19T20:38:50.491Z"
   },
   {
    "duration": 174,
    "start_time": "2022-11-19T20:38:50.765Z"
   },
   {
    "duration": 9,
    "start_time": "2022-11-19T20:38:50.940Z"
   },
   {
    "duration": 1484,
    "start_time": "2022-11-19T20:38:50.950Z"
   },
   {
    "duration": 8,
    "start_time": "2022-11-19T20:38:52.436Z"
   },
   {
    "duration": 7,
    "start_time": "2022-11-19T20:38:52.446Z"
   },
   {
    "duration": 296,
    "start_time": "2022-11-19T20:38:52.454Z"
   },
   {
    "duration": 13,
    "start_time": "2022-11-19T20:38:52.752Z"
   },
   {
    "duration": 304,
    "start_time": "2022-11-19T20:38:52.766Z"
   },
   {
    "duration": 2,
    "start_time": "2022-11-19T20:38:53.072Z"
   },
   {
    "duration": 2777,
    "start_time": "2022-11-19T20:38:53.076Z"
   },
   {
    "duration": 12,
    "start_time": "2022-11-19T20:38:55.855Z"
   },
   {
    "duration": 228,
    "start_time": "2022-11-19T20:38:55.869Z"
   },
   {
    "duration": 15,
    "start_time": "2022-11-19T20:38:56.099Z"
   },
   {
    "duration": 125,
    "start_time": "2022-11-19T20:38:56.116Z"
   },
   {
    "duration": 0,
    "start_time": "2022-11-19T20:38:56.244Z"
   },
   {
    "duration": 0,
    "start_time": "2022-11-19T20:38:56.245Z"
   },
   {
    "duration": 0,
    "start_time": "2022-11-19T20:38:56.247Z"
   },
   {
    "duration": 0,
    "start_time": "2022-11-19T20:38:56.248Z"
   },
   {
    "duration": 0,
    "start_time": "2022-11-19T20:38:56.249Z"
   },
   {
    "duration": 0,
    "start_time": "2022-11-19T20:38:56.251Z"
   },
   {
    "duration": 0,
    "start_time": "2022-11-19T20:38:56.252Z"
   },
   {
    "duration": 0,
    "start_time": "2022-11-19T20:38:56.254Z"
   },
   {
    "duration": 0,
    "start_time": "2022-11-19T20:38:56.255Z"
   },
   {
    "duration": 0,
    "start_time": "2022-11-19T20:38:56.257Z"
   },
   {
    "duration": 0,
    "start_time": "2022-11-19T20:38:56.258Z"
   },
   {
    "duration": 0,
    "start_time": "2022-11-19T20:38:56.260Z"
   },
   {
    "duration": 16,
    "start_time": "2022-11-19T20:39:13.459Z"
   },
   {
    "duration": 149,
    "start_time": "2022-11-19T20:39:21.972Z"
   },
   {
    "duration": 317,
    "start_time": "2022-11-19T20:39:35.189Z"
   },
   {
    "duration": 355,
    "start_time": "2022-11-19T20:39:59.778Z"
   },
   {
    "duration": 14,
    "start_time": "2022-11-19T20:40:35.154Z"
   },
   {
    "duration": 34,
    "start_time": "2022-11-19T20:40:36.152Z"
   },
   {
    "duration": 284,
    "start_time": "2022-11-19T20:41:01.941Z"
   },
   {
    "duration": 308,
    "start_time": "2022-11-19T20:41:06.749Z"
   },
   {
    "duration": 320,
    "start_time": "2022-11-19T20:42:11.859Z"
   },
   {
    "duration": 29,
    "start_time": "2022-11-19T20:42:33.242Z"
   },
   {
    "duration": 286,
    "start_time": "2022-11-19T20:43:09.804Z"
   },
   {
    "duration": 321,
    "start_time": "2022-11-19T20:44:03.156Z"
   },
   {
    "duration": 309,
    "start_time": "2022-11-19T20:45:25.296Z"
   },
   {
    "duration": 325,
    "start_time": "2022-11-19T20:45:34.785Z"
   },
   {
    "duration": 19,
    "start_time": "2022-11-19T20:46:12.117Z"
   },
   {
    "duration": 310,
    "start_time": "2022-11-19T20:46:31.185Z"
   },
   {
    "duration": 261,
    "start_time": "2022-11-19T20:47:35.932Z"
   },
   {
    "duration": 471,
    "start_time": "2022-11-19T20:47:41.608Z"
   },
   {
    "duration": 303,
    "start_time": "2022-11-19T20:47:46.585Z"
   },
   {
    "duration": 6,
    "start_time": "2022-11-19T20:52:07.800Z"
   },
   {
    "duration": 14,
    "start_time": "2022-11-19T20:52:11.941Z"
   },
   {
    "duration": 10,
    "start_time": "2022-11-19T20:54:32.726Z"
   },
   {
    "duration": 13,
    "start_time": "2022-11-19T20:55:14.257Z"
   },
   {
    "duration": 26,
    "start_time": "2022-11-19T20:55:35.691Z"
   },
   {
    "duration": 12,
    "start_time": "2022-11-19T20:56:11.196Z"
   },
   {
    "duration": 12,
    "start_time": "2022-11-19T20:56:39.836Z"
   },
   {
    "duration": 13,
    "start_time": "2022-11-19T20:58:51.104Z"
   },
   {
    "duration": 4,
    "start_time": "2022-11-19T20:58:56.701Z"
   },
   {
    "duration": 12,
    "start_time": "2022-11-19T20:59:02.957Z"
   },
   {
    "duration": 12,
    "start_time": "2022-11-19T20:59:39.571Z"
   },
   {
    "duration": 11,
    "start_time": "2022-11-19T21:00:01.019Z"
   },
   {
    "duration": 12,
    "start_time": "2022-11-19T21:00:19.624Z"
   },
   {
    "duration": 14,
    "start_time": "2022-11-19T21:00:41.733Z"
   },
   {
    "duration": 14,
    "start_time": "2022-11-19T21:01:31.624Z"
   },
   {
    "duration": 14,
    "start_time": "2022-11-19T21:02:48.358Z"
   },
   {
    "duration": 15,
    "start_time": "2022-11-19T21:02:55.462Z"
   },
   {
    "duration": 13,
    "start_time": "2022-11-19T21:03:37.780Z"
   },
   {
    "duration": 13,
    "start_time": "2022-11-19T21:04:38.909Z"
   },
   {
    "duration": 13,
    "start_time": "2022-11-19T21:05:01.987Z"
   },
   {
    "duration": 4,
    "start_time": "2022-11-19T21:08:05.678Z"
   },
   {
    "duration": 1142,
    "start_time": "2022-11-19T21:09:18.685Z"
   },
   {
    "duration": 51,
    "start_time": "2022-11-19T21:09:19.829Z"
   },
   {
    "duration": 1184,
    "start_time": "2022-11-19T21:09:19.882Z"
   },
   {
    "duration": 0,
    "start_time": "2022-11-19T21:09:21.069Z"
   },
   {
    "duration": 0,
    "start_time": "2022-11-19T21:09:21.070Z"
   },
   {
    "duration": 0,
    "start_time": "2022-11-19T21:09:21.071Z"
   },
   {
    "duration": 0,
    "start_time": "2022-11-19T21:09:21.072Z"
   },
   {
    "duration": 0,
    "start_time": "2022-11-19T21:09:21.073Z"
   },
   {
    "duration": 0,
    "start_time": "2022-11-19T21:09:21.074Z"
   },
   {
    "duration": 0,
    "start_time": "2022-11-19T21:09:21.075Z"
   },
   {
    "duration": 0,
    "start_time": "2022-11-19T21:09:21.076Z"
   },
   {
    "duration": 0,
    "start_time": "2022-11-19T21:09:21.077Z"
   },
   {
    "duration": 0,
    "start_time": "2022-11-19T21:09:21.078Z"
   },
   {
    "duration": 0,
    "start_time": "2022-11-19T21:09:21.079Z"
   },
   {
    "duration": 0,
    "start_time": "2022-11-19T21:09:21.080Z"
   },
   {
    "duration": 0,
    "start_time": "2022-11-19T21:09:21.080Z"
   },
   {
    "duration": 0,
    "start_time": "2022-11-19T21:09:21.081Z"
   },
   {
    "duration": 0,
    "start_time": "2022-11-19T21:09:21.082Z"
   },
   {
    "duration": 0,
    "start_time": "2022-11-19T21:09:21.083Z"
   },
   {
    "duration": 0,
    "start_time": "2022-11-19T21:09:21.084Z"
   },
   {
    "duration": 0,
    "start_time": "2022-11-19T21:09:21.085Z"
   },
   {
    "duration": 0,
    "start_time": "2022-11-19T21:09:21.086Z"
   },
   {
    "duration": 0,
    "start_time": "2022-11-19T21:09:21.087Z"
   },
   {
    "duration": 0,
    "start_time": "2022-11-19T21:09:21.088Z"
   },
   {
    "duration": 0,
    "start_time": "2022-11-19T21:09:21.089Z"
   },
   {
    "duration": 0,
    "start_time": "2022-11-19T21:09:21.090Z"
   },
   {
    "duration": 0,
    "start_time": "2022-11-19T21:09:21.091Z"
   },
   {
    "duration": 0,
    "start_time": "2022-11-19T21:09:21.092Z"
   },
   {
    "duration": 0,
    "start_time": "2022-11-19T21:09:21.093Z"
   },
   {
    "duration": 0,
    "start_time": "2022-11-19T21:09:21.094Z"
   },
   {
    "duration": 0,
    "start_time": "2022-11-19T21:09:21.095Z"
   },
   {
    "duration": 0,
    "start_time": "2022-11-19T21:09:21.096Z"
   },
   {
    "duration": 0,
    "start_time": "2022-11-19T21:09:21.097Z"
   },
   {
    "duration": 0,
    "start_time": "2022-11-19T21:09:21.098Z"
   },
   {
    "duration": 0,
    "start_time": "2022-11-19T21:09:21.099Z"
   },
   {
    "duration": 0,
    "start_time": "2022-11-19T21:09:21.100Z"
   },
   {
    "duration": 0,
    "start_time": "2022-11-19T21:09:21.101Z"
   },
   {
    "duration": 0,
    "start_time": "2022-11-19T21:09:21.102Z"
   },
   {
    "duration": 0,
    "start_time": "2022-11-19T21:09:21.102Z"
   },
   {
    "duration": 0,
    "start_time": "2022-11-19T21:09:21.104Z"
   },
   {
    "duration": 0,
    "start_time": "2022-11-19T21:09:21.104Z"
   },
   {
    "duration": 0,
    "start_time": "2022-11-19T21:09:21.105Z"
   },
   {
    "duration": 0,
    "start_time": "2022-11-19T21:09:21.106Z"
   },
   {
    "duration": 0,
    "start_time": "2022-11-19T21:09:21.107Z"
   },
   {
    "duration": 0,
    "start_time": "2022-11-19T21:09:21.107Z"
   },
   {
    "duration": 0,
    "start_time": "2022-11-19T21:09:21.108Z"
   },
   {
    "duration": 1,
    "start_time": "2022-11-19T21:09:21.109Z"
   },
   {
    "duration": 0,
    "start_time": "2022-11-19T21:09:21.111Z"
   },
   {
    "duration": 0,
    "start_time": "2022-11-19T21:09:21.112Z"
   },
   {
    "duration": 0,
    "start_time": "2022-11-19T21:09:21.113Z"
   },
   {
    "duration": 0,
    "start_time": "2022-11-19T21:09:21.114Z"
   },
   {
    "duration": 0,
    "start_time": "2022-11-19T21:09:21.115Z"
   },
   {
    "duration": 0,
    "start_time": "2022-11-19T21:09:21.116Z"
   },
   {
    "duration": 0,
    "start_time": "2022-11-19T21:09:21.117Z"
   },
   {
    "duration": 0,
    "start_time": "2022-11-19T21:09:21.117Z"
   },
   {
    "duration": 0,
    "start_time": "2022-11-19T21:09:21.118Z"
   },
   {
    "duration": 0,
    "start_time": "2022-11-19T21:09:21.119Z"
   },
   {
    "duration": 0,
    "start_time": "2022-11-19T21:09:21.120Z"
   },
   {
    "duration": 0,
    "start_time": "2022-11-19T21:09:21.121Z"
   },
   {
    "duration": 0,
    "start_time": "2022-11-19T21:09:21.122Z"
   },
   {
    "duration": 0,
    "start_time": "2022-11-19T21:09:21.123Z"
   },
   {
    "duration": 0,
    "start_time": "2022-11-19T21:09:21.124Z"
   },
   {
    "duration": 0,
    "start_time": "2022-11-19T21:09:21.125Z"
   },
   {
    "duration": 11,
    "start_time": "2022-11-19T21:09:30.358Z"
   },
   {
    "duration": 30,
    "start_time": "2022-11-19T21:10:04.743Z"
   },
   {
    "duration": 20,
    "start_time": "2022-11-19T21:10:05.151Z"
   },
   {
    "duration": 4,
    "start_time": "2022-11-19T21:10:10.022Z"
   },
   {
    "duration": 946,
    "start_time": "2022-11-19T21:10:10.444Z"
   },
   {
    "duration": 6,
    "start_time": "2022-11-19T21:10:14.898Z"
   },
   {
    "duration": 5,
    "start_time": "2022-11-19T21:10:20.297Z"
   },
   {
    "duration": 1156,
    "start_time": "2022-11-19T21:11:46.849Z"
   },
   {
    "duration": 50,
    "start_time": "2022-11-19T21:11:48.007Z"
   },
   {
    "duration": 2,
    "start_time": "2022-11-19T21:11:48.059Z"
   },
   {
    "duration": 34,
    "start_time": "2022-11-19T21:11:48.063Z"
   },
   {
    "duration": 20,
    "start_time": "2022-11-19T21:11:48.099Z"
   },
   {
    "duration": 5,
    "start_time": "2022-11-19T21:11:48.120Z"
   },
   {
    "duration": 1077,
    "start_time": "2022-11-19T21:11:48.127Z"
   },
   {
    "duration": 4,
    "start_time": "2022-11-19T21:11:49.206Z"
   },
   {
    "duration": 15,
    "start_time": "2022-11-19T21:11:49.212Z"
   },
   {
    "duration": 14,
    "start_time": "2022-11-19T21:11:49.229Z"
   },
   {
    "duration": 7,
    "start_time": "2022-11-19T21:11:49.245Z"
   },
   {
    "duration": 51,
    "start_time": "2022-11-19T21:11:49.254Z"
   },
   {
    "duration": 7,
    "start_time": "2022-11-19T21:11:49.307Z"
   },
   {
    "duration": 23,
    "start_time": "2022-11-19T21:11:49.315Z"
   },
   {
    "duration": 13,
    "start_time": "2022-11-19T21:11:49.340Z"
   },
   {
    "duration": 11,
    "start_time": "2022-11-19T21:11:49.355Z"
   },
   {
    "duration": 43,
    "start_time": "2022-11-19T21:11:49.368Z"
   },
   {
    "duration": 11,
    "start_time": "2022-11-19T21:11:49.413Z"
   },
   {
    "duration": 4,
    "start_time": "2022-11-19T21:11:49.425Z"
   },
   {
    "duration": 185,
    "start_time": "2022-11-19T21:11:49.431Z"
   },
   {
    "duration": 390,
    "start_time": "2022-11-19T21:11:49.617Z"
   },
   {
    "duration": 297,
    "start_time": "2022-11-19T21:11:50.009Z"
   },
   {
    "duration": 280,
    "start_time": "2022-11-19T21:11:50.308Z"
   },
   {
    "duration": 294,
    "start_time": "2022-11-19T21:11:50.590Z"
   },
   {
    "duration": 26,
    "start_time": "2022-11-19T21:11:50.886Z"
   },
   {
    "duration": 394,
    "start_time": "2022-11-19T21:11:50.913Z"
   },
   {
    "duration": 284,
    "start_time": "2022-11-19T21:11:51.309Z"
   },
   {
    "duration": 291,
    "start_time": "2022-11-19T21:11:51.597Z"
   },
   {
    "duration": 294,
    "start_time": "2022-11-19T21:11:51.890Z"
   },
   {
    "duration": 3,
    "start_time": "2022-11-19T21:11:52.186Z"
   },
   {
    "duration": 15,
    "start_time": "2022-11-19T21:11:52.191Z"
   },
   {
    "duration": 17,
    "start_time": "2022-11-19T21:11:52.207Z"
   },
   {
    "duration": 5,
    "start_time": "2022-11-19T21:11:52.225Z"
   },
   {
    "duration": 14,
    "start_time": "2022-11-19T21:11:52.232Z"
   },
   {
    "duration": 425,
    "start_time": "2022-11-19T21:11:52.247Z"
   },
   {
    "duration": 279,
    "start_time": "2022-11-19T21:11:52.674Z"
   },
   {
    "duration": 173,
    "start_time": "2022-11-19T21:11:52.954Z"
   },
   {
    "duration": 9,
    "start_time": "2022-11-19T21:11:53.128Z"
   },
   {
    "duration": 1434,
    "start_time": "2022-11-19T21:11:53.138Z"
   },
   {
    "duration": 9,
    "start_time": "2022-11-19T21:11:54.573Z"
   },
   {
    "duration": 21,
    "start_time": "2022-11-19T21:11:54.583Z"
   },
   {
    "duration": 300,
    "start_time": "2022-11-19T21:11:54.606Z"
   },
   {
    "duration": 14,
    "start_time": "2022-11-19T21:11:54.908Z"
   },
   {
    "duration": 317,
    "start_time": "2022-11-19T21:11:54.923Z"
   },
   {
    "duration": 3,
    "start_time": "2022-11-19T21:11:55.241Z"
   },
   {
    "duration": 2826,
    "start_time": "2022-11-19T21:11:55.245Z"
   },
   {
    "duration": 13,
    "start_time": "2022-11-19T21:11:58.073Z"
   },
   {
    "duration": 232,
    "start_time": "2022-11-19T21:11:58.087Z"
   },
   {
    "duration": 13,
    "start_time": "2022-11-19T21:11:58.321Z"
   },
   {
    "duration": 295,
    "start_time": "2022-11-19T21:11:58.335Z"
   },
   {
    "duration": 289,
    "start_time": "2022-11-19T21:11:58.631Z"
   },
   {
    "duration": 14,
    "start_time": "2022-11-19T21:11:58.921Z"
   },
   {
    "duration": 283,
    "start_time": "2022-11-19T21:11:58.936Z"
   },
   {
    "duration": 286,
    "start_time": "2022-11-19T21:11:59.221Z"
   },
   {
    "duration": 287,
    "start_time": "2022-11-19T21:11:59.509Z"
   },
   {
    "duration": 309,
    "start_time": "2022-11-19T21:11:59.798Z"
   },
   {
    "duration": 15,
    "start_time": "2022-11-19T21:12:00.109Z"
   },
   {
    "duration": 381,
    "start_time": "2022-11-19T21:12:00.126Z"
   },
   {
    "duration": 298,
    "start_time": "2022-11-19T21:12:00.509Z"
   },
   {
    "duration": 302,
    "start_time": "2022-11-19T21:12:00.808Z"
   },
   {
    "duration": 14,
    "start_time": "2022-11-19T21:12:01.112Z"
   },
   {
    "duration": 15,
    "start_time": "2022-11-19T21:12:01.127Z"
   },
   {
    "duration": 39,
    "start_time": "2022-11-19T21:12:01.144Z"
   },
   {
    "duration": 16,
    "start_time": "2022-11-19T21:15:53.402Z"
   },
   {
    "duration": 4,
    "start_time": "2022-11-19T21:16:34.181Z"
   },
   {
    "duration": 3,
    "start_time": "2022-11-19T21:16:38.329Z"
   },
   {
    "duration": 3,
    "start_time": "2022-11-19T21:16:39.052Z"
   },
   {
    "duration": 3,
    "start_time": "2022-11-19T21:16:43.835Z"
   },
   {
    "duration": 46,
    "start_time": "2022-11-19T21:16:44.335Z"
   },
   {
    "duration": 2,
    "start_time": "2022-11-19T21:16:44.940Z"
   },
   {
    "duration": 1157,
    "start_time": "2022-11-19T21:16:45.757Z"
   },
   {
    "duration": 5,
    "start_time": "2022-11-19T21:16:55.484Z"
   },
   {
    "duration": 4,
    "start_time": "2022-11-19T21:17:15.543Z"
   },
   {
    "duration": 4,
    "start_time": "2022-11-19T21:17:35.966Z"
   },
   {
    "duration": 26,
    "start_time": "2022-11-19T21:18:12.789Z"
   },
   {
    "duration": 29,
    "start_time": "2022-11-19T21:18:56.872Z"
   },
   {
    "duration": 13,
    "start_time": "2022-11-19T21:19:04.336Z"
   },
   {
    "duration": 4,
    "start_time": "2022-11-19T21:19:54.678Z"
   },
   {
    "duration": 32,
    "start_time": "2022-11-19T21:20:07.423Z"
   },
   {
    "duration": 27,
    "start_time": "2022-11-19T21:20:55.318Z"
   },
   {
    "duration": 1117,
    "start_time": "2022-11-19T21:21:07.669Z"
   },
   {
    "duration": 50,
    "start_time": "2022-11-19T21:21:08.787Z"
   },
   {
    "duration": 27,
    "start_time": "2022-11-19T21:21:08.841Z"
   },
   {
    "duration": 19,
    "start_time": "2022-11-19T21:21:08.869Z"
   },
   {
    "duration": 16,
    "start_time": "2022-11-19T21:21:08.889Z"
   },
   {
    "duration": 965,
    "start_time": "2022-11-19T21:21:08.907Z"
   },
   {
    "duration": 4,
    "start_time": "2022-11-19T21:21:09.874Z"
   },
   {
    "duration": 25,
    "start_time": "2022-11-19T21:21:09.880Z"
   },
   {
    "duration": 11,
    "start_time": "2022-11-19T21:21:09.907Z"
   },
   {
    "duration": 5,
    "start_time": "2022-11-19T21:21:09.920Z"
   },
   {
    "duration": 14,
    "start_time": "2022-11-19T21:21:09.926Z"
   },
   {
    "duration": 7,
    "start_time": "2022-11-19T21:21:09.941Z"
   },
   {
    "duration": 15,
    "start_time": "2022-11-19T21:21:09.949Z"
   },
   {
    "duration": 46,
    "start_time": "2022-11-19T21:21:09.966Z"
   },
   {
    "duration": 15,
    "start_time": "2022-11-19T21:21:10.014Z"
   },
   {
    "duration": 19,
    "start_time": "2022-11-19T21:21:10.031Z"
   },
   {
    "duration": 12,
    "start_time": "2022-11-19T21:21:10.052Z"
   },
   {
    "duration": 5,
    "start_time": "2022-11-19T21:21:10.065Z"
   },
   {
    "duration": 203,
    "start_time": "2022-11-19T21:21:10.072Z"
   },
   {
    "duration": 359,
    "start_time": "2022-11-19T21:21:10.277Z"
   },
   {
    "duration": 288,
    "start_time": "2022-11-19T21:21:10.638Z"
   },
   {
    "duration": 304,
    "start_time": "2022-11-19T21:21:10.928Z"
   },
   {
    "duration": 292,
    "start_time": "2022-11-19T21:21:11.234Z"
   },
   {
    "duration": 19,
    "start_time": "2022-11-19T21:21:11.527Z"
   },
   {
    "duration": 375,
    "start_time": "2022-11-19T21:21:11.548Z"
   },
   {
    "duration": 267,
    "start_time": "2022-11-19T21:21:11.925Z"
   },
   {
    "duration": 282,
    "start_time": "2022-11-19T21:21:12.195Z"
   },
   {
    "duration": 272,
    "start_time": "2022-11-19T21:21:12.479Z"
   },
   {
    "duration": 4,
    "start_time": "2022-11-19T21:21:12.752Z"
   },
   {
    "duration": 6,
    "start_time": "2022-11-19T21:21:12.758Z"
   },
   {
    "duration": 15,
    "start_time": "2022-11-19T21:21:12.765Z"
   },
   {
    "duration": 26,
    "start_time": "2022-11-19T21:21:12.782Z"
   },
   {
    "duration": 18,
    "start_time": "2022-11-19T21:21:12.809Z"
   },
   {
    "duration": 415,
    "start_time": "2022-11-19T21:21:12.829Z"
   },
   {
    "duration": 267,
    "start_time": "2022-11-19T21:21:13.245Z"
   },
   {
    "duration": 173,
    "start_time": "2022-11-19T21:21:13.513Z"
   },
   {
    "duration": 9,
    "start_time": "2022-11-19T21:21:13.687Z"
   },
   {
    "duration": 1456,
    "start_time": "2022-11-19T21:21:13.705Z"
   },
   {
    "duration": 9,
    "start_time": "2022-11-19T21:21:15.162Z"
   },
   {
    "duration": 8,
    "start_time": "2022-11-19T21:21:15.172Z"
   },
   {
    "duration": 308,
    "start_time": "2022-11-19T21:21:15.181Z"
   },
   {
    "duration": 17,
    "start_time": "2022-11-19T21:21:15.490Z"
   },
   {
    "duration": 286,
    "start_time": "2022-11-19T21:21:15.509Z"
   },
   {
    "duration": 9,
    "start_time": "2022-11-19T21:21:15.796Z"
   },
   {
    "duration": 2856,
    "start_time": "2022-11-19T21:21:15.806Z"
   },
   {
    "duration": 13,
    "start_time": "2022-11-19T21:21:18.663Z"
   },
   {
    "duration": 218,
    "start_time": "2022-11-19T21:21:18.678Z"
   },
   {
    "duration": 17,
    "start_time": "2022-11-19T21:21:18.898Z"
   },
   {
    "duration": 313,
    "start_time": "2022-11-19T21:21:18.917Z"
   },
   {
    "duration": 282,
    "start_time": "2022-11-19T21:21:19.232Z"
   },
   {
    "duration": 15,
    "start_time": "2022-11-19T21:21:19.516Z"
   },
   {
    "duration": 343,
    "start_time": "2022-11-19T21:21:19.532Z"
   },
   {
    "duration": 314,
    "start_time": "2022-11-19T21:21:19.877Z"
   },
   {
    "duration": 288,
    "start_time": "2022-11-19T21:21:20.193Z"
   },
   {
    "duration": 304,
    "start_time": "2022-11-19T21:21:20.483Z"
   },
   {
    "duration": 18,
    "start_time": "2022-11-19T21:21:20.788Z"
   },
   {
    "duration": 277,
    "start_time": "2022-11-19T21:21:20.807Z"
   },
   {
    "duration": 302,
    "start_time": "2022-11-19T21:21:21.086Z"
   },
   {
    "duration": 301,
    "start_time": "2022-11-19T21:21:21.390Z"
   },
   {
    "duration": 20,
    "start_time": "2022-11-19T21:21:21.693Z"
   },
   {
    "duration": 1250,
    "start_time": "2022-11-19T21:21:21.715Z"
   },
   {
    "duration": 0,
    "start_time": "2022-11-19T21:21:22.966Z"
   },
   {
    "duration": 6,
    "start_time": "2022-11-19T21:21:37.315Z"
   },
   {
    "duration": 4,
    "start_time": "2022-11-19T21:21:41.235Z"
   },
   {
    "duration": 5,
    "start_time": "2022-11-19T21:21:50.694Z"
   },
   {
    "duration": 10,
    "start_time": "2022-11-19T21:22:11.105Z"
   },
   {
    "duration": 4,
    "start_time": "2022-11-19T21:22:19.079Z"
   },
   {
    "duration": 15,
    "start_time": "2022-11-19T21:22:40.876Z"
   },
   {
    "duration": 15,
    "start_time": "2022-11-19T21:23:04.291Z"
   },
   {
    "duration": 12,
    "start_time": "2022-11-19T21:23:10.389Z"
   },
   {
    "duration": 12,
    "start_time": "2022-11-19T21:23:18.641Z"
   },
   {
    "duration": 12,
    "start_time": "2022-11-19T21:24:21.158Z"
   },
   {
    "duration": 14,
    "start_time": "2022-11-19T21:25:09.823Z"
   },
   {
    "duration": 9,
    "start_time": "2022-11-19T21:27:09.245Z"
   },
   {
    "duration": 10,
    "start_time": "2022-11-19T21:27:31.165Z"
   },
   {
    "duration": 11,
    "start_time": "2022-11-19T21:27:41.625Z"
   },
   {
    "duration": 1053,
    "start_time": "2022-11-19T21:27:53.145Z"
   },
   {
    "duration": 51,
    "start_time": "2022-11-19T21:27:54.200Z"
   },
   {
    "duration": 30,
    "start_time": "2022-11-19T21:27:54.253Z"
   },
   {
    "duration": 19,
    "start_time": "2022-11-19T21:27:54.285Z"
   },
   {
    "duration": 3,
    "start_time": "2022-11-19T21:27:54.306Z"
   },
   {
    "duration": 1111,
    "start_time": "2022-11-19T21:27:54.311Z"
   },
   {
    "duration": 4,
    "start_time": "2022-11-19T21:27:55.424Z"
   },
   {
    "duration": 15,
    "start_time": "2022-11-19T21:27:55.429Z"
   },
   {
    "duration": 11,
    "start_time": "2022-11-19T21:27:55.445Z"
   },
   {
    "duration": 6,
    "start_time": "2022-11-19T21:27:55.458Z"
   },
   {
    "duration": 41,
    "start_time": "2022-11-19T21:27:55.465Z"
   },
   {
    "duration": 6,
    "start_time": "2022-11-19T21:27:55.508Z"
   },
   {
    "duration": 15,
    "start_time": "2022-11-19T21:27:55.515Z"
   },
   {
    "duration": 14,
    "start_time": "2022-11-19T21:27:55.532Z"
   },
   {
    "duration": 15,
    "start_time": "2022-11-19T21:27:55.547Z"
   },
   {
    "duration": 42,
    "start_time": "2022-11-19T21:27:55.564Z"
   },
   {
    "duration": 12,
    "start_time": "2022-11-19T21:27:55.607Z"
   },
   {
    "duration": 4,
    "start_time": "2022-11-19T21:27:55.620Z"
   },
   {
    "duration": 170,
    "start_time": "2022-11-19T21:27:55.626Z"
   },
   {
    "duration": 395,
    "start_time": "2022-11-19T21:27:55.804Z"
   },
   {
    "duration": 306,
    "start_time": "2022-11-19T21:27:56.204Z"
   },
   {
    "duration": 298,
    "start_time": "2022-11-19T21:27:56.512Z"
   },
   {
    "duration": 307,
    "start_time": "2022-11-19T21:27:56.811Z"
   },
   {
    "duration": 19,
    "start_time": "2022-11-19T21:27:57.119Z"
   },
   {
    "duration": 448,
    "start_time": "2022-11-19T21:27:57.139Z"
   },
   {
    "duration": 260,
    "start_time": "2022-11-19T21:27:57.588Z"
   },
   {
    "duration": 279,
    "start_time": "2022-11-19T21:27:57.849Z"
   },
   {
    "duration": 303,
    "start_time": "2022-11-19T21:27:58.131Z"
   },
   {
    "duration": 3,
    "start_time": "2022-11-19T21:27:58.437Z"
   },
   {
    "duration": 6,
    "start_time": "2022-11-19T21:27:58.441Z"
   },
   {
    "duration": 15,
    "start_time": "2022-11-19T21:27:58.448Z"
   },
   {
    "duration": 6,
    "start_time": "2022-11-19T21:27:58.464Z"
   },
   {
    "duration": 39,
    "start_time": "2022-11-19T21:27:58.472Z"
   },
   {
    "duration": 400,
    "start_time": "2022-11-19T21:27:58.513Z"
   },
   {
    "duration": 269,
    "start_time": "2022-11-19T21:27:58.915Z"
   },
   {
    "duration": 159,
    "start_time": "2022-11-19T21:27:59.186Z"
   },
   {
    "duration": 9,
    "start_time": "2022-11-19T21:27:59.347Z"
   },
   {
    "duration": 1446,
    "start_time": "2022-11-19T21:27:59.358Z"
   },
   {
    "duration": 9,
    "start_time": "2022-11-19T21:28:00.806Z"
   },
   {
    "duration": 16,
    "start_time": "2022-11-19T21:28:00.816Z"
   },
   {
    "duration": 300,
    "start_time": "2022-11-19T21:28:00.833Z"
   },
   {
    "duration": 14,
    "start_time": "2022-11-19T21:28:01.135Z"
   },
   {
    "duration": 291,
    "start_time": "2022-11-19T21:28:01.150Z"
   },
   {
    "duration": 3,
    "start_time": "2022-11-19T21:28:01.442Z"
   },
   {
    "duration": 2750,
    "start_time": "2022-11-19T21:28:01.446Z"
   },
   {
    "duration": 12,
    "start_time": "2022-11-19T21:28:04.198Z"
   },
   {
    "duration": 219,
    "start_time": "2022-11-19T21:28:04.212Z"
   },
   {
    "duration": 14,
    "start_time": "2022-11-19T21:28:04.433Z"
   },
   {
    "duration": 334,
    "start_time": "2022-11-19T21:28:04.449Z"
   },
   {
    "duration": 341,
    "start_time": "2022-11-19T21:28:04.784Z"
   },
   {
    "duration": 14,
    "start_time": "2022-11-19T21:28:05.127Z"
   },
   {
    "duration": 325,
    "start_time": "2022-11-19T21:28:05.143Z"
   },
   {
    "duration": 310,
    "start_time": "2022-11-19T21:28:05.469Z"
   },
   {
    "duration": 298,
    "start_time": "2022-11-19T21:28:05.781Z"
   },
   {
    "duration": 312,
    "start_time": "2022-11-19T21:28:06.081Z"
   },
   {
    "duration": 22,
    "start_time": "2022-11-19T21:28:06.394Z"
   },
   {
    "duration": 277,
    "start_time": "2022-11-19T21:28:06.418Z"
   },
   {
    "duration": 313,
    "start_time": "2022-11-19T21:28:06.696Z"
   },
   {
    "duration": 287,
    "start_time": "2022-11-19T21:28:07.010Z"
   },
   {
    "duration": 23,
    "start_time": "2022-11-19T21:28:07.298Z"
   },
   {
    "duration": 19,
    "start_time": "2022-11-19T21:28:07.323Z"
   },
   {
    "duration": 22,
    "start_time": "2022-11-19T21:28:07.343Z"
   },
   {
    "duration": 1237,
    "start_time": "2022-11-19T21:29:49.161Z"
   },
   {
    "duration": 30,
    "start_time": "2022-11-19T21:29:58.065Z"
   },
   {
    "duration": 1219,
    "start_time": "2022-11-19T21:30:09.086Z"
   },
   {
    "duration": 53,
    "start_time": "2022-11-19T21:30:10.306Z"
   },
   {
    "duration": 1238,
    "start_time": "2022-11-19T21:30:10.360Z"
   },
   {
    "duration": 0,
    "start_time": "2022-11-19T21:30:11.602Z"
   },
   {
    "duration": 0,
    "start_time": "2022-11-19T21:30:11.603Z"
   },
   {
    "duration": 0,
    "start_time": "2022-11-19T21:30:11.605Z"
   },
   {
    "duration": 0,
    "start_time": "2022-11-19T21:30:11.606Z"
   },
   {
    "duration": 0,
    "start_time": "2022-11-19T21:30:11.607Z"
   },
   {
    "duration": 0,
    "start_time": "2022-11-19T21:30:11.608Z"
   },
   {
    "duration": 0,
    "start_time": "2022-11-19T21:30:11.610Z"
   },
   {
    "duration": 0,
    "start_time": "2022-11-19T21:30:11.611Z"
   },
   {
    "duration": 0,
    "start_time": "2022-11-19T21:30:11.613Z"
   },
   {
    "duration": 0,
    "start_time": "2022-11-19T21:30:11.614Z"
   },
   {
    "duration": 0,
    "start_time": "2022-11-19T21:30:11.616Z"
   },
   {
    "duration": 0,
    "start_time": "2022-11-19T21:30:11.617Z"
   },
   {
    "duration": 0,
    "start_time": "2022-11-19T21:30:11.619Z"
   },
   {
    "duration": 0,
    "start_time": "2022-11-19T21:30:11.620Z"
   },
   {
    "duration": 0,
    "start_time": "2022-11-19T21:30:11.621Z"
   },
   {
    "duration": 0,
    "start_time": "2022-11-19T21:30:11.622Z"
   },
   {
    "duration": 0,
    "start_time": "2022-11-19T21:30:11.624Z"
   },
   {
    "duration": 0,
    "start_time": "2022-11-19T21:30:11.625Z"
   },
   {
    "duration": 0,
    "start_time": "2022-11-19T21:30:11.626Z"
   },
   {
    "duration": 1,
    "start_time": "2022-11-19T21:30:11.627Z"
   },
   {
    "duration": 0,
    "start_time": "2022-11-19T21:30:11.629Z"
   },
   {
    "duration": 0,
    "start_time": "2022-11-19T21:30:11.630Z"
   },
   {
    "duration": 0,
    "start_time": "2022-11-19T21:30:11.632Z"
   },
   {
    "duration": 0,
    "start_time": "2022-11-19T21:30:11.633Z"
   },
   {
    "duration": 0,
    "start_time": "2022-11-19T21:30:11.634Z"
   },
   {
    "duration": 0,
    "start_time": "2022-11-19T21:30:11.635Z"
   },
   {
    "duration": 0,
    "start_time": "2022-11-19T21:30:11.636Z"
   },
   {
    "duration": 0,
    "start_time": "2022-11-19T21:30:11.637Z"
   },
   {
    "duration": 0,
    "start_time": "2022-11-19T21:30:11.638Z"
   },
   {
    "duration": 0,
    "start_time": "2022-11-19T21:30:11.639Z"
   },
   {
    "duration": 0,
    "start_time": "2022-11-19T21:30:11.640Z"
   },
   {
    "duration": 0,
    "start_time": "2022-11-19T21:30:11.641Z"
   },
   {
    "duration": 0,
    "start_time": "2022-11-19T21:30:11.642Z"
   },
   {
    "duration": 0,
    "start_time": "2022-11-19T21:30:11.642Z"
   },
   {
    "duration": 0,
    "start_time": "2022-11-19T21:30:11.643Z"
   },
   {
    "duration": 0,
    "start_time": "2022-11-19T21:30:11.644Z"
   },
   {
    "duration": 0,
    "start_time": "2022-11-19T21:30:11.704Z"
   },
   {
    "duration": 0,
    "start_time": "2022-11-19T21:30:11.706Z"
   },
   {
    "duration": 0,
    "start_time": "2022-11-19T21:30:11.706Z"
   },
   {
    "duration": 0,
    "start_time": "2022-11-19T21:30:11.708Z"
   },
   {
    "duration": 0,
    "start_time": "2022-11-19T21:30:11.709Z"
   },
   {
    "duration": 0,
    "start_time": "2022-11-19T21:30:11.710Z"
   },
   {
    "duration": 0,
    "start_time": "2022-11-19T21:30:11.711Z"
   },
   {
    "duration": 0,
    "start_time": "2022-11-19T21:30:11.712Z"
   },
   {
    "duration": 0,
    "start_time": "2022-11-19T21:30:11.713Z"
   },
   {
    "duration": 0,
    "start_time": "2022-11-19T21:30:11.714Z"
   },
   {
    "duration": 0,
    "start_time": "2022-11-19T21:30:11.715Z"
   },
   {
    "duration": 0,
    "start_time": "2022-11-19T21:30:11.716Z"
   },
   {
    "duration": 0,
    "start_time": "2022-11-19T21:30:11.717Z"
   },
   {
    "duration": 0,
    "start_time": "2022-11-19T21:30:11.718Z"
   },
   {
    "duration": 0,
    "start_time": "2022-11-19T21:30:11.719Z"
   },
   {
    "duration": 0,
    "start_time": "2022-11-19T21:30:11.720Z"
   },
   {
    "duration": 0,
    "start_time": "2022-11-19T21:30:11.721Z"
   },
   {
    "duration": 0,
    "start_time": "2022-11-19T21:30:11.722Z"
   },
   {
    "duration": 0,
    "start_time": "2022-11-19T21:30:11.723Z"
   },
   {
    "duration": 0,
    "start_time": "2022-11-19T21:30:11.724Z"
   },
   {
    "duration": 0,
    "start_time": "2022-11-19T21:30:11.725Z"
   },
   {
    "duration": 0,
    "start_time": "2022-11-19T21:30:11.725Z"
   },
   {
    "duration": 0,
    "start_time": "2022-11-19T21:30:11.727Z"
   },
   {
    "duration": 42,
    "start_time": "2022-11-19T21:30:31.408Z"
   },
   {
    "duration": 1206,
    "start_time": "2022-11-19T21:32:29.598Z"
   },
   {
    "duration": 53,
    "start_time": "2022-11-19T21:32:30.806Z"
   },
   {
    "duration": 30,
    "start_time": "2022-11-19T21:32:30.861Z"
   },
   {
    "duration": 22,
    "start_time": "2022-11-19T21:32:30.893Z"
   },
   {
    "duration": 43,
    "start_time": "2022-11-19T21:32:30.917Z"
   },
   {
    "duration": 1009,
    "start_time": "2022-11-19T21:32:30.961Z"
   },
   {
    "duration": 4,
    "start_time": "2022-11-19T21:32:31.972Z"
   },
   {
    "duration": 17,
    "start_time": "2022-11-19T21:32:31.978Z"
   },
   {
    "duration": 10,
    "start_time": "2022-11-19T21:32:32.005Z"
   },
   {
    "duration": 20,
    "start_time": "2022-11-19T21:32:32.017Z"
   },
   {
    "duration": 23,
    "start_time": "2022-11-19T21:32:32.038Z"
   },
   {
    "duration": 9,
    "start_time": "2022-11-19T21:32:32.062Z"
   },
   {
    "duration": 24,
    "start_time": "2022-11-19T21:32:32.073Z"
   },
   {
    "duration": 20,
    "start_time": "2022-11-19T21:32:32.098Z"
   },
   {
    "duration": 15,
    "start_time": "2022-11-19T21:32:32.119Z"
   },
   {
    "duration": 18,
    "start_time": "2022-11-19T21:32:32.135Z"
   },
   {
    "duration": 10,
    "start_time": "2022-11-19T21:32:32.154Z"
   },
   {
    "duration": 4,
    "start_time": "2022-11-19T21:32:32.166Z"
   },
   {
    "duration": 173,
    "start_time": "2022-11-19T21:32:32.171Z"
   },
   {
    "duration": 359,
    "start_time": "2022-11-19T21:32:32.346Z"
   },
   {
    "duration": 285,
    "start_time": "2022-11-19T21:32:32.706Z"
   },
   {
    "duration": 278,
    "start_time": "2022-11-19T21:32:32.993Z"
   },
   {
    "duration": 305,
    "start_time": "2022-11-19T21:32:33.273Z"
   },
   {
    "duration": 28,
    "start_time": "2022-11-19T21:32:33.580Z"
   },
   {
    "duration": 391,
    "start_time": "2022-11-19T21:32:33.609Z"
   },
   {
    "duration": 270,
    "start_time": "2022-11-19T21:32:34.005Z"
   },
   {
    "duration": 292,
    "start_time": "2022-11-19T21:32:34.276Z"
   },
   {
    "duration": 277,
    "start_time": "2022-11-19T21:32:34.571Z"
   },
   {
    "duration": 4,
    "start_time": "2022-11-19T21:32:34.850Z"
   },
   {
    "duration": 6,
    "start_time": "2022-11-19T21:32:34.855Z"
   },
   {
    "duration": 16,
    "start_time": "2022-11-19T21:32:34.862Z"
   },
   {
    "duration": 8,
    "start_time": "2022-11-19T21:32:34.880Z"
   },
   {
    "duration": 13,
    "start_time": "2022-11-19T21:32:34.905Z"
   },
   {
    "duration": 413,
    "start_time": "2022-11-19T21:32:34.920Z"
   },
   {
    "duration": 271,
    "start_time": "2022-11-19T21:32:35.335Z"
   },
   {
    "duration": 161,
    "start_time": "2022-11-19T21:32:35.607Z"
   },
   {
    "duration": 8,
    "start_time": "2022-11-19T21:32:35.770Z"
   },
   {
    "duration": 1475,
    "start_time": "2022-11-19T21:32:35.779Z"
   },
   {
    "duration": 9,
    "start_time": "2022-11-19T21:32:37.256Z"
   },
   {
    "duration": 8,
    "start_time": "2022-11-19T21:32:37.266Z"
   },
   {
    "duration": 351,
    "start_time": "2022-11-19T21:32:37.276Z"
   },
   {
    "duration": 14,
    "start_time": "2022-11-19T21:32:37.629Z"
   },
   {
    "duration": 295,
    "start_time": "2022-11-19T21:32:37.644Z"
   },
   {
    "duration": 3,
    "start_time": "2022-11-19T21:32:37.941Z"
   },
   {
    "duration": 2761,
    "start_time": "2022-11-19T21:32:37.945Z"
   },
   {
    "duration": 11,
    "start_time": "2022-11-19T21:32:40.707Z"
   },
   {
    "duration": 212,
    "start_time": "2022-11-19T21:32:40.719Z"
   },
   {
    "duration": 14,
    "start_time": "2022-11-19T21:32:40.933Z"
   },
   {
    "duration": 326,
    "start_time": "2022-11-19T21:32:40.948Z"
   },
   {
    "duration": 312,
    "start_time": "2022-11-19T21:32:41.275Z"
   },
   {
    "duration": 17,
    "start_time": "2022-11-19T21:32:41.589Z"
   },
   {
    "duration": 277,
    "start_time": "2022-11-19T21:32:41.608Z"
   },
   {
    "duration": 326,
    "start_time": "2022-11-19T21:32:41.887Z"
   },
   {
    "duration": 274,
    "start_time": "2022-11-19T21:32:42.215Z"
   },
   {
    "duration": 292,
    "start_time": "2022-11-19T21:32:42.491Z"
   },
   {
    "duration": 21,
    "start_time": "2022-11-19T21:32:42.785Z"
   },
   {
    "duration": 274,
    "start_time": "2022-11-19T21:32:42.807Z"
   },
   {
    "duration": 312,
    "start_time": "2022-11-19T21:32:43.083Z"
   },
   {
    "duration": 288,
    "start_time": "2022-11-19T21:32:43.404Z"
   },
   {
    "duration": 21,
    "start_time": "2022-11-19T21:32:43.694Z"
   },
   {
    "duration": 8,
    "start_time": "2022-11-19T21:32:43.717Z"
   },
   {
    "duration": 19,
    "start_time": "2022-11-19T21:32:43.727Z"
   },
   {
    "duration": 21,
    "start_time": "2022-11-19T21:33:19.737Z"
   },
   {
    "duration": 11,
    "start_time": "2022-11-19T21:33:40.804Z"
   },
   {
    "duration": 4,
    "start_time": "2022-11-19T21:33:47.650Z"
   },
   {
    "duration": 12,
    "start_time": "2022-11-19T21:34:13.984Z"
   },
   {
    "duration": 1209,
    "start_time": "2022-11-19T21:35:21.591Z"
   },
   {
    "duration": 50,
    "start_time": "2022-11-19T21:35:22.804Z"
   },
   {
    "duration": 28,
    "start_time": "2022-11-19T21:35:22.856Z"
   },
   {
    "duration": 19,
    "start_time": "2022-11-19T21:35:22.886Z"
   },
   {
    "duration": 5,
    "start_time": "2022-11-19T21:35:22.907Z"
   },
   {
    "duration": 967,
    "start_time": "2022-11-19T21:35:22.914Z"
   },
   {
    "duration": 4,
    "start_time": "2022-11-19T21:35:23.882Z"
   },
   {
    "duration": 16,
    "start_time": "2022-11-19T21:35:23.888Z"
   },
   {
    "duration": 12,
    "start_time": "2022-11-19T21:35:23.906Z"
   },
   {
    "duration": 10,
    "start_time": "2022-11-19T21:35:23.921Z"
   },
   {
    "duration": 10,
    "start_time": "2022-11-19T21:35:23.932Z"
   },
   {
    "duration": 5,
    "start_time": "2022-11-19T21:35:23.943Z"
   },
   {
    "duration": 14,
    "start_time": "2022-11-19T21:35:23.950Z"
   },
   {
    "duration": 5,
    "start_time": "2022-11-19T21:35:23.965Z"
   },
   {
    "duration": 14,
    "start_time": "2022-11-19T21:35:24.005Z"
   },
   {
    "duration": 11,
    "start_time": "2022-11-19T21:35:24.021Z"
   },
   {
    "duration": 10,
    "start_time": "2022-11-19T21:35:24.033Z"
   },
   {
    "duration": 15,
    "start_time": "2022-11-19T21:35:24.044Z"
   },
   {
    "duration": 9,
    "start_time": "2022-11-19T21:35:24.060Z"
   },
   {
    "duration": 4,
    "start_time": "2022-11-19T21:35:24.070Z"
   },
   {
    "duration": 192,
    "start_time": "2022-11-19T21:35:24.076Z"
   },
   {
    "duration": 358,
    "start_time": "2022-11-19T21:35:24.270Z"
   },
   {
    "duration": 280,
    "start_time": "2022-11-19T21:35:24.629Z"
   },
   {
    "duration": 282,
    "start_time": "2022-11-19T21:35:24.911Z"
   },
   {
    "duration": 286,
    "start_time": "2022-11-19T21:35:25.194Z"
   },
   {
    "duration": 26,
    "start_time": "2022-11-19T21:35:25.482Z"
   },
   {
    "duration": 371,
    "start_time": "2022-11-19T21:35:25.509Z"
   },
   {
    "duration": 279,
    "start_time": "2022-11-19T21:35:25.884Z"
   },
   {
    "duration": 297,
    "start_time": "2022-11-19T21:35:26.164Z"
   },
   {
    "duration": 278,
    "start_time": "2022-11-19T21:35:26.463Z"
   },
   {
    "duration": 3,
    "start_time": "2022-11-19T21:35:26.742Z"
   },
   {
    "duration": 6,
    "start_time": "2022-11-19T21:35:26.747Z"
   },
   {
    "duration": 17,
    "start_time": "2022-11-19T21:35:26.754Z"
   },
   {
    "duration": 7,
    "start_time": "2022-11-19T21:35:26.772Z"
   },
   {
    "duration": 31,
    "start_time": "2022-11-19T21:35:26.780Z"
   },
   {
    "duration": 397,
    "start_time": "2022-11-19T21:35:26.813Z"
   },
   {
    "duration": 325,
    "start_time": "2022-11-19T21:35:27.212Z"
   },
   {
    "duration": 170,
    "start_time": "2022-11-19T21:35:27.538Z"
   },
   {
    "duration": 9,
    "start_time": "2022-11-19T21:35:27.709Z"
   },
   {
    "duration": 1454,
    "start_time": "2022-11-19T21:35:27.719Z"
   },
   {
    "duration": 9,
    "start_time": "2022-11-19T21:35:29.174Z"
   },
   {
    "duration": 21,
    "start_time": "2022-11-19T21:35:29.184Z"
   },
   {
    "duration": 296,
    "start_time": "2022-11-19T21:35:29.207Z"
   },
   {
    "duration": 15,
    "start_time": "2022-11-19T21:35:29.505Z"
   },
   {
    "duration": 294,
    "start_time": "2022-11-19T21:35:29.522Z"
   },
   {
    "duration": 2,
    "start_time": "2022-11-19T21:35:29.818Z"
   },
   {
    "duration": 2725,
    "start_time": "2022-11-19T21:35:29.821Z"
   },
   {
    "duration": 11,
    "start_time": "2022-11-19T21:35:32.547Z"
   },
   {
    "duration": 207,
    "start_time": "2022-11-19T21:35:32.559Z"
   },
   {
    "duration": 14,
    "start_time": "2022-11-19T21:35:32.767Z"
   },
   {
    "duration": 295,
    "start_time": "2022-11-19T21:35:32.783Z"
   },
   {
    "duration": 304,
    "start_time": "2022-11-19T21:35:33.079Z"
   },
   {
    "duration": 21,
    "start_time": "2022-11-19T21:35:33.385Z"
   },
   {
    "duration": 301,
    "start_time": "2022-11-19T21:35:33.408Z"
   },
   {
    "duration": 278,
    "start_time": "2022-11-19T21:35:33.710Z"
   },
   {
    "duration": 294,
    "start_time": "2022-11-19T21:35:33.990Z"
   },
   {
    "duration": 303,
    "start_time": "2022-11-19T21:35:34.285Z"
   },
   {
    "duration": 22,
    "start_time": "2022-11-19T21:35:34.589Z"
   },
   {
    "duration": 272,
    "start_time": "2022-11-19T21:35:34.613Z"
   },
   {
    "duration": 311,
    "start_time": "2022-11-19T21:35:34.887Z"
   },
   {
    "duration": 302,
    "start_time": "2022-11-19T21:35:35.204Z"
   },
   {
    "duration": 13,
    "start_time": "2022-11-19T21:35:35.508Z"
   },
   {
    "duration": 6,
    "start_time": "2022-11-19T21:35:35.522Z"
   },
   {
    "duration": 13,
    "start_time": "2022-11-19T21:35:35.529Z"
   },
   {
    "duration": 20,
    "start_time": "2022-11-19T21:49:07.011Z"
   },
   {
    "duration": 13,
    "start_time": "2022-11-19T21:50:04.385Z"
   },
   {
    "duration": 12,
    "start_time": "2022-11-19T21:50:12.926Z"
   },
   {
    "duration": 12,
    "start_time": "2022-11-19T21:51:08.831Z"
   },
   {
    "duration": 143,
    "start_time": "2022-11-19T21:51:37.091Z"
   },
   {
    "duration": 13,
    "start_time": "2022-11-19T21:54:04.683Z"
   },
   {
    "duration": 14,
    "start_time": "2022-11-19T21:56:37.996Z"
   },
   {
    "duration": 16,
    "start_time": "2022-11-19T22:06:30.946Z"
   },
   {
    "duration": 1368,
    "start_time": "2022-11-19T22:12:01.718Z"
   },
   {
    "duration": 287,
    "start_time": "2022-11-19T22:25:02.722Z"
   },
   {
    "duration": 1134,
    "start_time": "2022-11-19T22:33:28.070Z"
   },
   {
    "duration": 52,
    "start_time": "2022-11-19T22:33:29.207Z"
   },
   {
    "duration": 29,
    "start_time": "2022-11-19T22:33:29.260Z"
   },
   {
    "duration": 21,
    "start_time": "2022-11-19T22:33:29.291Z"
   },
   {
    "duration": 4,
    "start_time": "2022-11-19T22:33:29.314Z"
   },
   {
    "duration": 944,
    "start_time": "2022-11-19T22:33:29.319Z"
   },
   {
    "duration": 4,
    "start_time": "2022-11-19T22:33:30.265Z"
   },
   {
    "duration": 36,
    "start_time": "2022-11-19T22:33:30.270Z"
   },
   {
    "duration": 29,
    "start_time": "2022-11-19T22:33:30.308Z"
   },
   {
    "duration": 13,
    "start_time": "2022-11-19T22:33:30.338Z"
   },
   {
    "duration": 59,
    "start_time": "2022-11-19T22:33:30.353Z"
   },
   {
    "duration": 43,
    "start_time": "2022-11-19T22:33:30.414Z"
   },
   {
    "duration": 43,
    "start_time": "2022-11-19T22:33:30.459Z"
   },
   {
    "duration": 53,
    "start_time": "2022-11-19T22:33:30.506Z"
   },
   {
    "duration": 49,
    "start_time": "2022-11-19T22:33:30.560Z"
   },
   {
    "duration": 56,
    "start_time": "2022-11-19T22:33:30.610Z"
   },
   {
    "duration": 11,
    "start_time": "2022-11-19T22:33:30.668Z"
   },
   {
    "duration": 23,
    "start_time": "2022-11-19T22:33:30.681Z"
   },
   {
    "duration": 170,
    "start_time": "2022-11-19T22:33:30.705Z"
   },
   {
    "duration": 376,
    "start_time": "2022-11-19T22:33:30.877Z"
   },
   {
    "duration": 292,
    "start_time": "2022-11-19T22:33:31.254Z"
   },
   {
    "duration": 274,
    "start_time": "2022-11-19T22:33:31.548Z"
   },
   {
    "duration": 277,
    "start_time": "2022-11-19T22:33:31.823Z"
   },
   {
    "duration": 19,
    "start_time": "2022-11-19T22:33:32.101Z"
   },
   {
    "duration": 385,
    "start_time": "2022-11-19T22:33:32.122Z"
   },
   {
    "duration": 273,
    "start_time": "2022-11-19T22:33:32.508Z"
   },
   {
    "duration": 276,
    "start_time": "2022-11-19T22:33:32.782Z"
   },
   {
    "duration": 267,
    "start_time": "2022-11-19T22:33:33.060Z"
   },
   {
    "duration": 3,
    "start_time": "2022-11-19T22:33:33.329Z"
   },
   {
    "duration": 18,
    "start_time": "2022-11-19T22:33:33.334Z"
   },
   {
    "duration": 14,
    "start_time": "2022-11-19T22:33:33.354Z"
   },
   {
    "duration": 17,
    "start_time": "2022-11-19T22:33:33.370Z"
   },
   {
    "duration": 20,
    "start_time": "2022-11-19T22:33:33.389Z"
   },
   {
    "duration": 395,
    "start_time": "2022-11-19T22:33:33.411Z"
   },
   {
    "duration": 266,
    "start_time": "2022-11-19T22:33:33.807Z"
   },
   {
    "duration": 178,
    "start_time": "2022-11-19T22:33:34.074Z"
   },
   {
    "duration": 11,
    "start_time": "2022-11-19T22:33:34.254Z"
   },
   {
    "duration": 1404,
    "start_time": "2022-11-19T22:33:34.266Z"
   },
   {
    "duration": 9,
    "start_time": "2022-11-19T22:33:35.673Z"
   },
   {
    "duration": 25,
    "start_time": "2022-11-19T22:33:35.684Z"
   },
   {
    "duration": 306,
    "start_time": "2022-11-19T22:33:35.713Z"
   },
   {
    "duration": 14,
    "start_time": "2022-11-19T22:33:36.021Z"
   },
   {
    "duration": 328,
    "start_time": "2022-11-19T22:33:36.037Z"
   },
   {
    "duration": 3,
    "start_time": "2022-11-19T22:33:36.366Z"
   },
   {
    "duration": 2718,
    "start_time": "2022-11-19T22:33:36.370Z"
   },
   {
    "duration": 16,
    "start_time": "2022-11-19T22:33:39.090Z"
   },
   {
    "duration": 197,
    "start_time": "2022-11-19T22:33:39.107Z"
   },
   {
    "duration": 12,
    "start_time": "2022-11-19T22:33:39.306Z"
   },
   {
    "duration": 310,
    "start_time": "2022-11-19T22:33:39.320Z"
   },
   {
    "duration": 277,
    "start_time": "2022-11-19T22:33:39.632Z"
   },
   {
    "duration": 13,
    "start_time": "2022-11-19T22:33:39.910Z"
   },
   {
    "duration": 296,
    "start_time": "2022-11-19T22:33:39.925Z"
   },
   {
    "duration": 262,
    "start_time": "2022-11-19T22:33:40.223Z"
   },
   {
    "duration": 307,
    "start_time": "2022-11-19T22:33:40.486Z"
   },
   {
    "duration": 295,
    "start_time": "2022-11-19T22:33:40.795Z"
   },
   {
    "duration": 20,
    "start_time": "2022-11-19T22:33:41.092Z"
   },
   {
    "duration": 266,
    "start_time": "2022-11-19T22:33:41.114Z"
   },
   {
    "duration": 305,
    "start_time": "2022-11-19T22:33:41.382Z"
   },
   {
    "duration": 294,
    "start_time": "2022-11-19T22:33:41.689Z"
   },
   {
    "duration": 22,
    "start_time": "2022-11-19T22:33:41.984Z"
   },
   {
    "duration": 5,
    "start_time": "2022-11-19T22:33:42.007Z"
   },
   {
    "duration": 24,
    "start_time": "2022-11-19T22:33:42.014Z"
   },
   {
    "duration": 12,
    "start_time": "2022-11-19T22:33:42.039Z"
   },
   {
    "duration": 9,
    "start_time": "2022-11-20T13:36:13.605Z"
   },
   {
    "duration": 40,
    "start_time": "2022-11-20T14:11:49.883Z"
   },
   {
    "duration": 1163,
    "start_time": "2022-11-20T14:11:56.625Z"
   },
   {
    "duration": 58,
    "start_time": "2022-11-20T14:11:57.790Z"
   },
   {
    "duration": 28,
    "start_time": "2022-11-20T14:11:57.849Z"
   },
   {
    "duration": 19,
    "start_time": "2022-11-20T14:11:57.878Z"
   },
   {
    "duration": 6,
    "start_time": "2022-11-20T14:11:57.899Z"
   },
   {
    "duration": 1169,
    "start_time": "2022-11-20T14:11:57.913Z"
   },
   {
    "duration": 4,
    "start_time": "2022-11-20T14:11:59.084Z"
   },
   {
    "duration": 11,
    "start_time": "2022-11-20T14:11:59.090Z"
   },
   {
    "duration": 12,
    "start_time": "2022-11-20T14:11:59.112Z"
   },
   {
    "duration": 9,
    "start_time": "2022-11-20T14:11:59.126Z"
   },
   {
    "duration": 15,
    "start_time": "2022-11-20T14:11:59.136Z"
   },
   {
    "duration": 6,
    "start_time": "2022-11-20T14:11:59.153Z"
   },
   {
    "duration": 16,
    "start_time": "2022-11-20T14:11:59.160Z"
   },
   {
    "duration": 35,
    "start_time": "2022-11-20T14:11:59.180Z"
   },
   {
    "duration": 20,
    "start_time": "2022-11-20T14:11:59.217Z"
   },
   {
    "duration": 15,
    "start_time": "2022-11-20T14:11:59.239Z"
   },
   {
    "duration": 8,
    "start_time": "2022-11-20T14:11:59.256Z"
   },
   {
    "duration": 3,
    "start_time": "2022-11-20T14:11:59.266Z"
   },
   {
    "duration": 177,
    "start_time": "2022-11-20T14:11:59.271Z"
   },
   {
    "duration": 358,
    "start_time": "2022-11-20T14:11:59.450Z"
   },
   {
    "duration": 279,
    "start_time": "2022-11-20T14:11:59.812Z"
   },
   {
    "duration": 337,
    "start_time": "2022-11-20T14:12:00.093Z"
   },
   {
    "duration": 292,
    "start_time": "2022-11-20T14:12:00.433Z"
   },
   {
    "duration": 18,
    "start_time": "2022-11-20T14:12:00.727Z"
   },
   {
    "duration": 371,
    "start_time": "2022-11-20T14:12:00.746Z"
   },
   {
    "duration": 264,
    "start_time": "2022-11-20T14:12:01.119Z"
   },
   {
    "duration": 306,
    "start_time": "2022-11-20T14:12:01.384Z"
   },
   {
    "duration": 275,
    "start_time": "2022-11-20T14:12:01.691Z"
   },
   {
    "duration": 4,
    "start_time": "2022-11-20T14:12:01.967Z"
   },
   {
    "duration": 5,
    "start_time": "2022-11-20T14:12:01.972Z"
   },
   {
    "duration": 15,
    "start_time": "2022-11-20T14:12:01.979Z"
   },
   {
    "duration": 20,
    "start_time": "2022-11-20T14:12:01.995Z"
   },
   {
    "duration": 16,
    "start_time": "2022-11-20T14:12:02.016Z"
   },
   {
    "duration": 367,
    "start_time": "2022-11-20T14:12:02.034Z"
   },
   {
    "duration": 267,
    "start_time": "2022-11-20T14:12:02.403Z"
   },
   {
    "duration": 159,
    "start_time": "2022-11-20T14:12:02.672Z"
   },
   {
    "duration": 8,
    "start_time": "2022-11-20T14:12:02.833Z"
   },
   {
    "duration": 1365,
    "start_time": "2022-11-20T14:12:02.842Z"
   },
   {
    "duration": 10,
    "start_time": "2022-11-20T14:12:04.208Z"
   },
   {
    "duration": 9,
    "start_time": "2022-11-20T14:12:04.219Z"
   },
   {
    "duration": 287,
    "start_time": "2022-11-20T14:12:04.232Z"
   },
   {
    "duration": 13,
    "start_time": "2022-11-20T14:12:04.521Z"
   },
   {
    "duration": 331,
    "start_time": "2022-11-20T14:12:04.536Z"
   },
   {
    "duration": 3,
    "start_time": "2022-11-20T14:12:04.868Z"
   },
   {
    "duration": 2610,
    "start_time": "2022-11-20T14:12:04.872Z"
   },
   {
    "duration": 12,
    "start_time": "2022-11-20T14:12:07.484Z"
   },
   {
    "duration": 206,
    "start_time": "2022-11-20T14:12:07.497Z"
   },
   {
    "duration": 19,
    "start_time": "2022-11-20T14:12:07.705Z"
   },
   {
    "duration": 273,
    "start_time": "2022-11-20T14:12:07.726Z"
   },
   {
    "duration": 282,
    "start_time": "2022-11-20T14:12:08.001Z"
   },
   {
    "duration": 13,
    "start_time": "2022-11-20T14:12:08.285Z"
   },
   {
    "duration": 276,
    "start_time": "2022-11-20T14:12:08.312Z"
   },
   {
    "duration": 293,
    "start_time": "2022-11-20T14:12:08.589Z"
   },
   {
    "duration": 297,
    "start_time": "2022-11-20T14:12:08.884Z"
   },
   {
    "duration": 296,
    "start_time": "2022-11-20T14:12:09.183Z"
   },
   {
    "duration": 32,
    "start_time": "2022-11-20T14:12:09.481Z"
   },
   {
    "duration": 278,
    "start_time": "2022-11-20T14:12:09.515Z"
   },
   {
    "duration": 294,
    "start_time": "2022-11-20T14:12:09.795Z"
   },
   {
    "duration": 324,
    "start_time": "2022-11-20T14:12:10.091Z"
   },
   {
    "duration": 18,
    "start_time": "2022-11-20T14:12:10.418Z"
   },
   {
    "duration": 8,
    "start_time": "2022-11-20T14:12:10.438Z"
   },
   {
    "duration": 18,
    "start_time": "2022-11-20T14:12:10.447Z"
   },
   {
    "duration": 13,
    "start_time": "2022-11-20T14:12:10.466Z"
   },
   {
    "duration": 7,
    "start_time": "2022-11-20T15:01:49.105Z"
   },
   {
    "duration": 1095,
    "start_time": "2022-11-20T15:02:00.435Z"
   },
   {
    "duration": 18,
    "start_time": "2022-11-20T15:02:41.017Z"
   },
   {
    "duration": 46,
    "start_time": "2022-11-20T15:42:13.127Z"
   },
   {
    "duration": 1272,
    "start_time": "2022-11-20T15:42:21.914Z"
   },
   {
    "duration": 97,
    "start_time": "2022-11-20T15:42:23.188Z"
   },
   {
    "duration": 31,
    "start_time": "2022-11-20T15:42:23.286Z"
   },
   {
    "duration": 21,
    "start_time": "2022-11-20T15:42:23.319Z"
   },
   {
    "duration": 7,
    "start_time": "2022-11-20T15:42:23.341Z"
   },
   {
    "duration": 1022,
    "start_time": "2022-11-20T15:42:23.349Z"
   },
   {
    "duration": 4,
    "start_time": "2022-11-20T15:42:24.373Z"
   },
   {
    "duration": 26,
    "start_time": "2022-11-20T15:42:24.378Z"
   },
   {
    "duration": 11,
    "start_time": "2022-11-20T15:42:24.406Z"
   },
   {
    "duration": 34,
    "start_time": "2022-11-20T15:42:24.420Z"
   },
   {
    "duration": 21,
    "start_time": "2022-11-20T15:42:24.455Z"
   },
   {
    "duration": 6,
    "start_time": "2022-11-20T15:42:24.478Z"
   },
   {
    "duration": 18,
    "start_time": "2022-11-20T15:42:24.485Z"
   },
   {
    "duration": 14,
    "start_time": "2022-11-20T15:42:24.504Z"
   },
   {
    "duration": 14,
    "start_time": "2022-11-20T15:42:24.520Z"
   },
   {
    "duration": 50,
    "start_time": "2022-11-20T15:42:24.536Z"
   },
   {
    "duration": 11,
    "start_time": "2022-11-20T15:42:24.588Z"
   },
   {
    "duration": 11,
    "start_time": "2022-11-20T15:42:24.602Z"
   },
   {
    "duration": 222,
    "start_time": "2022-11-20T15:42:24.614Z"
   },
   {
    "duration": 393,
    "start_time": "2022-11-20T15:42:24.838Z"
   },
   {
    "duration": 323,
    "start_time": "2022-11-20T15:42:25.233Z"
   },
   {
    "duration": 305,
    "start_time": "2022-11-20T15:42:25.558Z"
   },
   {
    "duration": 305,
    "start_time": "2022-11-20T15:42:25.865Z"
   },
   {
    "duration": 27,
    "start_time": "2022-11-20T15:42:26.171Z"
   },
   {
    "duration": 361,
    "start_time": "2022-11-20T15:42:26.200Z"
   },
   {
    "duration": 280,
    "start_time": "2022-11-20T15:42:26.563Z"
   },
   {
    "duration": 289,
    "start_time": "2022-11-20T15:42:26.845Z"
   },
   {
    "duration": 295,
    "start_time": "2022-11-20T15:42:27.138Z"
   },
   {
    "duration": 3,
    "start_time": "2022-11-20T15:42:27.434Z"
   },
   {
    "duration": 10,
    "start_time": "2022-11-20T15:42:27.439Z"
   },
   {
    "duration": 28,
    "start_time": "2022-11-20T15:42:27.450Z"
   },
   {
    "duration": 16,
    "start_time": "2022-11-20T15:42:27.479Z"
   },
   {
    "duration": 16,
    "start_time": "2022-11-20T15:42:27.497Z"
   },
   {
    "duration": 399,
    "start_time": "2022-11-20T15:42:27.515Z"
   },
   {
    "duration": 270,
    "start_time": "2022-11-20T15:42:27.916Z"
   },
   {
    "duration": 171,
    "start_time": "2022-11-20T15:42:28.188Z"
   },
   {
    "duration": 10,
    "start_time": "2022-11-20T15:42:28.361Z"
   },
   {
    "duration": 1449,
    "start_time": "2022-11-20T15:42:28.373Z"
   },
   {
    "duration": 9,
    "start_time": "2022-11-20T15:42:29.823Z"
   },
   {
    "duration": 8,
    "start_time": "2022-11-20T15:42:29.833Z"
   },
   {
    "duration": 336,
    "start_time": "2022-11-20T15:42:29.842Z"
   },
   {
    "duration": 24,
    "start_time": "2022-11-20T15:42:30.179Z"
   },
   {
    "duration": 308,
    "start_time": "2022-11-20T15:42:30.204Z"
   },
   {
    "duration": 3,
    "start_time": "2022-11-20T15:42:30.513Z"
   },
   {
    "duration": 2847,
    "start_time": "2022-11-20T15:42:30.518Z"
   },
   {
    "duration": 12,
    "start_time": "2022-11-20T15:42:33.367Z"
   },
   {
    "duration": 220,
    "start_time": "2022-11-20T15:42:33.381Z"
   },
   {
    "duration": 13,
    "start_time": "2022-11-20T15:42:33.603Z"
   },
   {
    "duration": 345,
    "start_time": "2022-11-20T15:42:33.618Z"
   },
   {
    "duration": 320,
    "start_time": "2022-11-20T15:42:33.965Z"
   },
   {
    "duration": 22,
    "start_time": "2022-11-20T15:42:34.287Z"
   },
   {
    "duration": 276,
    "start_time": "2022-11-20T15:42:34.311Z"
   },
   {
    "duration": 313,
    "start_time": "2022-11-20T15:42:34.589Z"
   },
   {
    "duration": 297,
    "start_time": "2022-11-20T15:42:34.904Z"
   },
   {
    "duration": 298,
    "start_time": "2022-11-20T15:42:35.203Z"
   },
   {
    "duration": 15,
    "start_time": "2022-11-20T15:42:35.503Z"
   },
   {
    "duration": 286,
    "start_time": "2022-11-20T15:42:35.520Z"
   },
   {
    "duration": 313,
    "start_time": "2022-11-20T15:42:35.808Z"
   },
   {
    "duration": 285,
    "start_time": "2022-11-20T15:42:36.123Z"
   },
   {
    "duration": 13,
    "start_time": "2022-11-20T15:42:36.410Z"
   },
   {
    "duration": 6,
    "start_time": "2022-11-20T15:42:36.425Z"
   },
   {
    "duration": 17,
    "start_time": "2022-11-20T15:42:36.432Z"
   },
   {
    "duration": 12,
    "start_time": "2022-11-20T15:42:36.450Z"
   },
   {
    "duration": 51,
    "start_time": "2022-11-20T17:40:13.039Z"
   },
   {
    "duration": 6,
    "start_time": "2022-11-20T17:44:22.944Z"
   },
   {
    "duration": 6,
    "start_time": "2022-11-20T17:44:31.645Z"
   },
   {
    "duration": 6,
    "start_time": "2022-11-20T17:44:35.969Z"
   },
   {
    "duration": 8,
    "start_time": "2022-11-20T17:44:41.248Z"
   },
   {
    "duration": 7,
    "start_time": "2022-11-20T17:45:00.852Z"
   },
   {
    "duration": 6,
    "start_time": "2022-11-20T17:45:05.194Z"
   },
   {
    "duration": 5,
    "start_time": "2022-11-20T17:45:08.974Z"
   },
   {
    "duration": 6,
    "start_time": "2022-11-20T17:45:12.198Z"
   },
   {
    "duration": 471,
    "start_time": "2022-11-20T18:49:58.950Z"
   },
   {
    "duration": 264,
    "start_time": "2022-11-20T18:51:22.248Z"
   },
   {
    "duration": 230,
    "start_time": "2022-11-20T18:52:13.192Z"
   },
   {
    "duration": 58,
    "start_time": "2022-11-20T18:57:05.124Z"
   },
   {
    "duration": 0,
    "start_time": "2022-11-20T18:57:05.183Z"
   },
   {
    "duration": 0,
    "start_time": "2022-11-20T18:57:05.184Z"
   },
   {
    "duration": 0,
    "start_time": "2022-11-20T18:57:05.186Z"
   },
   {
    "duration": 0,
    "start_time": "2022-11-20T18:57:05.186Z"
   },
   {
    "duration": 1,
    "start_time": "2022-11-20T18:57:05.187Z"
   },
   {
    "duration": 0,
    "start_time": "2022-11-20T18:57:05.189Z"
   },
   {
    "duration": 6,
    "start_time": "2022-11-20T18:57:05.197Z"
   },
   {
    "duration": 11,
    "start_time": "2022-11-20T18:57:05.205Z"
   },
   {
    "duration": 0,
    "start_time": "2022-11-20T18:57:05.217Z"
   },
   {
    "duration": 4,
    "start_time": "2022-11-20T18:57:05.228Z"
   },
   {
    "duration": 8,
    "start_time": "2022-11-20T18:57:05.238Z"
   },
   {
    "duration": 8,
    "start_time": "2022-11-20T18:57:05.248Z"
   },
   {
    "duration": 0,
    "start_time": "2022-11-20T18:57:05.257Z"
   },
   {
    "duration": 5,
    "start_time": "2022-11-20T18:57:05.268Z"
   },
   {
    "duration": 9,
    "start_time": "2022-11-20T18:57:05.311Z"
   },
   {
    "duration": 8,
    "start_time": "2022-11-20T18:57:05.330Z"
   },
   {
    "duration": 6,
    "start_time": "2022-11-20T18:57:05.357Z"
   },
   {
    "duration": 7,
    "start_time": "2022-11-20T18:57:05.376Z"
   },
   {
    "duration": 6,
    "start_time": "2022-11-20T18:57:05.400Z"
   },
   {
    "duration": 7,
    "start_time": "2022-11-20T18:57:05.414Z"
   },
   {
    "duration": 7,
    "start_time": "2022-11-20T18:57:05.428Z"
   },
   {
    "duration": 7,
    "start_time": "2022-11-20T18:57:05.441Z"
   },
   {
    "duration": 9,
    "start_time": "2022-11-20T18:57:05.463Z"
   },
   {
    "duration": 7,
    "start_time": "2022-11-20T18:57:05.478Z"
   },
   {
    "duration": 23,
    "start_time": "2022-11-20T18:57:05.489Z"
   },
   {
    "duration": 0,
    "start_time": "2022-11-20T18:57:05.513Z"
   },
   {
    "duration": 6,
    "start_time": "2022-11-20T18:57:05.526Z"
   },
   {
    "duration": 10,
    "start_time": "2022-11-20T18:57:05.536Z"
   },
   {
    "duration": 6,
    "start_time": "2022-11-20T18:57:05.557Z"
   },
   {
    "duration": 15,
    "start_time": "2022-11-20T18:57:05.568Z"
   },
   {
    "duration": 5,
    "start_time": "2022-11-20T18:57:05.585Z"
   },
   {
    "duration": 6,
    "start_time": "2022-11-20T18:57:05.601Z"
   },
   {
    "duration": 7,
    "start_time": "2022-11-20T18:57:05.630Z"
   },
   {
    "duration": 9,
    "start_time": "2022-11-20T18:57:05.653Z"
   },
   {
    "duration": 12,
    "start_time": "2022-11-20T18:57:05.672Z"
   },
   {
    "duration": 16,
    "start_time": "2022-11-20T18:57:05.686Z"
   },
   {
    "duration": 6,
    "start_time": "2022-11-20T18:57:05.716Z"
   },
   {
    "duration": 6,
    "start_time": "2022-11-20T18:57:05.725Z"
   },
   {
    "duration": 7,
    "start_time": "2022-11-20T18:57:05.735Z"
   },
   {
    "duration": 5,
    "start_time": "2022-11-20T18:57:05.750Z"
   },
   {
    "duration": 9,
    "start_time": "2022-11-20T18:57:05.761Z"
   },
   {
    "duration": 8,
    "start_time": "2022-11-20T18:57:05.779Z"
   },
   {
    "duration": 12,
    "start_time": "2022-11-20T18:57:05.797Z"
   },
   {
    "duration": 0,
    "start_time": "2022-11-20T18:57:05.811Z"
   },
   {
    "duration": 7,
    "start_time": "2022-11-20T18:57:05.816Z"
   },
   {
    "duration": 7,
    "start_time": "2022-11-20T18:57:05.842Z"
   },
   {
    "duration": 10,
    "start_time": "2022-11-20T18:57:05.853Z"
   },
   {
    "duration": 10,
    "start_time": "2022-11-20T18:57:05.867Z"
   },
   {
    "duration": 15,
    "start_time": "2022-11-20T18:57:05.883Z"
   },
   {
    "duration": 0,
    "start_time": "2022-11-20T18:57:05.899Z"
   },
   {
    "duration": 8,
    "start_time": "2022-11-20T18:57:05.923Z"
   },
   {
    "duration": 9,
    "start_time": "2022-11-20T18:57:05.940Z"
   },
   {
    "duration": 10,
    "start_time": "2022-11-20T18:57:05.955Z"
   },
   {
    "duration": 21,
    "start_time": "2022-11-20T18:57:05.968Z"
   },
   {
    "duration": 0,
    "start_time": "2022-11-20T18:57:05.990Z"
   },
   {
    "duration": 11,
    "start_time": "2022-11-20T18:57:06.004Z"
   },
   {
    "duration": 9,
    "start_time": "2022-11-20T18:57:06.019Z"
   },
   {
    "duration": 6,
    "start_time": "2022-11-20T18:57:06.043Z"
   },
   {
    "duration": 5,
    "start_time": "2022-11-20T18:57:06.054Z"
   },
   {
    "duration": 10,
    "start_time": "2022-11-20T18:57:06.067Z"
   },
   {
    "duration": 13,
    "start_time": "2022-11-20T18:57:06.087Z"
   },
   {
    "duration": 10,
    "start_time": "2022-11-20T18:57:38.788Z"
   },
   {
    "duration": 6,
    "start_time": "2022-11-20T18:58:06.892Z"
   },
   {
    "duration": 1099,
    "start_time": "2022-11-20T18:58:10.453Z"
   },
   {
    "duration": 65,
    "start_time": "2022-11-20T18:58:11.554Z"
   },
   {
    "duration": 0,
    "start_time": "2022-11-20T18:58:11.621Z"
   },
   {
    "duration": 11,
    "start_time": "2022-11-20T18:58:19.486Z"
   },
   {
    "duration": 4,
    "start_time": "2022-11-20T18:58:22.304Z"
   },
   {
    "duration": 54,
    "start_time": "2022-11-20T18:58:22.987Z"
   },
   {
    "duration": 30,
    "start_time": "2022-11-20T18:58:23.362Z"
   },
   {
    "duration": 1220,
    "start_time": "2022-11-20T18:58:29.586Z"
   },
   {
    "duration": 71,
    "start_time": "2022-11-20T18:58:30.808Z"
   },
   {
    "duration": 35,
    "start_time": "2022-11-20T18:58:30.881Z"
   },
   {
    "duration": 33,
    "start_time": "2022-11-20T18:58:30.919Z"
   },
   {
    "duration": 11,
    "start_time": "2022-11-20T18:58:30.954Z"
   },
   {
    "duration": 1059,
    "start_time": "2022-11-20T18:58:30.966Z"
   },
   {
    "duration": 5,
    "start_time": "2022-11-20T18:58:32.027Z"
   },
   {
    "duration": 20,
    "start_time": "2022-11-20T18:58:32.034Z"
   },
   {
    "duration": 13,
    "start_time": "2022-11-20T18:58:32.055Z"
   },
   {
    "duration": 29,
    "start_time": "2022-11-20T18:58:32.070Z"
   },
   {
    "duration": 18,
    "start_time": "2022-11-20T18:58:32.100Z"
   },
   {
    "duration": 7,
    "start_time": "2022-11-20T18:58:32.120Z"
   },
   {
    "duration": 28,
    "start_time": "2022-11-20T18:58:32.128Z"
   },
   {
    "duration": 13,
    "start_time": "2022-11-20T18:58:32.158Z"
   },
   {
    "duration": 27,
    "start_time": "2022-11-20T18:58:32.173Z"
   },
   {
    "duration": 46,
    "start_time": "2022-11-20T18:58:32.202Z"
   },
   {
    "duration": 15,
    "start_time": "2022-11-20T18:58:32.249Z"
   },
   {
    "duration": 22,
    "start_time": "2022-11-20T18:58:32.265Z"
   },
   {
    "duration": 230,
    "start_time": "2022-11-20T18:58:32.290Z"
   },
   {
    "duration": 396,
    "start_time": "2022-11-20T18:58:32.522Z"
   },
   {
    "duration": 319,
    "start_time": "2022-11-20T18:58:32.920Z"
   },
   {
    "duration": 308,
    "start_time": "2022-11-20T18:58:33.241Z"
   },
   {
    "duration": 298,
    "start_time": "2022-11-20T18:58:33.551Z"
   },
   {
    "duration": 407,
    "start_time": "2022-11-20T18:58:33.851Z"
   },
   {
    "duration": 299,
    "start_time": "2022-11-20T18:58:34.260Z"
   },
   {
    "duration": 385,
    "start_time": "2022-11-20T18:58:34.560Z"
   },
   {
    "duration": 285,
    "start_time": "2022-11-20T18:58:34.947Z"
   },
   {
    "duration": 4,
    "start_time": "2022-11-20T18:58:35.237Z"
   },
   {
    "duration": 7,
    "start_time": "2022-11-20T18:58:35.242Z"
   },
   {
    "duration": 18,
    "start_time": "2022-11-20T18:58:35.251Z"
   },
   {
    "duration": 9,
    "start_time": "2022-11-20T18:58:35.271Z"
   },
   {
    "duration": 15,
    "start_time": "2022-11-20T18:58:35.298Z"
   },
   {
    "duration": 439,
    "start_time": "2022-11-20T18:58:35.314Z"
   },
   {
    "duration": 309,
    "start_time": "2022-11-20T18:58:35.754Z"
   },
   {
    "duration": 213,
    "start_time": "2022-11-20T18:58:36.064Z"
   },
   {
    "duration": 20,
    "start_time": "2022-11-20T18:58:36.278Z"
   },
   {
    "duration": 1513,
    "start_time": "2022-11-20T18:58:36.300Z"
   },
   {
    "duration": 9,
    "start_time": "2022-11-20T18:58:37.815Z"
   },
   {
    "duration": 8,
    "start_time": "2022-11-20T18:58:37.826Z"
   },
   {
    "duration": 361,
    "start_time": "2022-11-20T18:58:37.836Z"
   },
   {
    "duration": 14,
    "start_time": "2022-11-20T18:58:38.200Z"
   },
   {
    "duration": 319,
    "start_time": "2022-11-20T18:58:38.216Z"
   },
   {
    "duration": 3,
    "start_time": "2022-11-20T18:58:38.537Z"
   },
   {
    "duration": 3145,
    "start_time": "2022-11-20T18:58:38.541Z"
   },
   {
    "duration": 25,
    "start_time": "2022-11-20T18:58:41.687Z"
   },
   {
    "duration": 304,
    "start_time": "2022-11-20T18:58:41.714Z"
   },
   {
    "duration": 17,
    "start_time": "2022-11-20T18:58:42.019Z"
   },
   {
    "duration": 365,
    "start_time": "2022-11-20T18:58:42.038Z"
   },
   {
    "duration": 327,
    "start_time": "2022-11-20T18:58:42.405Z"
   },
   {
    "duration": 16,
    "start_time": "2022-11-20T18:58:42.734Z"
   },
   {
    "duration": 362,
    "start_time": "2022-11-20T18:58:42.752Z"
   },
   {
    "duration": 333,
    "start_time": "2022-11-20T18:58:43.117Z"
   },
   {
    "duration": 402,
    "start_time": "2022-11-20T18:58:43.452Z"
   },
   {
    "duration": 341,
    "start_time": "2022-11-20T18:58:43.856Z"
   },
   {
    "duration": 16,
    "start_time": "2022-11-20T18:58:44.199Z"
   },
   {
    "duration": 370,
    "start_time": "2022-11-20T18:58:44.217Z"
   },
   {
    "duration": 351,
    "start_time": "2022-11-20T18:58:44.597Z"
   },
   {
    "duration": 380,
    "start_time": "2022-11-20T18:58:44.950Z"
   },
   {
    "duration": 15,
    "start_time": "2022-11-20T18:58:45.331Z"
   },
   {
    "duration": 24,
    "start_time": "2022-11-20T18:58:45.347Z"
   },
   {
    "duration": 49,
    "start_time": "2022-11-20T18:58:45.373Z"
   },
   {
    "duration": 207,
    "start_time": "2022-11-20T18:58:45.424Z"
   },
   {
    "duration": 5,
    "start_time": "2022-11-20T19:00:39.518Z"
   },
   {
    "duration": 7,
    "start_time": "2022-11-20T19:01:26.780Z"
   },
   {
    "duration": 8,
    "start_time": "2022-11-20T19:02:09.745Z"
   },
   {
    "duration": 10,
    "start_time": "2022-11-20T19:02:25.962Z"
   },
   {
    "duration": 1287,
    "start_time": "2022-11-20T19:02:34.759Z"
   },
   {
    "duration": 56,
    "start_time": "2022-11-20T19:02:36.048Z"
   },
   {
    "duration": 33,
    "start_time": "2022-11-20T19:02:36.106Z"
   },
   {
    "duration": 21,
    "start_time": "2022-11-20T19:02:36.141Z"
   },
   {
    "duration": 13,
    "start_time": "2022-11-20T19:02:36.166Z"
   },
   {
    "duration": 1136,
    "start_time": "2022-11-20T19:02:36.199Z"
   },
   {
    "duration": 5,
    "start_time": "2022-11-20T19:02:37.337Z"
   },
   {
    "duration": 23,
    "start_time": "2022-11-20T19:02:37.344Z"
   },
   {
    "duration": 20,
    "start_time": "2022-11-20T19:02:37.368Z"
   },
   {
    "duration": 12,
    "start_time": "2022-11-20T19:02:37.391Z"
   },
   {
    "duration": 14,
    "start_time": "2022-11-20T19:02:37.405Z"
   },
   {
    "duration": 11,
    "start_time": "2022-11-20T19:02:37.421Z"
   },
   {
    "duration": 16,
    "start_time": "2022-11-20T19:02:37.434Z"
   },
   {
    "duration": 47,
    "start_time": "2022-11-20T19:02:37.452Z"
   },
   {
    "duration": 18,
    "start_time": "2022-11-20T19:02:37.501Z"
   },
   {
    "duration": 20,
    "start_time": "2022-11-20T19:02:37.521Z"
   },
   {
    "duration": 10,
    "start_time": "2022-11-20T19:02:37.543Z"
   },
   {
    "duration": 5,
    "start_time": "2022-11-20T19:02:37.555Z"
   },
   {
    "duration": 218,
    "start_time": "2022-11-20T19:02:37.562Z"
   },
   {
    "duration": 387,
    "start_time": "2022-11-20T19:02:37.781Z"
   },
   {
    "duration": 286,
    "start_time": "2022-11-20T19:02:38.170Z"
   },
   {
    "duration": 291,
    "start_time": "2022-11-20T19:02:38.458Z"
   },
   {
    "duration": 317,
    "start_time": "2022-11-20T19:02:38.751Z"
   },
   {
    "duration": 382,
    "start_time": "2022-11-20T19:02:39.070Z"
   },
   {
    "duration": 300,
    "start_time": "2022-11-20T19:02:39.454Z"
   },
   {
    "duration": 302,
    "start_time": "2022-11-20T19:02:39.755Z"
   },
   {
    "duration": 296,
    "start_time": "2022-11-20T19:02:40.059Z"
   },
   {
    "duration": 5,
    "start_time": "2022-11-20T19:02:40.359Z"
   },
   {
    "duration": 23,
    "start_time": "2022-11-20T19:02:40.366Z"
   },
   {
    "duration": 63,
    "start_time": "2022-11-20T19:02:40.391Z"
   },
   {
    "duration": 25,
    "start_time": "2022-11-20T19:02:40.457Z"
   },
   {
    "duration": 60,
    "start_time": "2022-11-20T19:02:40.484Z"
   },
   {
    "duration": 466,
    "start_time": "2022-11-20T19:02:40.547Z"
   },
   {
    "duration": 284,
    "start_time": "2022-11-20T19:02:41.015Z"
   },
   {
    "duration": 224,
    "start_time": "2022-11-20T19:02:41.300Z"
   },
   {
    "duration": 10,
    "start_time": "2022-11-20T19:02:41.526Z"
   },
   {
    "duration": 1564,
    "start_time": "2022-11-20T19:02:41.538Z"
   },
   {
    "duration": 10,
    "start_time": "2022-11-20T19:02:43.104Z"
   },
   {
    "duration": 44,
    "start_time": "2022-11-20T19:02:43.116Z"
   },
   {
    "duration": 383,
    "start_time": "2022-11-20T19:02:43.162Z"
   },
   {
    "duration": 13,
    "start_time": "2022-11-20T19:02:43.546Z"
   },
   {
    "duration": 374,
    "start_time": "2022-11-20T19:02:43.561Z"
   },
   {
    "duration": 3,
    "start_time": "2022-11-20T19:02:43.937Z"
   },
   {
    "duration": 3040,
    "start_time": "2022-11-20T19:02:43.941Z"
   },
   {
    "duration": 24,
    "start_time": "2022-11-20T19:02:46.984Z"
   },
   {
    "duration": 238,
    "start_time": "2022-11-20T19:02:47.010Z"
   },
   {
    "duration": 15,
    "start_time": "2022-11-20T19:02:47.249Z"
   },
   {
    "duration": 333,
    "start_time": "2022-11-20T19:02:47.266Z"
   },
   {
    "duration": 309,
    "start_time": "2022-11-20T19:02:47.601Z"
   },
   {
    "duration": 15,
    "start_time": "2022-11-20T19:02:47.912Z"
   },
   {
    "duration": 360,
    "start_time": "2022-11-20T19:02:47.928Z"
   },
   {
    "duration": 313,
    "start_time": "2022-11-20T19:02:48.297Z"
   },
   {
    "duration": 299,
    "start_time": "2022-11-20T19:02:48.612Z"
   },
   {
    "duration": 401,
    "start_time": "2022-11-20T19:02:48.913Z"
   },
   {
    "duration": 15,
    "start_time": "2022-11-20T19:02:49.316Z"
   },
   {
    "duration": 410,
    "start_time": "2022-11-20T19:02:49.333Z"
   },
   {
    "duration": 371,
    "start_time": "2022-11-20T19:02:49.745Z"
   },
   {
    "duration": 372,
    "start_time": "2022-11-20T19:02:50.118Z"
   },
   {
    "duration": 15,
    "start_time": "2022-11-20T19:02:50.491Z"
   },
   {
    "duration": 9,
    "start_time": "2022-11-20T19:02:50.507Z"
   },
   {
    "duration": 23,
    "start_time": "2022-11-20T19:02:50.518Z"
   },
   {
    "duration": 205,
    "start_time": "2022-11-20T19:02:50.544Z"
   },
   {
    "duration": 1338,
    "start_time": "2022-11-20T19:13:16.235Z"
   },
   {
    "duration": 114,
    "start_time": "2022-11-20T19:13:26.737Z"
   },
   {
    "duration": 14,
    "start_time": "2022-11-20T19:15:36.732Z"
   },
   {
    "duration": 284,
    "start_time": "2022-11-20T19:19:47.380Z"
   },
   {
    "duration": 10,
    "start_time": "2022-11-20T19:20:21.476Z"
   },
   {
    "duration": 53,
    "start_time": "2022-11-20T19:21:33.031Z"
   },
   {
    "duration": 49,
    "start_time": "2022-11-20T19:21:38.450Z"
   },
   {
    "duration": 15,
    "start_time": "2022-11-20T19:24:29.918Z"
   },
   {
    "duration": 749,
    "start_time": "2022-11-20T19:24:46.693Z"
   },
   {
    "duration": 8,
    "start_time": "2022-11-20T19:25:11.919Z"
   },
   {
    "duration": 188,
    "start_time": "2022-11-20T19:25:16.566Z"
   },
   {
    "duration": 873,
    "start_time": "2022-11-20T19:27:22.059Z"
   },
   {
    "duration": 192,
    "start_time": "2022-11-20T19:33:20.199Z"
   },
   {
    "duration": 196,
    "start_time": "2022-11-20T19:33:31.489Z"
   },
   {
    "duration": 42,
    "start_time": "2022-11-20T19:41:50.381Z"
   },
   {
    "duration": 47,
    "start_time": "2022-11-20T19:44:13.225Z"
   },
   {
    "duration": 275,
    "start_time": "2022-11-20T19:44:42.333Z"
   },
   {
    "duration": 9,
    "start_time": "2022-11-20T19:46:38.818Z"
   },
   {
    "duration": 6,
    "start_time": "2022-11-20T19:46:39.779Z"
   },
   {
    "duration": 8,
    "start_time": "2022-11-20T19:47:50.927Z"
   },
   {
    "duration": 7,
    "start_time": "2022-11-20T19:47:57.062Z"
   },
   {
    "duration": 7,
    "start_time": "2022-11-20T19:48:03.402Z"
   },
   {
    "duration": 11,
    "start_time": "2022-11-20T19:48:14.166Z"
   },
   {
    "duration": 8,
    "start_time": "2022-11-20T19:48:33.813Z"
   },
   {
    "duration": 10,
    "start_time": "2022-11-20T19:48:40.116Z"
   },
   {
    "duration": 8,
    "start_time": "2022-11-20T19:48:58.777Z"
   },
   {
    "duration": 7,
    "start_time": "2022-11-20T19:49:10.557Z"
   },
   {
    "duration": 1029,
    "start_time": "2022-11-20T19:49:16.048Z"
   },
   {
    "duration": 52,
    "start_time": "2022-11-20T19:49:17.079Z"
   },
   {
    "duration": 28,
    "start_time": "2022-11-20T19:49:17.133Z"
   },
   {
    "duration": 18,
    "start_time": "2022-11-20T19:49:17.163Z"
   },
   {
    "duration": 15,
    "start_time": "2022-11-20T19:49:17.183Z"
   },
   {
    "duration": 937,
    "start_time": "2022-11-20T19:49:17.199Z"
   },
   {
    "duration": 5,
    "start_time": "2022-11-20T19:49:18.137Z"
   },
   {
    "duration": 12,
    "start_time": "2022-11-20T19:49:18.143Z"
   },
   {
    "duration": 10,
    "start_time": "2022-11-20T19:49:18.156Z"
   },
   {
    "duration": 5,
    "start_time": "2022-11-20T19:49:18.168Z"
   },
   {
    "duration": 12,
    "start_time": "2022-11-20T19:49:18.197Z"
   },
   {
    "duration": 7,
    "start_time": "2022-11-20T19:49:18.211Z"
   },
   {
    "duration": 47,
    "start_time": "2022-11-20T19:49:18.219Z"
   },
   {
    "duration": 32,
    "start_time": "2022-11-20T19:49:18.268Z"
   },
   {
    "duration": 41,
    "start_time": "2022-11-20T19:49:18.302Z"
   },
   {
    "duration": 32,
    "start_time": "2022-11-20T19:49:18.344Z"
   },
   {
    "duration": 9,
    "start_time": "2022-11-20T19:49:18.378Z"
   },
   {
    "duration": 3,
    "start_time": "2022-11-20T19:49:18.388Z"
   },
   {
    "duration": 147,
    "start_time": "2022-11-20T19:49:18.393Z"
   },
   {
    "duration": 336,
    "start_time": "2022-11-20T19:49:18.541Z"
   },
   {
    "duration": 281,
    "start_time": "2022-11-20T19:49:18.879Z"
   },
   {
    "duration": 296,
    "start_time": "2022-11-20T19:49:19.161Z"
   },
   {
    "duration": 288,
    "start_time": "2022-11-20T19:49:19.458Z"
   },
   {
    "duration": 376,
    "start_time": "2022-11-20T19:49:19.748Z"
   },
   {
    "duration": 298,
    "start_time": "2022-11-20T19:49:20.125Z"
   },
   {
    "duration": 265,
    "start_time": "2022-11-20T19:49:20.425Z"
   },
   {
    "duration": 267,
    "start_time": "2022-11-20T19:49:20.691Z"
   },
   {
    "duration": 3,
    "start_time": "2022-11-20T19:49:20.962Z"
   },
   {
    "duration": 7,
    "start_time": "2022-11-20T19:49:20.966Z"
   },
   {
    "duration": 24,
    "start_time": "2022-11-20T19:49:20.974Z"
   },
   {
    "duration": 8,
    "start_time": "2022-11-20T19:49:21.000Z"
   },
   {
    "duration": 17,
    "start_time": "2022-11-20T19:49:21.009Z"
   },
   {
    "duration": 384,
    "start_time": "2022-11-20T19:49:21.028Z"
   },
   {
    "duration": 283,
    "start_time": "2022-11-20T19:49:21.414Z"
   },
   {
    "duration": 198,
    "start_time": "2022-11-20T19:49:21.699Z"
   },
   {
    "duration": 8,
    "start_time": "2022-11-20T19:49:21.899Z"
   },
   {
    "duration": 1326,
    "start_time": "2022-11-20T19:49:21.909Z"
   },
   {
    "duration": 8,
    "start_time": "2022-11-20T19:49:23.236Z"
   },
   {
    "duration": 316,
    "start_time": "2022-11-20T19:49:23.246Z"
   },
   {
    "duration": 9,
    "start_time": "2022-11-20T19:49:23.564Z"
   },
   {
    "duration": 7,
    "start_time": "2022-11-20T19:49:23.574Z"
   },
   {
    "duration": 105,
    "start_time": "2022-11-20T19:49:23.582Z"
   },
   {
    "duration": 0,
    "start_time": "2022-11-20T19:49:23.688Z"
   },
   {
    "duration": 0,
    "start_time": "2022-11-20T19:49:23.697Z"
   },
   {
    "duration": 0,
    "start_time": "2022-11-20T19:49:23.698Z"
   },
   {
    "duration": 1,
    "start_time": "2022-11-20T19:49:23.699Z"
   },
   {
    "duration": 0,
    "start_time": "2022-11-20T19:49:23.701Z"
   },
   {
    "duration": 0,
    "start_time": "2022-11-20T19:49:23.702Z"
   },
   {
    "duration": 0,
    "start_time": "2022-11-20T19:49:23.703Z"
   },
   {
    "duration": 0,
    "start_time": "2022-11-20T19:49:23.704Z"
   },
   {
    "duration": 0,
    "start_time": "2022-11-20T19:49:23.705Z"
   },
   {
    "duration": 0,
    "start_time": "2022-11-20T19:49:23.706Z"
   },
   {
    "duration": 0,
    "start_time": "2022-11-20T19:49:23.707Z"
   },
   {
    "duration": 0,
    "start_time": "2022-11-20T19:49:23.708Z"
   },
   {
    "duration": 0,
    "start_time": "2022-11-20T19:49:23.709Z"
   },
   {
    "duration": 0,
    "start_time": "2022-11-20T19:49:23.710Z"
   },
   {
    "duration": 0,
    "start_time": "2022-11-20T19:49:23.710Z"
   },
   {
    "duration": 0,
    "start_time": "2022-11-20T19:49:23.711Z"
   },
   {
    "duration": 0,
    "start_time": "2022-11-20T19:49:23.713Z"
   },
   {
    "duration": 0,
    "start_time": "2022-11-20T19:49:23.713Z"
   },
   {
    "duration": 0,
    "start_time": "2022-11-20T19:49:23.714Z"
   },
   {
    "duration": 0,
    "start_time": "2022-11-20T19:49:23.715Z"
   },
   {
    "duration": 0,
    "start_time": "2022-11-20T19:49:23.717Z"
   },
   {
    "duration": 0,
    "start_time": "2022-11-20T19:49:23.717Z"
   },
   {
    "duration": 13,
    "start_time": "2022-11-20T19:50:55.991Z"
   },
   {
    "duration": 1107,
    "start_time": "2022-11-20T19:51:12.174Z"
   },
   {
    "duration": 54,
    "start_time": "2022-11-20T19:51:13.283Z"
   },
   {
    "duration": 30,
    "start_time": "2022-11-20T19:51:13.338Z"
   },
   {
    "duration": 19,
    "start_time": "2022-11-20T19:51:13.370Z"
   },
   {
    "duration": 13,
    "start_time": "2022-11-20T19:51:13.390Z"
   },
   {
    "duration": 932,
    "start_time": "2022-11-20T19:51:13.404Z"
   },
   {
    "duration": 4,
    "start_time": "2022-11-20T19:51:14.338Z"
   },
   {
    "duration": 17,
    "start_time": "2022-11-20T19:51:14.343Z"
   },
   {
    "duration": 11,
    "start_time": "2022-11-20T19:51:14.362Z"
   },
   {
    "duration": 23,
    "start_time": "2022-11-20T19:51:14.375Z"
   },
   {
    "duration": 13,
    "start_time": "2022-11-20T19:51:14.399Z"
   },
   {
    "duration": 15,
    "start_time": "2022-11-20T19:51:14.414Z"
   },
   {
    "duration": 17,
    "start_time": "2022-11-20T19:51:14.430Z"
   },
   {
    "duration": 21,
    "start_time": "2022-11-20T19:51:14.449Z"
   },
   {
    "duration": 33,
    "start_time": "2022-11-20T19:51:14.471Z"
   },
   {
    "duration": 16,
    "start_time": "2022-11-20T19:51:14.506Z"
   },
   {
    "duration": 8,
    "start_time": "2022-11-20T19:51:14.523Z"
   },
   {
    "duration": 5,
    "start_time": "2022-11-20T19:51:14.533Z"
   },
   {
    "duration": 187,
    "start_time": "2022-11-20T19:51:14.539Z"
   },
   {
    "duration": 397,
    "start_time": "2022-11-20T19:51:14.728Z"
   },
   {
    "duration": 279,
    "start_time": "2022-11-20T19:51:15.127Z"
   },
   {
    "duration": 305,
    "start_time": "2022-11-20T19:51:15.409Z"
   },
   {
    "duration": 287,
    "start_time": "2022-11-20T19:51:15.716Z"
   },
   {
    "duration": 371,
    "start_time": "2022-11-20T19:51:16.005Z"
   },
   {
    "duration": 276,
    "start_time": "2022-11-20T19:51:16.378Z"
   },
   {
    "duration": 290,
    "start_time": "2022-11-20T19:51:16.656Z"
   },
   {
    "duration": 278,
    "start_time": "2022-11-20T19:51:16.948Z"
   },
   {
    "duration": 4,
    "start_time": "2022-11-20T19:51:17.229Z"
   },
   {
    "duration": 10,
    "start_time": "2022-11-20T19:51:17.234Z"
   },
   {
    "duration": 17,
    "start_time": "2022-11-20T19:51:17.245Z"
   },
   {
    "duration": 10,
    "start_time": "2022-11-20T19:51:17.263Z"
   },
   {
    "duration": 23,
    "start_time": "2022-11-20T19:51:17.274Z"
   },
   {
    "duration": 376,
    "start_time": "2022-11-20T19:51:17.298Z"
   },
   {
    "duration": 252,
    "start_time": "2022-11-20T19:51:17.676Z"
   },
   {
    "duration": 214,
    "start_time": "2022-11-20T19:51:17.929Z"
   },
   {
    "duration": 9,
    "start_time": "2022-11-20T19:51:18.145Z"
   },
   {
    "duration": 1377,
    "start_time": "2022-11-20T19:51:18.156Z"
   },
   {
    "duration": 8,
    "start_time": "2022-11-20T19:51:19.534Z"
   },
   {
    "duration": 318,
    "start_time": "2022-11-20T19:51:19.544Z"
   },
   {
    "duration": 10,
    "start_time": "2022-11-20T19:51:19.864Z"
   },
   {
    "duration": 5,
    "start_time": "2022-11-20T19:51:19.876Z"
   },
   {
    "duration": 119,
    "start_time": "2022-11-20T19:51:19.883Z"
   },
   {
    "duration": 0,
    "start_time": "2022-11-20T19:51:20.003Z"
   },
   {
    "duration": 0,
    "start_time": "2022-11-20T19:51:20.004Z"
   },
   {
    "duration": 0,
    "start_time": "2022-11-20T19:51:20.005Z"
   },
   {
    "duration": 0,
    "start_time": "2022-11-20T19:51:20.007Z"
   },
   {
    "duration": 0,
    "start_time": "2022-11-20T19:51:20.008Z"
   },
   {
    "duration": 0,
    "start_time": "2022-11-20T19:51:20.009Z"
   },
   {
    "duration": 0,
    "start_time": "2022-11-20T19:51:20.010Z"
   },
   {
    "duration": 0,
    "start_time": "2022-11-20T19:51:20.011Z"
   },
   {
    "duration": 0,
    "start_time": "2022-11-20T19:51:20.012Z"
   },
   {
    "duration": 0,
    "start_time": "2022-11-20T19:51:20.013Z"
   },
   {
    "duration": 0,
    "start_time": "2022-11-20T19:51:20.014Z"
   },
   {
    "duration": 0,
    "start_time": "2022-11-20T19:51:20.015Z"
   },
   {
    "duration": 0,
    "start_time": "2022-11-20T19:51:20.016Z"
   },
   {
    "duration": 0,
    "start_time": "2022-11-20T19:51:20.017Z"
   },
   {
    "duration": 0,
    "start_time": "2022-11-20T19:51:20.018Z"
   },
   {
    "duration": 0,
    "start_time": "2022-11-20T19:51:20.019Z"
   },
   {
    "duration": 0,
    "start_time": "2022-11-20T19:51:20.021Z"
   },
   {
    "duration": 0,
    "start_time": "2022-11-20T19:51:20.022Z"
   },
   {
    "duration": 0,
    "start_time": "2022-11-20T19:51:20.023Z"
   },
   {
    "duration": 0,
    "start_time": "2022-11-20T19:51:20.025Z"
   },
   {
    "duration": 1,
    "start_time": "2022-11-20T19:51:20.026Z"
   },
   {
    "duration": 0,
    "start_time": "2022-11-20T19:51:20.028Z"
   },
   {
    "duration": 45,
    "start_time": "2022-11-20T20:30:53.440Z"
   },
   {
    "duration": 13,
    "start_time": "2022-11-20T20:31:32.145Z"
   },
   {
    "duration": 9,
    "start_time": "2022-11-20T20:31:57.482Z"
   },
   {
    "duration": 4,
    "start_time": "2022-11-20T20:32:58.438Z"
   },
   {
    "duration": 215,
    "start_time": "2022-11-20T20:34:39.819Z"
   },
   {
    "duration": 9,
    "start_time": "2022-11-20T20:36:40.322Z"
   },
   {
    "duration": 6,
    "start_time": "2022-11-20T20:36:40.878Z"
   },
   {
    "duration": 18,
    "start_time": "2022-11-20T20:36:49.415Z"
   },
   {
    "duration": 8,
    "start_time": "2022-11-20T20:37:55.853Z"
   },
   {
    "duration": 6,
    "start_time": "2022-11-20T20:37:56.347Z"
   },
   {
    "duration": 27,
    "start_time": "2022-11-20T20:38:18.043Z"
   },
   {
    "duration": 19,
    "start_time": "2022-11-20T20:39:22.144Z"
   },
   {
    "duration": 1163,
    "start_time": "2022-11-20T20:39:34.082Z"
   },
   {
    "duration": 55,
    "start_time": "2022-11-20T20:39:35.246Z"
   },
   {
    "duration": 32,
    "start_time": "2022-11-20T20:39:35.302Z"
   },
   {
    "duration": 28,
    "start_time": "2022-11-20T20:39:35.337Z"
   },
   {
    "duration": 9,
    "start_time": "2022-11-20T20:39:35.367Z"
   },
   {
    "duration": 1008,
    "start_time": "2022-11-20T20:39:35.378Z"
   },
   {
    "duration": 10,
    "start_time": "2022-11-20T20:39:36.388Z"
   },
   {
    "duration": 45,
    "start_time": "2022-11-20T20:39:36.400Z"
   },
   {
    "duration": 18,
    "start_time": "2022-11-20T20:39:36.447Z"
   },
   {
    "duration": 7,
    "start_time": "2022-11-20T20:39:36.468Z"
   },
   {
    "duration": 12,
    "start_time": "2022-11-20T20:39:36.477Z"
   },
   {
    "duration": 18,
    "start_time": "2022-11-20T20:39:36.490Z"
   },
   {
    "duration": 16,
    "start_time": "2022-11-20T20:39:36.509Z"
   },
   {
    "duration": 33,
    "start_time": "2022-11-20T20:39:36.526Z"
   },
   {
    "duration": 18,
    "start_time": "2022-11-20T20:39:36.561Z"
   },
   {
    "duration": 19,
    "start_time": "2022-11-20T20:39:36.581Z"
   },
   {
    "duration": 49,
    "start_time": "2022-11-20T20:39:36.602Z"
   },
   {
    "duration": 10,
    "start_time": "2022-11-20T20:39:36.653Z"
   },
   {
    "duration": 27,
    "start_time": "2022-11-20T20:39:36.664Z"
   },
   {
    "duration": 155,
    "start_time": "2022-11-20T20:39:36.692Z"
   },
   {
    "duration": 351,
    "start_time": "2022-11-20T20:39:36.849Z"
   },
   {
    "duration": 288,
    "start_time": "2022-11-20T20:39:37.201Z"
   },
   {
    "duration": 267,
    "start_time": "2022-11-20T20:39:37.490Z"
   },
   {
    "duration": 276,
    "start_time": "2022-11-20T20:39:37.758Z"
   },
   {
    "duration": 3,
    "start_time": "2022-11-20T20:39:38.036Z"
   },
   {
    "duration": 19,
    "start_time": "2022-11-20T20:39:38.041Z"
   },
   {
    "duration": 43,
    "start_time": "2022-11-20T20:39:38.061Z"
   },
   {
    "duration": 25,
    "start_time": "2022-11-20T20:39:38.109Z"
   },
   {
    "duration": 30,
    "start_time": "2022-11-20T20:39:38.136Z"
   },
   {
    "duration": 144,
    "start_time": "2022-11-20T20:39:38.168Z"
   },
   {
    "duration": 321,
    "start_time": "2022-11-20T20:39:38.314Z"
   },
   {
    "duration": 0,
    "start_time": "2022-11-20T20:39:38.637Z"
   },
   {
    "duration": 0,
    "start_time": "2022-11-20T20:39:38.638Z"
   },
   {
    "duration": 0,
    "start_time": "2022-11-20T20:39:38.639Z"
   },
   {
    "duration": 0,
    "start_time": "2022-11-20T20:39:38.641Z"
   },
   {
    "duration": 0,
    "start_time": "2022-11-20T20:39:38.642Z"
   },
   {
    "duration": 0,
    "start_time": "2022-11-20T20:39:38.644Z"
   },
   {
    "duration": 0,
    "start_time": "2022-11-20T20:39:38.645Z"
   },
   {
    "duration": 0,
    "start_time": "2022-11-20T20:39:38.646Z"
   },
   {
    "duration": 0,
    "start_time": "2022-11-20T20:39:38.647Z"
   },
   {
    "duration": 0,
    "start_time": "2022-11-20T20:39:38.649Z"
   },
   {
    "duration": 0,
    "start_time": "2022-11-20T20:39:38.650Z"
   },
   {
    "duration": 0,
    "start_time": "2022-11-20T20:39:38.652Z"
   },
   {
    "duration": 0,
    "start_time": "2022-11-20T20:39:38.653Z"
   },
   {
    "duration": 0,
    "start_time": "2022-11-20T20:39:38.654Z"
   },
   {
    "duration": 0,
    "start_time": "2022-11-20T20:39:38.655Z"
   },
   {
    "duration": 0,
    "start_time": "2022-11-20T20:39:38.657Z"
   },
   {
    "duration": 0,
    "start_time": "2022-11-20T20:39:38.658Z"
   },
   {
    "duration": 0,
    "start_time": "2022-11-20T20:39:38.660Z"
   },
   {
    "duration": 0,
    "start_time": "2022-11-20T20:39:38.697Z"
   },
   {
    "duration": 0,
    "start_time": "2022-11-20T20:39:38.699Z"
   },
   {
    "duration": 0,
    "start_time": "2022-11-20T20:39:38.700Z"
   },
   {
    "duration": 0,
    "start_time": "2022-11-20T20:39:38.701Z"
   },
   {
    "duration": 0,
    "start_time": "2022-11-20T20:39:38.702Z"
   },
   {
    "duration": 0,
    "start_time": "2022-11-20T20:39:38.703Z"
   },
   {
    "duration": 0,
    "start_time": "2022-11-20T20:39:38.704Z"
   },
   {
    "duration": 0,
    "start_time": "2022-11-20T20:39:38.705Z"
   },
   {
    "duration": 0,
    "start_time": "2022-11-20T20:39:38.706Z"
   },
   {
    "duration": 0,
    "start_time": "2022-11-20T20:39:38.707Z"
   },
   {
    "duration": 0,
    "start_time": "2022-11-20T20:39:38.708Z"
   },
   {
    "duration": 0,
    "start_time": "2022-11-20T20:39:38.709Z"
   },
   {
    "duration": 1101,
    "start_time": "2022-11-20T20:42:24.016Z"
   },
   {
    "duration": 54,
    "start_time": "2022-11-20T20:42:25.118Z"
   },
   {
    "duration": 32,
    "start_time": "2022-11-20T20:42:25.174Z"
   },
   {
    "duration": 21,
    "start_time": "2022-11-20T20:42:25.208Z"
   },
   {
    "duration": 8,
    "start_time": "2022-11-20T20:42:25.231Z"
   },
   {
    "duration": 996,
    "start_time": "2022-11-20T20:42:25.240Z"
   },
   {
    "duration": 4,
    "start_time": "2022-11-20T20:42:26.238Z"
   },
   {
    "duration": 17,
    "start_time": "2022-11-20T20:42:26.243Z"
   },
   {
    "duration": 13,
    "start_time": "2022-11-20T20:42:26.261Z"
   },
   {
    "duration": 21,
    "start_time": "2022-11-20T20:42:26.277Z"
   },
   {
    "duration": 18,
    "start_time": "2022-11-20T20:42:26.299Z"
   },
   {
    "duration": 117,
    "start_time": "2022-11-20T20:42:26.319Z"
   },
   {
    "duration": 0,
    "start_time": "2022-11-20T20:42:26.438Z"
   },
   {
    "duration": 0,
    "start_time": "2022-11-20T20:42:26.439Z"
   },
   {
    "duration": 0,
    "start_time": "2022-11-20T20:42:26.440Z"
   },
   {
    "duration": 1,
    "start_time": "2022-11-20T20:42:26.440Z"
   },
   {
    "duration": 0,
    "start_time": "2022-11-20T20:42:26.442Z"
   },
   {
    "duration": 0,
    "start_time": "2022-11-20T20:42:26.443Z"
   },
   {
    "duration": 0,
    "start_time": "2022-11-20T20:42:26.443Z"
   },
   {
    "duration": 0,
    "start_time": "2022-11-20T20:42:26.444Z"
   },
   {
    "duration": 0,
    "start_time": "2022-11-20T20:42:26.445Z"
   },
   {
    "duration": 0,
    "start_time": "2022-11-20T20:42:26.446Z"
   },
   {
    "duration": 0,
    "start_time": "2022-11-20T20:42:26.447Z"
   },
   {
    "duration": 0,
    "start_time": "2022-11-20T20:42:26.448Z"
   },
   {
    "duration": 0,
    "start_time": "2022-11-20T20:42:26.448Z"
   },
   {
    "duration": 0,
    "start_time": "2022-11-20T20:42:26.449Z"
   },
   {
    "duration": 0,
    "start_time": "2022-11-20T20:42:26.450Z"
   },
   {
    "duration": 0,
    "start_time": "2022-11-20T20:42:26.450Z"
   },
   {
    "duration": 0,
    "start_time": "2022-11-20T20:42:26.451Z"
   },
   {
    "duration": 0,
    "start_time": "2022-11-20T20:42:26.452Z"
   },
   {
    "duration": 0,
    "start_time": "2022-11-20T20:42:26.453Z"
   },
   {
    "duration": 0,
    "start_time": "2022-11-20T20:42:26.454Z"
   },
   {
    "duration": 0,
    "start_time": "2022-11-20T20:42:26.455Z"
   },
   {
    "duration": 0,
    "start_time": "2022-11-20T20:42:26.456Z"
   },
   {
    "duration": 0,
    "start_time": "2022-11-20T20:42:26.456Z"
   },
   {
    "duration": 0,
    "start_time": "2022-11-20T20:42:26.457Z"
   },
   {
    "duration": 0,
    "start_time": "2022-11-20T20:42:26.458Z"
   },
   {
    "duration": 0,
    "start_time": "2022-11-20T20:42:26.459Z"
   },
   {
    "duration": 0,
    "start_time": "2022-11-20T20:42:26.497Z"
   },
   {
    "duration": 0,
    "start_time": "2022-11-20T20:42:26.498Z"
   },
   {
    "duration": 0,
    "start_time": "2022-11-20T20:42:26.499Z"
   },
   {
    "duration": 0,
    "start_time": "2022-11-20T20:42:26.500Z"
   },
   {
    "duration": 0,
    "start_time": "2022-11-20T20:42:26.501Z"
   },
   {
    "duration": 0,
    "start_time": "2022-11-20T20:42:26.502Z"
   },
   {
    "duration": 0,
    "start_time": "2022-11-20T20:42:26.502Z"
   },
   {
    "duration": 0,
    "start_time": "2022-11-20T20:42:26.504Z"
   },
   {
    "duration": 0,
    "start_time": "2022-11-20T20:42:26.505Z"
   },
   {
    "duration": 0,
    "start_time": "2022-11-20T20:42:26.506Z"
   },
   {
    "duration": 0,
    "start_time": "2022-11-20T20:42:26.507Z"
   },
   {
    "duration": 0,
    "start_time": "2022-11-20T20:42:26.508Z"
   },
   {
    "duration": 0,
    "start_time": "2022-11-20T20:42:26.509Z"
   },
   {
    "duration": 0,
    "start_time": "2022-11-20T20:42:26.510Z"
   },
   {
    "duration": 0,
    "start_time": "2022-11-20T20:42:26.511Z"
   },
   {
    "duration": 0,
    "start_time": "2022-11-20T20:42:26.511Z"
   },
   {
    "duration": 0,
    "start_time": "2022-11-20T20:42:26.512Z"
   },
   {
    "duration": 0,
    "start_time": "2022-11-20T20:42:26.514Z"
   },
   {
    "duration": 0,
    "start_time": "2022-11-20T20:42:26.514Z"
   },
   {
    "duration": 0,
    "start_time": "2022-11-20T20:42:26.515Z"
   },
   {
    "duration": 0,
    "start_time": "2022-11-20T20:42:26.516Z"
   },
   {
    "duration": 0,
    "start_time": "2022-11-20T20:42:26.517Z"
   },
   {
    "duration": 0,
    "start_time": "2022-11-20T20:42:26.518Z"
   },
   {
    "duration": 30,
    "start_time": "2022-11-20T20:44:31.799Z"
   },
   {
    "duration": 21,
    "start_time": "2022-11-20T20:44:52.303Z"
   },
   {
    "duration": 1039,
    "start_time": "2022-11-20T20:45:06.727Z"
   },
   {
    "duration": 56,
    "start_time": "2022-11-20T20:45:07.768Z"
   },
   {
    "duration": 29,
    "start_time": "2022-11-20T20:45:07.825Z"
   },
   {
    "duration": 20,
    "start_time": "2022-11-20T20:45:07.855Z"
   },
   {
    "duration": 23,
    "start_time": "2022-11-20T20:45:07.876Z"
   },
   {
    "duration": 897,
    "start_time": "2022-11-20T20:45:07.900Z"
   },
   {
    "duration": 4,
    "start_time": "2022-11-20T20:45:08.798Z"
   },
   {
    "duration": 17,
    "start_time": "2022-11-20T20:45:08.804Z"
   },
   {
    "duration": 10,
    "start_time": "2022-11-20T20:45:08.822Z"
   },
   {
    "duration": 5,
    "start_time": "2022-11-20T20:45:08.834Z"
   },
   {
    "duration": 16,
    "start_time": "2022-11-20T20:45:08.840Z"
   },
   {
    "duration": 44,
    "start_time": "2022-11-20T20:45:08.857Z"
   },
   {
    "duration": 9,
    "start_time": "2022-11-20T20:45:08.902Z"
   },
   {
    "duration": 15,
    "start_time": "2022-11-20T20:45:08.912Z"
   },
   {
    "duration": 11,
    "start_time": "2022-11-20T20:45:08.928Z"
   },
   {
    "duration": 8,
    "start_time": "2022-11-20T20:45:08.941Z"
   },
   {
    "duration": 15,
    "start_time": "2022-11-20T20:45:08.951Z"
   },
   {
    "duration": 9,
    "start_time": "2022-11-20T20:45:08.998Z"
   },
   {
    "duration": 3,
    "start_time": "2022-11-20T20:45:09.009Z"
   },
   {
    "duration": 167,
    "start_time": "2022-11-20T20:45:09.014Z"
   },
   {
    "duration": 336,
    "start_time": "2022-11-20T20:45:09.182Z"
   },
   {
    "duration": 262,
    "start_time": "2022-11-20T20:45:09.519Z"
   },
   {
    "duration": 263,
    "start_time": "2022-11-20T20:45:09.783Z"
   },
   {
    "duration": 272,
    "start_time": "2022-11-20T20:45:10.048Z"
   },
   {
    "duration": 3,
    "start_time": "2022-11-20T20:45:10.321Z"
   },
   {
    "duration": 6,
    "start_time": "2022-11-20T20:45:10.326Z"
   },
   {
    "duration": 15,
    "start_time": "2022-11-20T20:45:10.334Z"
   },
   {
    "duration": 6,
    "start_time": "2022-11-20T20:45:10.352Z"
   },
   {
    "duration": 13,
    "start_time": "2022-11-20T20:45:10.360Z"
   },
   {
    "duration": 372,
    "start_time": "2022-11-20T20:45:10.374Z"
   },
   {
    "duration": 255,
    "start_time": "2022-11-20T20:45:10.748Z"
   },
   {
    "duration": 195,
    "start_time": "2022-11-20T20:45:11.004Z"
   },
   {
    "duration": 9,
    "start_time": "2022-11-20T20:45:11.200Z"
   },
   {
    "duration": 1323,
    "start_time": "2022-11-20T20:45:11.210Z"
   },
   {
    "duration": 7,
    "start_time": "2022-11-20T20:45:12.535Z"
   },
   {
    "duration": 295,
    "start_time": "2022-11-20T20:45:12.543Z"
   },
   {
    "duration": 101,
    "start_time": "2022-11-20T20:45:12.840Z"
   },
   {
    "duration": 0,
    "start_time": "2022-11-20T20:45:12.943Z"
   },
   {
    "duration": 0,
    "start_time": "2022-11-20T20:45:12.944Z"
   },
   {
    "duration": 0,
    "start_time": "2022-11-20T20:45:12.945Z"
   },
   {
    "duration": 0,
    "start_time": "2022-11-20T20:45:12.946Z"
   },
   {
    "duration": 0,
    "start_time": "2022-11-20T20:45:12.948Z"
   },
   {
    "duration": 0,
    "start_time": "2022-11-20T20:45:12.949Z"
   },
   {
    "duration": 0,
    "start_time": "2022-11-20T20:45:12.950Z"
   },
   {
    "duration": 0,
    "start_time": "2022-11-20T20:45:12.951Z"
   },
   {
    "duration": 0,
    "start_time": "2022-11-20T20:45:12.952Z"
   },
   {
    "duration": 0,
    "start_time": "2022-11-20T20:45:12.953Z"
   },
   {
    "duration": 0,
    "start_time": "2022-11-20T20:45:12.954Z"
   },
   {
    "duration": 0,
    "start_time": "2022-11-20T20:45:12.955Z"
   },
   {
    "duration": 0,
    "start_time": "2022-11-20T20:45:12.956Z"
   },
   {
    "duration": 0,
    "start_time": "2022-11-20T20:45:12.957Z"
   },
   {
    "duration": 0,
    "start_time": "2022-11-20T20:45:12.958Z"
   },
   {
    "duration": 0,
    "start_time": "2022-11-20T20:45:12.959Z"
   },
   {
    "duration": 0,
    "start_time": "2022-11-20T20:45:12.959Z"
   },
   {
    "duration": 0,
    "start_time": "2022-11-20T20:45:12.961Z"
   },
   {
    "duration": 0,
    "start_time": "2022-11-20T20:45:12.961Z"
   },
   {
    "duration": 0,
    "start_time": "2022-11-20T20:45:12.962Z"
   },
   {
    "duration": 0,
    "start_time": "2022-11-20T20:45:12.997Z"
   },
   {
    "duration": 0,
    "start_time": "2022-11-20T20:45:12.998Z"
   },
   {
    "duration": 0,
    "start_time": "2022-11-20T20:45:12.999Z"
   },
   {
    "duration": 0,
    "start_time": "2022-11-20T20:45:13.000Z"
   },
   {
    "duration": 4,
    "start_time": "2022-11-20T21:05:57.396Z"
   },
   {
    "duration": 3,
    "start_time": "2022-11-20T21:05:58.033Z"
   },
   {
    "duration": 5,
    "start_time": "2022-11-20T21:06:03.736Z"
   },
   {
    "duration": 18,
    "start_time": "2022-11-20T21:14:56.860Z"
   },
   {
    "duration": 1050,
    "start_time": "2022-11-20T21:15:05.342Z"
   },
   {
    "duration": 52,
    "start_time": "2022-11-20T21:15:06.396Z"
   },
   {
    "duration": 28,
    "start_time": "2022-11-20T21:15:06.449Z"
   },
   {
    "duration": 17,
    "start_time": "2022-11-20T21:15:06.479Z"
   },
   {
    "duration": 5,
    "start_time": "2022-11-20T21:15:06.498Z"
   },
   {
    "duration": 966,
    "start_time": "2022-11-20T21:15:06.504Z"
   },
   {
    "duration": 5,
    "start_time": "2022-11-20T21:15:07.471Z"
   },
   {
    "duration": 26,
    "start_time": "2022-11-20T21:15:07.477Z"
   },
   {
    "duration": 11,
    "start_time": "2022-11-20T21:15:07.505Z"
   },
   {
    "duration": 6,
    "start_time": "2022-11-20T21:15:07.519Z"
   },
   {
    "duration": 18,
    "start_time": "2022-11-20T21:15:07.526Z"
   },
   {
    "duration": 21,
    "start_time": "2022-11-20T21:15:07.545Z"
   },
   {
    "duration": 38,
    "start_time": "2022-11-20T21:15:07.567Z"
   },
   {
    "duration": 15,
    "start_time": "2022-11-20T21:15:07.606Z"
   },
   {
    "duration": 12,
    "start_time": "2022-11-20T21:15:07.622Z"
   },
   {
    "duration": 12,
    "start_time": "2022-11-20T21:15:07.636Z"
   },
   {
    "duration": 16,
    "start_time": "2022-11-20T21:15:07.649Z"
   },
   {
    "duration": 39,
    "start_time": "2022-11-20T21:15:07.667Z"
   },
   {
    "duration": 4,
    "start_time": "2022-11-20T21:15:07.707Z"
   },
   {
    "duration": 162,
    "start_time": "2022-11-20T21:15:07.713Z"
   },
   {
    "duration": 367,
    "start_time": "2022-11-20T21:15:07.877Z"
   },
   {
    "duration": 296,
    "start_time": "2022-11-20T21:15:08.245Z"
   },
   {
    "duration": 275,
    "start_time": "2022-11-20T21:15:08.543Z"
   },
   {
    "duration": 268,
    "start_time": "2022-11-20T21:15:08.819Z"
   },
   {
    "duration": 362,
    "start_time": "2022-11-20T21:15:09.089Z"
   },
   {
    "duration": 3,
    "start_time": "2022-11-20T21:15:09.453Z"
   },
   {
    "duration": 14,
    "start_time": "2022-11-20T21:15:09.458Z"
   },
   {
    "duration": 26,
    "start_time": "2022-11-20T21:15:09.475Z"
   },
   {
    "duration": 8,
    "start_time": "2022-11-20T21:15:09.503Z"
   },
   {
    "duration": 42,
    "start_time": "2022-11-20T21:15:09.512Z"
   },
   {
    "duration": 330,
    "start_time": "2022-11-20T21:15:09.556Z"
   },
   {
    "duration": 310,
    "start_time": "2022-11-20T21:15:09.888Z"
   },
   {
    "duration": 207,
    "start_time": "2022-11-20T21:15:10.199Z"
   },
   {
    "duration": 9,
    "start_time": "2022-11-20T21:15:10.408Z"
   },
   {
    "duration": 1384,
    "start_time": "2022-11-20T21:15:10.418Z"
   },
   {
    "duration": 7,
    "start_time": "2022-11-20T21:15:11.804Z"
   },
   {
    "duration": 313,
    "start_time": "2022-11-20T21:15:11.813Z"
   },
   {
    "duration": 102,
    "start_time": "2022-11-20T21:15:12.128Z"
   },
   {
    "duration": 0,
    "start_time": "2022-11-20T21:15:12.231Z"
   },
   {
    "duration": 0,
    "start_time": "2022-11-20T21:15:12.233Z"
   },
   {
    "duration": 0,
    "start_time": "2022-11-20T21:15:12.234Z"
   },
   {
    "duration": 0,
    "start_time": "2022-11-20T21:15:12.235Z"
   },
   {
    "duration": 0,
    "start_time": "2022-11-20T21:15:12.236Z"
   },
   {
    "duration": 0,
    "start_time": "2022-11-20T21:15:12.237Z"
   },
   {
    "duration": 0,
    "start_time": "2022-11-20T21:15:12.238Z"
   },
   {
    "duration": 0,
    "start_time": "2022-11-20T21:15:12.239Z"
   },
   {
    "duration": 0,
    "start_time": "2022-11-20T21:15:12.240Z"
   },
   {
    "duration": 0,
    "start_time": "2022-11-20T21:15:12.241Z"
   },
   {
    "duration": 0,
    "start_time": "2022-11-20T21:15:12.242Z"
   },
   {
    "duration": 0,
    "start_time": "2022-11-20T21:15:12.243Z"
   },
   {
    "duration": 0,
    "start_time": "2022-11-20T21:15:12.244Z"
   },
   {
    "duration": 0,
    "start_time": "2022-11-20T21:15:12.245Z"
   },
   {
    "duration": 0,
    "start_time": "2022-11-20T21:15:12.246Z"
   },
   {
    "duration": 0,
    "start_time": "2022-11-20T21:15:12.246Z"
   },
   {
    "duration": 0,
    "start_time": "2022-11-20T21:15:12.247Z"
   },
   {
    "duration": 0,
    "start_time": "2022-11-20T21:15:12.248Z"
   },
   {
    "duration": 0,
    "start_time": "2022-11-20T21:15:12.249Z"
   },
   {
    "duration": 0,
    "start_time": "2022-11-20T21:15:12.250Z"
   },
   {
    "duration": 0,
    "start_time": "2022-11-20T21:15:12.251Z"
   },
   {
    "duration": 0,
    "start_time": "2022-11-20T21:15:12.252Z"
   },
   {
    "duration": 0,
    "start_time": "2022-11-20T21:15:12.253Z"
   },
   {
    "duration": 0,
    "start_time": "2022-11-20T21:15:12.254Z"
   },
   {
    "duration": 10,
    "start_time": "2022-11-20T21:16:36.896Z"
   },
   {
    "duration": 7,
    "start_time": "2022-11-20T21:16:38.951Z"
   },
   {
    "duration": 200,
    "start_time": "2022-11-20T21:16:41.883Z"
   },
   {
    "duration": 14,
    "start_time": "2022-11-20T21:23:38.703Z"
   },
   {
    "duration": 285,
    "start_time": "2022-11-20T21:23:39.603Z"
   },
   {
    "duration": 226,
    "start_time": "2022-11-20T21:25:00.873Z"
   },
   {
    "duration": 222,
    "start_time": "2022-11-20T21:25:11.851Z"
   },
   {
    "duration": 218,
    "start_time": "2022-11-20T21:25:49.446Z"
   },
   {
    "duration": 771,
    "start_time": "2022-11-20T21:29:11.310Z"
   },
   {
    "duration": 8,
    "start_time": "2022-11-20T21:30:32.526Z"
   },
   {
    "duration": 12,
    "start_time": "2022-11-20T21:33:50.878Z"
   },
   {
    "duration": 8,
    "start_time": "2022-11-20T21:34:17.159Z"
   },
   {
    "duration": 9,
    "start_time": "2022-11-20T21:35:44.228Z"
   },
   {
    "duration": 12,
    "start_time": "2022-11-20T21:35:44.757Z"
   },
   {
    "duration": 367,
    "start_time": "2022-11-20T21:35:48.795Z"
   },
   {
    "duration": 189,
    "start_time": "2022-11-20T21:35:54.704Z"
   },
   {
    "duration": 14,
    "start_time": "2022-11-20T21:35:58.983Z"
   },
   {
    "duration": 213,
    "start_time": "2022-11-20T21:36:05.219Z"
   },
   {
    "duration": 230,
    "start_time": "2022-11-20T21:37:10.962Z"
   },
   {
    "duration": 230,
    "start_time": "2022-11-20T21:37:18.934Z"
   },
   {
    "duration": 233,
    "start_time": "2022-11-20T21:37:31.771Z"
   },
   {
    "duration": 278,
    "start_time": "2022-11-20T21:37:40.575Z"
   },
   {
    "duration": 236,
    "start_time": "2022-11-20T21:37:46.082Z"
   },
   {
    "duration": 252,
    "start_time": "2022-11-20T21:37:55.633Z"
   },
   {
    "duration": 342,
    "start_time": "2022-11-20T21:38:13.661Z"
   },
   {
    "duration": 109,
    "start_time": "2022-11-20T21:40:48.007Z"
   },
   {
    "duration": 114,
    "start_time": "2022-11-20T21:40:55.778Z"
   },
   {
    "duration": 14,
    "start_time": "2022-11-20T21:42:11.034Z"
   },
   {
    "duration": 106,
    "start_time": "2022-11-20T21:42:12.867Z"
   },
   {
    "duration": 145,
    "start_time": "2022-11-20T21:43:15.589Z"
   },
   {
    "duration": 144,
    "start_time": "2022-11-20T21:44:18.273Z"
   },
   {
    "duration": 142,
    "start_time": "2022-11-20T21:45:55.894Z"
   },
   {
    "duration": 43,
    "start_time": "2022-11-20T21:46:40.136Z"
   },
   {
    "duration": 117,
    "start_time": "2022-11-20T21:47:27.139Z"
   },
   {
    "duration": 118,
    "start_time": "2022-11-20T21:49:33.674Z"
   },
   {
    "duration": 131,
    "start_time": "2022-11-20T21:50:28.022Z"
   },
   {
    "duration": 118,
    "start_time": "2022-11-20T21:52:52.160Z"
   },
   {
    "duration": 160,
    "start_time": "2022-11-20T21:53:20.001Z"
   },
   {
    "duration": 126,
    "start_time": "2022-11-20T21:54:13.834Z"
   },
   {
    "duration": 136,
    "start_time": "2022-11-20T21:54:36.063Z"
   },
   {
    "duration": 131,
    "start_time": "2022-11-20T21:55:59.212Z"
   },
   {
    "duration": 122,
    "start_time": "2022-11-20T21:57:06.708Z"
   },
   {
    "duration": 105,
    "start_time": "2022-11-20T21:57:13.543Z"
   },
   {
    "duration": 233,
    "start_time": "2022-11-20T21:57:20.639Z"
   },
   {
    "duration": 11,
    "start_time": "2022-11-20T22:02:40.539Z"
   },
   {
    "duration": 202,
    "start_time": "2022-11-20T22:02:46.789Z"
   },
   {
    "duration": 231,
    "start_time": "2022-11-20T22:05:02.267Z"
   },
   {
    "duration": 400,
    "start_time": "2022-11-20T22:06:00.688Z"
   },
   {
    "duration": 289,
    "start_time": "2022-11-20T22:06:09.515Z"
   },
   {
    "duration": 284,
    "start_time": "2022-11-20T22:06:20.771Z"
   },
   {
    "duration": 12,
    "start_time": "2022-11-20T22:15:01.762Z"
   },
   {
    "duration": 7,
    "start_time": "2022-11-20T22:18:55.939Z"
   },
   {
    "duration": 14,
    "start_time": "2022-11-20T22:19:28.951Z"
   },
   {
    "duration": 5,
    "start_time": "2022-11-20T22:21:13.811Z"
   },
   {
    "duration": 13,
    "start_time": "2022-11-20T22:22:51.478Z"
   },
   {
    "duration": 291,
    "start_time": "2022-11-20T22:23:26.355Z"
   },
   {
    "duration": 361,
    "start_time": "2022-11-20T22:26:07.309Z"
   },
   {
    "duration": 1024,
    "start_time": "2022-11-20T22:27:36.153Z"
   },
   {
    "duration": 52,
    "start_time": "2022-11-20T22:27:37.179Z"
   },
   {
    "duration": 29,
    "start_time": "2022-11-20T22:27:37.232Z"
   },
   {
    "duration": 17,
    "start_time": "2022-11-20T22:27:37.263Z"
   },
   {
    "duration": 16,
    "start_time": "2022-11-20T22:27:37.282Z"
   },
   {
    "duration": 913,
    "start_time": "2022-11-20T22:27:37.299Z"
   },
   {
    "duration": 5,
    "start_time": "2022-11-20T22:27:38.213Z"
   },
   {
    "duration": 14,
    "start_time": "2022-11-20T22:27:38.220Z"
   },
   {
    "duration": 11,
    "start_time": "2022-11-20T22:27:38.235Z"
   },
   {
    "duration": 5,
    "start_time": "2022-11-20T22:27:38.248Z"
   },
   {
    "duration": 11,
    "start_time": "2022-11-20T22:27:38.255Z"
   },
   {
    "duration": 46,
    "start_time": "2022-11-20T22:27:38.268Z"
   },
   {
    "duration": 8,
    "start_time": "2022-11-20T22:27:38.315Z"
   },
   {
    "duration": 15,
    "start_time": "2022-11-20T22:27:38.325Z"
   },
   {
    "duration": 11,
    "start_time": "2022-11-20T22:27:38.341Z"
   },
   {
    "duration": 11,
    "start_time": "2022-11-20T22:27:38.354Z"
   },
   {
    "duration": 44,
    "start_time": "2022-11-20T22:27:38.366Z"
   },
   {
    "duration": 9,
    "start_time": "2022-11-20T22:27:38.411Z"
   },
   {
    "duration": 4,
    "start_time": "2022-11-20T22:27:38.421Z"
   },
   {
    "duration": 162,
    "start_time": "2022-11-20T22:27:38.426Z"
   },
   {
    "duration": 324,
    "start_time": "2022-11-20T22:27:38.589Z"
   },
   {
    "duration": 282,
    "start_time": "2022-11-20T22:27:38.915Z"
   },
   {
    "duration": 257,
    "start_time": "2022-11-20T22:27:39.199Z"
   },
   {
    "duration": 250,
    "start_time": "2022-11-20T22:27:39.457Z"
   },
   {
    "duration": 352,
    "start_time": "2022-11-20T22:27:39.708Z"
   },
   {
    "duration": 14,
    "start_time": "2022-11-20T22:27:40.061Z"
   },
   {
    "duration": 14,
    "start_time": "2022-11-20T22:27:40.077Z"
   },
   {
    "duration": 13,
    "start_time": "2022-11-20T22:27:40.096Z"
   },
   {
    "duration": 17,
    "start_time": "2022-11-20T22:27:40.111Z"
   },
   {
    "duration": 13,
    "start_time": "2022-11-20T22:27:40.130Z"
   },
   {
    "duration": 16,
    "start_time": "2022-11-20T22:27:40.144Z"
   },
   {
    "duration": 300,
    "start_time": "2022-11-20T22:27:40.161Z"
   },
   {
    "duration": 256,
    "start_time": "2022-11-20T22:27:40.462Z"
   },
   {
    "duration": 207,
    "start_time": "2022-11-20T22:27:40.719Z"
   },
   {
    "duration": 9,
    "start_time": "2022-11-20T22:27:40.927Z"
   },
   {
    "duration": 1331,
    "start_time": "2022-11-20T22:27:40.938Z"
   },
   {
    "duration": 7,
    "start_time": "2022-11-20T22:27:42.270Z"
   },
   {
    "duration": 290,
    "start_time": "2022-11-20T22:27:42.278Z"
   },
   {
    "duration": 9,
    "start_time": "2022-11-20T22:27:42.569Z"
   },
   {
    "duration": 14,
    "start_time": "2022-11-20T22:27:42.579Z"
   },
   {
    "duration": 191,
    "start_time": "2022-11-20T22:27:42.594Z"
   },
   {
    "duration": 13,
    "start_time": "2022-11-20T22:27:42.786Z"
   },
   {
    "duration": 246,
    "start_time": "2022-11-20T22:27:42.800Z"
   },
   {
    "duration": 2,
    "start_time": "2022-11-20T22:27:43.047Z"
   },
   {
    "duration": 2699,
    "start_time": "2022-11-20T22:27:43.051Z"
   },
   {
    "duration": 13,
    "start_time": "2022-11-20T22:27:45.752Z"
   },
   {
    "duration": 132,
    "start_time": "2022-11-20T22:27:45.766Z"
   },
   {
    "duration": 135,
    "start_time": "2022-11-20T22:27:45.900Z"
   },
   {
    "duration": 139,
    "start_time": "2022-11-20T22:27:46.037Z"
   },
   {
    "duration": 151,
    "start_time": "2022-11-20T22:27:46.177Z"
   },
   {
    "duration": 118,
    "start_time": "2022-11-20T22:27:46.330Z"
   },
   {
    "duration": 132,
    "start_time": "2022-11-20T22:27:46.450Z"
   },
   {
    "duration": 21,
    "start_time": "2022-11-20T22:27:46.584Z"
   },
   {
    "duration": 293,
    "start_time": "2022-11-20T22:27:46.606Z"
   },
   {
    "duration": 13,
    "start_time": "2022-11-20T22:27:46.900Z"
   },
   {
    "duration": 290,
    "start_time": "2022-11-20T22:27:46.915Z"
   },
   {
    "duration": 283,
    "start_time": "2022-11-20T22:27:47.207Z"
   },
   {
    "duration": 17,
    "start_time": "2022-11-20T22:27:47.491Z"
   },
   {
    "duration": 399,
    "start_time": "2022-11-20T22:27:47.509Z"
   },
   {
    "duration": 265,
    "start_time": "2022-11-20T22:27:47.910Z"
   },
   {
    "duration": 297,
    "start_time": "2022-11-20T22:27:48.176Z"
   },
   {
    "duration": 286,
    "start_time": "2022-11-20T22:27:48.474Z"
   },
   {
    "duration": 13,
    "start_time": "2022-11-20T22:27:48.761Z"
   },
   {
    "duration": 296,
    "start_time": "2022-11-20T22:27:48.775Z"
   },
   {
    "duration": 294,
    "start_time": "2022-11-20T22:27:49.073Z"
   },
   {
    "duration": 291,
    "start_time": "2022-11-20T22:27:49.368Z"
   },
   {
    "duration": 12,
    "start_time": "2022-11-20T22:27:49.661Z"
   },
   {
    "duration": 12,
    "start_time": "2022-11-20T22:27:49.674Z"
   },
   {
    "duration": 25,
    "start_time": "2022-11-20T22:27:49.687Z"
   },
   {
    "duration": 13,
    "start_time": "2022-11-20T22:27:49.713Z"
   },
   {
    "duration": 307,
    "start_time": "2022-11-20T22:49:01.643Z"
   },
   {
    "duration": 322,
    "start_time": "2022-11-20T22:50:23.162Z"
   },
   {
    "duration": 102,
    "start_time": "2022-11-20T22:50:31.571Z"
   },
   {
    "duration": 7,
    "start_time": "2022-11-20T22:50:51.151Z"
   },
   {
    "duration": 1079,
    "start_time": "2022-11-20T22:53:41.394Z"
   },
   {
    "duration": 53,
    "start_time": "2022-11-20T22:53:42.475Z"
   },
   {
    "duration": 30,
    "start_time": "2022-11-20T22:53:42.529Z"
   },
   {
    "duration": 17,
    "start_time": "2022-11-20T22:53:42.561Z"
   },
   {
    "duration": 25,
    "start_time": "2022-11-20T22:53:42.580Z"
   },
   {
    "duration": 966,
    "start_time": "2022-11-20T22:53:42.607Z"
   },
   {
    "duration": 4,
    "start_time": "2022-11-20T22:53:43.575Z"
   },
   {
    "duration": 21,
    "start_time": "2022-11-20T22:53:43.580Z"
   },
   {
    "duration": 11,
    "start_time": "2022-11-20T22:53:43.603Z"
   },
   {
    "duration": 6,
    "start_time": "2022-11-20T22:53:43.617Z"
   },
   {
    "duration": 21,
    "start_time": "2022-11-20T22:53:43.625Z"
   },
   {
    "duration": 25,
    "start_time": "2022-11-20T22:53:43.648Z"
   },
   {
    "duration": 27,
    "start_time": "2022-11-20T22:53:43.675Z"
   },
   {
    "duration": 20,
    "start_time": "2022-11-20T22:53:43.703Z"
   },
   {
    "duration": 14,
    "start_time": "2022-11-20T22:53:43.724Z"
   },
   {
    "duration": 24,
    "start_time": "2022-11-20T22:53:43.739Z"
   },
   {
    "duration": 22,
    "start_time": "2022-11-20T22:53:43.764Z"
   },
   {
    "duration": 11,
    "start_time": "2022-11-20T22:53:43.788Z"
   },
   {
    "duration": 19,
    "start_time": "2022-11-20T22:53:43.800Z"
   },
   {
    "duration": 167,
    "start_time": "2022-11-20T22:53:43.820Z"
   },
   {
    "duration": 330,
    "start_time": "2022-11-20T22:53:43.989Z"
   },
   {
    "duration": 297,
    "start_time": "2022-11-20T22:53:44.320Z"
   },
   {
    "duration": 268,
    "start_time": "2022-11-20T22:53:44.619Z"
   },
   {
    "duration": 286,
    "start_time": "2022-11-20T22:53:44.889Z"
   },
   {
    "duration": 353,
    "start_time": "2022-11-20T22:53:45.177Z"
   },
   {
    "duration": 14,
    "start_time": "2022-11-20T22:53:45.532Z"
   },
   {
    "duration": 10,
    "start_time": "2022-11-20T22:53:45.547Z"
   },
   {
    "duration": 16,
    "start_time": "2022-11-20T22:53:45.560Z"
   },
   {
    "duration": 24,
    "start_time": "2022-11-20T22:53:45.578Z"
   },
   {
    "duration": 22,
    "start_time": "2022-11-20T22:53:45.603Z"
   },
   {
    "duration": 37,
    "start_time": "2022-11-20T22:53:45.627Z"
   },
   {
    "duration": 296,
    "start_time": "2022-11-20T22:53:45.665Z"
   },
   {
    "duration": 255,
    "start_time": "2022-11-20T22:53:45.963Z"
   },
   {
    "duration": 186,
    "start_time": "2022-11-20T22:53:46.219Z"
   },
   {
    "duration": 9,
    "start_time": "2022-11-20T22:53:46.406Z"
   },
   {
    "duration": 1286,
    "start_time": "2022-11-20T22:53:46.416Z"
   },
   {
    "duration": 6,
    "start_time": "2022-11-20T22:53:47.704Z"
   },
   {
    "duration": 306,
    "start_time": "2022-11-20T22:53:47.712Z"
   },
   {
    "duration": 9,
    "start_time": "2022-11-20T22:53:48.020Z"
   },
   {
    "duration": 29,
    "start_time": "2022-11-20T22:53:48.030Z"
   },
   {
    "duration": 193,
    "start_time": "2022-11-20T22:53:48.060Z"
   },
   {
    "duration": 12,
    "start_time": "2022-11-20T22:53:48.255Z"
   },
   {
    "duration": 238,
    "start_time": "2022-11-20T22:53:48.269Z"
   },
   {
    "duration": 3,
    "start_time": "2022-11-20T22:53:48.508Z"
   },
   {
    "duration": 2787,
    "start_time": "2022-11-20T22:53:48.512Z"
   },
   {
    "duration": 14,
    "start_time": "2022-11-20T22:53:51.300Z"
   },
   {
    "duration": 130,
    "start_time": "2022-11-20T22:53:51.315Z"
   },
   {
    "duration": 127,
    "start_time": "2022-11-20T22:53:51.446Z"
   },
   {
    "duration": 144,
    "start_time": "2022-11-20T22:53:51.574Z"
   },
   {
    "duration": 145,
    "start_time": "2022-11-20T22:53:51.719Z"
   },
   {
    "duration": 131,
    "start_time": "2022-11-20T22:53:51.866Z"
   },
   {
    "duration": 127,
    "start_time": "2022-11-20T22:53:51.999Z"
   },
   {
    "duration": 10,
    "start_time": "2022-11-20T22:53:52.128Z"
   },
   {
    "duration": 6,
    "start_time": "2022-11-20T22:53:52.140Z"
   },
   {
    "duration": 313,
    "start_time": "2022-11-20T22:53:52.147Z"
   },
   {
    "duration": 13,
    "start_time": "2022-11-20T22:53:52.462Z"
   },
   {
    "duration": 290,
    "start_time": "2022-11-20T22:53:52.476Z"
   },
   {
    "duration": 13,
    "start_time": "2022-11-20T22:53:52.767Z"
   },
   {
    "duration": 295,
    "start_time": "2022-11-20T22:53:52.781Z"
   },
   {
    "duration": 21,
    "start_time": "2022-11-20T22:53:53.077Z"
   },
   {
    "duration": 415,
    "start_time": "2022-11-20T22:53:53.099Z"
   },
   {
    "duration": 258,
    "start_time": "2022-11-20T22:53:53.515Z"
   },
   {
    "duration": 295,
    "start_time": "2022-11-20T22:53:53.775Z"
   },
   {
    "duration": 293,
    "start_time": "2022-11-20T22:53:54.071Z"
   },
   {
    "duration": 12,
    "start_time": "2022-11-20T22:53:54.366Z"
   },
   {
    "duration": 300,
    "start_time": "2022-11-20T22:53:54.380Z"
   },
   {
    "duration": 291,
    "start_time": "2022-11-20T22:53:54.682Z"
   },
   {
    "duration": 292,
    "start_time": "2022-11-20T22:53:54.975Z"
   },
   {
    "duration": 13,
    "start_time": "2022-11-20T22:53:55.268Z"
   },
   {
    "duration": 25,
    "start_time": "2022-11-20T22:53:55.297Z"
   },
   {
    "duration": 35,
    "start_time": "2022-11-20T22:53:55.324Z"
   },
   {
    "duration": 32,
    "start_time": "2022-11-20T22:53:55.361Z"
   },
   {
    "duration": 240,
    "start_time": "2022-11-20T22:54:26.724Z"
   },
   {
    "duration": 243,
    "start_time": "2022-11-20T22:54:35.730Z"
   },
   {
    "duration": 277,
    "start_time": "2022-11-20T22:54:40.349Z"
   },
   {
    "duration": 280,
    "start_time": "2022-11-20T22:54:47.190Z"
   },
   {
    "duration": 265,
    "start_time": "2022-11-20T22:54:54.100Z"
   },
   {
    "duration": 236,
    "start_time": "2022-11-20T22:54:58.935Z"
   },
   {
    "duration": 425,
    "start_time": "2022-11-20T22:55:05.546Z"
   },
   {
    "duration": 18,
    "start_time": "2022-11-20T23:11:26.763Z"
   },
   {
    "duration": 105,
    "start_time": "2022-11-20T23:18:00.199Z"
   },
   {
    "duration": 1088,
    "start_time": "2022-11-20T23:18:11.157Z"
   },
   {
    "duration": 53,
    "start_time": "2022-11-20T23:18:12.247Z"
   },
   {
    "duration": 32,
    "start_time": "2022-11-20T23:18:12.301Z"
   },
   {
    "duration": 21,
    "start_time": "2022-11-20T23:18:12.335Z"
   },
   {
    "duration": 4,
    "start_time": "2022-11-20T23:18:12.357Z"
   },
   {
    "duration": 988,
    "start_time": "2022-11-20T23:18:12.362Z"
   },
   {
    "duration": 4,
    "start_time": "2022-11-20T23:18:13.352Z"
   },
   {
    "duration": 14,
    "start_time": "2022-11-20T23:18:13.358Z"
   },
   {
    "duration": 30,
    "start_time": "2022-11-20T23:18:13.374Z"
   },
   {
    "duration": 6,
    "start_time": "2022-11-20T23:18:13.407Z"
   },
   {
    "duration": 14,
    "start_time": "2022-11-20T23:18:13.415Z"
   },
   {
    "duration": 19,
    "start_time": "2022-11-20T23:18:13.431Z"
   },
   {
    "duration": 9,
    "start_time": "2022-11-20T23:18:13.452Z"
   },
   {
    "duration": 48,
    "start_time": "2022-11-20T23:18:13.462Z"
   },
   {
    "duration": 11,
    "start_time": "2022-11-20T23:18:13.512Z"
   },
   {
    "duration": 10,
    "start_time": "2022-11-20T23:18:13.524Z"
   },
   {
    "duration": 15,
    "start_time": "2022-11-20T23:18:13.536Z"
   },
   {
    "duration": 9,
    "start_time": "2022-11-20T23:18:13.552Z"
   },
   {
    "duration": 4,
    "start_time": "2022-11-20T23:18:13.563Z"
   },
   {
    "duration": 159,
    "start_time": "2022-11-20T23:18:13.597Z"
   },
   {
    "duration": 344,
    "start_time": "2022-11-20T23:18:13.757Z"
   },
   {
    "duration": 276,
    "start_time": "2022-11-20T23:18:14.102Z"
   },
   {
    "duration": 301,
    "start_time": "2022-11-20T23:18:14.379Z"
   },
   {
    "duration": 270,
    "start_time": "2022-11-20T23:18:14.681Z"
   },
   {
    "duration": 382,
    "start_time": "2022-11-20T23:18:14.953Z"
   },
   {
    "duration": 14,
    "start_time": "2022-11-20T23:18:15.336Z"
   },
   {
    "duration": 3,
    "start_time": "2022-11-20T23:18:15.352Z"
   },
   {
    "duration": 3,
    "start_time": "2022-11-20T23:18:15.359Z"
   },
   {
    "duration": 15,
    "start_time": "2022-11-20T23:18:15.364Z"
   },
   {
    "duration": 5,
    "start_time": "2022-11-20T23:18:15.397Z"
   },
   {
    "duration": 18,
    "start_time": "2022-11-20T23:18:15.403Z"
   },
   {
    "duration": 334,
    "start_time": "2022-11-20T23:18:15.422Z"
   },
   {
    "duration": 284,
    "start_time": "2022-11-20T23:18:15.758Z"
   },
   {
    "duration": 209,
    "start_time": "2022-11-20T23:18:16.043Z"
   },
   {
    "duration": 10,
    "start_time": "2022-11-20T23:18:16.253Z"
   },
   {
    "duration": 1419,
    "start_time": "2022-11-20T23:18:16.265Z"
   },
   {
    "duration": 14,
    "start_time": "2022-11-20T23:18:17.685Z"
   },
   {
    "duration": 306,
    "start_time": "2022-11-20T23:18:17.700Z"
   },
   {
    "duration": 9,
    "start_time": "2022-11-20T23:18:18.008Z"
   },
   {
    "duration": 15,
    "start_time": "2022-11-20T23:18:18.018Z"
   },
   {
    "duration": 206,
    "start_time": "2022-11-20T23:18:18.035Z"
   },
   {
    "duration": 13,
    "start_time": "2022-11-20T23:18:18.243Z"
   },
   {
    "duration": 255,
    "start_time": "2022-11-20T23:18:18.258Z"
   },
   {
    "duration": 2,
    "start_time": "2022-11-20T23:18:18.515Z"
   },
   {
    "duration": 3057,
    "start_time": "2022-11-20T23:18:18.519Z"
   },
   {
    "duration": 13,
    "start_time": "2022-11-20T23:18:21.577Z"
   },
   {
    "duration": 129,
    "start_time": "2022-11-20T23:18:21.597Z"
   },
   {
    "duration": 138,
    "start_time": "2022-11-20T23:18:21.728Z"
   },
   {
    "duration": 151,
    "start_time": "2022-11-20T23:18:21.867Z"
   },
   {
    "duration": 147,
    "start_time": "2022-11-20T23:18:22.020Z"
   },
   {
    "duration": 130,
    "start_time": "2022-11-20T23:18:22.169Z"
   },
   {
    "duration": 141,
    "start_time": "2022-11-20T23:18:22.300Z"
   },
   {
    "duration": 13,
    "start_time": "2022-11-20T23:18:22.443Z"
   },
   {
    "duration": 8,
    "start_time": "2022-11-20T23:18:22.458Z"
   },
   {
    "duration": 324,
    "start_time": "2022-11-20T23:18:22.468Z"
   },
   {
    "duration": 14,
    "start_time": "2022-11-20T23:18:22.796Z"
   },
   {
    "duration": 276,
    "start_time": "2022-11-20T23:18:22.811Z"
   },
   {
    "duration": 17,
    "start_time": "2022-11-20T23:18:23.089Z"
   },
   {
    "duration": 281,
    "start_time": "2022-11-20T23:18:23.108Z"
   },
   {
    "duration": 17,
    "start_time": "2022-11-20T23:18:23.391Z"
   },
   {
    "duration": 434,
    "start_time": "2022-11-20T23:18:23.409Z"
   },
   {
    "duration": 318,
    "start_time": "2022-11-20T23:18:23.845Z"
   },
   {
    "duration": 307,
    "start_time": "2022-11-20T23:18:24.165Z"
   },
   {
    "duration": 324,
    "start_time": "2022-11-20T23:18:24.473Z"
   },
   {
    "duration": 282,
    "start_time": "2022-11-20T23:18:24.799Z"
   },
   {
    "duration": 291,
    "start_time": "2022-11-20T23:18:25.083Z"
   },
   {
    "duration": 324,
    "start_time": "2022-11-20T23:18:25.376Z"
   },
   {
    "duration": 14,
    "start_time": "2022-11-20T23:18:25.701Z"
   },
   {
    "duration": 19,
    "start_time": "2022-11-20T23:18:25.716Z"
   },
   {
    "duration": 37,
    "start_time": "2022-11-20T23:18:25.737Z"
   },
   {
    "duration": 109,
    "start_time": "2022-11-20T23:18:25.775Z"
   },
   {
    "duration": 24,
    "start_time": "2022-11-20T23:24:36.895Z"
   },
   {
    "duration": 23,
    "start_time": "2022-11-20T23:26:08.682Z"
   },
   {
    "duration": 9,
    "start_time": "2022-11-20T23:28:14.248Z"
   },
   {
    "duration": 1059,
    "start_time": "2022-11-20T23:28:20.935Z"
   },
   {
    "duration": 53,
    "start_time": "2022-11-20T23:28:21.996Z"
   },
   {
    "duration": 29,
    "start_time": "2022-11-20T23:28:22.051Z"
   },
   {
    "duration": 20,
    "start_time": "2022-11-20T23:28:22.082Z"
   },
   {
    "duration": 4,
    "start_time": "2022-11-20T23:28:22.104Z"
   },
   {
    "duration": 951,
    "start_time": "2022-11-20T23:28:22.110Z"
   },
   {
    "duration": 5,
    "start_time": "2022-11-20T23:28:23.063Z"
   },
   {
    "duration": 14,
    "start_time": "2022-11-20T23:28:23.069Z"
   },
   {
    "duration": 23,
    "start_time": "2022-11-20T23:28:23.084Z"
   },
   {
    "duration": 5,
    "start_time": "2022-11-20T23:28:23.109Z"
   },
   {
    "duration": 12,
    "start_time": "2022-11-20T23:28:23.115Z"
   },
   {
    "duration": 17,
    "start_time": "2022-11-20T23:28:23.128Z"
   },
   {
    "duration": 7,
    "start_time": "2022-11-20T23:28:23.147Z"
   },
   {
    "duration": 50,
    "start_time": "2022-11-20T23:28:23.156Z"
   },
   {
    "duration": 11,
    "start_time": "2022-11-20T23:28:23.207Z"
   },
   {
    "duration": 10,
    "start_time": "2022-11-20T23:28:23.219Z"
   },
   {
    "duration": 15,
    "start_time": "2022-11-20T23:28:23.230Z"
   },
   {
    "duration": 9,
    "start_time": "2022-11-20T23:28:23.247Z"
   },
   {
    "duration": 3,
    "start_time": "2022-11-20T23:28:23.258Z"
   },
   {
    "duration": 175,
    "start_time": "2022-11-20T23:28:23.263Z"
   },
   {
    "duration": 338,
    "start_time": "2022-11-20T23:28:23.440Z"
   },
   {
    "duration": 309,
    "start_time": "2022-11-20T23:28:23.780Z"
   },
   {
    "duration": 297,
    "start_time": "2022-11-20T23:28:24.091Z"
   },
   {
    "duration": 291,
    "start_time": "2022-11-20T23:28:24.390Z"
   },
   {
    "duration": 350,
    "start_time": "2022-11-20T23:28:24.683Z"
   },
   {
    "duration": 15,
    "start_time": "2022-11-20T23:28:25.035Z"
   },
   {
    "duration": 12,
    "start_time": "2022-11-20T23:28:25.051Z"
   },
   {
    "duration": 10,
    "start_time": "2022-11-20T23:28:25.067Z"
   },
   {
    "duration": 28,
    "start_time": "2022-11-20T23:28:25.078Z"
   },
   {
    "duration": 8,
    "start_time": "2022-11-20T23:28:25.108Z"
   },
   {
    "duration": 13,
    "start_time": "2022-11-20T23:28:25.117Z"
   },
   {
    "duration": 305,
    "start_time": "2022-11-20T23:28:25.131Z"
   },
   {
    "duration": 288,
    "start_time": "2022-11-20T23:28:25.438Z"
   },
   {
    "duration": 202,
    "start_time": "2022-11-20T23:28:25.728Z"
   },
   {
    "duration": 12,
    "start_time": "2022-11-20T23:28:25.932Z"
   },
   {
    "duration": 1374,
    "start_time": "2022-11-20T23:28:25.946Z"
   },
   {
    "duration": 8,
    "start_time": "2022-11-20T23:28:27.322Z"
   },
   {
    "duration": 303,
    "start_time": "2022-11-20T23:28:27.331Z"
   },
   {
    "duration": 11,
    "start_time": "2022-11-20T23:28:27.636Z"
   },
   {
    "duration": 15,
    "start_time": "2022-11-20T23:28:27.648Z"
   },
   {
    "duration": 187,
    "start_time": "2022-11-20T23:28:27.664Z"
   },
   {
    "duration": 14,
    "start_time": "2022-11-20T23:28:27.852Z"
   },
   {
    "duration": 246,
    "start_time": "2022-11-20T23:28:27.867Z"
   },
   {
    "duration": 2,
    "start_time": "2022-11-20T23:28:28.115Z"
   },
   {
    "duration": 2713,
    "start_time": "2022-11-20T23:28:28.119Z"
   },
   {
    "duration": 15,
    "start_time": "2022-11-20T23:28:30.833Z"
   },
   {
    "duration": 161,
    "start_time": "2022-11-20T23:28:30.850Z"
   },
   {
    "duration": 143,
    "start_time": "2022-11-20T23:28:31.013Z"
   },
   {
    "duration": 152,
    "start_time": "2022-11-20T23:28:31.157Z"
   },
   {
    "duration": 145,
    "start_time": "2022-11-20T23:28:31.311Z"
   },
   {
    "duration": 128,
    "start_time": "2022-11-20T23:28:31.458Z"
   },
   {
    "duration": 149,
    "start_time": "2022-11-20T23:28:31.588Z"
   },
   {
    "duration": 13,
    "start_time": "2022-11-20T23:28:31.739Z"
   },
   {
    "duration": 25,
    "start_time": "2022-11-20T23:28:31.754Z"
   },
   {
    "duration": 357,
    "start_time": "2022-11-20T23:28:31.781Z"
   },
   {
    "duration": 15,
    "start_time": "2022-11-20T23:28:32.140Z"
   },
   {
    "duration": 325,
    "start_time": "2022-11-20T23:28:32.157Z"
   },
   {
    "duration": 26,
    "start_time": "2022-11-20T23:28:32.484Z"
   },
   {
    "duration": 290,
    "start_time": "2022-11-20T23:28:32.512Z"
   },
   {
    "duration": 15,
    "start_time": "2022-11-20T23:28:32.804Z"
   },
   {
    "duration": 451,
    "start_time": "2022-11-20T23:28:32.821Z"
   },
   {
    "duration": 300,
    "start_time": "2022-11-20T23:28:33.274Z"
   },
   {
    "duration": 309,
    "start_time": "2022-11-20T23:28:33.576Z"
   },
   {
    "duration": 318,
    "start_time": "2022-11-20T23:28:33.886Z"
   },
   {
    "duration": 272,
    "start_time": "2022-11-20T23:28:34.206Z"
   },
   {
    "duration": 318,
    "start_time": "2022-11-20T23:28:34.480Z"
   },
   {
    "duration": 297,
    "start_time": "2022-11-20T23:28:34.800Z"
   },
   {
    "duration": 13,
    "start_time": "2022-11-20T23:28:35.099Z"
   },
   {
    "duration": 8,
    "start_time": "2022-11-20T23:28:35.114Z"
   },
   {
    "duration": 24,
    "start_time": "2022-11-20T23:28:35.123Z"
   },
   {
    "duration": 122,
    "start_time": "2022-11-20T23:28:35.148Z"
   },
   {
    "duration": 15,
    "start_time": "2022-11-20T23:29:30.958Z"
   },
   {
    "duration": 24,
    "start_time": "2022-11-20T23:29:38.926Z"
   },
   {
    "duration": 28,
    "start_time": "2022-11-20T23:30:29.929Z"
   },
   {
    "duration": 82,
    "start_time": "2022-11-21T10:52:52.427Z"
   },
   {
    "duration": 71,
    "start_time": "2022-11-21T11:06:56.962Z"
   },
   {
    "duration": 1364,
    "start_time": "2022-11-21T11:11:20.031Z"
   },
   {
    "duration": 201,
    "start_time": "2022-11-21T11:11:21.396Z"
   },
   {
    "duration": 46,
    "start_time": "2022-11-21T11:11:21.599Z"
   },
   {
    "duration": 24,
    "start_time": "2022-11-21T11:11:21.646Z"
   },
   {
    "duration": 8,
    "start_time": "2022-11-21T11:11:21.673Z"
   },
   {
    "duration": 1100,
    "start_time": "2022-11-21T11:11:21.683Z"
   },
   {
    "duration": 4,
    "start_time": "2022-11-21T11:11:22.785Z"
   },
   {
    "duration": 20,
    "start_time": "2022-11-21T11:11:22.791Z"
   },
   {
    "duration": 28,
    "start_time": "2022-11-21T11:11:22.813Z"
   },
   {
    "duration": 6,
    "start_time": "2022-11-21T11:11:22.843Z"
   },
   {
    "duration": 14,
    "start_time": "2022-11-21T11:11:22.851Z"
   },
   {
    "duration": 20,
    "start_time": "2022-11-21T11:11:22.867Z"
   },
   {
    "duration": 9,
    "start_time": "2022-11-21T11:11:22.889Z"
   },
   {
    "duration": 15,
    "start_time": "2022-11-21T11:11:22.939Z"
   },
   {
    "duration": 12,
    "start_time": "2022-11-21T11:11:22.956Z"
   },
   {
    "duration": 15,
    "start_time": "2022-11-21T11:11:22.970Z"
   },
   {
    "duration": 25,
    "start_time": "2022-11-21T11:11:22.987Z"
   },
   {
    "duration": 12,
    "start_time": "2022-11-21T11:11:23.039Z"
   },
   {
    "duration": 66,
    "start_time": "2022-11-21T11:11:23.053Z"
   },
   {
    "duration": 163,
    "start_time": "2022-11-21T11:11:23.121Z"
   },
   {
    "duration": 369,
    "start_time": "2022-11-21T11:11:23.286Z"
   },
   {
    "duration": 334,
    "start_time": "2022-11-21T11:11:23.656Z"
   },
   {
    "duration": 304,
    "start_time": "2022-11-21T11:11:23.992Z"
   },
   {
    "duration": 293,
    "start_time": "2022-11-21T11:11:24.298Z"
   },
   {
    "duration": 383,
    "start_time": "2022-11-21T11:11:24.592Z"
   },
   {
    "duration": 17,
    "start_time": "2022-11-21T11:11:24.978Z"
   },
   {
    "duration": 6,
    "start_time": "2022-11-21T11:11:24.996Z"
   },
   {
    "duration": 23,
    "start_time": "2022-11-21T11:11:25.004Z"
   },
   {
    "duration": 40,
    "start_time": "2022-11-21T11:11:25.041Z"
   },
   {
    "duration": 24,
    "start_time": "2022-11-21T11:11:25.082Z"
   },
   {
    "duration": 38,
    "start_time": "2022-11-21T11:11:25.107Z"
   },
   {
    "duration": 325,
    "start_time": "2022-11-21T11:11:25.147Z"
   },
   {
    "duration": 285,
    "start_time": "2022-11-21T11:11:25.474Z"
   },
   {
    "duration": 231,
    "start_time": "2022-11-21T11:11:25.760Z"
   },
   {
    "duration": 10,
    "start_time": "2022-11-21T11:11:25.992Z"
   },
   {
    "duration": 1467,
    "start_time": "2022-11-21T11:11:26.004Z"
   },
   {
    "duration": 8,
    "start_time": "2022-11-21T11:11:27.473Z"
   },
   {
    "duration": 320,
    "start_time": "2022-11-21T11:11:27.483Z"
   },
   {
    "duration": 9,
    "start_time": "2022-11-21T11:11:27.805Z"
   },
   {
    "duration": 33,
    "start_time": "2022-11-21T11:11:27.816Z"
   },
   {
    "duration": 246,
    "start_time": "2022-11-21T11:11:27.852Z"
   },
   {
    "duration": 15,
    "start_time": "2022-11-21T11:11:28.099Z"
   },
   {
    "duration": 268,
    "start_time": "2022-11-21T11:11:28.116Z"
   },
   {
    "duration": 3,
    "start_time": "2022-11-21T11:11:28.387Z"
   },
   {
    "duration": 2994,
    "start_time": "2022-11-21T11:11:28.392Z"
   },
   {
    "duration": 15,
    "start_time": "2022-11-21T11:11:31.388Z"
   },
   {
    "duration": 155,
    "start_time": "2022-11-21T11:11:31.405Z"
   },
   {
    "duration": 146,
    "start_time": "2022-11-21T11:11:31.561Z"
   },
   {
    "duration": 166,
    "start_time": "2022-11-21T11:11:31.709Z"
   },
   {
    "duration": 173,
    "start_time": "2022-11-21T11:11:31.877Z"
   },
   {
    "duration": 139,
    "start_time": "2022-11-21T11:11:32.052Z"
   },
   {
    "duration": 148,
    "start_time": "2022-11-21T11:11:32.193Z"
   },
   {
    "duration": 12,
    "start_time": "2022-11-21T11:11:32.343Z"
   },
   {
    "duration": 8,
    "start_time": "2022-11-21T11:11:32.356Z"
   },
   {
    "duration": 342,
    "start_time": "2022-11-21T11:11:32.366Z"
   },
   {
    "duration": 29,
    "start_time": "2022-11-21T11:11:32.710Z"
   },
   {
    "duration": 347,
    "start_time": "2022-11-21T11:11:32.741Z"
   },
   {
    "duration": 15,
    "start_time": "2022-11-21T11:11:33.090Z"
   },
   {
    "duration": 470,
    "start_time": "2022-11-21T11:11:33.107Z"
   },
   {
    "duration": 21,
    "start_time": "2022-11-21T11:11:33.580Z"
   },
   {
    "duration": 328,
    "start_time": "2022-11-21T11:11:33.603Z"
   },
   {
    "duration": 305,
    "start_time": "2022-11-21T11:11:33.938Z"
   },
   {
    "duration": 304,
    "start_time": "2022-11-21T11:11:34.244Z"
   },
   {
    "duration": 303,
    "start_time": "2022-11-21T11:11:34.550Z"
   },
   {
    "duration": 274,
    "start_time": "2022-11-21T11:11:34.855Z"
   },
   {
    "duration": 316,
    "start_time": "2022-11-21T11:11:35.136Z"
   },
   {
    "duration": 321,
    "start_time": "2022-11-21T11:11:35.455Z"
   },
   {
    "duration": 15,
    "start_time": "2022-11-21T11:11:35.778Z"
   },
   {
    "duration": 6,
    "start_time": "2022-11-21T11:11:35.797Z"
   },
   {
    "duration": 32,
    "start_time": "2022-11-21T11:11:35.804Z"
   },
   {
    "duration": 120,
    "start_time": "2022-11-21T11:11:35.839Z"
   },
   {
    "duration": 1180,
    "start_time": "2022-11-21T12:17:50.374Z"
   },
   {
    "duration": 55,
    "start_time": "2022-11-21T12:17:51.556Z"
   },
   {
    "duration": 32,
    "start_time": "2022-11-21T12:17:51.613Z"
   },
   {
    "duration": 21,
    "start_time": "2022-11-21T12:17:51.647Z"
   },
   {
    "duration": 7,
    "start_time": "2022-11-21T12:17:51.670Z"
   },
   {
    "duration": 1098,
    "start_time": "2022-11-21T12:17:51.679Z"
   },
   {
    "duration": 4,
    "start_time": "2022-11-21T12:17:52.778Z"
   },
   {
    "duration": 16,
    "start_time": "2022-11-21T12:17:52.784Z"
   },
   {
    "duration": 13,
    "start_time": "2022-11-21T12:17:52.802Z"
   },
   {
    "duration": 7,
    "start_time": "2022-11-21T12:17:52.838Z"
   },
   {
    "duration": 18,
    "start_time": "2022-11-21T12:17:52.846Z"
   },
   {
    "duration": 23,
    "start_time": "2022-11-21T12:17:52.866Z"
   },
   {
    "duration": 10,
    "start_time": "2022-11-21T12:17:52.890Z"
   },
   {
    "duration": 49,
    "start_time": "2022-11-21T12:17:52.902Z"
   },
   {
    "duration": 16,
    "start_time": "2022-11-21T12:17:52.953Z"
   },
   {
    "duration": 17,
    "start_time": "2022-11-21T12:17:52.970Z"
   },
   {
    "duration": 17,
    "start_time": "2022-11-21T12:17:52.989Z"
   },
   {
    "duration": 40,
    "start_time": "2022-11-21T12:17:53.008Z"
   },
   {
    "duration": 5,
    "start_time": "2022-11-21T12:17:53.050Z"
   },
   {
    "duration": 189,
    "start_time": "2022-11-21T12:17:53.056Z"
   },
   {
    "duration": 394,
    "start_time": "2022-11-21T12:17:53.246Z"
   },
   {
    "duration": 323,
    "start_time": "2022-11-21T12:17:53.641Z"
   },
   {
    "duration": 341,
    "start_time": "2022-11-21T12:17:53.965Z"
   },
   {
    "duration": 305,
    "start_time": "2022-11-21T12:17:54.308Z"
   },
   {
    "duration": 428,
    "start_time": "2022-11-21T12:17:54.615Z"
   },
   {
    "duration": 16,
    "start_time": "2022-11-21T12:17:55.045Z"
   },
   {
    "duration": 3,
    "start_time": "2022-11-21T12:17:55.063Z"
   },
   {
    "duration": 4,
    "start_time": "2022-11-21T12:17:55.070Z"
   },
   {
    "duration": 17,
    "start_time": "2022-11-21T12:17:55.075Z"
   },
   {
    "duration": 11,
    "start_time": "2022-11-21T12:17:55.094Z"
   },
   {
    "duration": 41,
    "start_time": "2022-11-21T12:17:55.107Z"
   },
   {
    "duration": 350,
    "start_time": "2022-11-21T12:17:55.150Z"
   },
   {
    "duration": 307,
    "start_time": "2022-11-21T12:17:55.501Z"
   },
   {
    "duration": 239,
    "start_time": "2022-11-21T12:17:55.810Z"
   },
   {
    "duration": 10,
    "start_time": "2022-11-21T12:17:56.051Z"
   },
   {
    "duration": 1552,
    "start_time": "2022-11-21T12:17:56.063Z"
   },
   {
    "duration": 20,
    "start_time": "2022-11-21T12:17:57.617Z"
   },
   {
    "duration": 325,
    "start_time": "2022-11-21T12:17:57.639Z"
   },
   {
    "duration": 11,
    "start_time": "2022-11-21T12:17:57.966Z"
   },
   {
    "duration": 19,
    "start_time": "2022-11-21T12:17:57.979Z"
   },
   {
    "duration": 259,
    "start_time": "2022-11-21T12:17:58.000Z"
   },
   {
    "duration": 16,
    "start_time": "2022-11-21T12:17:58.261Z"
   },
   {
    "duration": 287,
    "start_time": "2022-11-21T12:17:58.278Z"
   },
   {
    "duration": 3,
    "start_time": "2022-11-21T12:17:58.567Z"
   },
   {
    "duration": 3232,
    "start_time": "2022-11-21T12:17:58.571Z"
   },
   {
    "duration": 16,
    "start_time": "2022-11-21T12:18:01.805Z"
   },
   {
    "duration": 168,
    "start_time": "2022-11-21T12:18:01.822Z"
   },
   {
    "duration": 175,
    "start_time": "2022-11-21T12:18:01.992Z"
   },
   {
    "duration": 172,
    "start_time": "2022-11-21T12:18:02.170Z"
   },
   {
    "duration": 176,
    "start_time": "2022-11-21T12:18:02.344Z"
   },
   {
    "duration": 152,
    "start_time": "2022-11-21T12:18:02.522Z"
   },
   {
    "duration": 163,
    "start_time": "2022-11-21T12:18:02.676Z"
   },
   {
    "duration": 13,
    "start_time": "2022-11-21T12:18:02.841Z"
   },
   {
    "duration": 24,
    "start_time": "2022-11-21T12:18:02.856Z"
   },
   {
    "duration": 357,
    "start_time": "2022-11-21T12:18:02.882Z"
   },
   {
    "duration": 16,
    "start_time": "2022-11-21T12:18:03.241Z"
   },
   {
    "duration": 323,
    "start_time": "2022-11-21T12:18:03.258Z"
   },
   {
    "duration": 16,
    "start_time": "2022-11-21T12:18:03.582Z"
   },
   {
    "duration": 354,
    "start_time": "2022-11-21T12:18:03.600Z"
   },
   {
    "duration": 16,
    "start_time": "2022-11-21T12:18:03.956Z"
   },
   {
    "duration": 487,
    "start_time": "2022-11-21T12:18:03.974Z"
   },
   {
    "duration": 281,
    "start_time": "2022-11-21T12:18:04.463Z"
   },
   {
    "duration": 319,
    "start_time": "2022-11-21T12:18:04.746Z"
   },
   {
    "duration": 364,
    "start_time": "2022-11-21T12:18:05.067Z"
   },
   {
    "duration": 288,
    "start_time": "2022-11-21T12:18:05.437Z"
   },
   {
    "duration": 325,
    "start_time": "2022-11-21T12:18:05.727Z"
   },
   {
    "duration": 305,
    "start_time": "2022-11-21T12:18:06.054Z"
   },
   {
    "duration": 14,
    "start_time": "2022-11-21T12:18:06.361Z"
   },
   {
    "duration": 8,
    "start_time": "2022-11-21T12:18:06.377Z"
   },
   {
    "duration": 15,
    "start_time": "2022-11-21T12:18:06.386Z"
   },
   {
    "duration": 144,
    "start_time": "2022-11-21T12:18:06.402Z"
   },
   {
    "duration": 47,
    "start_time": "2022-11-21T15:09:10.967Z"
   },
   {
    "duration": 1341,
    "start_time": "2022-11-21T15:09:16.853Z"
   },
   {
    "duration": 92,
    "start_time": "2022-11-21T15:09:18.196Z"
   },
   {
    "duration": 34,
    "start_time": "2022-11-21T15:09:18.290Z"
   },
   {
    "duration": 22,
    "start_time": "2022-11-21T15:09:18.326Z"
   },
   {
    "duration": 20,
    "start_time": "2022-11-21T15:09:18.349Z"
   },
   {
    "duration": 1045,
    "start_time": "2022-11-21T15:09:18.370Z"
   },
   {
    "duration": 4,
    "start_time": "2022-11-21T15:09:19.417Z"
   },
   {
    "duration": 20,
    "start_time": "2022-11-21T15:09:19.422Z"
   },
   {
    "duration": 11,
    "start_time": "2022-11-21T15:09:19.444Z"
   },
   {
    "duration": 23,
    "start_time": "2022-11-21T15:09:19.458Z"
   },
   {
    "duration": 13,
    "start_time": "2022-11-21T15:09:19.482Z"
   },
   {
    "duration": 20,
    "start_time": "2022-11-21T15:09:19.497Z"
   },
   {
    "duration": 11,
    "start_time": "2022-11-21T15:09:19.520Z"
   },
   {
    "duration": 51,
    "start_time": "2022-11-21T15:09:19.533Z"
   },
   {
    "duration": 15,
    "start_time": "2022-11-21T15:09:19.585Z"
   },
   {
    "duration": 14,
    "start_time": "2022-11-21T15:09:19.601Z"
   },
   {
    "duration": 16,
    "start_time": "2022-11-21T15:09:19.616Z"
   },
   {
    "duration": 9,
    "start_time": "2022-11-21T15:09:19.634Z"
   },
   {
    "duration": 34,
    "start_time": "2022-11-21T15:09:19.644Z"
   },
   {
    "duration": 178,
    "start_time": "2022-11-21T15:09:19.680Z"
   },
   {
    "duration": 361,
    "start_time": "2022-11-21T15:09:19.860Z"
   },
   {
    "duration": 304,
    "start_time": "2022-11-21T15:09:20.222Z"
   },
   {
    "duration": 306,
    "start_time": "2022-11-21T15:09:20.528Z"
   },
   {
    "duration": 288,
    "start_time": "2022-11-21T15:09:20.836Z"
   },
   {
    "duration": 377,
    "start_time": "2022-11-21T15:09:21.125Z"
   },
   {
    "duration": 15,
    "start_time": "2022-11-21T15:09:21.504Z"
   },
   {
    "duration": 15,
    "start_time": "2022-11-21T15:09:21.521Z"
   },
   {
    "duration": 32,
    "start_time": "2022-11-21T15:09:21.540Z"
   },
   {
    "duration": 41,
    "start_time": "2022-11-21T15:09:21.573Z"
   },
   {
    "duration": 21,
    "start_time": "2022-11-21T15:09:21.616Z"
   },
   {
    "duration": 28,
    "start_time": "2022-11-21T15:09:21.639Z"
   },
   {
    "duration": 325,
    "start_time": "2022-11-21T15:09:21.669Z"
   },
   {
    "duration": 289,
    "start_time": "2022-11-21T15:09:21.995Z"
   },
   {
    "duration": 208,
    "start_time": "2022-11-21T15:09:22.285Z"
   },
   {
    "duration": 11,
    "start_time": "2022-11-21T15:09:22.495Z"
   },
   {
    "duration": 1528,
    "start_time": "2022-11-21T15:09:22.507Z"
   },
   {
    "duration": 7,
    "start_time": "2022-11-21T15:09:24.037Z"
   },
   {
    "duration": 343,
    "start_time": "2022-11-21T15:09:24.046Z"
   },
   {
    "duration": 9,
    "start_time": "2022-11-21T15:09:24.391Z"
   },
   {
    "duration": 14,
    "start_time": "2022-11-21T15:09:24.402Z"
   },
   {
    "duration": 220,
    "start_time": "2022-11-21T15:09:24.417Z"
   },
   {
    "duration": 17,
    "start_time": "2022-11-21T15:09:24.638Z"
   },
   {
    "duration": 340,
    "start_time": "2022-11-21T15:09:24.656Z"
   },
   {
    "duration": 4,
    "start_time": "2022-11-21T15:09:24.997Z"
   },
   {
    "duration": 2979,
    "start_time": "2022-11-21T15:09:25.003Z"
   },
   {
    "duration": 14,
    "start_time": "2022-11-21T15:09:27.984Z"
   },
   {
    "duration": 145,
    "start_time": "2022-11-21T15:09:27.999Z"
   },
   {
    "duration": 144,
    "start_time": "2022-11-21T15:09:28.146Z"
   },
   {
    "duration": 161,
    "start_time": "2022-11-21T15:09:28.292Z"
   },
   {
    "duration": 174,
    "start_time": "2022-11-21T15:09:28.455Z"
   },
   {
    "duration": 147,
    "start_time": "2022-11-21T15:09:28.632Z"
   },
   {
    "duration": 160,
    "start_time": "2022-11-21T15:09:28.781Z"
   },
   {
    "duration": 14,
    "start_time": "2022-11-21T15:09:28.943Z"
   },
   {
    "duration": 21,
    "start_time": "2022-11-21T15:09:28.958Z"
   },
   {
    "duration": 343,
    "start_time": "2022-11-21T15:09:28.981Z"
   },
   {
    "duration": 16,
    "start_time": "2022-11-21T15:09:29.325Z"
   },
   {
    "duration": 362,
    "start_time": "2022-11-21T15:09:29.342Z"
   },
   {
    "duration": 15,
    "start_time": "2022-11-21T15:09:29.705Z"
   },
   {
    "duration": 342,
    "start_time": "2022-11-21T15:09:29.722Z"
   },
   {
    "duration": 24,
    "start_time": "2022-11-21T15:09:30.066Z"
   },
   {
    "duration": 474,
    "start_time": "2022-11-21T15:09:30.092Z"
   },
   {
    "duration": 298,
    "start_time": "2022-11-21T15:09:30.568Z"
   },
   {
    "duration": 308,
    "start_time": "2022-11-21T15:09:30.868Z"
   },
   {
    "duration": 313,
    "start_time": "2022-11-21T15:09:31.178Z"
   },
   {
    "duration": 289,
    "start_time": "2022-11-21T15:09:31.492Z"
   },
   {
    "duration": 298,
    "start_time": "2022-11-21T15:09:31.783Z"
   },
   {
    "duration": 309,
    "start_time": "2022-11-21T15:09:32.083Z"
   },
   {
    "duration": 14,
    "start_time": "2022-11-21T15:09:32.394Z"
   },
   {
    "duration": 7,
    "start_time": "2022-11-21T15:09:32.410Z"
   },
   {
    "duration": 15,
    "start_time": "2022-11-21T15:09:32.419Z"
   },
   {
    "duration": 149,
    "start_time": "2022-11-21T15:09:32.435Z"
   },
   {
    "duration": 12,
    "start_time": "2022-11-21T15:32:03.992Z"
   },
   {
    "duration": 66,
    "start_time": "2022-11-21T15:32:23.470Z"
   },
   {
    "duration": 1481,
    "start_time": "2022-11-21T15:33:06.016Z"
   },
   {
    "duration": 53,
    "start_time": "2022-11-21T15:33:07.500Z"
   },
   {
    "duration": 31,
    "start_time": "2022-11-21T15:33:07.554Z"
   },
   {
    "duration": 20,
    "start_time": "2022-11-21T15:33:07.587Z"
   },
   {
    "duration": 15,
    "start_time": "2022-11-21T15:33:07.608Z"
   },
   {
    "duration": 1045,
    "start_time": "2022-11-21T15:33:07.624Z"
   },
   {
    "duration": 6,
    "start_time": "2022-11-21T15:33:08.671Z"
   },
   {
    "duration": 57,
    "start_time": "2022-11-21T15:33:08.679Z"
   },
   {
    "duration": 32,
    "start_time": "2022-11-21T15:33:08.738Z"
   },
   {
    "duration": 17,
    "start_time": "2022-11-21T15:33:08.773Z"
   },
   {
    "duration": 43,
    "start_time": "2022-11-21T15:33:08.792Z"
   },
   {
    "duration": 55,
    "start_time": "2022-11-21T15:33:08.837Z"
   },
   {
    "duration": 0,
    "start_time": "2022-11-21T15:33:08.895Z"
   },
   {
    "duration": 0,
    "start_time": "2022-11-21T15:33:08.896Z"
   },
   {
    "duration": 0,
    "start_time": "2022-11-21T15:33:08.897Z"
   },
   {
    "duration": 0,
    "start_time": "2022-11-21T15:33:08.898Z"
   },
   {
    "duration": 0,
    "start_time": "2022-11-21T15:33:08.900Z"
   },
   {
    "duration": 0,
    "start_time": "2022-11-21T15:33:08.901Z"
   },
   {
    "duration": 0,
    "start_time": "2022-11-21T15:33:08.903Z"
   },
   {
    "duration": 0,
    "start_time": "2022-11-21T15:33:08.904Z"
   },
   {
    "duration": 0,
    "start_time": "2022-11-21T15:33:08.905Z"
   },
   {
    "duration": 0,
    "start_time": "2022-11-21T15:33:08.906Z"
   },
   {
    "duration": 0,
    "start_time": "2022-11-21T15:33:08.907Z"
   },
   {
    "duration": 0,
    "start_time": "2022-11-21T15:33:08.908Z"
   },
   {
    "duration": 0,
    "start_time": "2022-11-21T15:33:08.909Z"
   },
   {
    "duration": 0,
    "start_time": "2022-11-21T15:33:08.910Z"
   },
   {
    "duration": 0,
    "start_time": "2022-11-21T15:33:08.911Z"
   },
   {
    "duration": 0,
    "start_time": "2022-11-21T15:33:08.912Z"
   },
   {
    "duration": 0,
    "start_time": "2022-11-21T15:33:08.913Z"
   },
   {
    "duration": 0,
    "start_time": "2022-11-21T15:33:08.914Z"
   },
   {
    "duration": 0,
    "start_time": "2022-11-21T15:33:08.915Z"
   },
   {
    "duration": 0,
    "start_time": "2022-11-21T15:33:08.916Z"
   },
   {
    "duration": 0,
    "start_time": "2022-11-21T15:33:08.917Z"
   },
   {
    "duration": 0,
    "start_time": "2022-11-21T15:33:08.918Z"
   },
   {
    "duration": 0,
    "start_time": "2022-11-21T15:33:08.918Z"
   },
   {
    "duration": 0,
    "start_time": "2022-11-21T15:33:08.919Z"
   },
   {
    "duration": 0,
    "start_time": "2022-11-21T15:33:08.920Z"
   },
   {
    "duration": 0,
    "start_time": "2022-11-21T15:33:08.921Z"
   },
   {
    "duration": 0,
    "start_time": "2022-11-21T15:33:08.922Z"
   },
   {
    "duration": 0,
    "start_time": "2022-11-21T15:33:08.923Z"
   },
   {
    "duration": 0,
    "start_time": "2022-11-21T15:33:08.924Z"
   },
   {
    "duration": 0,
    "start_time": "2022-11-21T15:33:08.925Z"
   },
   {
    "duration": 0,
    "start_time": "2022-11-21T15:33:08.926Z"
   },
   {
    "duration": 0,
    "start_time": "2022-11-21T15:33:08.927Z"
   },
   {
    "duration": 0,
    "start_time": "2022-11-21T15:33:08.928Z"
   },
   {
    "duration": 0,
    "start_time": "2022-11-21T15:33:08.929Z"
   },
   {
    "duration": 0,
    "start_time": "2022-11-21T15:33:08.930Z"
   },
   {
    "duration": 0,
    "start_time": "2022-11-21T15:33:08.931Z"
   },
   {
    "duration": 0,
    "start_time": "2022-11-21T15:33:08.976Z"
   },
   {
    "duration": 0,
    "start_time": "2022-11-21T15:33:08.977Z"
   },
   {
    "duration": 0,
    "start_time": "2022-11-21T15:33:08.979Z"
   },
   {
    "duration": 0,
    "start_time": "2022-11-21T15:33:08.980Z"
   },
   {
    "duration": 0,
    "start_time": "2022-11-21T15:33:08.981Z"
   },
   {
    "duration": 0,
    "start_time": "2022-11-21T15:33:08.982Z"
   },
   {
    "duration": 0,
    "start_time": "2022-11-21T15:33:08.983Z"
   },
   {
    "duration": 0,
    "start_time": "2022-11-21T15:33:08.984Z"
   },
   {
    "duration": 0,
    "start_time": "2022-11-21T15:33:08.985Z"
   },
   {
    "duration": 0,
    "start_time": "2022-11-21T15:33:08.986Z"
   },
   {
    "duration": 0,
    "start_time": "2022-11-21T15:33:08.987Z"
   },
   {
    "duration": 0,
    "start_time": "2022-11-21T15:33:08.988Z"
   },
   {
    "duration": 0,
    "start_time": "2022-11-21T15:33:08.989Z"
   },
   {
    "duration": 0,
    "start_time": "2022-11-21T15:33:08.989Z"
   },
   {
    "duration": 0,
    "start_time": "2022-11-21T15:33:08.991Z"
   },
   {
    "duration": 0,
    "start_time": "2022-11-21T15:33:08.991Z"
   },
   {
    "duration": 0,
    "start_time": "2022-11-21T15:33:08.993Z"
   },
   {
    "duration": 0,
    "start_time": "2022-11-21T15:33:08.994Z"
   },
   {
    "duration": 0,
    "start_time": "2022-11-21T15:33:08.995Z"
   },
   {
    "duration": 0,
    "start_time": "2022-11-21T15:33:08.996Z"
   },
   {
    "duration": 0,
    "start_time": "2022-11-21T15:33:08.997Z"
   },
   {
    "duration": 0,
    "start_time": "2022-11-21T15:33:08.998Z"
   },
   {
    "duration": 0,
    "start_time": "2022-11-21T15:33:08.999Z"
   },
   {
    "duration": 44,
    "start_time": "2022-11-21T15:34:37.136Z"
   },
   {
    "duration": 4,
    "start_time": "2022-11-21T15:43:00.954Z"
   },
   {
    "duration": 59,
    "start_time": "2022-11-21T15:45:34.891Z"
   },
   {
    "duration": 1189,
    "start_time": "2022-11-21T15:45:40.458Z"
   },
   {
    "duration": 51,
    "start_time": "2022-11-21T15:45:41.649Z"
   },
   {
    "duration": 32,
    "start_time": "2022-11-21T15:45:41.701Z"
   },
   {
    "duration": 42,
    "start_time": "2022-11-21T15:45:41.735Z"
   },
   {
    "duration": 3,
    "start_time": "2022-11-21T15:45:41.779Z"
   },
   {
    "duration": 997,
    "start_time": "2022-11-21T15:45:41.783Z"
   },
   {
    "duration": 5,
    "start_time": "2022-11-21T15:45:42.781Z"
   },
   {
    "duration": 25,
    "start_time": "2022-11-21T15:45:42.787Z"
   },
   {
    "duration": 16,
    "start_time": "2022-11-21T15:45:42.814Z"
   },
   {
    "duration": 7,
    "start_time": "2022-11-21T15:45:42.832Z"
   },
   {
    "duration": 31,
    "start_time": "2022-11-21T15:45:42.840Z"
   },
   {
    "duration": 44,
    "start_time": "2022-11-21T15:45:42.873Z"
   },
   {
    "duration": 0,
    "start_time": "2022-11-21T15:45:42.921Z"
   },
   {
    "duration": 0,
    "start_time": "2022-11-21T15:45:42.922Z"
   },
   {
    "duration": 0,
    "start_time": "2022-11-21T15:45:42.923Z"
   },
   {
    "duration": 0,
    "start_time": "2022-11-21T15:45:42.924Z"
   },
   {
    "duration": 0,
    "start_time": "2022-11-21T15:45:42.925Z"
   },
   {
    "duration": 0,
    "start_time": "2022-11-21T15:45:42.926Z"
   },
   {
    "duration": 0,
    "start_time": "2022-11-21T15:45:42.927Z"
   },
   {
    "duration": 0,
    "start_time": "2022-11-21T15:45:42.928Z"
   },
   {
    "duration": 0,
    "start_time": "2022-11-21T15:45:42.929Z"
   },
   {
    "duration": 0,
    "start_time": "2022-11-21T15:45:42.929Z"
   },
   {
    "duration": 0,
    "start_time": "2022-11-21T15:45:42.930Z"
   },
   {
    "duration": 0,
    "start_time": "2022-11-21T15:45:42.931Z"
   },
   {
    "duration": 0,
    "start_time": "2022-11-21T15:45:42.932Z"
   },
   {
    "duration": 0,
    "start_time": "2022-11-21T15:45:42.933Z"
   },
   {
    "duration": 0,
    "start_time": "2022-11-21T15:45:42.934Z"
   },
   {
    "duration": 0,
    "start_time": "2022-11-21T15:45:42.935Z"
   },
   {
    "duration": 0,
    "start_time": "2022-11-21T15:45:42.936Z"
   },
   {
    "duration": 0,
    "start_time": "2022-11-21T15:45:42.937Z"
   },
   {
    "duration": 1,
    "start_time": "2022-11-21T15:45:42.938Z"
   },
   {
    "duration": 0,
    "start_time": "2022-11-21T15:45:42.940Z"
   },
   {
    "duration": 0,
    "start_time": "2022-11-21T15:45:42.941Z"
   },
   {
    "duration": 0,
    "start_time": "2022-11-21T15:45:42.942Z"
   },
   {
    "duration": 0,
    "start_time": "2022-11-21T15:45:42.943Z"
   },
   {
    "duration": 0,
    "start_time": "2022-11-21T15:45:42.944Z"
   },
   {
    "duration": 0,
    "start_time": "2022-11-21T15:45:42.945Z"
   },
   {
    "duration": 0,
    "start_time": "2022-11-21T15:45:42.946Z"
   },
   {
    "duration": 0,
    "start_time": "2022-11-21T15:45:42.947Z"
   },
   {
    "duration": 0,
    "start_time": "2022-11-21T15:45:42.948Z"
   },
   {
    "duration": 0,
    "start_time": "2022-11-21T15:45:42.949Z"
   },
   {
    "duration": 0,
    "start_time": "2022-11-21T15:45:42.950Z"
   },
   {
    "duration": 0,
    "start_time": "2022-11-21T15:45:42.951Z"
   },
   {
    "duration": 0,
    "start_time": "2022-11-21T15:45:42.953Z"
   },
   {
    "duration": 0,
    "start_time": "2022-11-21T15:45:42.954Z"
   },
   {
    "duration": 0,
    "start_time": "2022-11-21T15:45:42.955Z"
   },
   {
    "duration": 0,
    "start_time": "2022-11-21T15:45:42.976Z"
   },
   {
    "duration": 0,
    "start_time": "2022-11-21T15:45:42.978Z"
   },
   {
    "duration": 0,
    "start_time": "2022-11-21T15:45:42.978Z"
   },
   {
    "duration": 0,
    "start_time": "2022-11-21T15:45:42.979Z"
   },
   {
    "duration": 0,
    "start_time": "2022-11-21T15:45:42.981Z"
   },
   {
    "duration": 0,
    "start_time": "2022-11-21T15:45:42.981Z"
   },
   {
    "duration": 0,
    "start_time": "2022-11-21T15:45:42.983Z"
   },
   {
    "duration": 0,
    "start_time": "2022-11-21T15:45:42.984Z"
   },
   {
    "duration": 0,
    "start_time": "2022-11-21T15:45:42.985Z"
   },
   {
    "duration": 0,
    "start_time": "2022-11-21T15:45:42.986Z"
   },
   {
    "duration": 0,
    "start_time": "2022-11-21T15:45:42.987Z"
   },
   {
    "duration": 0,
    "start_time": "2022-11-21T15:45:42.988Z"
   },
   {
    "duration": 0,
    "start_time": "2022-11-21T15:45:42.989Z"
   },
   {
    "duration": 0,
    "start_time": "2022-11-21T15:45:42.991Z"
   },
   {
    "duration": 0,
    "start_time": "2022-11-21T15:45:42.992Z"
   },
   {
    "duration": 0,
    "start_time": "2022-11-21T15:45:42.993Z"
   },
   {
    "duration": 0,
    "start_time": "2022-11-21T15:45:42.994Z"
   },
   {
    "duration": 0,
    "start_time": "2022-11-21T15:45:42.995Z"
   },
   {
    "duration": 0,
    "start_time": "2022-11-21T15:45:42.996Z"
   },
   {
    "duration": 0,
    "start_time": "2022-11-21T15:45:42.997Z"
   },
   {
    "duration": 0,
    "start_time": "2022-11-21T15:45:42.998Z"
   },
   {
    "duration": 1,
    "start_time": "2022-11-21T15:45:42.999Z"
   },
   {
    "duration": 0,
    "start_time": "2022-11-21T15:45:43.000Z"
   },
   {
    "duration": 0,
    "start_time": "2022-11-21T15:45:43.001Z"
   },
   {
    "duration": 0,
    "start_time": "2022-11-21T15:45:43.003Z"
   },
   {
    "duration": 54,
    "start_time": "2022-11-21T15:46:07.664Z"
   },
   {
    "duration": 49,
    "start_time": "2022-11-21T15:46:11.940Z"
   },
   {
    "duration": 118,
    "start_time": "2022-11-21T15:46:16.708Z"
   },
   {
    "duration": 17,
    "start_time": "2022-11-21T15:46:30.488Z"
   },
   {
    "duration": 1067,
    "start_time": "2022-11-21T16:25:43.936Z"
   },
   {
    "duration": 52,
    "start_time": "2022-11-21T16:25:45.005Z"
   },
   {
    "duration": 35,
    "start_time": "2022-11-21T16:25:45.059Z"
   },
   {
    "duration": 21,
    "start_time": "2022-11-21T16:25:45.096Z"
   },
   {
    "duration": 8,
    "start_time": "2022-11-21T16:25:45.119Z"
   },
   {
    "duration": 1219,
    "start_time": "2022-11-21T16:25:45.129Z"
   },
   {
    "duration": 4,
    "start_time": "2022-11-21T16:25:46.350Z"
   },
   {
    "duration": 29,
    "start_time": "2022-11-21T16:25:46.356Z"
   },
   {
    "duration": 25,
    "start_time": "2022-11-21T16:25:46.386Z"
   },
   {
    "duration": 6,
    "start_time": "2022-11-21T16:25:46.415Z"
   },
   {
    "duration": 14,
    "start_time": "2022-11-21T16:25:46.423Z"
   },
   {
    "duration": 17,
    "start_time": "2022-11-21T16:25:46.438Z"
   },
   {
    "duration": 10,
    "start_time": "2022-11-21T16:25:46.476Z"
   },
   {
    "duration": 28,
    "start_time": "2022-11-21T16:25:46.487Z"
   },
   {
    "duration": 13,
    "start_time": "2022-11-21T16:25:46.516Z"
   },
   {
    "duration": 19,
    "start_time": "2022-11-21T16:25:46.530Z"
   },
   {
    "duration": 40,
    "start_time": "2022-11-21T16:25:46.550Z"
   },
   {
    "duration": 10,
    "start_time": "2022-11-21T16:25:46.591Z"
   },
   {
    "duration": 5,
    "start_time": "2022-11-21T16:25:46.603Z"
   },
   {
    "duration": 166,
    "start_time": "2022-11-21T16:25:46.610Z"
   },
   {
    "duration": 381,
    "start_time": "2022-11-21T16:25:46.778Z"
   },
   {
    "duration": 316,
    "start_time": "2022-11-21T16:25:47.160Z"
   },
   {
    "duration": 305,
    "start_time": "2022-11-21T16:25:47.478Z"
   },
   {
    "duration": 282,
    "start_time": "2022-11-21T16:25:47.784Z"
   },
   {
    "duration": 390,
    "start_time": "2022-11-21T16:25:48.067Z"
   },
   {
    "duration": 23,
    "start_time": "2022-11-21T16:25:48.459Z"
   },
   {
    "duration": 5,
    "start_time": "2022-11-21T16:25:48.485Z"
   },
   {
    "duration": 4,
    "start_time": "2022-11-21T16:25:48.495Z"
   },
   {
    "duration": 16,
    "start_time": "2022-11-21T16:25:48.500Z"
   },
   {
    "duration": 10,
    "start_time": "2022-11-21T16:25:48.517Z"
   },
   {
    "duration": 51,
    "start_time": "2022-11-21T16:25:48.529Z"
   },
   {
    "duration": 350,
    "start_time": "2022-11-21T16:25:48.581Z"
   },
   {
    "duration": 311,
    "start_time": "2022-11-21T16:25:48.932Z"
   },
   {
    "duration": 225,
    "start_time": "2022-11-21T16:25:49.244Z"
   },
   {
    "duration": 10,
    "start_time": "2022-11-21T16:25:49.475Z"
   },
   {
    "duration": 1496,
    "start_time": "2022-11-21T16:25:49.487Z"
   },
   {
    "duration": 10,
    "start_time": "2022-11-21T16:25:50.985Z"
   },
   {
    "duration": 344,
    "start_time": "2022-11-21T16:25:50.997Z"
   },
   {
    "duration": 10,
    "start_time": "2022-11-21T16:25:51.343Z"
   },
   {
    "duration": 24,
    "start_time": "2022-11-21T16:25:51.354Z"
   },
   {
    "duration": 212,
    "start_time": "2022-11-21T16:25:51.380Z"
   },
   {
    "duration": 15,
    "start_time": "2022-11-21T16:25:51.594Z"
   },
   {
    "duration": 261,
    "start_time": "2022-11-21T16:25:51.611Z"
   },
   {
    "duration": 3,
    "start_time": "2022-11-21T16:25:51.874Z"
   },
   {
    "duration": 2965,
    "start_time": "2022-11-21T16:25:51.878Z"
   },
   {
    "duration": 31,
    "start_time": "2022-11-21T16:25:54.847Z"
   },
   {
    "duration": 186,
    "start_time": "2022-11-21T16:25:54.882Z"
   },
   {
    "duration": 166,
    "start_time": "2022-11-21T16:25:55.077Z"
   },
   {
    "duration": 188,
    "start_time": "2022-11-21T16:25:55.245Z"
   },
   {
    "duration": 191,
    "start_time": "2022-11-21T16:25:55.434Z"
   },
   {
    "duration": 155,
    "start_time": "2022-11-21T16:25:55.627Z"
   },
   {
    "duration": 138,
    "start_time": "2022-11-21T16:25:55.783Z"
   },
   {
    "duration": 13,
    "start_time": "2022-11-21T16:25:55.922Z"
   },
   {
    "duration": 7,
    "start_time": "2022-11-21T16:25:55.937Z"
   },
   {
    "duration": 350,
    "start_time": "2022-11-21T16:25:55.946Z"
   },
   {
    "duration": 15,
    "start_time": "2022-11-21T16:25:56.298Z"
   },
   {
    "duration": 341,
    "start_time": "2022-11-21T16:25:56.315Z"
   },
   {
    "duration": 23,
    "start_time": "2022-11-21T16:25:56.658Z"
   },
   {
    "duration": 309,
    "start_time": "2022-11-21T16:25:56.683Z"
   },
   {
    "duration": 14,
    "start_time": "2022-11-21T16:25:56.994Z"
   },
   {
    "duration": 470,
    "start_time": "2022-11-21T16:25:57.010Z"
   },
   {
    "duration": 302,
    "start_time": "2022-11-21T16:25:57.482Z"
   },
   {
    "duration": 284,
    "start_time": "2022-11-21T16:25:57.786Z"
   },
   {
    "duration": 312,
    "start_time": "2022-11-21T16:25:58.075Z"
   },
   {
    "duration": 276,
    "start_time": "2022-11-21T16:25:58.389Z"
   },
   {
    "duration": 296,
    "start_time": "2022-11-21T16:25:58.667Z"
   },
   {
    "duration": 316,
    "start_time": "2022-11-21T16:25:58.964Z"
   },
   {
    "duration": 14,
    "start_time": "2022-11-21T16:25:59.282Z"
   },
   {
    "duration": 14,
    "start_time": "2022-11-21T16:25:59.298Z"
   },
   {
    "duration": 15,
    "start_time": "2022-11-21T16:25:59.313Z"
   },
   {
    "duration": 144,
    "start_time": "2022-11-21T16:25:59.330Z"
   },
   {
    "duration": 23,
    "start_time": "2022-11-21T16:27:11.198Z"
   },
   {
    "duration": 9,
    "start_time": "2022-11-21T16:30:52.266Z"
   },
   {
    "duration": 53,
    "start_time": "2022-11-21T16:32:41.813Z"
   },
   {
    "duration": 5,
    "start_time": "2022-11-21T17:09:54.444Z"
   },
   {
    "duration": 9,
    "start_time": "2022-11-21T17:12:19.678Z"
   },
   {
    "duration": 276,
    "start_time": "2022-11-21T17:12:26.582Z"
   },
   {
    "duration": 32,
    "start_time": "2022-11-21T17:14:00.094Z"
   },
   {
    "duration": 29,
    "start_time": "2022-11-21T17:14:27.248Z"
   },
   {
    "duration": 10,
    "start_time": "2022-11-21T17:15:30.903Z"
   },
   {
    "duration": 8,
    "start_time": "2022-11-21T17:15:38.832Z"
   },
   {
    "duration": 4,
    "start_time": "2022-11-21T17:15:45.394Z"
   },
   {
    "duration": 1117,
    "start_time": "2022-11-21T17:16:16.524Z"
   },
   {
    "duration": 52,
    "start_time": "2022-11-21T17:16:17.643Z"
   },
   {
    "duration": 32,
    "start_time": "2022-11-21T17:16:17.696Z"
   },
   {
    "duration": 20,
    "start_time": "2022-11-21T17:16:17.730Z"
   },
   {
    "duration": 4,
    "start_time": "2022-11-21T17:16:17.776Z"
   },
   {
    "duration": 948,
    "start_time": "2022-11-21T17:16:17.782Z"
   },
   {
    "duration": 4,
    "start_time": "2022-11-21T17:16:18.732Z"
   },
   {
    "duration": 14,
    "start_time": "2022-11-21T17:16:18.737Z"
   },
   {
    "duration": 25,
    "start_time": "2022-11-21T17:16:18.752Z"
   },
   {
    "duration": 6,
    "start_time": "2022-11-21T17:16:18.780Z"
   },
   {
    "duration": 14,
    "start_time": "2022-11-21T17:16:18.787Z"
   },
   {
    "duration": 14,
    "start_time": "2022-11-21T17:16:18.803Z"
   },
   {
    "duration": 10,
    "start_time": "2022-11-21T17:16:18.819Z"
   },
   {
    "duration": 45,
    "start_time": "2022-11-21T17:16:18.831Z"
   },
   {
    "duration": 13,
    "start_time": "2022-11-21T17:16:18.877Z"
   },
   {
    "duration": 11,
    "start_time": "2022-11-21T17:16:18.892Z"
   },
   {
    "duration": 16,
    "start_time": "2022-11-21T17:16:18.905Z"
   },
   {
    "duration": 8,
    "start_time": "2022-11-21T17:16:18.923Z"
   },
   {
    "duration": 6,
    "start_time": "2022-11-21T17:16:18.933Z"
   },
   {
    "duration": 178,
    "start_time": "2022-11-21T17:16:18.940Z"
   },
   {
    "duration": 16,
    "start_time": "2022-11-21T17:16:19.120Z"
   },
   {
    "duration": 7,
    "start_time": "2022-11-21T17:16:19.137Z"
   },
   {
    "duration": 5,
    "start_time": "2022-11-21T17:16:19.146Z"
   },
   {
    "duration": 34,
    "start_time": "2022-11-21T17:16:19.152Z"
   },
   {
    "duration": 7,
    "start_time": "2022-11-21T17:16:19.187Z"
   },
   {
    "duration": 24,
    "start_time": "2022-11-21T17:16:19.196Z"
   },
   {
    "duration": 382,
    "start_time": "2022-11-21T17:16:19.222Z"
   },
   {
    "duration": 268,
    "start_time": "2022-11-21T17:16:19.608Z"
   },
   {
    "duration": 192,
    "start_time": "2022-11-21T17:16:19.878Z"
   },
   {
    "duration": 10,
    "start_time": "2022-11-21T17:16:20.072Z"
   },
   {
    "duration": 1396,
    "start_time": "2022-11-21T17:16:20.084Z"
   },
   {
    "duration": 8,
    "start_time": "2022-11-21T17:16:21.482Z"
   },
   {
    "duration": 333,
    "start_time": "2022-11-21T17:16:21.492Z"
   },
   {
    "duration": 25,
    "start_time": "2022-11-21T17:16:21.826Z"
   },
   {
    "duration": 0,
    "start_time": "2022-11-21T17:16:21.853Z"
   },
   {
    "duration": 0,
    "start_time": "2022-11-21T17:16:21.854Z"
   },
   {
    "duration": 0,
    "start_time": "2022-11-21T17:16:21.856Z"
   },
   {
    "duration": 0,
    "start_time": "2022-11-21T17:16:21.857Z"
   },
   {
    "duration": 0,
    "start_time": "2022-11-21T17:16:21.859Z"
   },
   {
    "duration": 0,
    "start_time": "2022-11-21T17:16:21.860Z"
   },
   {
    "duration": 0,
    "start_time": "2022-11-21T17:16:21.861Z"
   },
   {
    "duration": 0,
    "start_time": "2022-11-21T17:16:21.862Z"
   },
   {
    "duration": 0,
    "start_time": "2022-11-21T17:16:21.863Z"
   },
   {
    "duration": 0,
    "start_time": "2022-11-21T17:16:21.864Z"
   },
   {
    "duration": 0,
    "start_time": "2022-11-21T17:16:21.866Z"
   },
   {
    "duration": 0,
    "start_time": "2022-11-21T17:16:21.867Z"
   },
   {
    "duration": 0,
    "start_time": "2022-11-21T17:16:21.868Z"
   },
   {
    "duration": 0,
    "start_time": "2022-11-21T17:16:21.869Z"
   },
   {
    "duration": 0,
    "start_time": "2022-11-21T17:16:21.870Z"
   },
   {
    "duration": 0,
    "start_time": "2022-11-21T17:16:21.872Z"
   },
   {
    "duration": 0,
    "start_time": "2022-11-21T17:16:21.873Z"
   },
   {
    "duration": 0,
    "start_time": "2022-11-21T17:16:21.876Z"
   },
   {
    "duration": 0,
    "start_time": "2022-11-21T17:16:21.877Z"
   },
   {
    "duration": 0,
    "start_time": "2022-11-21T17:16:21.878Z"
   },
   {
    "duration": 0,
    "start_time": "2022-11-21T17:16:21.879Z"
   },
   {
    "duration": 0,
    "start_time": "2022-11-21T17:16:21.881Z"
   },
   {
    "duration": 0,
    "start_time": "2022-11-21T17:16:21.882Z"
   },
   {
    "duration": 0,
    "start_time": "2022-11-21T17:16:21.883Z"
   },
   {
    "duration": 0,
    "start_time": "2022-11-21T17:16:21.884Z"
   },
   {
    "duration": 0,
    "start_time": "2022-11-21T17:16:21.885Z"
   },
   {
    "duration": 0,
    "start_time": "2022-11-21T17:16:21.886Z"
   },
   {
    "duration": 0,
    "start_time": "2022-11-21T17:16:21.887Z"
   },
   {
    "duration": 0,
    "start_time": "2022-11-21T17:16:21.888Z"
   },
   {
    "duration": 0,
    "start_time": "2022-11-21T17:16:21.889Z"
   },
   {
    "duration": 0,
    "start_time": "2022-11-21T17:16:21.889Z"
   },
   {
    "duration": 0,
    "start_time": "2022-11-21T17:16:21.890Z"
   },
   {
    "duration": 0,
    "start_time": "2022-11-21T17:16:21.891Z"
   },
   {
    "duration": 201,
    "start_time": "2022-11-21T17:24:26.920Z"
   },
   {
    "duration": 33,
    "start_time": "2022-11-21T17:25:02.635Z"
   },
   {
    "duration": 11,
    "start_time": "2022-11-21T17:25:15.909Z"
   },
   {
    "duration": 4,
    "start_time": "2022-11-21T17:25:21.673Z"
   },
   {
    "duration": 31,
    "start_time": "2022-11-21T17:25:30.501Z"
   },
   {
    "duration": 11,
    "start_time": "2022-11-21T17:25:40.977Z"
   },
   {
    "duration": 5,
    "start_time": "2022-11-21T17:25:47.041Z"
   },
   {
    "duration": 11,
    "start_time": "2022-11-21T17:25:53.588Z"
   },
   {
    "duration": 5,
    "start_time": "2022-11-21T17:25:56.700Z"
   },
   {
    "duration": 1053,
    "start_time": "2022-11-21T17:26:01.923Z"
   },
   {
    "duration": 51,
    "start_time": "2022-11-21T17:26:02.979Z"
   },
   {
    "duration": 32,
    "start_time": "2022-11-21T17:26:03.031Z"
   },
   {
    "duration": 19,
    "start_time": "2022-11-21T17:26:03.065Z"
   },
   {
    "duration": 22,
    "start_time": "2022-11-21T17:26:03.085Z"
   },
   {
    "duration": 942,
    "start_time": "2022-11-21T17:26:03.108Z"
   },
   {
    "duration": 4,
    "start_time": "2022-11-21T17:26:04.052Z"
   },
   {
    "duration": 23,
    "start_time": "2022-11-21T17:26:04.058Z"
   },
   {
    "duration": 10,
    "start_time": "2022-11-21T17:26:04.082Z"
   },
   {
    "duration": 15,
    "start_time": "2022-11-21T17:26:04.095Z"
   },
   {
    "duration": 32,
    "start_time": "2022-11-21T17:26:04.112Z"
   },
   {
    "duration": 36,
    "start_time": "2022-11-21T17:26:04.146Z"
   },
   {
    "duration": 13,
    "start_time": "2022-11-21T17:26:04.185Z"
   },
   {
    "duration": 30,
    "start_time": "2022-11-21T17:26:04.200Z"
   },
   {
    "duration": 18,
    "start_time": "2022-11-21T17:26:04.232Z"
   },
   {
    "duration": 25,
    "start_time": "2022-11-21T17:26:04.252Z"
   },
   {
    "duration": 15,
    "start_time": "2022-11-21T17:26:04.279Z"
   },
   {
    "duration": 12,
    "start_time": "2022-11-21T17:26:04.296Z"
   },
   {
    "duration": 5,
    "start_time": "2022-11-21T17:26:04.309Z"
   },
   {
    "duration": 157,
    "start_time": "2022-11-21T17:26:04.316Z"
   },
   {
    "duration": 16,
    "start_time": "2022-11-21T17:26:04.476Z"
   },
   {
    "duration": 4,
    "start_time": "2022-11-21T17:26:04.494Z"
   },
   {
    "duration": 10,
    "start_time": "2022-11-21T17:26:04.500Z"
   },
   {
    "duration": 14,
    "start_time": "2022-11-21T17:26:04.512Z"
   },
   {
    "duration": 6,
    "start_time": "2022-11-21T17:26:04.528Z"
   },
   {
    "duration": 41,
    "start_time": "2022-11-21T17:26:04.536Z"
   },
   {
    "duration": 455,
    "start_time": "2022-11-21T17:26:04.580Z"
   },
   {
    "duration": 335,
    "start_time": "2022-11-21T17:26:05.041Z"
   },
   {
    "duration": 227,
    "start_time": "2022-11-21T17:26:05.378Z"
   },
   {
    "duration": 11,
    "start_time": "2022-11-21T17:26:05.607Z"
   },
   {
    "duration": 1503,
    "start_time": "2022-11-21T17:26:05.620Z"
   },
   {
    "duration": 8,
    "start_time": "2022-11-21T17:26:07.125Z"
   },
   {
    "duration": 310,
    "start_time": "2022-11-21T17:26:07.135Z"
   },
   {
    "duration": 11,
    "start_time": "2022-11-21T17:26:07.447Z"
   },
   {
    "duration": 18,
    "start_time": "2022-11-21T17:26:07.459Z"
   },
   {
    "duration": 30,
    "start_time": "2022-11-21T17:26:07.478Z"
   },
   {
    "duration": 325,
    "start_time": "2022-11-21T17:26:07.510Z"
   },
   {
    "duration": 14,
    "start_time": "2022-11-21T17:26:07.837Z"
   },
   {
    "duration": 301,
    "start_time": "2022-11-21T17:26:07.852Z"
   },
   {
    "duration": 2,
    "start_time": "2022-11-21T17:26:08.155Z"
   },
   {
    "duration": 2691,
    "start_time": "2022-11-21T17:26:08.159Z"
   },
   {
    "duration": 13,
    "start_time": "2022-11-21T17:26:10.852Z"
   },
   {
    "duration": 148,
    "start_time": "2022-11-21T17:26:10.876Z"
   },
   {
    "duration": 164,
    "start_time": "2022-11-21T17:26:11.026Z"
   },
   {
    "duration": 186,
    "start_time": "2022-11-21T17:26:11.192Z"
   },
   {
    "duration": 183,
    "start_time": "2022-11-21T17:26:11.380Z"
   },
   {
    "duration": 132,
    "start_time": "2022-11-21T17:26:11.565Z"
   },
   {
    "duration": 115,
    "start_time": "2022-11-21T17:26:11.699Z"
   },
   {
    "duration": 10,
    "start_time": "2022-11-21T17:26:11.816Z"
   },
   {
    "duration": 4,
    "start_time": "2022-11-21T17:26:11.827Z"
   },
   {
    "duration": 326,
    "start_time": "2022-11-21T17:26:11.832Z"
   },
   {
    "duration": 18,
    "start_time": "2022-11-21T17:26:12.160Z"
   },
   {
    "duration": 283,
    "start_time": "2022-11-21T17:26:12.180Z"
   },
   {
    "duration": 22,
    "start_time": "2022-11-21T17:26:12.464Z"
   },
   {
    "duration": 281,
    "start_time": "2022-11-21T17:26:12.488Z"
   },
   {
    "duration": 13,
    "start_time": "2022-11-21T17:26:12.776Z"
   },
   {
    "duration": 462,
    "start_time": "2022-11-21T17:26:12.791Z"
   },
   {
    "duration": 301,
    "start_time": "2022-11-21T17:26:13.255Z"
   },
   {
    "duration": 293,
    "start_time": "2022-11-21T17:26:13.558Z"
   },
   {
    "duration": 299,
    "start_time": "2022-11-21T17:26:13.852Z"
   },
   {
    "duration": 300,
    "start_time": "2022-11-21T17:26:14.153Z"
   },
   {
    "duration": 295,
    "start_time": "2022-11-21T17:26:14.454Z"
   },
   {
    "duration": 331,
    "start_time": "2022-11-21T17:26:14.751Z"
   },
   {
    "duration": 14,
    "start_time": "2022-11-21T17:26:15.084Z"
   },
   {
    "duration": 10,
    "start_time": "2022-11-21T17:26:15.099Z"
   },
   {
    "duration": 16,
    "start_time": "2022-11-21T17:26:15.111Z"
   },
   {
    "duration": 14,
    "start_time": "2022-11-21T17:26:15.129Z"
   },
   {
    "duration": 327,
    "start_time": "2022-11-21T17:29:48.923Z"
   },
   {
    "duration": 299,
    "start_time": "2022-11-21T17:33:07.754Z"
   },
   {
    "duration": 442,
    "start_time": "2022-11-21T17:33:34.574Z"
   },
   {
    "duration": 13,
    "start_time": "2022-11-21T17:33:41.775Z"
   },
   {
    "duration": 304,
    "start_time": "2022-11-21T17:33:43.196Z"
   },
   {
    "duration": 315,
    "start_time": "2022-11-21T18:01:56.726Z"
   },
   {
    "duration": 215,
    "start_time": "2022-11-21T18:29:31.044Z"
   },
   {
    "duration": 216,
    "start_time": "2022-11-21T18:29:43.167Z"
   },
   {
    "duration": 4,
    "start_time": "2022-11-21T18:48:06.806Z"
   },
   {
    "duration": 322,
    "start_time": "2022-11-21T18:51:08.321Z"
   },
   {
    "duration": 1126,
    "start_time": "2022-11-21T18:51:16.847Z"
   },
   {
    "duration": 51,
    "start_time": "2022-11-21T18:51:17.975Z"
   },
   {
    "duration": 30,
    "start_time": "2022-11-21T18:51:18.028Z"
   },
   {
    "duration": 20,
    "start_time": "2022-11-21T18:51:18.061Z"
   },
   {
    "duration": 14,
    "start_time": "2022-11-21T18:51:18.082Z"
   },
   {
    "duration": 982,
    "start_time": "2022-11-21T18:51:18.098Z"
   },
   {
    "duration": 4,
    "start_time": "2022-11-21T18:51:19.083Z"
   },
   {
    "duration": 42,
    "start_time": "2022-11-21T18:51:19.089Z"
   },
   {
    "duration": 21,
    "start_time": "2022-11-21T18:51:19.133Z"
   },
   {
    "duration": 8,
    "start_time": "2022-11-21T18:51:19.158Z"
   },
   {
    "duration": 35,
    "start_time": "2022-11-21T18:51:19.167Z"
   },
   {
    "duration": 21,
    "start_time": "2022-11-21T18:51:19.203Z"
   },
   {
    "duration": 10,
    "start_time": "2022-11-21T18:51:19.225Z"
   },
   {
    "duration": 29,
    "start_time": "2022-11-21T18:51:19.237Z"
   },
   {
    "duration": 15,
    "start_time": "2022-11-21T18:51:19.267Z"
   },
   {
    "duration": 35,
    "start_time": "2022-11-21T18:51:19.283Z"
   },
   {
    "duration": 24,
    "start_time": "2022-11-21T18:51:19.320Z"
   },
   {
    "duration": 12,
    "start_time": "2022-11-21T18:51:19.345Z"
   },
   {
    "duration": 17,
    "start_time": "2022-11-21T18:51:19.359Z"
   },
   {
    "duration": 179,
    "start_time": "2022-11-21T18:51:19.378Z"
   },
   {
    "duration": 25,
    "start_time": "2022-11-21T18:51:19.559Z"
   },
   {
    "duration": 7,
    "start_time": "2022-11-21T18:51:19.586Z"
   },
   {
    "duration": 15,
    "start_time": "2022-11-21T18:51:19.595Z"
   },
   {
    "duration": 27,
    "start_time": "2022-11-21T18:51:19.611Z"
   },
   {
    "duration": 18,
    "start_time": "2022-11-21T18:51:19.640Z"
   },
   {
    "duration": 31,
    "start_time": "2022-11-21T18:51:19.660Z"
   },
   {
    "duration": 434,
    "start_time": "2022-11-21T18:51:19.692Z"
   },
   {
    "duration": 295,
    "start_time": "2022-11-21T18:51:20.131Z"
   },
   {
    "duration": 227,
    "start_time": "2022-11-21T18:51:20.428Z"
   },
   {
    "duration": 21,
    "start_time": "2022-11-21T18:51:20.656Z"
   },
   {
    "duration": 1510,
    "start_time": "2022-11-21T18:51:20.678Z"
   },
   {
    "duration": 8,
    "start_time": "2022-11-21T18:51:22.190Z"
   },
   {
    "duration": 354,
    "start_time": "2022-11-21T18:51:22.199Z"
   },
   {
    "duration": 9,
    "start_time": "2022-11-21T18:51:22.555Z"
   },
   {
    "duration": 7,
    "start_time": "2022-11-21T18:51:22.565Z"
   },
   {
    "duration": 18,
    "start_time": "2022-11-21T18:51:22.573Z"
   },
   {
    "duration": 343,
    "start_time": "2022-11-21T18:51:22.592Z"
   },
   {
    "duration": 15,
    "start_time": "2022-11-21T18:51:22.936Z"
   },
   {
    "duration": 341,
    "start_time": "2022-11-21T18:51:22.953Z"
   },
   {
    "duration": 3,
    "start_time": "2022-11-21T18:51:23.297Z"
   },
   {
    "duration": 3021,
    "start_time": "2022-11-21T18:51:23.302Z"
   },
   {
    "duration": 15,
    "start_time": "2022-11-21T18:51:26.325Z"
   },
   {
    "duration": 158,
    "start_time": "2022-11-21T18:51:26.342Z"
   },
   {
    "duration": 162,
    "start_time": "2022-11-21T18:51:26.502Z"
   },
   {
    "duration": 166,
    "start_time": "2022-11-21T18:51:26.677Z"
   },
   {
    "duration": 170,
    "start_time": "2022-11-21T18:51:26.845Z"
   },
   {
    "duration": 144,
    "start_time": "2022-11-21T18:51:27.017Z"
   },
   {
    "duration": 148,
    "start_time": "2022-11-21T18:51:27.163Z"
   },
   {
    "duration": 14,
    "start_time": "2022-11-21T18:51:27.313Z"
   },
   {
    "duration": 349,
    "start_time": "2022-11-21T18:51:27.329Z"
   },
   {
    "duration": 13,
    "start_time": "2022-11-21T18:51:27.680Z"
   },
   {
    "duration": 283,
    "start_time": "2022-11-21T18:51:27.695Z"
   },
   {
    "duration": 14,
    "start_time": "2022-11-21T18:51:27.980Z"
   },
   {
    "duration": 306,
    "start_time": "2022-11-21T18:51:27.996Z"
   },
   {
    "duration": 14,
    "start_time": "2022-11-21T18:51:28.304Z"
   },
   {
    "duration": 532,
    "start_time": "2022-11-21T18:51:28.320Z"
   },
   {
    "duration": 301,
    "start_time": "2022-11-21T18:51:28.854Z"
   },
   {
    "duration": 298,
    "start_time": "2022-11-21T18:51:29.157Z"
   },
   {
    "duration": 306,
    "start_time": "2022-11-21T18:51:29.457Z"
   },
   {
    "duration": 312,
    "start_time": "2022-11-21T18:51:29.764Z"
   },
   {
    "duration": 304,
    "start_time": "2022-11-21T18:51:30.078Z"
   },
   {
    "duration": 300,
    "start_time": "2022-11-21T18:51:30.384Z"
   },
   {
    "duration": 13,
    "start_time": "2022-11-21T18:51:30.685Z"
   },
   {
    "duration": 54,
    "start_time": "2022-11-21T18:51:30.700Z"
   },
   {
    "duration": 61,
    "start_time": "2022-11-21T18:51:30.756Z"
   },
   {
    "duration": 37,
    "start_time": "2022-11-21T18:51:30.818Z"
   },
   {
    "duration": 227,
    "start_time": "2022-11-21T18:51:30.857Z"
   },
   {
    "duration": 349,
    "start_time": "2022-11-21T18:52:38.501Z"
   },
   {
    "duration": 13,
    "start_time": "2022-11-21T19:13:54.406Z"
   },
   {
    "duration": 2760,
    "start_time": "2022-11-21T19:19:07.432Z"
   },
   {
    "duration": 22,
    "start_time": "2022-11-21T19:22:53.492Z"
   },
   {
    "duration": 140,
    "start_time": "2022-11-21T19:24:25.495Z"
   },
   {
    "duration": 1203,
    "start_time": "2022-11-21T19:24:34.049Z"
   },
   {
    "duration": 55,
    "start_time": "2022-11-21T19:24:35.255Z"
   },
   {
    "duration": 38,
    "start_time": "2022-11-21T19:24:35.312Z"
   },
   {
    "duration": 36,
    "start_time": "2022-11-21T19:24:35.353Z"
   },
   {
    "duration": 7,
    "start_time": "2022-11-21T19:24:35.391Z"
   },
   {
    "duration": 946,
    "start_time": "2022-11-21T19:24:35.400Z"
   },
   {
    "duration": 4,
    "start_time": "2022-11-21T19:24:36.348Z"
   },
   {
    "duration": 24,
    "start_time": "2022-11-21T19:24:36.353Z"
   },
   {
    "duration": 10,
    "start_time": "2022-11-21T19:24:36.378Z"
   },
   {
    "duration": 10,
    "start_time": "2022-11-21T19:24:36.391Z"
   },
   {
    "duration": 12,
    "start_time": "2022-11-21T19:24:36.402Z"
   },
   {
    "duration": 14,
    "start_time": "2022-11-21T19:24:36.415Z"
   },
   {
    "duration": 8,
    "start_time": "2022-11-21T19:24:36.430Z"
   },
   {
    "duration": 41,
    "start_time": "2022-11-21T19:24:36.439Z"
   },
   {
    "duration": 11,
    "start_time": "2022-11-21T19:24:36.482Z"
   },
   {
    "duration": 13,
    "start_time": "2022-11-21T19:24:36.495Z"
   },
   {
    "duration": 29,
    "start_time": "2022-11-21T19:24:36.509Z"
   },
   {
    "duration": 11,
    "start_time": "2022-11-21T19:24:36.540Z"
   },
   {
    "duration": 25,
    "start_time": "2022-11-21T19:24:36.552Z"
   },
   {
    "duration": 166,
    "start_time": "2022-11-21T19:24:36.578Z"
   },
   {
    "duration": 16,
    "start_time": "2022-11-21T19:24:36.745Z"
   },
   {
    "duration": 15,
    "start_time": "2022-11-21T19:24:36.762Z"
   },
   {
    "duration": 15,
    "start_time": "2022-11-21T19:24:36.779Z"
   },
   {
    "duration": 21,
    "start_time": "2022-11-21T19:24:36.796Z"
   },
   {
    "duration": 12,
    "start_time": "2022-11-21T19:24:36.819Z"
   },
   {
    "duration": 17,
    "start_time": "2022-11-21T19:24:36.833Z"
   },
   {
    "duration": 418,
    "start_time": "2022-11-21T19:24:36.851Z"
   },
   {
    "duration": 256,
    "start_time": "2022-11-21T19:24:37.276Z"
   },
   {
    "duration": 192,
    "start_time": "2022-11-21T19:24:37.534Z"
   },
   {
    "duration": 8,
    "start_time": "2022-11-21T19:24:37.728Z"
   },
   {
    "duration": 1398,
    "start_time": "2022-11-21T19:24:37.738Z"
   },
   {
    "duration": 7,
    "start_time": "2022-11-21T19:24:39.138Z"
   },
   {
    "duration": 298,
    "start_time": "2022-11-21T19:24:39.147Z"
   },
   {
    "duration": 10,
    "start_time": "2022-11-21T19:24:39.446Z"
   },
   {
    "duration": 7,
    "start_time": "2022-11-21T19:24:39.457Z"
   },
   {
    "duration": 17,
    "start_time": "2022-11-21T19:24:39.465Z"
   },
   {
    "duration": 345,
    "start_time": "2022-11-21T19:24:39.484Z"
   },
   {
    "duration": 13,
    "start_time": "2022-11-21T19:24:39.831Z"
   },
   {
    "duration": 313,
    "start_time": "2022-11-21T19:24:39.846Z"
   },
   {
    "duration": 3,
    "start_time": "2022-11-21T19:24:40.161Z"
   },
   {
    "duration": 15,
    "start_time": "2022-11-21T19:24:40.175Z"
   },
   {
    "duration": 147,
    "start_time": "2022-11-21T19:24:40.192Z"
   },
   {
    "duration": 150,
    "start_time": "2022-11-21T19:24:40.341Z"
   },
   {
    "duration": 143,
    "start_time": "2022-11-21T19:24:40.493Z"
   },
   {
    "duration": 165,
    "start_time": "2022-11-21T19:24:40.638Z"
   },
   {
    "duration": 236,
    "start_time": "2022-11-21T19:24:40.805Z"
   },
   {
    "duration": 143,
    "start_time": "2022-11-21T19:24:41.043Z"
   },
   {
    "duration": 12,
    "start_time": "2022-11-21T19:24:41.188Z"
   },
   {
    "duration": 326,
    "start_time": "2022-11-21T19:24:41.202Z"
   },
   {
    "duration": 15,
    "start_time": "2022-11-21T19:24:41.531Z"
   },
   {
    "duration": 302,
    "start_time": "2022-11-21T19:24:41.548Z"
   },
   {
    "duration": 24,
    "start_time": "2022-11-21T19:24:41.852Z"
   },
   {
    "duration": 286,
    "start_time": "2022-11-21T19:24:41.877Z"
   },
   {
    "duration": 23,
    "start_time": "2022-11-21T19:24:42.165Z"
   },
   {
    "duration": 302,
    "start_time": "2022-11-21T19:24:42.190Z"
   },
   {
    "duration": 326,
    "start_time": "2022-11-21T19:24:42.494Z"
   },
   {
    "duration": 344,
    "start_time": "2022-11-21T19:24:42.822Z"
   },
   {
    "duration": 349,
    "start_time": "2022-11-21T19:24:43.167Z"
   },
   {
    "duration": 343,
    "start_time": "2022-11-21T19:24:43.518Z"
   },
   {
    "duration": 337,
    "start_time": "2022-11-21T19:24:43.862Z"
   },
   {
    "duration": 295,
    "start_time": "2022-11-21T19:24:44.201Z"
   },
   {
    "duration": 13,
    "start_time": "2022-11-21T19:24:44.498Z"
   },
   {
    "duration": 6,
    "start_time": "2022-11-21T19:24:44.513Z"
   },
   {
    "duration": 114,
    "start_time": "2022-11-21T19:24:44.520Z"
   },
   {
    "duration": 0,
    "start_time": "2022-11-21T19:24:44.635Z"
   },
   {
    "duration": 0,
    "start_time": "2022-11-21T19:24:44.637Z"
   },
   {
    "duration": 0,
    "start_time": "2022-11-21T19:24:44.638Z"
   },
   {
    "duration": 12,
    "start_time": "2022-11-21T19:25:59.615Z"
   },
   {
    "duration": 13,
    "start_time": "2022-11-21T19:26:42.974Z"
   },
   {
    "duration": 16,
    "start_time": "2022-11-21T20:03:32.805Z"
   },
   {
    "duration": 15,
    "start_time": "2022-11-21T20:04:06.062Z"
   },
   {
    "duration": 14,
    "start_time": "2022-11-21T20:06:20.051Z"
   },
   {
    "duration": 5,
    "start_time": "2022-11-21T20:08:18.557Z"
   },
   {
    "duration": 2738,
    "start_time": "2022-11-21T20:32:12.328Z"
   },
   {
    "duration": 1070,
    "start_time": "2022-11-21T21:03:58.006Z"
   },
   {
    "duration": 72,
    "start_time": "2022-11-21T21:03:59.078Z"
   },
   {
    "duration": 41,
    "start_time": "2022-11-21T21:03:59.152Z"
   },
   {
    "duration": 20,
    "start_time": "2022-11-21T21:03:59.195Z"
   },
   {
    "duration": 9,
    "start_time": "2022-11-21T21:03:59.216Z"
   },
   {
    "duration": 994,
    "start_time": "2022-11-21T21:03:59.226Z"
   },
   {
    "duration": 5,
    "start_time": "2022-11-21T21:04:00.222Z"
   },
   {
    "duration": 81,
    "start_time": "2022-11-21T21:04:00.228Z"
   },
   {
    "duration": 49,
    "start_time": "2022-11-21T21:04:00.310Z"
   },
   {
    "duration": 57,
    "start_time": "2022-11-21T21:04:00.362Z"
   },
   {
    "duration": 71,
    "start_time": "2022-11-21T21:04:00.421Z"
   },
   {
    "duration": 62,
    "start_time": "2022-11-21T21:04:00.494Z"
   },
   {
    "duration": 77,
    "start_time": "2022-11-21T21:04:00.557Z"
   },
   {
    "duration": 50,
    "start_time": "2022-11-21T21:04:00.635Z"
   },
   {
    "duration": 36,
    "start_time": "2022-11-21T21:04:00.686Z"
   },
   {
    "duration": 37,
    "start_time": "2022-11-21T21:04:00.724Z"
   },
   {
    "duration": 45,
    "start_time": "2022-11-21T21:04:00.763Z"
   },
   {
    "duration": 21,
    "start_time": "2022-11-21T21:04:00.810Z"
   },
   {
    "duration": 16,
    "start_time": "2022-11-21T21:04:00.832Z"
   },
   {
    "duration": 162,
    "start_time": "2022-11-21T21:04:00.850Z"
   },
   {
    "duration": 13,
    "start_time": "2022-11-21T21:04:01.014Z"
   },
   {
    "duration": 25,
    "start_time": "2022-11-21T21:04:01.029Z"
   },
   {
    "duration": 52,
    "start_time": "2022-11-21T21:04:01.055Z"
   },
   {
    "duration": 77,
    "start_time": "2022-11-21T21:04:01.109Z"
   },
   {
    "duration": 51,
    "start_time": "2022-11-21T21:04:01.187Z"
   },
   {
    "duration": 44,
    "start_time": "2022-11-21T21:04:01.239Z"
   },
   {
    "duration": 423,
    "start_time": "2022-11-21T21:04:01.285Z"
   },
   {
    "duration": 262,
    "start_time": "2022-11-21T21:04:01.712Z"
   },
   {
    "duration": 195,
    "start_time": "2022-11-21T21:04:01.975Z"
   },
   {
    "duration": 9,
    "start_time": "2022-11-21T21:04:02.175Z"
   },
   {
    "duration": 1404,
    "start_time": "2022-11-21T21:04:02.186Z"
   },
   {
    "duration": 7,
    "start_time": "2022-11-21T21:04:03.592Z"
   },
   {
    "duration": 301,
    "start_time": "2022-11-21T21:04:03.600Z"
   },
   {
    "duration": 9,
    "start_time": "2022-11-21T21:04:03.902Z"
   },
   {
    "duration": 13,
    "start_time": "2022-11-21T21:04:03.912Z"
   },
   {
    "duration": 15,
    "start_time": "2022-11-21T21:04:03.927Z"
   },
   {
    "duration": 323,
    "start_time": "2022-11-21T21:04:03.943Z"
   },
   {
    "duration": 18,
    "start_time": "2022-11-21T21:04:04.268Z"
   },
   {
    "duration": 308,
    "start_time": "2022-11-21T21:04:04.287Z"
   },
   {
    "duration": 2,
    "start_time": "2022-11-21T21:04:04.597Z"
   },
   {
    "duration": 18,
    "start_time": "2022-11-21T21:04:04.601Z"
   },
   {
    "duration": 157,
    "start_time": "2022-11-21T21:04:04.620Z"
   },
   {
    "duration": 181,
    "start_time": "2022-11-21T21:04:04.779Z"
   },
   {
    "duration": 161,
    "start_time": "2022-11-21T21:04:04.963Z"
   },
   {
    "duration": 152,
    "start_time": "2022-11-21T21:04:05.125Z"
   },
   {
    "duration": 250,
    "start_time": "2022-11-21T21:04:05.279Z"
   },
   {
    "duration": 147,
    "start_time": "2022-11-21T21:04:05.531Z"
   },
   {
    "duration": 13,
    "start_time": "2022-11-21T21:04:05.679Z"
   },
   {
    "duration": 336,
    "start_time": "2022-11-21T21:04:05.694Z"
   },
   {
    "duration": 13,
    "start_time": "2022-11-21T21:04:06.032Z"
   },
   {
    "duration": 302,
    "start_time": "2022-11-21T21:04:06.046Z"
   },
   {
    "duration": 14,
    "start_time": "2022-11-21T21:04:06.349Z"
   },
   {
    "duration": 314,
    "start_time": "2022-11-21T21:04:06.375Z"
   },
   {
    "duration": 15,
    "start_time": "2022-11-21T21:04:06.691Z"
   },
   {
    "duration": 364,
    "start_time": "2022-11-21T21:04:06.708Z"
   },
   {
    "duration": 328,
    "start_time": "2022-11-21T21:04:07.074Z"
   },
   {
    "duration": 280,
    "start_time": "2022-11-21T21:04:07.404Z"
   },
   {
    "duration": 302,
    "start_time": "2022-11-21T21:04:07.685Z"
   },
   {
    "duration": 290,
    "start_time": "2022-11-21T21:04:07.989Z"
   },
   {
    "duration": 302,
    "start_time": "2022-11-21T21:04:08.281Z"
   },
   {
    "duration": 307,
    "start_time": "2022-11-21T21:04:08.585Z"
   },
   {
    "duration": 101,
    "start_time": "2022-11-21T21:04:08.893Z"
   },
   {
    "duration": 0,
    "start_time": "2022-11-21T21:04:08.995Z"
   },
   {
    "duration": 0,
    "start_time": "2022-11-21T21:04:08.996Z"
   },
   {
    "duration": 0,
    "start_time": "2022-11-21T21:04:08.997Z"
   },
   {
    "duration": 0,
    "start_time": "2022-11-21T21:04:08.998Z"
   },
   {
    "duration": 0,
    "start_time": "2022-11-21T21:04:08.999Z"
   },
   {
    "duration": 13,
    "start_time": "2022-11-21T21:12:02.396Z"
   },
   {
    "duration": 1163,
    "start_time": "2022-11-21T21:12:09.959Z"
   },
   {
    "duration": 55,
    "start_time": "2022-11-21T21:12:11.124Z"
   },
   {
    "duration": 30,
    "start_time": "2022-11-21T21:12:11.181Z"
   },
   {
    "duration": 20,
    "start_time": "2022-11-21T21:12:11.213Z"
   },
   {
    "duration": 4,
    "start_time": "2022-11-21T21:12:11.234Z"
   },
   {
    "duration": 1062,
    "start_time": "2022-11-21T21:12:11.239Z"
   },
   {
    "duration": 4,
    "start_time": "2022-11-21T21:12:12.304Z"
   },
   {
    "duration": 15,
    "start_time": "2022-11-21T21:12:12.309Z"
   },
   {
    "duration": 11,
    "start_time": "2022-11-21T21:12:12.325Z"
   },
   {
    "duration": 8,
    "start_time": "2022-11-21T21:12:12.339Z"
   },
   {
    "duration": 33,
    "start_time": "2022-11-21T21:12:12.349Z"
   },
   {
    "duration": 15,
    "start_time": "2022-11-21T21:12:12.383Z"
   },
   {
    "duration": 12,
    "start_time": "2022-11-21T21:12:12.400Z"
   },
   {
    "duration": 27,
    "start_time": "2022-11-21T21:12:12.414Z"
   },
   {
    "duration": 15,
    "start_time": "2022-11-21T21:12:12.442Z"
   },
   {
    "duration": 20,
    "start_time": "2022-11-21T21:12:12.458Z"
   },
   {
    "duration": 19,
    "start_time": "2022-11-21T21:12:12.480Z"
   },
   {
    "duration": 9,
    "start_time": "2022-11-21T21:12:12.501Z"
   },
   {
    "duration": 25,
    "start_time": "2022-11-21T21:12:12.512Z"
   },
   {
    "duration": 151,
    "start_time": "2022-11-21T21:12:12.539Z"
   },
   {
    "duration": 14,
    "start_time": "2022-11-21T21:12:12.692Z"
   },
   {
    "duration": 5,
    "start_time": "2022-11-21T21:12:12.707Z"
   },
   {
    "duration": 5,
    "start_time": "2022-11-21T21:12:12.714Z"
   },
   {
    "duration": 17,
    "start_time": "2022-11-21T21:12:12.721Z"
   },
   {
    "duration": 5,
    "start_time": "2022-11-21T21:12:12.740Z"
   },
   {
    "duration": 47,
    "start_time": "2022-11-21T21:12:12.746Z"
   },
   {
    "duration": 408,
    "start_time": "2022-11-21T21:12:12.795Z"
   },
   {
    "duration": 274,
    "start_time": "2022-11-21T21:12:13.206Z"
   },
   {
    "duration": 198,
    "start_time": "2022-11-21T21:12:13.481Z"
   },
   {
    "duration": 10,
    "start_time": "2022-11-21T21:12:13.680Z"
   },
   {
    "duration": 1489,
    "start_time": "2022-11-21T21:12:13.691Z"
   },
   {
    "duration": 8,
    "start_time": "2022-11-21T21:12:15.181Z"
   },
   {
    "duration": 362,
    "start_time": "2022-11-21T21:12:15.191Z"
   },
   {
    "duration": 10,
    "start_time": "2022-11-21T21:12:15.556Z"
   },
   {
    "duration": 4,
    "start_time": "2022-11-21T21:12:15.567Z"
   },
   {
    "duration": 18,
    "start_time": "2022-11-21T21:12:15.573Z"
   },
   {
    "duration": 327,
    "start_time": "2022-11-21T21:12:15.593Z"
   },
   {
    "duration": 13,
    "start_time": "2022-11-21T21:12:15.922Z"
   },
   {
    "duration": 319,
    "start_time": "2022-11-21T21:12:15.936Z"
   },
   {
    "duration": 2,
    "start_time": "2022-11-21T21:12:16.256Z"
   },
   {
    "duration": 25,
    "start_time": "2022-11-21T21:12:16.260Z"
   },
   {
    "duration": 145,
    "start_time": "2022-11-21T21:12:16.286Z"
   },
   {
    "duration": 144,
    "start_time": "2022-11-21T21:12:16.433Z"
   },
   {
    "duration": 152,
    "start_time": "2022-11-21T21:12:16.579Z"
   },
   {
    "duration": 156,
    "start_time": "2022-11-21T21:12:16.733Z"
   },
   {
    "duration": 243,
    "start_time": "2022-11-21T21:12:16.891Z"
   },
   {
    "duration": 127,
    "start_time": "2022-11-21T21:12:17.136Z"
   },
   {
    "duration": 21,
    "start_time": "2022-11-21T21:12:17.265Z"
   },
   {
    "duration": 336,
    "start_time": "2022-11-21T21:12:17.288Z"
   },
   {
    "duration": 14,
    "start_time": "2022-11-21T21:12:17.626Z"
   },
   {
    "duration": 310,
    "start_time": "2022-11-21T21:12:17.642Z"
   },
   {
    "duration": 13,
    "start_time": "2022-11-21T21:12:17.954Z"
   },
   {
    "duration": 290,
    "start_time": "2022-11-21T21:12:17.977Z"
   },
   {
    "duration": 18,
    "start_time": "2022-11-21T21:12:18.269Z"
   },
   {
    "duration": 292,
    "start_time": "2022-11-21T21:12:18.288Z"
   },
   {
    "duration": 287,
    "start_time": "2022-11-21T21:12:18.581Z"
   },
   {
    "duration": 322,
    "start_time": "2022-11-21T21:12:18.877Z"
   },
   {
    "duration": 265,
    "start_time": "2022-11-21T21:12:19.200Z"
   },
   {
    "duration": 297,
    "start_time": "2022-11-21T21:12:19.466Z"
   },
   {
    "duration": 294,
    "start_time": "2022-11-21T21:12:19.765Z"
   },
   {
    "duration": 320,
    "start_time": "2022-11-21T21:12:20.060Z"
   },
   {
    "duration": 108,
    "start_time": "2022-11-21T21:12:20.382Z"
   },
   {
    "duration": 0,
    "start_time": "2022-11-21T21:12:20.492Z"
   },
   {
    "duration": 0,
    "start_time": "2022-11-21T21:12:20.493Z"
   },
   {
    "duration": 0,
    "start_time": "2022-11-21T21:12:20.495Z"
   },
   {
    "duration": 0,
    "start_time": "2022-11-21T21:12:20.496Z"
   },
   {
    "duration": 0,
    "start_time": "2022-11-21T21:12:20.498Z"
   },
   {
    "duration": 5,
    "start_time": "2022-11-21T21:13:01.262Z"
   },
   {
    "duration": 14,
    "start_time": "2022-11-21T21:13:03.947Z"
   },
   {
    "duration": 10,
    "start_time": "2022-11-21T21:13:46.919Z"
   },
   {
    "duration": 12,
    "start_time": "2022-11-21T21:14:02.615Z"
   },
   {
    "duration": 1098,
    "start_time": "2022-11-21T21:14:25.974Z"
   },
   {
    "duration": 50,
    "start_time": "2022-11-21T21:14:27.076Z"
   },
   {
    "duration": 31,
    "start_time": "2022-11-21T21:14:27.128Z"
   },
   {
    "duration": 22,
    "start_time": "2022-11-21T21:14:27.162Z"
   },
   {
    "duration": 6,
    "start_time": "2022-11-21T21:14:27.185Z"
   },
   {
    "duration": 920,
    "start_time": "2022-11-21T21:14:27.193Z"
   },
   {
    "duration": 5,
    "start_time": "2022-11-21T21:14:28.114Z"
   },
   {
    "duration": 22,
    "start_time": "2022-11-21T21:14:28.121Z"
   },
   {
    "duration": 28,
    "start_time": "2022-11-21T21:14:28.145Z"
   },
   {
    "duration": 8,
    "start_time": "2022-11-21T21:14:28.175Z"
   },
   {
    "duration": 17,
    "start_time": "2022-11-21T21:14:28.184Z"
   },
   {
    "duration": 29,
    "start_time": "2022-11-21T21:14:28.202Z"
   },
   {
    "duration": 12,
    "start_time": "2022-11-21T21:14:28.233Z"
   },
   {
    "duration": 20,
    "start_time": "2022-11-21T21:14:28.246Z"
   },
   {
    "duration": 27,
    "start_time": "2022-11-21T21:14:28.268Z"
   },
   {
    "duration": 10,
    "start_time": "2022-11-21T21:14:28.296Z"
   },
   {
    "duration": 21,
    "start_time": "2022-11-21T21:14:28.308Z"
   },
   {
    "duration": 10,
    "start_time": "2022-11-21T21:14:28.331Z"
   },
   {
    "duration": 4,
    "start_time": "2022-11-21T21:14:28.343Z"
   },
   {
    "duration": 146,
    "start_time": "2022-11-21T21:14:28.348Z"
   },
   {
    "duration": 12,
    "start_time": "2022-11-21T21:14:28.496Z"
   },
   {
    "duration": 7,
    "start_time": "2022-11-21T21:14:28.509Z"
   },
   {
    "duration": 8,
    "start_time": "2022-11-21T21:14:28.517Z"
   },
   {
    "duration": 15,
    "start_time": "2022-11-21T21:14:28.526Z"
   },
   {
    "duration": 6,
    "start_time": "2022-11-21T21:14:28.543Z"
   },
   {
    "duration": 39,
    "start_time": "2022-11-21T21:14:28.551Z"
   },
   {
    "duration": 364,
    "start_time": "2022-11-21T21:14:28.591Z"
   },
   {
    "duration": 257,
    "start_time": "2022-11-21T21:14:28.959Z"
   },
   {
    "duration": 183,
    "start_time": "2022-11-21T21:14:29.217Z"
   },
   {
    "duration": 10,
    "start_time": "2022-11-21T21:14:29.402Z"
   },
   {
    "duration": 1335,
    "start_time": "2022-11-21T21:14:29.413Z"
   },
   {
    "duration": 7,
    "start_time": "2022-11-21T21:14:30.751Z"
   },
   {
    "duration": 322,
    "start_time": "2022-11-21T21:14:30.775Z"
   },
   {
    "duration": 9,
    "start_time": "2022-11-21T21:14:31.099Z"
   },
   {
    "duration": 15,
    "start_time": "2022-11-21T21:14:31.110Z"
   },
   {
    "duration": 32,
    "start_time": "2022-11-21T21:14:31.127Z"
   },
   {
    "duration": 314,
    "start_time": "2022-11-21T21:14:31.161Z"
   },
   {
    "duration": 14,
    "start_time": "2022-11-21T21:14:31.476Z"
   },
   {
    "duration": 324,
    "start_time": "2022-11-21T21:14:31.491Z"
   },
   {
    "duration": 2,
    "start_time": "2022-11-21T21:14:31.817Z"
   },
   {
    "duration": 28,
    "start_time": "2022-11-21T21:14:31.820Z"
   },
   {
    "duration": 151,
    "start_time": "2022-11-21T21:14:31.849Z"
   },
   {
    "duration": 133,
    "start_time": "2022-11-21T21:14:32.001Z"
   },
   {
    "duration": 144,
    "start_time": "2022-11-21T21:14:32.135Z"
   },
   {
    "duration": 140,
    "start_time": "2022-11-21T21:14:32.280Z"
   },
   {
    "duration": 204,
    "start_time": "2022-11-21T21:14:32.421Z"
   },
   {
    "duration": 127,
    "start_time": "2022-11-21T21:14:32.627Z"
   },
   {
    "duration": 21,
    "start_time": "2022-11-21T21:14:32.756Z"
   },
   {
    "duration": 305,
    "start_time": "2022-11-21T21:14:32.779Z"
   },
   {
    "duration": 13,
    "start_time": "2022-11-21T21:14:33.085Z"
   },
   {
    "duration": 265,
    "start_time": "2022-11-21T21:14:33.099Z"
   },
   {
    "duration": 16,
    "start_time": "2022-11-21T21:14:33.366Z"
   },
   {
    "duration": 274,
    "start_time": "2022-11-21T21:14:33.383Z"
   },
   {
    "duration": 22,
    "start_time": "2022-11-21T21:14:33.658Z"
   },
   {
    "duration": 282,
    "start_time": "2022-11-21T21:14:33.682Z"
   },
   {
    "duration": 294,
    "start_time": "2022-11-21T21:14:33.965Z"
   },
   {
    "duration": 295,
    "start_time": "2022-11-21T21:14:34.261Z"
   },
   {
    "duration": 316,
    "start_time": "2022-11-21T21:14:34.560Z"
   },
   {
    "duration": 324,
    "start_time": "2022-11-21T21:14:34.878Z"
   },
   {
    "duration": 296,
    "start_time": "2022-11-21T21:14:35.204Z"
   },
   {
    "duration": 304,
    "start_time": "2022-11-21T21:14:35.501Z"
   },
   {
    "duration": 12,
    "start_time": "2022-11-21T21:14:35.807Z"
   },
   {
    "duration": 146,
    "start_time": "2022-11-21T21:14:35.820Z"
   },
   {
    "duration": 232,
    "start_time": "2022-11-21T21:14:35.968Z"
   },
   {
    "duration": 2587,
    "start_time": "2022-11-21T21:14:36.202Z"
   },
   {
    "duration": 59,
    "start_time": "2022-11-21T21:23:57.667Z"
   },
   {
    "duration": 79,
    "start_time": "2022-11-22T11:37:27.805Z"
   },
   {
    "duration": 1351,
    "start_time": "2022-11-22T14:30:00.075Z"
   },
   {
    "duration": 459,
    "start_time": "2022-11-22T14:30:01.428Z"
   },
   {
    "duration": 36,
    "start_time": "2022-11-22T14:30:01.889Z"
   },
   {
    "duration": 31,
    "start_time": "2022-11-22T14:30:01.926Z"
   },
   {
    "duration": 19,
    "start_time": "2022-11-22T14:30:01.960Z"
   },
   {
    "duration": 1014,
    "start_time": "2022-11-22T14:30:01.980Z"
   },
   {
    "duration": 4,
    "start_time": "2022-11-22T14:30:02.996Z"
   },
   {
    "duration": 36,
    "start_time": "2022-11-22T14:30:03.001Z"
   },
   {
    "duration": 19,
    "start_time": "2022-11-22T14:30:03.038Z"
   },
   {
    "duration": 7,
    "start_time": "2022-11-22T14:30:03.058Z"
   },
   {
    "duration": 21,
    "start_time": "2022-11-22T14:30:03.066Z"
   },
   {
    "duration": 19,
    "start_time": "2022-11-22T14:30:03.088Z"
   },
   {
    "duration": 20,
    "start_time": "2022-11-22T14:30:03.109Z"
   },
   {
    "duration": 17,
    "start_time": "2022-11-22T14:30:03.132Z"
   },
   {
    "duration": 16,
    "start_time": "2022-11-22T14:30:03.151Z"
   },
   {
    "duration": 11,
    "start_time": "2022-11-22T14:30:03.169Z"
   },
   {
    "duration": 33,
    "start_time": "2022-11-22T14:30:03.181Z"
   },
   {
    "duration": 9,
    "start_time": "2022-11-22T14:30:03.215Z"
   },
   {
    "duration": 14,
    "start_time": "2022-11-22T14:30:03.225Z"
   },
   {
    "duration": 148,
    "start_time": "2022-11-22T14:30:03.240Z"
   },
   {
    "duration": 13,
    "start_time": "2022-11-22T14:30:03.390Z"
   },
   {
    "duration": 13,
    "start_time": "2022-11-22T14:30:03.412Z"
   },
   {
    "duration": 15,
    "start_time": "2022-11-22T14:30:03.427Z"
   },
   {
    "duration": 17,
    "start_time": "2022-11-22T14:30:03.444Z"
   },
   {
    "duration": 18,
    "start_time": "2022-11-22T14:30:03.462Z"
   },
   {
    "duration": 16,
    "start_time": "2022-11-22T14:30:03.481Z"
   },
   {
    "duration": 389,
    "start_time": "2022-11-22T14:30:03.498Z"
   },
   {
    "duration": 263,
    "start_time": "2022-11-22T14:30:03.889Z"
   },
   {
    "duration": 199,
    "start_time": "2022-11-22T14:30:04.154Z"
   },
   {
    "duration": 10,
    "start_time": "2022-11-22T14:30:04.354Z"
   },
   {
    "duration": 1410,
    "start_time": "2022-11-22T14:30:04.365Z"
   },
   {
    "duration": 6,
    "start_time": "2022-11-22T14:30:05.777Z"
   },
   {
    "duration": 304,
    "start_time": "2022-11-22T14:30:05.785Z"
   },
   {
    "duration": 8,
    "start_time": "2022-11-22T14:30:06.091Z"
   },
   {
    "duration": 23,
    "start_time": "2022-11-22T14:30:06.101Z"
   },
   {
    "duration": 20,
    "start_time": "2022-11-22T14:30:06.126Z"
   },
   {
    "duration": 305,
    "start_time": "2022-11-22T14:30:06.147Z"
   },
   {
    "duration": 13,
    "start_time": "2022-11-22T14:30:06.454Z"
   },
   {
    "duration": 319,
    "start_time": "2022-11-22T14:30:06.469Z"
   },
   {
    "duration": 3,
    "start_time": "2022-11-22T14:30:06.789Z"
   },
   {
    "duration": 25,
    "start_time": "2022-11-22T14:30:06.796Z"
   },
   {
    "duration": 159,
    "start_time": "2022-11-22T14:30:06.822Z"
   },
   {
    "duration": 135,
    "start_time": "2022-11-22T14:30:06.982Z"
   },
   {
    "duration": 140,
    "start_time": "2022-11-22T14:30:07.118Z"
   },
   {
    "duration": 156,
    "start_time": "2022-11-22T14:30:07.260Z"
   },
   {
    "duration": 250,
    "start_time": "2022-11-22T14:30:07.418Z"
   },
   {
    "duration": 163,
    "start_time": "2022-11-22T14:30:07.670Z"
   },
   {
    "duration": 12,
    "start_time": "2022-11-22T14:30:07.835Z"
   },
   {
    "duration": 322,
    "start_time": "2022-11-22T14:30:07.849Z"
   },
   {
    "duration": 13,
    "start_time": "2022-11-22T14:30:08.172Z"
   },
   {
    "duration": 344,
    "start_time": "2022-11-22T14:30:08.187Z"
   },
   {
    "duration": 14,
    "start_time": "2022-11-22T14:30:08.533Z"
   },
   {
    "duration": 279,
    "start_time": "2022-11-22T14:30:08.549Z"
   },
   {
    "duration": 13,
    "start_time": "2022-11-22T14:30:08.829Z"
   },
   {
    "duration": 269,
    "start_time": "2022-11-22T14:30:08.844Z"
   },
   {
    "duration": 280,
    "start_time": "2022-11-22T14:30:09.115Z"
   },
   {
    "duration": 294,
    "start_time": "2022-11-22T14:30:09.397Z"
   },
   {
    "duration": 292,
    "start_time": "2022-11-22T14:30:09.693Z"
   },
   {
    "duration": 297,
    "start_time": "2022-11-22T14:30:09.987Z"
   },
   {
    "duration": 314,
    "start_time": "2022-11-22T14:30:10.285Z"
   },
   {
    "duration": 314,
    "start_time": "2022-11-22T14:30:10.601Z"
   },
   {
    "duration": 9,
    "start_time": "2022-11-22T14:30:10.917Z"
   },
   {
    "duration": 150,
    "start_time": "2022-11-22T14:30:10.928Z"
   },
   {
    "duration": 224,
    "start_time": "2022-11-22T14:30:11.080Z"
   },
   {
    "duration": 2591,
    "start_time": "2022-11-22T14:30:11.306Z"
   },
   {
    "duration": 1093,
    "start_time": "2022-11-22T14:36:52.179Z"
   },
   {
    "duration": 50,
    "start_time": "2022-11-22T14:36:53.274Z"
   },
   {
    "duration": 31,
    "start_time": "2022-11-22T14:36:53.325Z"
   },
   {
    "duration": 22,
    "start_time": "2022-11-22T14:36:53.357Z"
   },
   {
    "duration": 25,
    "start_time": "2022-11-22T14:36:53.382Z"
   },
   {
    "duration": 980,
    "start_time": "2022-11-22T14:36:53.408Z"
   },
   {
    "duration": 5,
    "start_time": "2022-11-22T14:36:54.390Z"
   },
   {
    "duration": 21,
    "start_time": "2022-11-22T14:36:54.397Z"
   },
   {
    "duration": 10,
    "start_time": "2022-11-22T14:36:54.420Z"
   },
   {
    "duration": 5,
    "start_time": "2022-11-22T14:36:54.431Z"
   },
   {
    "duration": 12,
    "start_time": "2022-11-22T14:36:54.438Z"
   },
   {
    "duration": 15,
    "start_time": "2022-11-22T14:36:54.451Z"
   },
   {
    "duration": 8,
    "start_time": "2022-11-22T14:36:54.468Z"
   },
   {
    "duration": 14,
    "start_time": "2022-11-22T14:36:54.512Z"
   },
   {
    "duration": 11,
    "start_time": "2022-11-22T14:36:54.528Z"
   },
   {
    "duration": 10,
    "start_time": "2022-11-22T14:36:54.541Z"
   },
   {
    "duration": 17,
    "start_time": "2022-11-22T14:36:54.552Z"
   },
   {
    "duration": 9,
    "start_time": "2022-11-22T14:36:54.570Z"
   },
   {
    "duration": 4,
    "start_time": "2022-11-22T14:36:54.580Z"
   },
   {
    "duration": 160,
    "start_time": "2022-11-22T14:36:54.613Z"
   },
   {
    "duration": 11,
    "start_time": "2022-11-22T14:36:54.775Z"
   },
   {
    "duration": 4,
    "start_time": "2022-11-22T14:36:54.788Z"
   },
   {
    "duration": 6,
    "start_time": "2022-11-22T14:36:54.794Z"
   },
   {
    "duration": 12,
    "start_time": "2022-11-22T14:36:54.813Z"
   },
   {
    "duration": 4,
    "start_time": "2022-11-22T14:36:54.827Z"
   },
   {
    "duration": 13,
    "start_time": "2022-11-22T14:36:54.833Z"
   },
   {
    "duration": 406,
    "start_time": "2022-11-22T14:36:54.848Z"
   },
   {
    "duration": 274,
    "start_time": "2022-11-22T14:36:55.256Z"
   },
   {
    "duration": 202,
    "start_time": "2022-11-22T14:36:55.532Z"
   },
   {
    "duration": 10,
    "start_time": "2022-11-22T14:36:55.736Z"
   },
   {
    "duration": 1435,
    "start_time": "2022-11-22T14:36:55.747Z"
   },
   {
    "duration": 7,
    "start_time": "2022-11-22T14:36:57.184Z"
   },
   {
    "duration": 301,
    "start_time": "2022-11-22T14:36:57.192Z"
   },
   {
    "duration": 9,
    "start_time": "2022-11-22T14:36:57.495Z"
   },
   {
    "duration": 4,
    "start_time": "2022-11-22T14:36:57.505Z"
   },
   {
    "duration": 12,
    "start_time": "2022-11-22T14:36:57.512Z"
   },
   {
    "duration": 331,
    "start_time": "2022-11-22T14:36:57.526Z"
   },
   {
    "duration": 14,
    "start_time": "2022-11-22T14:36:57.858Z"
   },
   {
    "duration": 316,
    "start_time": "2022-11-22T14:36:57.873Z"
   },
   {
    "duration": 3,
    "start_time": "2022-11-22T14:36:58.191Z"
   },
   {
    "duration": 27,
    "start_time": "2022-11-22T14:36:58.197Z"
   },
   {
    "duration": 136,
    "start_time": "2022-11-22T14:36:58.225Z"
   },
   {
    "duration": 147,
    "start_time": "2022-11-22T14:36:58.362Z"
   },
   {
    "duration": 142,
    "start_time": "2022-11-22T14:36:58.513Z"
   },
   {
    "duration": 148,
    "start_time": "2022-11-22T14:36:58.657Z"
   },
   {
    "duration": 224,
    "start_time": "2022-11-22T14:36:58.806Z"
   },
   {
    "duration": 120,
    "start_time": "2022-11-22T14:36:59.032Z"
   },
   {
    "duration": 10,
    "start_time": "2022-11-22T14:36:59.154Z"
   },
   {
    "duration": 319,
    "start_time": "2022-11-22T14:36:59.166Z"
   },
   {
    "duration": 13,
    "start_time": "2022-11-22T14:36:59.487Z"
   },
   {
    "duration": 285,
    "start_time": "2022-11-22T14:36:59.502Z"
   },
   {
    "duration": 14,
    "start_time": "2022-11-22T14:36:59.788Z"
   },
   {
    "duration": 284,
    "start_time": "2022-11-22T14:36:59.812Z"
   },
   {
    "duration": 20,
    "start_time": "2022-11-22T14:37:00.098Z"
   },
   {
    "duration": 312,
    "start_time": "2022-11-22T14:37:00.120Z"
   },
   {
    "duration": 345,
    "start_time": "2022-11-22T14:37:00.434Z"
   },
   {
    "duration": 300,
    "start_time": "2022-11-22T14:37:00.781Z"
   },
   {
    "duration": 312,
    "start_time": "2022-11-22T14:37:01.083Z"
   },
   {
    "duration": 301,
    "start_time": "2022-11-22T14:37:01.396Z"
   },
   {
    "duration": 284,
    "start_time": "2022-11-22T14:37:01.699Z"
   },
   {
    "duration": 309,
    "start_time": "2022-11-22T14:37:01.984Z"
   },
   {
    "duration": 19,
    "start_time": "2022-11-22T14:37:02.295Z"
   },
   {
    "duration": 133,
    "start_time": "2022-11-22T14:37:02.315Z"
   },
   {
    "duration": 225,
    "start_time": "2022-11-22T14:37:02.450Z"
   },
   {
    "duration": 2580,
    "start_time": "2022-11-22T14:37:02.677Z"
   },
   {
    "duration": 76,
    "start_time": "2022-11-22T15:34:32.309Z"
   },
   {
    "duration": 1099,
    "start_time": "2022-11-22T15:42:18.997Z"
   },
   {
    "duration": 52,
    "start_time": "2022-11-22T15:42:20.100Z"
   },
   {
    "duration": 29,
    "start_time": "2022-11-22T15:42:20.153Z"
   },
   {
    "duration": 19,
    "start_time": "2022-11-22T15:42:20.184Z"
   },
   {
    "duration": 17,
    "start_time": "2022-11-22T15:42:20.205Z"
   },
   {
    "duration": 1018,
    "start_time": "2022-11-22T15:42:20.223Z"
   },
   {
    "duration": 4,
    "start_time": "2022-11-22T15:42:21.242Z"
   },
   {
    "duration": 13,
    "start_time": "2022-11-22T15:42:21.247Z"
   },
   {
    "duration": 13,
    "start_time": "2022-11-22T15:42:21.261Z"
   },
   {
    "duration": 6,
    "start_time": "2022-11-22T15:42:21.276Z"
   },
   {
    "duration": 34,
    "start_time": "2022-11-22T15:42:21.283Z"
   },
   {
    "duration": 16,
    "start_time": "2022-11-22T15:42:21.318Z"
   },
   {
    "duration": 8,
    "start_time": "2022-11-22T15:42:21.336Z"
   },
   {
    "duration": 16,
    "start_time": "2022-11-22T15:42:21.346Z"
   },
   {
    "duration": 12,
    "start_time": "2022-11-22T15:42:21.363Z"
   },
   {
    "duration": 37,
    "start_time": "2022-11-22T15:42:21.377Z"
   },
   {
    "duration": 15,
    "start_time": "2022-11-22T15:42:21.415Z"
   },
   {
    "duration": 10,
    "start_time": "2022-11-22T15:42:21.431Z"
   },
   {
    "duration": 4,
    "start_time": "2022-11-22T15:42:21.442Z"
   },
   {
    "duration": 159,
    "start_time": "2022-11-22T15:42:21.447Z"
   },
   {
    "duration": 16,
    "start_time": "2022-11-22T15:42:21.607Z"
   },
   {
    "duration": 14,
    "start_time": "2022-11-22T15:42:21.625Z"
   },
   {
    "duration": 12,
    "start_time": "2022-11-22T15:42:21.640Z"
   },
   {
    "duration": 22,
    "start_time": "2022-11-22T15:42:21.653Z"
   },
   {
    "duration": 15,
    "start_time": "2022-11-22T15:42:21.676Z"
   },
   {
    "duration": 18,
    "start_time": "2022-11-22T15:42:21.693Z"
   },
   {
    "duration": 405,
    "start_time": "2022-11-22T15:42:21.713Z"
   },
   {
    "duration": 274,
    "start_time": "2022-11-22T15:42:22.122Z"
   },
   {
    "duration": 210,
    "start_time": "2022-11-22T15:42:22.397Z"
   },
   {
    "duration": 10,
    "start_time": "2022-11-22T15:42:22.612Z"
   },
   {
    "duration": 1402,
    "start_time": "2022-11-22T15:42:22.623Z"
   },
   {
    "duration": 7,
    "start_time": "2022-11-22T15:42:24.027Z"
   },
   {
    "duration": 289,
    "start_time": "2022-11-22T15:42:24.036Z"
   },
   {
    "duration": 9,
    "start_time": "2022-11-22T15:42:24.326Z"
   },
   {
    "duration": 8,
    "start_time": "2022-11-22T15:42:24.336Z"
   },
   {
    "duration": 21,
    "start_time": "2022-11-22T15:42:24.345Z"
   },
   {
    "duration": 328,
    "start_time": "2022-11-22T15:42:24.367Z"
   },
   {
    "duration": 20,
    "start_time": "2022-11-22T15:42:24.697Z"
   },
   {
    "duration": 307,
    "start_time": "2022-11-22T15:42:24.719Z"
   },
   {
    "duration": 2,
    "start_time": "2022-11-22T15:42:25.027Z"
   },
   {
    "duration": 20,
    "start_time": "2022-11-22T15:42:25.030Z"
   },
   {
    "duration": 141,
    "start_time": "2022-11-22T15:42:25.051Z"
   },
   {
    "duration": 148,
    "start_time": "2022-11-22T15:42:25.193Z"
   },
   {
    "duration": 153,
    "start_time": "2022-11-22T15:42:25.343Z"
   },
   {
    "duration": 157,
    "start_time": "2022-11-22T15:42:25.498Z"
   },
   {
    "duration": 218,
    "start_time": "2022-11-22T15:42:25.657Z"
   },
   {
    "duration": 121,
    "start_time": "2022-11-22T15:42:25.877Z"
   },
   {
    "duration": 21,
    "start_time": "2022-11-22T15:42:26.000Z"
   },
   {
    "duration": 306,
    "start_time": "2022-11-22T15:42:26.023Z"
   },
   {
    "duration": 13,
    "start_time": "2022-11-22T15:42:26.331Z"
   },
   {
    "duration": 327,
    "start_time": "2022-11-22T15:42:26.346Z"
   },
   {
    "duration": 14,
    "start_time": "2022-11-22T15:42:26.675Z"
   },
   {
    "duration": 307,
    "start_time": "2022-11-22T15:42:26.691Z"
   },
   {
    "duration": 22,
    "start_time": "2022-11-22T15:42:27.000Z"
   },
   {
    "duration": 277,
    "start_time": "2022-11-22T15:42:27.023Z"
   },
   {
    "duration": 293,
    "start_time": "2022-11-22T15:42:27.302Z"
   },
   {
    "duration": 298,
    "start_time": "2022-11-22T15:42:27.597Z"
   },
   {
    "duration": 304,
    "start_time": "2022-11-22T15:42:27.896Z"
   },
   {
    "duration": 296,
    "start_time": "2022-11-22T15:42:28.202Z"
   },
   {
    "duration": 282,
    "start_time": "2022-11-22T15:42:28.500Z"
   },
   {
    "duration": 312,
    "start_time": "2022-11-22T15:42:28.784Z"
   },
   {
    "duration": 16,
    "start_time": "2022-11-22T15:42:29.097Z"
   },
   {
    "duration": 18,
    "start_time": "2022-11-22T15:42:29.115Z"
   },
   {
    "duration": 125,
    "start_time": "2022-11-22T15:42:29.134Z"
   },
   {
    "duration": 215,
    "start_time": "2022-11-22T15:42:29.261Z"
   },
   {
    "duration": 2639,
    "start_time": "2022-11-22T15:42:29.478Z"
   },
   {
    "duration": 21,
    "start_time": "2022-11-22T15:42:39.844Z"
   },
   {
    "duration": 76,
    "start_time": "2022-11-22T15:47:55.777Z"
   },
   {
    "duration": 48,
    "start_time": "2022-11-22T16:27:31.376Z"
   },
   {
    "duration": 1405,
    "start_time": "2022-11-22T16:27:39.458Z"
   },
   {
    "duration": 184,
    "start_time": "2022-11-22T16:27:40.865Z"
   },
   {
    "duration": 30,
    "start_time": "2022-11-22T16:27:41.051Z"
   },
   {
    "duration": 20,
    "start_time": "2022-11-22T16:27:41.083Z"
   },
   {
    "duration": 24,
    "start_time": "2022-11-22T16:27:41.105Z"
   },
   {
    "duration": 985,
    "start_time": "2022-11-22T16:27:41.131Z"
   },
   {
    "duration": 4,
    "start_time": "2022-11-22T16:27:42.119Z"
   },
   {
    "duration": 40,
    "start_time": "2022-11-22T16:27:42.125Z"
   },
   {
    "duration": 35,
    "start_time": "2022-11-22T16:27:42.167Z"
   },
   {
    "duration": 21,
    "start_time": "2022-11-22T16:27:42.205Z"
   },
   {
    "duration": 29,
    "start_time": "2022-11-22T16:27:42.228Z"
   },
   {
    "duration": 47,
    "start_time": "2022-11-22T16:27:42.259Z"
   },
   {
    "duration": 32,
    "start_time": "2022-11-22T16:27:42.307Z"
   },
   {
    "duration": 43,
    "start_time": "2022-11-22T16:27:42.341Z"
   },
   {
    "duration": 66,
    "start_time": "2022-11-22T16:27:42.386Z"
   },
   {
    "duration": 27,
    "start_time": "2022-11-22T16:27:42.454Z"
   },
   {
    "duration": 66,
    "start_time": "2022-11-22T16:27:42.483Z"
   },
   {
    "duration": 42,
    "start_time": "2022-11-22T16:27:42.552Z"
   },
   {
    "duration": 48,
    "start_time": "2022-11-22T16:27:42.596Z"
   },
   {
    "duration": 171,
    "start_time": "2022-11-22T16:27:42.646Z"
   },
   {
    "duration": 12,
    "start_time": "2022-11-22T16:27:42.819Z"
   },
   {
    "duration": 43,
    "start_time": "2022-11-22T16:27:42.832Z"
   },
   {
    "duration": 21,
    "start_time": "2022-11-22T16:27:42.877Z"
   },
   {
    "duration": 27,
    "start_time": "2022-11-22T16:27:42.899Z"
   },
   {
    "duration": 28,
    "start_time": "2022-11-22T16:27:42.928Z"
   },
   {
    "duration": 43,
    "start_time": "2022-11-22T16:27:42.958Z"
   },
   {
    "duration": 457,
    "start_time": "2022-11-22T16:27:43.003Z"
   },
   {
    "duration": 308,
    "start_time": "2022-11-22T16:27:43.465Z"
   },
   {
    "duration": 221,
    "start_time": "2022-11-22T16:27:43.775Z"
   },
   {
    "duration": 12,
    "start_time": "2022-11-22T16:27:43.998Z"
   },
   {
    "duration": 1510,
    "start_time": "2022-11-22T16:27:44.012Z"
   },
   {
    "duration": 7,
    "start_time": "2022-11-22T16:27:45.524Z"
   },
   {
    "duration": 338,
    "start_time": "2022-11-22T16:27:45.533Z"
   },
   {
    "duration": 10,
    "start_time": "2022-11-22T16:27:45.872Z"
   },
   {
    "duration": 5,
    "start_time": "2022-11-22T16:27:45.884Z"
   },
   {
    "duration": 15,
    "start_time": "2022-11-22T16:27:45.891Z"
   },
   {
    "duration": 360,
    "start_time": "2022-11-22T16:27:45.908Z"
   },
   {
    "duration": 15,
    "start_time": "2022-11-22T16:27:46.270Z"
   },
   {
    "duration": 335,
    "start_time": "2022-11-22T16:27:46.287Z"
   },
   {
    "duration": 3,
    "start_time": "2022-11-22T16:27:46.624Z"
   },
   {
    "duration": 25,
    "start_time": "2022-11-22T16:27:46.628Z"
   },
   {
    "duration": 151,
    "start_time": "2022-11-22T16:27:46.655Z"
   },
   {
    "duration": 163,
    "start_time": "2022-11-22T16:27:46.808Z"
   },
   {
    "duration": 169,
    "start_time": "2022-11-22T16:27:46.974Z"
   },
   {
    "duration": 172,
    "start_time": "2022-11-22T16:27:47.145Z"
   },
   {
    "duration": 245,
    "start_time": "2022-11-22T16:27:47.319Z"
   },
   {
    "duration": 130,
    "start_time": "2022-11-22T16:27:47.566Z"
   },
   {
    "duration": 13,
    "start_time": "2022-11-22T16:27:47.698Z"
   },
   {
    "duration": 330,
    "start_time": "2022-11-22T16:27:47.713Z"
   },
   {
    "duration": 19,
    "start_time": "2022-11-22T16:27:48.045Z"
   },
   {
    "duration": 360,
    "start_time": "2022-11-22T16:27:48.065Z"
   },
   {
    "duration": 15,
    "start_time": "2022-11-22T16:27:48.426Z"
   },
   {
    "duration": 287,
    "start_time": "2022-11-22T16:27:48.453Z"
   },
   {
    "duration": 22,
    "start_time": "2022-11-22T16:27:48.742Z"
   },
   {
    "duration": 318,
    "start_time": "2022-11-22T16:27:48.766Z"
   },
   {
    "duration": 375,
    "start_time": "2022-11-22T16:27:49.086Z"
   },
   {
    "duration": 291,
    "start_time": "2022-11-22T16:27:49.463Z"
   },
   {
    "duration": 289,
    "start_time": "2022-11-22T16:27:49.756Z"
   },
   {
    "duration": 307,
    "start_time": "2022-11-22T16:27:50.047Z"
   },
   {
    "duration": 278,
    "start_time": "2022-11-22T16:27:50.356Z"
   },
   {
    "duration": 306,
    "start_time": "2022-11-22T16:27:50.635Z"
   },
   {
    "duration": 18,
    "start_time": "2022-11-22T16:27:50.944Z"
   },
   {
    "duration": 148,
    "start_time": "2022-11-22T16:27:50.964Z"
   },
   {
    "duration": 227,
    "start_time": "2022-11-22T16:27:51.114Z"
   },
   {
    "duration": 2937,
    "start_time": "2022-11-22T16:27:51.343Z"
   },
   {
    "duration": 12,
    "start_time": "2022-11-22T16:28:53.453Z"
   },
   {
    "duration": 13,
    "start_time": "2022-11-22T16:39:22.714Z"
   },
   {
    "duration": 14,
    "start_time": "2022-11-22T16:39:29.540Z"
   },
   {
    "duration": 21,
    "start_time": "2022-11-22T16:39:36.976Z"
   },
   {
    "duration": 12,
    "start_time": "2022-11-22T16:39:46.075Z"
   },
   {
    "duration": 17,
    "start_time": "2022-11-22T16:46:55.987Z"
   },
   {
    "duration": 57,
    "start_time": "2022-11-22T19:52:40.798Z"
   },
   {
    "duration": 1463,
    "start_time": "2022-11-22T19:52:47.620Z"
   },
   {
    "duration": 203,
    "start_time": "2022-11-22T19:52:49.090Z"
   },
   {
    "duration": 50,
    "start_time": "2022-11-22T19:52:49.296Z"
   },
   {
    "duration": 21,
    "start_time": "2022-11-22T19:52:49.350Z"
   },
   {
    "duration": 12,
    "start_time": "2022-11-22T19:52:49.373Z"
   },
   {
    "duration": 1067,
    "start_time": "2022-11-22T19:52:49.387Z"
   },
   {
    "duration": 6,
    "start_time": "2022-11-22T19:52:50.457Z"
   },
   {
    "duration": 18,
    "start_time": "2022-11-22T19:52:50.464Z"
   },
   {
    "duration": 12,
    "start_time": "2022-11-22T19:52:50.484Z"
   },
   {
    "duration": 7,
    "start_time": "2022-11-22T19:52:50.499Z"
   },
   {
    "duration": 54,
    "start_time": "2022-11-22T19:52:50.508Z"
   },
   {
    "duration": 16,
    "start_time": "2022-11-22T19:52:50.564Z"
   },
   {
    "duration": 11,
    "start_time": "2022-11-22T19:52:50.582Z"
   },
   {
    "duration": 17,
    "start_time": "2022-11-22T19:52:50.594Z"
   },
   {
    "duration": 41,
    "start_time": "2022-11-22T19:52:50.613Z"
   },
   {
    "duration": 22,
    "start_time": "2022-11-22T19:52:50.656Z"
   },
   {
    "duration": 17,
    "start_time": "2022-11-22T19:52:50.680Z"
   },
   {
    "duration": 10,
    "start_time": "2022-11-22T19:52:50.699Z"
   },
   {
    "duration": 6,
    "start_time": "2022-11-22T19:52:50.711Z"
   },
   {
    "duration": 202,
    "start_time": "2022-11-22T19:52:50.719Z"
   },
   {
    "duration": 36,
    "start_time": "2022-11-22T19:52:50.924Z"
   },
   {
    "duration": 17,
    "start_time": "2022-11-22T19:52:50.964Z"
   },
   {
    "duration": 10,
    "start_time": "2022-11-22T19:52:50.984Z"
   },
   {
    "duration": 28,
    "start_time": "2022-11-22T19:52:50.996Z"
   },
   {
    "duration": 27,
    "start_time": "2022-11-22T19:52:51.027Z"
   },
   {
    "duration": 27,
    "start_time": "2022-11-22T19:52:51.056Z"
   },
   {
    "duration": 433,
    "start_time": "2022-11-22T19:52:51.085Z"
   },
   {
    "duration": 312,
    "start_time": "2022-11-22T19:52:51.524Z"
   },
   {
    "duration": 222,
    "start_time": "2022-11-22T19:52:51.846Z"
   },
   {
    "duration": 10,
    "start_time": "2022-11-22T19:52:52.070Z"
   },
   {
    "duration": 1506,
    "start_time": "2022-11-22T19:52:52.081Z"
   },
   {
    "duration": 9,
    "start_time": "2022-11-22T19:52:53.589Z"
   },
   {
    "duration": 387,
    "start_time": "2022-11-22T19:52:53.599Z"
   },
   {
    "duration": 9,
    "start_time": "2022-11-22T19:52:53.988Z"
   },
   {
    "duration": 5,
    "start_time": "2022-11-22T19:52:54.000Z"
   },
   {
    "duration": 15,
    "start_time": "2022-11-22T19:52:54.006Z"
   },
   {
    "duration": 384,
    "start_time": "2022-11-22T19:52:54.023Z"
   },
   {
    "duration": 14,
    "start_time": "2022-11-22T19:52:54.409Z"
   },
   {
    "duration": 366,
    "start_time": "2022-11-22T19:52:54.425Z"
   },
   {
    "duration": 3,
    "start_time": "2022-11-22T19:52:54.792Z"
   },
   {
    "duration": 17,
    "start_time": "2022-11-22T19:52:54.796Z"
   },
   {
    "duration": 172,
    "start_time": "2022-11-22T19:52:54.814Z"
   },
   {
    "duration": 167,
    "start_time": "2022-11-22T19:52:54.988Z"
   },
   {
    "duration": 156,
    "start_time": "2022-11-22T19:52:55.157Z"
   },
   {
    "duration": 184,
    "start_time": "2022-11-22T19:52:55.315Z"
   },
   {
    "duration": 269,
    "start_time": "2022-11-22T19:52:55.501Z"
   },
   {
    "duration": 156,
    "start_time": "2022-11-22T19:52:55.771Z"
   },
   {
    "duration": 16,
    "start_time": "2022-11-22T19:52:55.937Z"
   },
   {
    "duration": 346,
    "start_time": "2022-11-22T19:52:55.955Z"
   },
   {
    "duration": 14,
    "start_time": "2022-11-22T19:52:56.303Z"
   },
   {
    "duration": 337,
    "start_time": "2022-11-22T19:52:56.319Z"
   },
   {
    "duration": 13,
    "start_time": "2022-11-22T19:52:56.658Z"
   },
   {
    "duration": 354,
    "start_time": "2022-11-22T19:52:56.673Z"
   },
   {
    "duration": 26,
    "start_time": "2022-11-22T19:52:57.029Z"
   },
   {
    "duration": 307,
    "start_time": "2022-11-22T19:52:57.057Z"
   },
   {
    "duration": 301,
    "start_time": "2022-11-22T19:52:57.366Z"
   },
   {
    "duration": 299,
    "start_time": "2022-11-22T19:52:57.669Z"
   },
   {
    "duration": 360,
    "start_time": "2022-11-22T19:52:57.970Z"
   },
   {
    "duration": 311,
    "start_time": "2022-11-22T19:52:58.332Z"
   },
   {
    "duration": 318,
    "start_time": "2022-11-22T19:52:58.645Z"
   },
   {
    "duration": 386,
    "start_time": "2022-11-22T19:52:58.965Z"
   },
   {
    "duration": 11,
    "start_time": "2022-11-22T19:52:59.353Z"
   },
   {
    "duration": 122,
    "start_time": "2022-11-22T19:52:59.366Z"
   },
   {
    "duration": 270,
    "start_time": "2022-11-22T19:52:59.489Z"
   },
   {
    "duration": 3046,
    "start_time": "2022-11-22T19:52:59.761Z"
   },
   {
    "duration": 55,
    "start_time": "2022-11-27T19:44:31.017Z"
   },
   {
    "duration": 46,
    "start_time": "2022-11-29T18:50:10.780Z"
   },
   {
    "duration": 1315,
    "start_time": "2022-11-29T18:50:20.551Z"
   },
   {
    "duration": 174,
    "start_time": "2022-11-29T18:50:21.867Z"
   },
   {
    "duration": 30,
    "start_time": "2022-11-29T18:50:22.043Z"
   },
   {
    "duration": 18,
    "start_time": "2022-11-29T18:50:22.075Z"
   },
   {
    "duration": 5,
    "start_time": "2022-11-29T18:50:22.095Z"
   },
   {
    "duration": 1071,
    "start_time": "2022-11-29T18:50:22.102Z"
   },
   {
    "duration": 4,
    "start_time": "2022-11-29T18:50:23.174Z"
   },
   {
    "duration": 14,
    "start_time": "2022-11-29T18:50:23.180Z"
   },
   {
    "duration": 12,
    "start_time": "2022-11-29T18:50:23.196Z"
   },
   {
    "duration": 32,
    "start_time": "2022-11-29T18:50:23.211Z"
   },
   {
    "duration": 15,
    "start_time": "2022-11-29T18:50:23.245Z"
   },
   {
    "duration": 17,
    "start_time": "2022-11-29T18:50:23.261Z"
   },
   {
    "duration": 10,
    "start_time": "2022-11-29T18:50:23.279Z"
   },
   {
    "duration": 49,
    "start_time": "2022-11-29T18:50:23.290Z"
   },
   {
    "duration": 13,
    "start_time": "2022-11-29T18:50:23.341Z"
   },
   {
    "duration": 12,
    "start_time": "2022-11-29T18:50:23.356Z"
   },
   {
    "duration": 17,
    "start_time": "2022-11-29T18:50:23.370Z"
   },
   {
    "duration": 12,
    "start_time": "2022-11-29T18:50:23.389Z"
   },
   {
    "duration": 38,
    "start_time": "2022-11-29T18:50:23.403Z"
   },
   {
    "duration": 164,
    "start_time": "2022-11-29T18:50:23.443Z"
   },
   {
    "duration": 16,
    "start_time": "2022-11-29T18:50:23.609Z"
   },
   {
    "duration": 3,
    "start_time": "2022-11-29T18:50:23.638Z"
   },
   {
    "duration": 5,
    "start_time": "2022-11-29T18:50:23.643Z"
   },
   {
    "duration": 15,
    "start_time": "2022-11-29T18:50:23.650Z"
   },
   {
    "duration": 6,
    "start_time": "2022-11-29T18:50:23.667Z"
   },
   {
    "duration": 16,
    "start_time": "2022-11-29T18:50:23.675Z"
   },
   {
    "duration": 434,
    "start_time": "2022-11-29T18:50:23.693Z"
   },
   {
    "duration": 301,
    "start_time": "2022-11-29T18:50:24.136Z"
   },
   {
    "duration": 220,
    "start_time": "2022-11-29T18:50:24.439Z"
   },
   {
    "duration": 11,
    "start_time": "2022-11-29T18:50:24.660Z"
   },
   {
    "duration": 1485,
    "start_time": "2022-11-29T18:50:24.673Z"
   },
   {
    "duration": 8,
    "start_time": "2022-11-29T18:50:26.159Z"
   },
   {
    "duration": 310,
    "start_time": "2022-11-29T18:50:26.168Z"
   },
   {
    "duration": 9,
    "start_time": "2022-11-29T18:50:26.480Z"
   },
   {
    "duration": 4,
    "start_time": "2022-11-29T18:50:26.490Z"
   },
   {
    "duration": 16,
    "start_time": "2022-11-29T18:50:26.495Z"
   },
   {
    "duration": 335,
    "start_time": "2022-11-29T18:50:26.512Z"
   },
   {
    "duration": 14,
    "start_time": "2022-11-29T18:50:26.849Z"
   },
   {
    "duration": 320,
    "start_time": "2022-11-29T18:50:26.865Z"
   },
   {
    "duration": 2,
    "start_time": "2022-11-29T18:50:27.187Z"
   },
   {
    "duration": 18,
    "start_time": "2022-11-29T18:50:27.191Z"
   },
   {
    "duration": 159,
    "start_time": "2022-11-29T18:50:27.210Z"
   },
   {
    "duration": 152,
    "start_time": "2022-11-29T18:50:27.370Z"
   },
   {
    "duration": 175,
    "start_time": "2022-11-29T18:50:27.524Z"
   },
   {
    "duration": 165,
    "start_time": "2022-11-29T18:50:27.707Z"
   },
   {
    "duration": 241,
    "start_time": "2022-11-29T18:50:27.874Z"
   },
   {
    "duration": 124,
    "start_time": "2022-11-29T18:50:28.117Z"
   },
   {
    "duration": 12,
    "start_time": "2022-11-29T18:50:28.243Z"
   },
   {
    "duration": 328,
    "start_time": "2022-11-29T18:50:28.257Z"
   },
   {
    "duration": 14,
    "start_time": "2022-11-29T18:50:28.586Z"
   },
   {
    "duration": 376,
    "start_time": "2022-11-29T18:50:28.602Z"
   },
   {
    "duration": 18,
    "start_time": "2022-11-29T18:50:28.980Z"
   },
   {
    "duration": 329,
    "start_time": "2022-11-29T18:50:29.000Z"
   },
   {
    "duration": 19,
    "start_time": "2022-11-29T18:50:29.330Z"
   },
   {
    "duration": 291,
    "start_time": "2022-11-29T18:50:29.350Z"
   },
   {
    "duration": 288,
    "start_time": "2022-11-29T18:50:29.643Z"
   },
   {
    "duration": 280,
    "start_time": "2022-11-29T18:50:29.937Z"
   },
   {
    "duration": 293,
    "start_time": "2022-11-29T18:50:30.219Z"
   },
   {
    "duration": 307,
    "start_time": "2022-11-29T18:50:30.514Z"
   },
   {
    "duration": 287,
    "start_time": "2022-11-29T18:50:30.822Z"
   },
   {
    "duration": 302,
    "start_time": "2022-11-29T18:50:31.111Z"
   },
   {
    "duration": 26,
    "start_time": "2022-11-29T18:50:31.415Z"
   },
   {
    "duration": 137,
    "start_time": "2022-11-29T18:50:31.443Z"
   },
   {
    "duration": 244,
    "start_time": "2022-11-29T18:50:31.582Z"
   },
   {
    "duration": 2801,
    "start_time": "2022-11-29T18:50:31.828Z"
   },
   {
    "duration": 1365,
    "start_time": "2023-08-25T20:43:09.379Z"
   },
   {
    "duration": 101,
    "start_time": "2023-08-25T20:43:10.746Z"
   },
   {
    "duration": 34,
    "start_time": "2023-08-25T20:43:13.547Z"
   },
   {
    "duration": 1201,
    "start_time": "2023-08-25T20:43:21.051Z"
   },
   {
    "duration": 56,
    "start_time": "2023-08-25T20:43:22.254Z"
   },
   {
    "duration": 35,
    "start_time": "2023-08-25T20:43:22.312Z"
   },
   {
    "duration": 28,
    "start_time": "2023-08-25T20:43:22.349Z"
   },
   {
    "duration": 32,
    "start_time": "2023-08-25T20:43:22.379Z"
   },
   {
    "duration": 1066,
    "start_time": "2023-08-25T20:43:22.412Z"
   },
   {
    "duration": 5,
    "start_time": "2023-08-25T20:43:23.480Z"
   },
   {
    "duration": 57,
    "start_time": "2023-08-25T20:43:23.487Z"
   },
   {
    "duration": 74,
    "start_time": "2023-08-25T20:43:23.546Z"
   },
   {
    "duration": 25,
    "start_time": "2023-08-25T20:43:23.623Z"
   },
   {
    "duration": 25,
    "start_time": "2023-08-25T20:43:23.649Z"
   },
   {
    "duration": 26,
    "start_time": "2023-08-25T20:43:23.676Z"
   },
   {
    "duration": 87,
    "start_time": "2023-08-25T20:43:23.704Z"
   },
   {
    "duration": 61,
    "start_time": "2023-08-25T20:43:23.793Z"
   },
   {
    "duration": 50,
    "start_time": "2023-08-25T20:43:23.856Z"
   },
   {
    "duration": 31,
    "start_time": "2023-08-25T20:43:23.908Z"
   },
   {
    "duration": 18,
    "start_time": "2023-08-25T20:43:23.941Z"
   },
   {
    "duration": 14,
    "start_time": "2023-08-25T20:43:23.960Z"
   },
   {
    "duration": 6,
    "start_time": "2023-08-25T20:43:23.977Z"
   },
   {
    "duration": 283,
    "start_time": "2023-08-25T20:43:23.985Z"
   },
   {
    "duration": 23,
    "start_time": "2023-08-25T20:43:24.271Z"
   },
   {
    "duration": 28,
    "start_time": "2023-08-25T20:43:24.296Z"
   },
   {
    "duration": 5,
    "start_time": "2023-08-25T20:43:24.326Z"
   },
   {
    "duration": 20,
    "start_time": "2023-08-25T20:43:24.332Z"
   },
   {
    "duration": 10,
    "start_time": "2023-08-25T20:43:24.354Z"
   },
   {
    "duration": 18,
    "start_time": "2023-08-25T20:43:24.366Z"
   },
   {
    "duration": 480,
    "start_time": "2023-08-25T20:43:24.385Z"
   },
   {
    "duration": 296,
    "start_time": "2023-08-25T20:43:24.869Z"
   },
   {
    "duration": 225,
    "start_time": "2023-08-25T20:43:25.167Z"
   },
   {
    "duration": 13,
    "start_time": "2023-08-25T20:43:25.394Z"
   },
   {
    "duration": 1610,
    "start_time": "2023-08-25T20:43:25.409Z"
   },
   {
    "duration": 9,
    "start_time": "2023-08-25T20:43:27.020Z"
   },
   {
    "duration": 343,
    "start_time": "2023-08-25T20:43:27.031Z"
   },
   {
    "duration": 9,
    "start_time": "2023-08-25T20:43:27.376Z"
   },
   {
    "duration": 7,
    "start_time": "2023-08-25T20:43:27.387Z"
   },
   {
    "duration": 36,
    "start_time": "2023-08-25T20:43:27.395Z"
   },
   {
    "duration": 378,
    "start_time": "2023-08-25T20:43:27.433Z"
   },
   {
    "duration": 23,
    "start_time": "2023-08-25T20:43:27.813Z"
   },
   {
    "duration": 347,
    "start_time": "2023-08-25T20:43:27.837Z"
   },
   {
    "duration": 4,
    "start_time": "2023-08-25T20:43:28.187Z"
   },
   {
    "duration": 31,
    "start_time": "2023-08-25T20:43:28.193Z"
   },
   {
    "duration": 180,
    "start_time": "2023-08-25T20:43:28.226Z"
   },
   {
    "duration": 161,
    "start_time": "2023-08-25T20:43:28.407Z"
   },
   {
    "duration": 186,
    "start_time": "2023-08-25T20:43:28.569Z"
   },
   {
    "duration": 191,
    "start_time": "2023-08-25T20:43:28.757Z"
   },
   {
    "duration": 254,
    "start_time": "2023-08-25T20:43:28.950Z"
   },
   {
    "duration": 156,
    "start_time": "2023-08-25T20:43:29.206Z"
   },
   {
    "duration": 13,
    "start_time": "2023-08-25T20:43:29.363Z"
   },
   {
    "duration": 363,
    "start_time": "2023-08-25T20:43:29.378Z"
   },
   {
    "duration": 15,
    "start_time": "2023-08-25T20:43:29.743Z"
   },
   {
    "duration": 377,
    "start_time": "2023-08-25T20:43:29.760Z"
   },
   {
    "duration": 23,
    "start_time": "2023-08-25T20:43:30.140Z"
   },
   {
    "duration": 418,
    "start_time": "2023-08-25T20:43:30.165Z"
   },
   {
    "duration": 39,
    "start_time": "2023-08-25T20:43:30.586Z"
   },
   {
    "duration": 322,
    "start_time": "2023-08-25T20:43:30.628Z"
   },
   {
    "duration": 361,
    "start_time": "2023-08-25T20:43:30.952Z"
   },
   {
    "duration": 332,
    "start_time": "2023-08-25T20:43:31.314Z"
   },
   {
    "duration": 345,
    "start_time": "2023-08-25T20:43:31.647Z"
   },
   {
    "duration": 360,
    "start_time": "2023-08-25T20:43:31.994Z"
   },
   {
    "duration": 370,
    "start_time": "2023-08-25T20:43:32.356Z"
   },
   {
    "duration": 307,
    "start_time": "2023-08-25T20:43:32.728Z"
   },
   {
    "duration": 13,
    "start_time": "2023-08-25T20:43:33.037Z"
   },
   {
    "duration": 158,
    "start_time": "2023-08-25T20:43:33.052Z"
   },
   {
    "duration": 258,
    "start_time": "2023-08-25T20:43:33.212Z"
   },
   {
    "duration": 2981,
    "start_time": "2023-08-25T20:43:33.472Z"
   },
   {
    "duration": 5,
    "start_time": "2023-08-25T20:44:43.168Z"
   },
   {
    "duration": 152,
    "start_time": "2023-08-25T20:44:45.642Z"
   },
   {
    "duration": 117,
    "start_time": "2023-08-25T20:45:32.307Z"
   },
   {
    "duration": 5,
    "start_time": "2023-08-25T20:45:37.320Z"
   },
   {
    "duration": 278,
    "start_time": "2023-08-25T20:45:39.328Z"
   },
   {
    "duration": 6,
    "start_time": "2023-08-25T20:45:55.875Z"
   },
   {
    "duration": 135,
    "start_time": "2023-08-25T20:45:56.317Z"
   },
   {
    "duration": 48,
    "start_time": "2023-08-25T20:46:15.611Z"
   },
   {
    "duration": 5,
    "start_time": "2023-08-25T20:46:22.854Z"
   },
   {
    "duration": 135,
    "start_time": "2023-08-25T20:46:23.098Z"
   },
   {
    "duration": 95,
    "start_time": "2023-08-25T20:48:20.977Z"
   },
   {
    "duration": 4,
    "start_time": "2023-08-25T20:48:25.923Z"
   },
   {
    "duration": 49,
    "start_time": "2023-08-25T20:48:26.148Z"
   },
   {
    "duration": 27,
    "start_time": "2023-08-25T20:48:28.503Z"
   },
   {
    "duration": 9,
    "start_time": "2023-08-25T20:48:40.837Z"
   },
   {
    "duration": 15,
    "start_time": "2023-08-25T20:48:48.021Z"
   },
   {
    "duration": 13,
    "start_time": "2023-08-25T20:49:51.238Z"
   },
   {
    "duration": 1267,
    "start_time": "2023-08-25T20:49:53.059Z"
   },
   {
    "duration": 4,
    "start_time": "2023-08-25T20:50:03.640Z"
   },
   {
    "duration": 21,
    "start_time": "2023-08-25T20:50:11.933Z"
   },
   {
    "duration": 16,
    "start_time": "2023-08-25T20:50:15.216Z"
   },
   {
    "duration": 4,
    "start_time": "2023-08-25T20:50:38.396Z"
   },
   {
    "duration": 15,
    "start_time": "2023-08-25T20:50:50.569Z"
   },
   {
    "duration": 5,
    "start_time": "2023-08-25T20:50:54.435Z"
   },
   {
    "duration": 8,
    "start_time": "2023-08-25T20:50:57.091Z"
   },
   {
    "duration": 7,
    "start_time": "2023-08-25T20:51:23.739Z"
   },
   {
    "duration": 7,
    "start_time": "2023-08-25T20:51:30.978Z"
   },
   {
    "duration": 7,
    "start_time": "2023-08-25T20:51:34.241Z"
   },
   {
    "duration": 7,
    "start_time": "2023-08-25T20:51:34.635Z"
   },
   {
    "duration": 5,
    "start_time": "2023-08-25T20:51:56.718Z"
   },
   {
    "duration": 15,
    "start_time": "2023-08-25T20:51:59.356Z"
   },
   {
    "duration": 1453,
    "start_time": "2023-08-25T20:53:23.314Z"
   },
   {
    "duration": 306,
    "start_time": "2023-08-25T20:54:56.765Z"
   },
   {
    "duration": 290,
    "start_time": "2023-08-25T20:55:03.537Z"
   },
   {
    "duration": 47,
    "start_time": "2023-08-27T13:19:52.374Z"
   },
   {
    "duration": 1526,
    "start_time": "2023-08-27T13:20:00.478Z"
   },
   {
    "duration": 100,
    "start_time": "2023-08-27T13:20:02.006Z"
   },
   {
    "duration": 32,
    "start_time": "2023-08-27T13:20:02.107Z"
   },
   {
    "duration": 167,
    "start_time": "2023-08-27T13:20:02.142Z"
   },
   {
    "duration": 102,
    "start_time": "2023-08-27T13:20:02.311Z"
   },
   {
    "duration": 1157,
    "start_time": "2023-08-27T13:20:02.415Z"
   },
   {
    "duration": 5,
    "start_time": "2023-08-27T13:20:03.574Z"
   },
   {
    "duration": 17,
    "start_time": "2023-08-27T13:20:03.581Z"
   },
   {
    "duration": 14,
    "start_time": "2023-08-27T13:20:03.600Z"
   },
   {
    "duration": 22,
    "start_time": "2023-08-27T13:20:03.617Z"
   },
   {
    "duration": 18,
    "start_time": "2023-08-27T13:20:03.640Z"
   },
   {
    "duration": 31,
    "start_time": "2023-08-27T13:20:03.659Z"
   },
   {
    "duration": 28,
    "start_time": "2023-08-27T13:20:03.692Z"
   },
   {
    "duration": 11,
    "start_time": "2023-08-27T13:20:03.722Z"
   },
   {
    "duration": 31,
    "start_time": "2023-08-27T13:20:03.734Z"
   },
   {
    "duration": 19,
    "start_time": "2023-08-27T13:20:03.767Z"
   },
   {
    "duration": 36,
    "start_time": "2023-08-27T13:20:03.787Z"
   },
   {
    "duration": 37,
    "start_time": "2023-08-27T13:20:03.825Z"
   },
   {
    "duration": 19,
    "start_time": "2023-08-27T13:20:03.864Z"
   },
   {
    "duration": 12,
    "start_time": "2023-08-27T13:20:03.884Z"
   },
   {
    "duration": 186,
    "start_time": "2023-08-27T13:20:03.897Z"
   },
   {
    "duration": 13,
    "start_time": "2023-08-27T13:20:04.084Z"
   },
   {
    "duration": 43,
    "start_time": "2023-08-27T13:20:04.099Z"
   },
   {
    "duration": 24,
    "start_time": "2023-08-27T13:20:04.144Z"
   },
   {
    "duration": 26,
    "start_time": "2023-08-27T13:20:04.170Z"
   },
   {
    "duration": 11,
    "start_time": "2023-08-27T13:20:04.198Z"
   },
   {
    "duration": 29,
    "start_time": "2023-08-27T13:20:04.211Z"
   },
   {
    "duration": 470,
    "start_time": "2023-08-27T13:20:04.245Z"
   },
   {
    "duration": 276,
    "start_time": "2023-08-27T13:20:04.716Z"
   },
   {
    "duration": 212,
    "start_time": "2023-08-27T13:20:04.993Z"
   },
   {
    "duration": 11,
    "start_time": "2023-08-27T13:20:05.207Z"
   },
   {
    "duration": 1434,
    "start_time": "2023-08-27T13:20:05.219Z"
   },
   {
    "duration": 355,
    "start_time": "2023-08-27T13:20:06.655Z"
   },
   {
    "duration": 10,
    "start_time": "2023-08-27T13:20:07.011Z"
   },
   {
    "duration": 8,
    "start_time": "2023-08-27T13:20:07.023Z"
   },
   {
    "duration": 31,
    "start_time": "2023-08-27T13:20:07.033Z"
   },
   {
    "duration": 321,
    "start_time": "2023-08-27T13:20:07.066Z"
   },
   {
    "duration": 13,
    "start_time": "2023-08-27T13:20:07.389Z"
   },
   {
    "duration": 365,
    "start_time": "2023-08-27T13:20:07.403Z"
   },
   {
    "duration": 3,
    "start_time": "2023-08-27T13:20:07.771Z"
   },
   {
    "duration": 16,
    "start_time": "2023-08-27T13:20:07.776Z"
   },
   {
    "duration": 157,
    "start_time": "2023-08-27T13:20:07.793Z"
   },
   {
    "duration": 169,
    "start_time": "2023-08-27T13:20:07.952Z"
   },
   {
    "duration": 199,
    "start_time": "2023-08-27T13:20:08.122Z"
   },
   {
    "duration": 152,
    "start_time": "2023-08-27T13:20:08.323Z"
   },
   {
    "duration": 233,
    "start_time": "2023-08-27T13:20:08.477Z"
   },
   {
    "duration": 159,
    "start_time": "2023-08-27T13:20:08.711Z"
   },
   {
    "duration": 13,
    "start_time": "2023-08-27T13:20:08.872Z"
   },
   {
    "duration": 343,
    "start_time": "2023-08-27T13:20:08.886Z"
   },
   {
    "duration": 21,
    "start_time": "2023-08-27T13:20:09.233Z"
   },
   {
    "duration": 400,
    "start_time": "2023-08-27T13:20:09.257Z"
   },
   {
    "duration": 14,
    "start_time": "2023-08-27T13:20:09.659Z"
   },
   {
    "duration": 362,
    "start_time": "2023-08-27T13:20:09.675Z"
   },
   {
    "duration": 21,
    "start_time": "2023-08-27T13:20:10.040Z"
   },
   {
    "duration": 362,
    "start_time": "2023-08-27T13:20:10.063Z"
   },
   {
    "duration": 296,
    "start_time": "2023-08-27T13:20:10.426Z"
   },
   {
    "duration": 315,
    "start_time": "2023-08-27T13:20:10.724Z"
   },
   {
    "duration": 334,
    "start_time": "2023-08-27T13:20:11.041Z"
   },
   {
    "duration": 359,
    "start_time": "2023-08-27T13:20:11.377Z"
   },
   {
    "duration": 405,
    "start_time": "2023-08-27T13:20:11.739Z"
   },
   {
    "duration": 288,
    "start_time": "2023-08-27T13:20:12.146Z"
   },
   {
    "duration": 13,
    "start_time": "2023-08-27T13:20:12.436Z"
   },
   {
    "duration": 38,
    "start_time": "2023-08-27T13:20:12.450Z"
   },
   {
    "duration": 253,
    "start_time": "2023-08-27T13:20:12.489Z"
   },
   {
    "duration": 2936,
    "start_time": "2023-08-27T13:20:12.745Z"
   },
   {
    "duration": 215,
    "start_time": "2023-08-27T13:53:43.862Z"
   },
   {
    "duration": 206,
    "start_time": "2023-08-27T13:54:23.969Z"
   },
   {
    "duration": 169,
    "start_time": "2023-08-27T13:54:35.388Z"
   },
   {
    "duration": 135,
    "start_time": "2023-08-27T13:59:00.316Z"
   },
   {
    "duration": 12,
    "start_time": "2023-08-27T14:04:21.482Z"
   },
   {
    "duration": 9,
    "start_time": "2023-08-27T14:04:33.127Z"
   },
   {
    "duration": 1128,
    "start_time": "2023-08-27T14:04:44.861Z"
   },
   {
    "duration": 57,
    "start_time": "2023-08-27T14:04:45.991Z"
   },
   {
    "duration": 31,
    "start_time": "2023-08-27T14:04:46.050Z"
   },
   {
    "duration": 18,
    "start_time": "2023-08-27T14:04:46.083Z"
   },
   {
    "duration": 12,
    "start_time": "2023-08-27T14:04:46.103Z"
   },
   {
    "duration": 924,
    "start_time": "2023-08-27T14:04:46.117Z"
   },
   {
    "duration": 5,
    "start_time": "2023-08-27T14:04:47.042Z"
   },
   {
    "duration": 38,
    "start_time": "2023-08-27T14:04:47.048Z"
   },
   {
    "duration": 25,
    "start_time": "2023-08-27T14:04:47.087Z"
   },
   {
    "duration": 7,
    "start_time": "2023-08-27T14:04:47.115Z"
   },
   {
    "duration": 32,
    "start_time": "2023-08-27T14:04:47.123Z"
   },
   {
    "duration": 29,
    "start_time": "2023-08-27T14:04:47.156Z"
   },
   {
    "duration": 25,
    "start_time": "2023-08-27T14:04:47.186Z"
   },
   {
    "duration": 15,
    "start_time": "2023-08-27T14:04:47.213Z"
   },
   {
    "duration": 28,
    "start_time": "2023-08-27T14:04:47.230Z"
   },
   {
    "duration": 21,
    "start_time": "2023-08-27T14:04:47.260Z"
   },
   {
    "duration": 20,
    "start_time": "2023-08-27T14:04:47.282Z"
   },
   {
    "duration": 23,
    "start_time": "2023-08-27T14:04:47.304Z"
   },
   {
    "duration": 10,
    "start_time": "2023-08-27T14:04:47.329Z"
   },
   {
    "duration": 4,
    "start_time": "2023-08-27T14:04:47.341Z"
   },
   {
    "duration": 133,
    "start_time": "2023-08-27T14:04:47.347Z"
   },
   {
    "duration": 13,
    "start_time": "2023-08-27T14:04:47.482Z"
   },
   {
    "duration": 6,
    "start_time": "2023-08-27T14:04:47.497Z"
   },
   {
    "duration": 12,
    "start_time": "2023-08-27T14:04:47.504Z"
   },
   {
    "duration": 27,
    "start_time": "2023-08-27T14:04:47.518Z"
   },
   {
    "duration": 7,
    "start_time": "2023-08-27T14:04:47.547Z"
   },
   {
    "duration": 17,
    "start_time": "2023-08-27T14:04:47.555Z"
   },
   {
    "duration": 409,
    "start_time": "2023-08-27T14:04:47.577Z"
   },
   {
    "duration": 269,
    "start_time": "2023-08-27T14:04:47.988Z"
   },
   {
    "duration": 195,
    "start_time": "2023-08-27T14:04:48.259Z"
   },
   {
    "duration": 10,
    "start_time": "2023-08-27T14:04:48.456Z"
   },
   {
    "duration": 1344,
    "start_time": "2023-08-27T14:04:48.467Z"
   },
   {
    "duration": 290,
    "start_time": "2023-08-27T14:04:49.812Z"
   },
   {
    "duration": 9,
    "start_time": "2023-08-27T14:04:50.103Z"
   },
   {
    "duration": 20,
    "start_time": "2023-08-27T14:04:50.114Z"
   },
   {
    "duration": 26,
    "start_time": "2023-08-27T14:04:50.136Z"
   },
   {
    "duration": 306,
    "start_time": "2023-08-27T14:04:50.164Z"
   },
   {
    "duration": 14,
    "start_time": "2023-08-27T14:04:50.472Z"
   },
   {
    "duration": 307,
    "start_time": "2023-08-27T14:04:50.487Z"
   },
   {
    "duration": 2,
    "start_time": "2023-08-27T14:04:50.796Z"
   },
   {
    "duration": 36,
    "start_time": "2023-08-27T14:04:50.800Z"
   },
   {
    "duration": 158,
    "start_time": "2023-08-27T14:04:50.837Z"
   },
   {
    "duration": 162,
    "start_time": "2023-08-27T14:04:50.997Z"
   },
   {
    "duration": 113,
    "start_time": "2023-08-27T14:04:51.160Z"
   },
   {
    "duration": 0,
    "start_time": "2023-08-27T14:04:51.275Z"
   },
   {
    "duration": 0,
    "start_time": "2023-08-27T14:04:51.276Z"
   },
   {
    "duration": 0,
    "start_time": "2023-08-27T14:04:51.277Z"
   },
   {
    "duration": 0,
    "start_time": "2023-08-27T14:04:51.279Z"
   },
   {
    "duration": 0,
    "start_time": "2023-08-27T14:04:51.280Z"
   },
   {
    "duration": 0,
    "start_time": "2023-08-27T14:04:51.281Z"
   },
   {
    "duration": 0,
    "start_time": "2023-08-27T14:04:51.282Z"
   },
   {
    "duration": 0,
    "start_time": "2023-08-27T14:04:51.283Z"
   },
   {
    "duration": 0,
    "start_time": "2023-08-27T14:04:51.284Z"
   },
   {
    "duration": 0,
    "start_time": "2023-08-27T14:04:51.286Z"
   },
   {
    "duration": 0,
    "start_time": "2023-08-27T14:04:51.286Z"
   },
   {
    "duration": 0,
    "start_time": "2023-08-27T14:04:51.288Z"
   },
   {
    "duration": 0,
    "start_time": "2023-08-27T14:04:51.288Z"
   },
   {
    "duration": 0,
    "start_time": "2023-08-27T14:04:51.290Z"
   },
   {
    "duration": 0,
    "start_time": "2023-08-27T14:04:51.291Z"
   },
   {
    "duration": 0,
    "start_time": "2023-08-27T14:04:51.292Z"
   },
   {
    "duration": 0,
    "start_time": "2023-08-27T14:04:51.293Z"
   },
   {
    "duration": 0,
    "start_time": "2023-08-27T14:04:51.294Z"
   },
   {
    "duration": 0,
    "start_time": "2023-08-27T14:04:51.334Z"
   },
   {
    "duration": 0,
    "start_time": "2023-08-27T14:04:51.336Z"
   },
   {
    "duration": 0,
    "start_time": "2023-08-27T14:04:51.337Z"
   },
   {
    "duration": 417,
    "start_time": "2023-08-27T14:05:54.705Z"
   },
   {
    "duration": 166,
    "start_time": "2023-08-27T14:06:23.313Z"
   },
   {
    "duration": 138,
    "start_time": "2023-08-27T14:07:08.671Z"
   },
   {
    "duration": 161,
    "start_time": "2023-08-27T14:16:49.591Z"
   },
   {
    "duration": 1255,
    "start_time": "2023-08-27T14:17:15.134Z"
   },
   {
    "duration": 150,
    "start_time": "2023-08-27T14:17:29.438Z"
   },
   {
    "duration": 143,
    "start_time": "2023-08-27T14:17:34.994Z"
   },
   {
    "duration": 1262,
    "start_time": "2023-08-27T14:17:43.877Z"
   },
   {
    "duration": 56,
    "start_time": "2023-08-27T14:17:45.141Z"
   },
   {
    "duration": 36,
    "start_time": "2023-08-27T14:17:45.199Z"
   },
   {
    "duration": 25,
    "start_time": "2023-08-27T14:17:45.238Z"
   },
   {
    "duration": 9,
    "start_time": "2023-08-27T14:17:45.265Z"
   },
   {
    "duration": 1017,
    "start_time": "2023-08-27T14:17:45.276Z"
   },
   {
    "duration": 5,
    "start_time": "2023-08-27T14:17:46.295Z"
   },
   {
    "duration": 33,
    "start_time": "2023-08-27T14:17:46.302Z"
   },
   {
    "duration": 14,
    "start_time": "2023-08-27T14:17:46.336Z"
   },
   {
    "duration": 5,
    "start_time": "2023-08-27T14:17:46.353Z"
   },
   {
    "duration": 13,
    "start_time": "2023-08-27T14:17:46.359Z"
   },
   {
    "duration": 5,
    "start_time": "2023-08-27T14:17:46.374Z"
   },
   {
    "duration": 16,
    "start_time": "2023-08-27T14:17:46.380Z"
   },
   {
    "duration": 40,
    "start_time": "2023-08-27T14:17:46.398Z"
   },
   {
    "duration": 17,
    "start_time": "2023-08-27T14:17:46.439Z"
   },
   {
    "duration": 13,
    "start_time": "2023-08-27T14:17:46.458Z"
   },
   {
    "duration": 11,
    "start_time": "2023-08-27T14:17:46.473Z"
   },
   {
    "duration": 52,
    "start_time": "2023-08-27T14:17:46.486Z"
   },
   {
    "duration": 11,
    "start_time": "2023-08-27T14:17:46.540Z"
   },
   {
    "duration": 5,
    "start_time": "2023-08-27T14:17:46.552Z"
   },
   {
    "duration": 148,
    "start_time": "2023-08-27T14:17:46.559Z"
   },
   {
    "duration": 26,
    "start_time": "2023-08-27T14:17:46.709Z"
   },
   {
    "duration": 4,
    "start_time": "2023-08-27T14:17:46.736Z"
   },
   {
    "duration": 6,
    "start_time": "2023-08-27T14:17:46.741Z"
   },
   {
    "duration": 26,
    "start_time": "2023-08-27T14:17:46.748Z"
   },
   {
    "duration": 24,
    "start_time": "2023-08-27T14:17:46.775Z"
   },
   {
    "duration": 27,
    "start_time": "2023-08-27T14:17:46.801Z"
   },
   {
    "duration": 413,
    "start_time": "2023-08-27T14:17:46.831Z"
   },
   {
    "duration": 282,
    "start_time": "2023-08-27T14:17:47.246Z"
   },
   {
    "duration": 204,
    "start_time": "2023-08-27T14:17:47.534Z"
   },
   {
    "duration": 12,
    "start_time": "2023-08-27T14:17:47.739Z"
   },
   {
    "duration": 1428,
    "start_time": "2023-08-27T14:17:47.753Z"
   },
   {
    "duration": 301,
    "start_time": "2023-08-27T14:17:49.183Z"
   },
   {
    "duration": 13,
    "start_time": "2023-08-27T14:17:49.486Z"
   },
   {
    "duration": 8,
    "start_time": "2023-08-27T14:17:49.501Z"
   },
   {
    "duration": 33,
    "start_time": "2023-08-27T14:17:49.511Z"
   },
   {
    "duration": 336,
    "start_time": "2023-08-27T14:17:49.546Z"
   },
   {
    "duration": 14,
    "start_time": "2023-08-27T14:17:49.884Z"
   },
   {
    "duration": 351,
    "start_time": "2023-08-27T14:17:49.900Z"
   },
   {
    "duration": 2,
    "start_time": "2023-08-27T14:17:50.253Z"
   },
   {
    "duration": 23,
    "start_time": "2023-08-27T14:17:50.257Z"
   },
   {
    "duration": 152,
    "start_time": "2023-08-27T14:17:50.282Z"
   },
   {
    "duration": 180,
    "start_time": "2023-08-27T14:17:50.436Z"
   },
   {
    "duration": 491,
    "start_time": "2023-08-27T14:17:50.617Z"
   },
   {
    "duration": 0,
    "start_time": "2023-08-27T14:17:51.110Z"
   },
   {
    "duration": 0,
    "start_time": "2023-08-27T14:17:51.112Z"
   },
   {
    "duration": 0,
    "start_time": "2023-08-27T14:17:51.114Z"
   },
   {
    "duration": 0,
    "start_time": "2023-08-27T14:17:51.116Z"
   },
   {
    "duration": 0,
    "start_time": "2023-08-27T14:17:51.117Z"
   },
   {
    "duration": 0,
    "start_time": "2023-08-27T14:17:51.119Z"
   },
   {
    "duration": 0,
    "start_time": "2023-08-27T14:17:51.121Z"
   },
   {
    "duration": 0,
    "start_time": "2023-08-27T14:17:51.122Z"
   },
   {
    "duration": 0,
    "start_time": "2023-08-27T14:17:51.123Z"
   },
   {
    "duration": 0,
    "start_time": "2023-08-27T14:17:51.125Z"
   },
   {
    "duration": 0,
    "start_time": "2023-08-27T14:17:51.126Z"
   },
   {
    "duration": 0,
    "start_time": "2023-08-27T14:17:51.127Z"
   },
   {
    "duration": 0,
    "start_time": "2023-08-27T14:17:51.128Z"
   },
   {
    "duration": 0,
    "start_time": "2023-08-27T14:17:51.129Z"
   },
   {
    "duration": 0,
    "start_time": "2023-08-27T14:17:51.131Z"
   },
   {
    "duration": 0,
    "start_time": "2023-08-27T14:17:51.132Z"
   },
   {
    "duration": 0,
    "start_time": "2023-08-27T14:17:51.133Z"
   },
   {
    "duration": 0,
    "start_time": "2023-08-27T14:17:51.134Z"
   },
   {
    "duration": 0,
    "start_time": "2023-08-27T14:17:51.135Z"
   },
   {
    "duration": 0,
    "start_time": "2023-08-27T14:17:51.136Z"
   },
   {
    "duration": 0,
    "start_time": "2023-08-27T14:17:51.137Z"
   },
   {
    "duration": 0,
    "start_time": "2023-08-27T14:17:51.138Z"
   },
   {
    "duration": 627,
    "start_time": "2023-08-27T14:18:19.026Z"
   },
   {
    "duration": 514,
    "start_time": "2023-08-27T14:19:20.213Z"
   },
   {
    "duration": 889,
    "start_time": "2023-08-27T14:19:57.719Z"
   },
   {
    "duration": 180,
    "start_time": "2023-08-27T14:20:24.928Z"
   },
   {
    "duration": 161,
    "start_time": "2023-08-27T14:20:50.865Z"
   },
   {
    "duration": 288,
    "start_time": "2023-08-27T14:22:32.117Z"
   },
   {
    "duration": 3539,
    "start_time": "2023-08-27T14:23:08.538Z"
   },
   {
    "duration": 162,
    "start_time": "2023-08-27T14:23:18.356Z"
   },
   {
    "duration": 1052,
    "start_time": "2023-08-27T14:23:33.727Z"
   },
   {
    "duration": 15,
    "start_time": "2023-08-27T14:24:05.688Z"
   },
   {
    "duration": 3,
    "start_time": "2023-08-27T14:24:58.465Z"
   },
   {
    "duration": 223,
    "start_time": "2023-08-27T14:25:06.400Z"
   },
   {
    "duration": 206,
    "start_time": "2023-08-27T14:25:14.879Z"
   },
   {
    "duration": 198,
    "start_time": "2023-08-27T14:25:28.610Z"
   },
   {
    "duration": 183,
    "start_time": "2023-08-27T14:25:55.433Z"
   },
   {
    "duration": 196,
    "start_time": "2023-08-27T14:26:18.468Z"
   },
   {
    "duration": 10,
    "start_time": "2023-08-27T14:27:00.352Z"
   },
   {
    "duration": 15,
    "start_time": "2023-08-27T14:27:04.032Z"
   },
   {
    "duration": 187,
    "start_time": "2023-08-27T14:27:29.282Z"
   },
   {
    "duration": 266,
    "start_time": "2023-08-27T14:28:53.368Z"
   },
   {
    "duration": 823,
    "start_time": "2023-08-27T14:29:34.633Z"
   },
   {
    "duration": 1014,
    "start_time": "2023-08-27T14:29:40.912Z"
   },
   {
    "duration": 174,
    "start_time": "2023-08-27T14:30:23.011Z"
   },
   {
    "duration": 638,
    "start_time": "2023-08-27T14:31:41.067Z"
   },
   {
    "duration": 254,
    "start_time": "2023-08-27T14:32:21.477Z"
   },
   {
    "duration": 152,
    "start_time": "2023-08-27T14:32:26.094Z"
   },
   {
    "duration": 773,
    "start_time": "2023-08-27T14:33:01.102Z"
   },
   {
    "duration": 147,
    "start_time": "2023-08-27T14:34:04.089Z"
   },
   {
    "duration": 242,
    "start_time": "2023-08-27T15:14:39.653Z"
   },
   {
    "duration": 207,
    "start_time": "2023-08-27T15:15:01.235Z"
   },
   {
    "duration": 187,
    "start_time": "2023-08-27T15:15:17.491Z"
   },
   {
    "duration": 170,
    "start_time": "2023-08-27T15:15:26.058Z"
   },
   {
    "duration": 531,
    "start_time": "2023-08-27T15:16:03.898Z"
   },
   {
    "duration": 277,
    "start_time": "2023-08-27T15:16:17.930Z"
   },
   {
    "duration": 200,
    "start_time": "2023-08-27T15:16:33.625Z"
   },
   {
    "duration": 216,
    "start_time": "2023-08-27T15:17:41.938Z"
   },
   {
    "duration": 206,
    "start_time": "2023-08-27T15:17:46.823Z"
   },
   {
    "duration": 190,
    "start_time": "2023-08-27T15:18:13.130Z"
   },
   {
    "duration": 12,
    "start_time": "2023-08-27T15:21:53.794Z"
   },
   {
    "duration": 434,
    "start_time": "2023-08-27T15:21:54.158Z"
   },
   {
    "duration": 13,
    "start_time": "2023-08-27T15:22:18.350Z"
   },
   {
    "duration": 284,
    "start_time": "2023-08-27T15:22:18.729Z"
   },
   {
    "duration": 21,
    "start_time": "2023-08-27T15:32:56.693Z"
   },
   {
    "duration": 222,
    "start_time": "2023-08-27T18:05:30.682Z"
   },
   {
    "duration": 2867,
    "start_time": "2023-08-27T18:05:48.195Z"
   }
  ],
  "kernelspec": {
   "display_name": "Python 3 (ipykernel)",
   "language": "python",
   "name": "python3"
  },
  "language_info": {
   "codemirror_mode": {
    "name": "ipython",
    "version": 3
   },
   "file_extension": ".py",
   "mimetype": "text/x-python",
   "name": "python",
   "nbconvert_exporter": "python",
   "pygments_lexer": "ipython3",
   "version": "3.9.5"
  },
  "toc": {
   "base_numbering": 1,
   "nav_menu": {},
   "number_sections": true,
   "sideBar": true,
   "skip_h1_title": true,
   "title_cell": "Table of Contents",
   "title_sidebar": "Contents",
   "toc_cell": false,
   "toc_position": {
    "height": "calc(100% - 180px)",
    "left": "10px",
    "top": "150px",
    "width": "297.188px"
   },
   "toc_section_display": true,
   "toc_window_display": false
  }
 },
 "nbformat": 4,
 "nbformat_minor": 2
}
