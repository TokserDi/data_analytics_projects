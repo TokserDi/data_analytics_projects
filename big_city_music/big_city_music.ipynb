{
 "cells": [
  {
   "cell_type": "markdown",
   "id": "3447c991",
   "metadata": {
    "deletable": false,
    "editable": false,
    "id": "c81daeeb"
   },
   "source": [
    "# Исследование надежности заемщиков\n"
   ]
  },
  {
   "cell_type": "markdown",
   "id": "846852e8",
   "metadata": {},
   "source": [
    "# Обзор данных"
   ]
  },
  {
   "cell_type": "markdown",
   "id": "fd5bb99d",
   "metadata": {
    "deletable": false,
    "editable": false,
    "id": "827c20bf"
   },
   "source": [
    "Во второй части проекта вы выполните шаги 3 и 4. Их вручную проверит ревьюер.\n",
    "Чтобы вам не пришлось писать код заново для шагов 1 и 2, мы добавили авторские решения в ячейки с кодом. \n",
    "\n"
   ]
  },
  {
   "cell_type": "markdown",
   "id": "ca96c0b5",
   "metadata": {
    "deletable": false,
    "editable": false,
    "id": "744d7639"
   },
   "source": [
    "## Откройте таблицу и изучите общую информацию о данных"
   ]
  },
  {
   "cell_type": "markdown",
   "id": "ef8e4eda",
   "metadata": {
    "deletable": false,
    "editable": false,
    "id": "e7a14c31"
   },
   "source": [
    "**Задание 1. Импортируйте библиотеку pandas. Считайте данные из csv-файла в датафрейм и сохраните в переменную `data`. Путь к файлу:**\n",
    "\n",
    "`/datasets/data.csv`"
   ]
  },
  {
   "cell_type": "code",
   "execution_count": 1,
   "id": "516739bc",
   "metadata": {
    "deletable": false,
    "id": "7bcf75c9"
   },
   "outputs": [],
   "source": [
    "import pandas as pd\n",
    "\n",
    "try:\n",
    "    data = pd.read_csv('/datasets/data.csv')\n",
    "except:\n",
    "    data = pd.read_csv('https://code.s3.yandex.net/datasets/data.csv')"
   ]
  },
  {
   "cell_type": "markdown",
   "id": "ff6b6828",
   "metadata": {},
   "source": [
    "### Произведем первичное исследование данных"
   ]
  },
  {
   "cell_type": "markdown",
   "id": "44e5285c",
   "metadata": {
    "deletable": false,
    "editable": false,
    "id": "b8038fe3"
   },
   "source": [
    "**Задание 2. Выведите первые 20 строчек датафрейма `data` на экран.**"
   ]
  },
  {
   "cell_type": "markdown",
   "id": "8f13da35",
   "metadata": {},
   "source": [
    "Посмотрим, каким образом заполнен наш датасет: какие есть неточности заполнения, где имеются пропуски данных, положительные и отрицательные значения и регистр текстовых полей."
   ]
  },
  {
   "cell_type": "code",
   "execution_count": 2,
   "id": "4172333a",
   "metadata": {
    "deletable": false,
    "id": "2a7cab99",
    "outputId": "1a8f3ef2-d323-4ec2-ddf7-89670b5944c4"
   },
   "outputs": [
    {
     "data": {
      "text/html": [
       "<div>\n",
       "<style scoped>\n",
       "    .dataframe tbody tr th:only-of-type {\n",
       "        vertical-align: middle;\n",
       "    }\n",
       "\n",
       "    .dataframe tbody tr th {\n",
       "        vertical-align: top;\n",
       "    }\n",
       "\n",
       "    .dataframe thead th {\n",
       "        text-align: right;\n",
       "    }\n",
       "</style>\n",
       "<table border=\"1\" class=\"dataframe\">\n",
       "  <thead>\n",
       "    <tr style=\"text-align: right;\">\n",
       "      <th></th>\n",
       "      <th>children</th>\n",
       "      <th>days_employed</th>\n",
       "      <th>dob_years</th>\n",
       "      <th>education</th>\n",
       "      <th>education_id</th>\n",
       "      <th>family_status</th>\n",
       "      <th>family_status_id</th>\n",
       "      <th>gender</th>\n",
       "      <th>income_type</th>\n",
       "      <th>debt</th>\n",
       "      <th>total_income</th>\n",
       "      <th>purpose</th>\n",
       "    </tr>\n",
       "  </thead>\n",
       "  <tbody>\n",
       "    <tr>\n",
       "      <th>0</th>\n",
       "      <td>1</td>\n",
       "      <td>-8437.673028</td>\n",
       "      <td>42</td>\n",
       "      <td>высшее</td>\n",
       "      <td>0</td>\n",
       "      <td>женат / замужем</td>\n",
       "      <td>0</td>\n",
       "      <td>F</td>\n",
       "      <td>сотрудник</td>\n",
       "      <td>0</td>\n",
       "      <td>253875.639453</td>\n",
       "      <td>покупка жилья</td>\n",
       "    </tr>\n",
       "    <tr>\n",
       "      <th>1</th>\n",
       "      <td>1</td>\n",
       "      <td>-4024.803754</td>\n",
       "      <td>36</td>\n",
       "      <td>среднее</td>\n",
       "      <td>1</td>\n",
       "      <td>женат / замужем</td>\n",
       "      <td>0</td>\n",
       "      <td>F</td>\n",
       "      <td>сотрудник</td>\n",
       "      <td>0</td>\n",
       "      <td>112080.014102</td>\n",
       "      <td>приобретение автомобиля</td>\n",
       "    </tr>\n",
       "    <tr>\n",
       "      <th>2</th>\n",
       "      <td>0</td>\n",
       "      <td>-5623.422610</td>\n",
       "      <td>33</td>\n",
       "      <td>Среднее</td>\n",
       "      <td>1</td>\n",
       "      <td>женат / замужем</td>\n",
       "      <td>0</td>\n",
       "      <td>M</td>\n",
       "      <td>сотрудник</td>\n",
       "      <td>0</td>\n",
       "      <td>145885.952297</td>\n",
       "      <td>покупка жилья</td>\n",
       "    </tr>\n",
       "    <tr>\n",
       "      <th>3</th>\n",
       "      <td>3</td>\n",
       "      <td>-4124.747207</td>\n",
       "      <td>32</td>\n",
       "      <td>среднее</td>\n",
       "      <td>1</td>\n",
       "      <td>женат / замужем</td>\n",
       "      <td>0</td>\n",
       "      <td>M</td>\n",
       "      <td>сотрудник</td>\n",
       "      <td>0</td>\n",
       "      <td>267628.550329</td>\n",
       "      <td>дополнительное образование</td>\n",
       "    </tr>\n",
       "    <tr>\n",
       "      <th>4</th>\n",
       "      <td>0</td>\n",
       "      <td>340266.072047</td>\n",
       "      <td>53</td>\n",
       "      <td>среднее</td>\n",
       "      <td>1</td>\n",
       "      <td>гражданский брак</td>\n",
       "      <td>1</td>\n",
       "      <td>F</td>\n",
       "      <td>пенсионер</td>\n",
       "      <td>0</td>\n",
       "      <td>158616.077870</td>\n",
       "      <td>сыграть свадьбу</td>\n",
       "    </tr>\n",
       "    <tr>\n",
       "      <th>5</th>\n",
       "      <td>0</td>\n",
       "      <td>-926.185831</td>\n",
       "      <td>27</td>\n",
       "      <td>высшее</td>\n",
       "      <td>0</td>\n",
       "      <td>гражданский брак</td>\n",
       "      <td>1</td>\n",
       "      <td>M</td>\n",
       "      <td>компаньон</td>\n",
       "      <td>0</td>\n",
       "      <td>255763.565419</td>\n",
       "      <td>покупка жилья</td>\n",
       "    </tr>\n",
       "    <tr>\n",
       "      <th>6</th>\n",
       "      <td>0</td>\n",
       "      <td>-2879.202052</td>\n",
       "      <td>43</td>\n",
       "      <td>высшее</td>\n",
       "      <td>0</td>\n",
       "      <td>женат / замужем</td>\n",
       "      <td>0</td>\n",
       "      <td>F</td>\n",
       "      <td>компаньон</td>\n",
       "      <td>0</td>\n",
       "      <td>240525.971920</td>\n",
       "      <td>операции с жильем</td>\n",
       "    </tr>\n",
       "    <tr>\n",
       "      <th>7</th>\n",
       "      <td>0</td>\n",
       "      <td>-152.779569</td>\n",
       "      <td>50</td>\n",
       "      <td>СРЕДНЕЕ</td>\n",
       "      <td>1</td>\n",
       "      <td>женат / замужем</td>\n",
       "      <td>0</td>\n",
       "      <td>M</td>\n",
       "      <td>сотрудник</td>\n",
       "      <td>0</td>\n",
       "      <td>135823.934197</td>\n",
       "      <td>образование</td>\n",
       "    </tr>\n",
       "    <tr>\n",
       "      <th>8</th>\n",
       "      <td>2</td>\n",
       "      <td>-6929.865299</td>\n",
       "      <td>35</td>\n",
       "      <td>ВЫСШЕЕ</td>\n",
       "      <td>0</td>\n",
       "      <td>гражданский брак</td>\n",
       "      <td>1</td>\n",
       "      <td>F</td>\n",
       "      <td>сотрудник</td>\n",
       "      <td>0</td>\n",
       "      <td>95856.832424</td>\n",
       "      <td>на проведение свадьбы</td>\n",
       "    </tr>\n",
       "    <tr>\n",
       "      <th>9</th>\n",
       "      <td>0</td>\n",
       "      <td>-2188.756445</td>\n",
       "      <td>41</td>\n",
       "      <td>среднее</td>\n",
       "      <td>1</td>\n",
       "      <td>женат / замужем</td>\n",
       "      <td>0</td>\n",
       "      <td>M</td>\n",
       "      <td>сотрудник</td>\n",
       "      <td>0</td>\n",
       "      <td>144425.938277</td>\n",
       "      <td>покупка жилья для семьи</td>\n",
       "    </tr>\n",
       "    <tr>\n",
       "      <th>10</th>\n",
       "      <td>2</td>\n",
       "      <td>-4171.483647</td>\n",
       "      <td>36</td>\n",
       "      <td>высшее</td>\n",
       "      <td>0</td>\n",
       "      <td>женат / замужем</td>\n",
       "      <td>0</td>\n",
       "      <td>M</td>\n",
       "      <td>компаньон</td>\n",
       "      <td>0</td>\n",
       "      <td>113943.491460</td>\n",
       "      <td>покупка недвижимости</td>\n",
       "    </tr>\n",
       "    <tr>\n",
       "      <th>11</th>\n",
       "      <td>0</td>\n",
       "      <td>-792.701887</td>\n",
       "      <td>40</td>\n",
       "      <td>среднее</td>\n",
       "      <td>1</td>\n",
       "      <td>женат / замужем</td>\n",
       "      <td>0</td>\n",
       "      <td>F</td>\n",
       "      <td>сотрудник</td>\n",
       "      <td>0</td>\n",
       "      <td>77069.234271</td>\n",
       "      <td>покупка коммерческой недвижимости</td>\n",
       "    </tr>\n",
       "    <tr>\n",
       "      <th>12</th>\n",
       "      <td>0</td>\n",
       "      <td>NaN</td>\n",
       "      <td>65</td>\n",
       "      <td>среднее</td>\n",
       "      <td>1</td>\n",
       "      <td>гражданский брак</td>\n",
       "      <td>1</td>\n",
       "      <td>M</td>\n",
       "      <td>пенсионер</td>\n",
       "      <td>0</td>\n",
       "      <td>NaN</td>\n",
       "      <td>сыграть свадьбу</td>\n",
       "    </tr>\n",
       "    <tr>\n",
       "      <th>13</th>\n",
       "      <td>0</td>\n",
       "      <td>-1846.641941</td>\n",
       "      <td>54</td>\n",
       "      <td>неоконченное высшее</td>\n",
       "      <td>2</td>\n",
       "      <td>женат / замужем</td>\n",
       "      <td>0</td>\n",
       "      <td>F</td>\n",
       "      <td>сотрудник</td>\n",
       "      <td>0</td>\n",
       "      <td>130458.228857</td>\n",
       "      <td>приобретение автомобиля</td>\n",
       "    </tr>\n",
       "    <tr>\n",
       "      <th>14</th>\n",
       "      <td>0</td>\n",
       "      <td>-1844.956182</td>\n",
       "      <td>56</td>\n",
       "      <td>высшее</td>\n",
       "      <td>0</td>\n",
       "      <td>гражданский брак</td>\n",
       "      <td>1</td>\n",
       "      <td>F</td>\n",
       "      <td>компаньон</td>\n",
       "      <td>1</td>\n",
       "      <td>165127.911772</td>\n",
       "      <td>покупка жилой недвижимости</td>\n",
       "    </tr>\n",
       "    <tr>\n",
       "      <th>15</th>\n",
       "      <td>1</td>\n",
       "      <td>-972.364419</td>\n",
       "      <td>26</td>\n",
       "      <td>среднее</td>\n",
       "      <td>1</td>\n",
       "      <td>женат / замужем</td>\n",
       "      <td>0</td>\n",
       "      <td>F</td>\n",
       "      <td>сотрудник</td>\n",
       "      <td>0</td>\n",
       "      <td>116820.904450</td>\n",
       "      <td>строительство собственной недвижимости</td>\n",
       "    </tr>\n",
       "    <tr>\n",
       "      <th>16</th>\n",
       "      <td>0</td>\n",
       "      <td>-1719.934226</td>\n",
       "      <td>35</td>\n",
       "      <td>среднее</td>\n",
       "      <td>1</td>\n",
       "      <td>женат / замужем</td>\n",
       "      <td>0</td>\n",
       "      <td>F</td>\n",
       "      <td>сотрудник</td>\n",
       "      <td>0</td>\n",
       "      <td>289202.704229</td>\n",
       "      <td>недвижимость</td>\n",
       "    </tr>\n",
       "    <tr>\n",
       "      <th>17</th>\n",
       "      <td>0</td>\n",
       "      <td>-2369.999720</td>\n",
       "      <td>33</td>\n",
       "      <td>высшее</td>\n",
       "      <td>0</td>\n",
       "      <td>гражданский брак</td>\n",
       "      <td>1</td>\n",
       "      <td>M</td>\n",
       "      <td>сотрудник</td>\n",
       "      <td>0</td>\n",
       "      <td>90410.586745</td>\n",
       "      <td>строительство недвижимости</td>\n",
       "    </tr>\n",
       "    <tr>\n",
       "      <th>18</th>\n",
       "      <td>0</td>\n",
       "      <td>400281.136913</td>\n",
       "      <td>53</td>\n",
       "      <td>среднее</td>\n",
       "      <td>1</td>\n",
       "      <td>вдовец / вдова</td>\n",
       "      <td>2</td>\n",
       "      <td>F</td>\n",
       "      <td>пенсионер</td>\n",
       "      <td>0</td>\n",
       "      <td>56823.777243</td>\n",
       "      <td>на покупку подержанного автомобиля</td>\n",
       "    </tr>\n",
       "    <tr>\n",
       "      <th>19</th>\n",
       "      <td>0</td>\n",
       "      <td>-10038.818549</td>\n",
       "      <td>48</td>\n",
       "      <td>СРЕДНЕЕ</td>\n",
       "      <td>1</td>\n",
       "      <td>в разводе</td>\n",
       "      <td>3</td>\n",
       "      <td>F</td>\n",
       "      <td>сотрудник</td>\n",
       "      <td>0</td>\n",
       "      <td>242831.107982</td>\n",
       "      <td>на покупку своего автомобиля</td>\n",
       "    </tr>\n",
       "  </tbody>\n",
       "</table>\n",
       "</div>"
      ],
      "text/plain": [
       "    children  days_employed  dob_years            education  education_id  \\\n",
       "0          1   -8437.673028         42               высшее             0   \n",
       "1          1   -4024.803754         36              среднее             1   \n",
       "2          0   -5623.422610         33              Среднее             1   \n",
       "3          3   -4124.747207         32              среднее             1   \n",
       "4          0  340266.072047         53              среднее             1   \n",
       "5          0    -926.185831         27               высшее             0   \n",
       "6          0   -2879.202052         43               высшее             0   \n",
       "7          0    -152.779569         50              СРЕДНЕЕ             1   \n",
       "8          2   -6929.865299         35               ВЫСШЕЕ             0   \n",
       "9          0   -2188.756445         41              среднее             1   \n",
       "10         2   -4171.483647         36               высшее             0   \n",
       "11         0    -792.701887         40              среднее             1   \n",
       "12         0            NaN         65              среднее             1   \n",
       "13         0   -1846.641941         54  неоконченное высшее             2   \n",
       "14         0   -1844.956182         56               высшее             0   \n",
       "15         1    -972.364419         26              среднее             1   \n",
       "16         0   -1719.934226         35              среднее             1   \n",
       "17         0   -2369.999720         33               высшее             0   \n",
       "18         0  400281.136913         53              среднее             1   \n",
       "19         0  -10038.818549         48              СРЕДНЕЕ             1   \n",
       "\n",
       "       family_status  family_status_id gender income_type  debt  \\\n",
       "0    женат / замужем                 0      F   сотрудник     0   \n",
       "1    женат / замужем                 0      F   сотрудник     0   \n",
       "2    женат / замужем                 0      M   сотрудник     0   \n",
       "3    женат / замужем                 0      M   сотрудник     0   \n",
       "4   гражданский брак                 1      F   пенсионер     0   \n",
       "5   гражданский брак                 1      M   компаньон     0   \n",
       "6    женат / замужем                 0      F   компаньон     0   \n",
       "7    женат / замужем                 0      M   сотрудник     0   \n",
       "8   гражданский брак                 1      F   сотрудник     0   \n",
       "9    женат / замужем                 0      M   сотрудник     0   \n",
       "10   женат / замужем                 0      M   компаньон     0   \n",
       "11   женат / замужем                 0      F   сотрудник     0   \n",
       "12  гражданский брак                 1      M   пенсионер     0   \n",
       "13   женат / замужем                 0      F   сотрудник     0   \n",
       "14  гражданский брак                 1      F   компаньон     1   \n",
       "15   женат / замужем                 0      F   сотрудник     0   \n",
       "16   женат / замужем                 0      F   сотрудник     0   \n",
       "17  гражданский брак                 1      M   сотрудник     0   \n",
       "18    вдовец / вдова                 2      F   пенсионер     0   \n",
       "19         в разводе                 3      F   сотрудник     0   \n",
       "\n",
       "     total_income                                 purpose  \n",
       "0   253875.639453                           покупка жилья  \n",
       "1   112080.014102                 приобретение автомобиля  \n",
       "2   145885.952297                           покупка жилья  \n",
       "3   267628.550329              дополнительное образование  \n",
       "4   158616.077870                         сыграть свадьбу  \n",
       "5   255763.565419                           покупка жилья  \n",
       "6   240525.971920                       операции с жильем  \n",
       "7   135823.934197                             образование  \n",
       "8    95856.832424                   на проведение свадьбы  \n",
       "9   144425.938277                 покупка жилья для семьи  \n",
       "10  113943.491460                    покупка недвижимости  \n",
       "11   77069.234271       покупка коммерческой недвижимости  \n",
       "12            NaN                         сыграть свадьбу  \n",
       "13  130458.228857                 приобретение автомобиля  \n",
       "14  165127.911772              покупка жилой недвижимости  \n",
       "15  116820.904450  строительство собственной недвижимости  \n",
       "16  289202.704229                            недвижимость  \n",
       "17   90410.586745              строительство недвижимости  \n",
       "18   56823.777243      на покупку подержанного автомобиля  \n",
       "19  242831.107982            на покупку своего автомобиля  "
      ]
     },
     "execution_count": 2,
     "metadata": {},
     "output_type": "execute_result"
    }
   ],
   "source": [
    "data.head(20)"
   ]
  },
  {
   "cell_type": "markdown",
   "id": "2cd593f5",
   "metadata": {
    "deletable": false,
    "editable": false,
    "id": "1c12e233"
   },
   "source": [
    "**Задание 3. Выведите основную информацию о датафрейме с помощью метода `info()`.**"
   ]
  },
  {
   "cell_type": "code",
   "execution_count": 3,
   "id": "c75e46d8",
   "metadata": {
    "deletable": false,
    "id": "2b757bca",
    "outputId": "15376089-8dad-46c9-b520-c05248d43158"
   },
   "outputs": [
    {
     "name": "stdout",
     "output_type": "stream",
     "text": [
      "<class 'pandas.core.frame.DataFrame'>\n",
      "RangeIndex: 21525 entries, 0 to 21524\n",
      "Data columns (total 12 columns):\n",
      " #   Column            Non-Null Count  Dtype  \n",
      "---  ------            --------------  -----  \n",
      " 0   children          21525 non-null  int64  \n",
      " 1   days_employed     19351 non-null  float64\n",
      " 2   dob_years         21525 non-null  int64  \n",
      " 3   education         21525 non-null  object \n",
      " 4   education_id      21525 non-null  int64  \n",
      " 5   family_status     21525 non-null  object \n",
      " 6   family_status_id  21525 non-null  int64  \n",
      " 7   gender            21525 non-null  object \n",
      " 8   income_type       21525 non-null  object \n",
      " 9   debt              21525 non-null  int64  \n",
      " 10  total_income      19351 non-null  float64\n",
      " 11  purpose           21525 non-null  object \n",
      "dtypes: float64(2), int64(5), object(5)\n",
      "memory usage: 2.0+ MB\n"
     ]
    }
   ],
   "source": [
    "data.info()"
   ]
  },
  {
   "cell_type": "markdown",
   "id": "94bc970e",
   "metadata": {},
   "source": [
    "<b> Вывод </b>\n",
    "\n",
    "Датасет состоит из 11 колонок: текстовые и числовые. Числовые подразделяются на целые и вещественные. В данном случае `'days_employed'` и `'total_income'` нужно привести к типу int, т.к. дробная часть кол-ва рабочих дней и заработка нас мало интересует и мало повлияет на дальнейшее исследование, лучше привести все числовые данные к одну типу `'int'`, также привести к нижнему регистру данные столбца `'education'` и заполнить пропуски в столбцах `'days_employed'` и `'total_income'` медианными значениями."
   ]
  },
  {
   "cell_type": "markdown",
   "id": "b7d72f6f",
   "metadata": {
    "deletable": false,
    "editable": false,
    "id": "333ec665"
   },
   "source": [
    "## Предобработка данных"
   ]
  },
  {
   "cell_type": "markdown",
   "id": "1616e202",
   "metadata": {
    "deletable": false,
    "editable": false,
    "id": "02d92d53"
   },
   "source": [
    "### Удаление пропусков"
   ]
  },
  {
   "cell_type": "markdown",
   "id": "8bebc7d8",
   "metadata": {
    "deletable": false,
    "editable": false,
    "id": "cd84967c"
   },
   "source": [
    "**Задание 4. Выведите количество пропущенных значений для каждого столбца. Используйте комбинацию двух методов.**"
   ]
  },
  {
   "cell_type": "code",
   "execution_count": 4,
   "id": "c2f75b76",
   "metadata": {
    "deletable": false,
    "id": "7f9b2309",
    "outputId": "81f4d817-781c-465c-ed15-91ce4446810d"
   },
   "outputs": [
    {
     "data": {
      "text/plain": [
       "children               0\n",
       "days_employed       2174\n",
       "dob_years              0\n",
       "education              0\n",
       "education_id           0\n",
       "family_status          0\n",
       "family_status_id       0\n",
       "gender                 0\n",
       "income_type            0\n",
       "debt                   0\n",
       "total_income        2174\n",
       "purpose                0\n",
       "dtype: int64"
      ]
     },
     "execution_count": 4,
     "metadata": {},
     "output_type": "execute_result"
    }
   ],
   "source": [
    "data.isna().sum()"
   ]
  },
  {
   "cell_type": "markdown",
   "id": "2aaa67ff",
   "metadata": {},
   "source": [
    "Пропуски имеются как раз в столбцах: `'days_employed'` и `'total_income'`. Заполним эти пропуски медианными значениями на следующем шаге."
   ]
  },
  {
   "cell_type": "markdown",
   "id": "052a8d1b",
   "metadata": {
    "deletable": false,
    "editable": false,
    "id": "db86e27b"
   },
   "source": [
    "**Задание 5. В двух столбцах есть пропущенные значения. Один из них — `days_employed`. Пропуски в этом столбце вы обработаете на следующем этапе. Другой столбец с пропущенными значениями — `total_income` — хранит данные о доходах. На сумму дохода сильнее всего влияет тип занятости, поэтому заполнить пропуски в этом столбце нужно медианным значением по каждому типу из столбца `income_type`. Например, у человека с типом занятости `сотрудник` пропуск в столбце `total_income` должен быть заполнен медианным доходом среди всех записей с тем же типом.**"
   ]
  },
  {
   "cell_type": "code",
   "execution_count": 5,
   "id": "07d924c7",
   "metadata": {
    "deletable": false,
    "id": "42006a93"
   },
   "outputs": [],
   "source": [
    "for t in data['income_type'].unique():\n",
    "    data.loc[(data['income_type'] == t) & (data['total_income'].isna()), 'total_income'] = \\\n",
    "    data.loc[(data['income_type'] == t), 'total_income'].median()"
   ]
  },
  {
   "cell_type": "markdown",
   "id": "252a2d30",
   "metadata": {
    "deletable": false,
    "editable": false,
    "id": "89da5ece"
   },
   "source": [
    "### Обработка аномальных значений"
   ]
  },
  {
   "cell_type": "markdown",
   "id": "7d984f86",
   "metadata": {
    "deletable": false,
    "editable": false,
    "id": "57964554"
   },
   "source": [
    "**Задание 6. В данных могут встречаться артефакты (аномалии) — значения, которые не отражают действительность и появились по какой-то ошибке. таким артефактом будет отрицательное количество дней трудового стажа в столбце `days_employed`. Для реальных данных это нормально. Обработайте значения в этом столбце: замените все отрицательные значения положительными с помощью метода `abs()`.**"
   ]
  },
  {
   "cell_type": "code",
   "execution_count": 6,
   "id": "21555ed5",
   "metadata": {
    "deletable": false,
    "id": "f6f055bf"
   },
   "outputs": [],
   "source": [
    "data['days_employed'] = data['days_employed'].abs()"
   ]
  },
  {
   "cell_type": "markdown",
   "id": "169d4265",
   "metadata": {},
   "source": [
    "Теперь мы имеем положительные значения \"дней занятости\", что соотвествует действительности."
   ]
  },
  {
   "cell_type": "markdown",
   "id": "c247056d",
   "metadata": {
    "deletable": false,
    "editable": false,
    "id": "6107dd2f"
   },
   "source": [
    "**Задание 7. Для каждого типа занятости выведите медианное значение трудового стажа `days_employed` в днях.**"
   ]
  },
  {
   "cell_type": "code",
   "execution_count": 7,
   "id": "a497e795",
   "metadata": {
    "deletable": false,
    "id": "85a5faf6",
    "outputId": "801ef80e-522b-4668-f34e-565af7432bcf"
   },
   "outputs": [
    {
     "data": {
      "text/plain": [
       "income_type\n",
       "безработный        366413.652744\n",
       "в декрете            3296.759962\n",
       "госслужащий          2689.368353\n",
       "компаньон            1547.382223\n",
       "пенсионер          365213.306266\n",
       "предприниматель       520.848083\n",
       "сотрудник            1574.202821\n",
       "студент               578.751554\n",
       "Name: days_employed, dtype: float64"
      ]
     },
     "execution_count": 7,
     "metadata": {},
     "output_type": "execute_result"
    }
   ],
   "source": [
    "data.groupby('income_type')['days_employed'].agg('median')"
   ]
  },
  {
   "cell_type": "markdown",
   "id": "9c4c872d",
   "metadata": {
    "deletable": false,
    "editable": false,
    "id": "38d1a030"
   },
   "source": [
    "У двух типов (безработные и пенсионеры) получатся аномально большие значения. Исправить такие значения сложно, поэтому оставьте их как есть. Тем более этот столбец не понадобится вам для исследования."
   ]
  },
  {
   "cell_type": "markdown",
   "id": "04cc7ccd",
   "metadata": {
    "deletable": false,
    "editable": false,
    "id": "d8a9f147"
   },
   "source": [
    "**Задание 8. Выведите перечень уникальных значений столбца `children`.**"
   ]
  },
  {
   "cell_type": "code",
   "execution_count": 8,
   "id": "f8133336",
   "metadata": {
    "deletable": false,
    "id": "ef5056eb",
    "outputId": "6975b15c-7f95-4697-d16d-a0c79b657b03"
   },
   "outputs": [
    {
     "data": {
      "text/plain": [
       "array([ 1,  0,  3,  2, -1,  4, 20,  5])"
      ]
     },
     "execution_count": 8,
     "metadata": {},
     "output_type": "execute_result"
    }
   ],
   "source": [
    "data['children'].unique()"
   ]
  },
  {
   "cell_type": "markdown",
   "id": "aacfb453",
   "metadata": {},
   "source": [
    "Обратим внимание, что число детей \"-1\" - нереальное, а число \"20\" детей - очень маловероятное. Исключим эти значения из датасета."
   ]
  },
  {
   "cell_type": "markdown",
   "id": "54f965d9",
   "metadata": {
    "deletable": false,
    "editable": false,
    "id": "40b9ebf2"
   },
   "source": [
    "**Задание 9. В столбце `children` есть два аномальных значения. Удалите строки, в которых встречаются такие аномальные значения из датафрейма `data`.**"
   ]
  },
  {
   "cell_type": "code",
   "execution_count": 9,
   "id": "d977e50a",
   "metadata": {
    "deletable": false,
    "id": "3ff9801d"
   },
   "outputs": [],
   "source": [
    "data = data[(data['children'] != -1) & (data['children'] != 20)]"
   ]
  },
  {
   "cell_type": "markdown",
   "id": "3f1457c0",
   "metadata": {
    "deletable": false,
    "editable": false,
    "id": "bbc4d0ce"
   },
   "source": [
    "**Задание 10. Ещё раз выведите перечень уникальных значений столбца `children`, чтобы убедиться, что артефакты удалены.**"
   ]
  },
  {
   "cell_type": "code",
   "execution_count": 10,
   "id": "d76c4a64",
   "metadata": {
    "deletable": false,
    "id": "ad4fa8b7",
    "outputId": "b2097101-d49d-44d9-901b-32a65c9463d1"
   },
   "outputs": [
    {
     "data": {
      "text/plain": [
       "array([1, 0, 3, 2, 4, 5])"
      ]
     },
     "execution_count": 10,
     "metadata": {},
     "output_type": "execute_result"
    }
   ],
   "source": [
    "data['children'].unique()"
   ]
  },
  {
   "cell_type": "markdown",
   "id": "f5ac04aa",
   "metadata": {},
   "source": [
    "Теперь значения кол-ва детей выглядят более реалистично."
   ]
  },
  {
   "cell_type": "markdown",
   "id": "bd08339d",
   "metadata": {
    "deletable": false,
    "editable": false,
    "id": "75440b63"
   },
   "source": [
    "### Удаление пропусков (продолжение)"
   ]
  },
  {
   "cell_type": "markdown",
   "id": "77816a55",
   "metadata": {
    "deletable": false,
    "editable": false,
    "id": "f4ea573f"
   },
   "source": [
    "**Задание 11. Заполните пропуски в столбце `days_employed` медианными значениями по каждого типа занятости `income_type`.**"
   ]
  },
  {
   "cell_type": "code",
   "execution_count": 11,
   "id": "20834e00",
   "metadata": {
    "deletable": false,
    "id": "af6b1a7e"
   },
   "outputs": [],
   "source": [
    "for t in data['income_type'].unique():\n",
    "    data.loc[(data['income_type'] == t) & (data['days_employed'].isna()), 'days_employed'] = \\\n",
    "    data.loc[(data['income_type'] == t), 'days_employed'].median()"
   ]
  },
  {
   "cell_type": "markdown",
   "id": "a2b83ef1",
   "metadata": {
    "deletable": false,
    "editable": false,
    "id": "2753f40d"
   },
   "source": [
    "**Задание 12. Убедитесь, что все пропуски заполнены. Проверьте себя и ещё раз выведите количество пропущенных значений для каждого столбца с помощью двух методов.**"
   ]
  },
  {
   "cell_type": "code",
   "execution_count": 12,
   "id": "9a97e303",
   "metadata": {
    "deletable": false,
    "id": "55f78bc2",
    "outputId": "8da1e4e1-358e-4e87-98c9-f261bce0a7b2"
   },
   "outputs": [
    {
     "data": {
      "text/plain": [
       "children            0\n",
       "days_employed       0\n",
       "dob_years           0\n",
       "education           0\n",
       "education_id        0\n",
       "family_status       0\n",
       "family_status_id    0\n",
       "gender              0\n",
       "income_type         0\n",
       "debt                0\n",
       "total_income        0\n",
       "purpose             0\n",
       "dtype: int64"
      ]
     },
     "execution_count": 12,
     "metadata": {},
     "output_type": "execute_result"
    }
   ],
   "source": [
    "data.isna().sum()"
   ]
  },
  {
   "cell_type": "markdown",
   "id": "888cea39",
   "metadata": {
    "deletable": false,
    "editable": false,
    "id": "ddc81e43"
   },
   "source": [
    "### Изменение типов данных"
   ]
  },
  {
   "cell_type": "markdown",
   "id": "4bbf8e08",
   "metadata": {
    "deletable": false,
    "editable": false,
    "id": "42d19d24"
   },
   "source": [
    "**Задание 13. Замените вещественный тип данных в столбце `total_income` на целочисленный с помощью метода `astype()`.**"
   ]
  },
  {
   "cell_type": "code",
   "execution_count": 13,
   "id": "63adcc41",
   "metadata": {
    "deletable": false,
    "id": "920b65ad"
   },
   "outputs": [],
   "source": [
    "data['total_income'] = data['total_income'].astype(int)\n",
    "data['days_employed'] = data['days_employed'].astype(int)"
   ]
  },
  {
   "cell_type": "markdown",
   "id": "7d9c3ace",
   "metadata": {
    "deletable": false,
    "editable": false,
    "id": "80c420ba"
   },
   "source": [
    "### Обработка дубликатов"
   ]
  },
  {
   "cell_type": "markdown",
   "id": "8901da57",
   "metadata": {
    "deletable": false,
    "editable": false
   },
   "source": [
    "**Задание 14. Обработайте неявные дубликаты в столбце `education`. В этом столбце есть одни и те же значения, но записанные по-разному: с использованием заглавных и строчных букв. Приведите их к нижнему регистру. Проверьте остальные столбцы.**"
   ]
  },
  {
   "cell_type": "code",
   "execution_count": 14,
   "id": "b173e2cc",
   "metadata": {
    "deletable": false
   },
   "outputs": [],
   "source": [
    "data['education'] = data['education'].str.lower()"
   ]
  },
  {
   "cell_type": "markdown",
   "id": "5d705375",
   "metadata": {
    "deletable": false,
    "editable": false,
    "id": "dc587695"
   },
   "source": [
    "**Задание 15. Выведите на экран количество строк-дубликатов в данных. Если такие строки присутствуют, удалите их.**"
   ]
  },
  {
   "cell_type": "code",
   "execution_count": 15,
   "id": "6137b203",
   "metadata": {
    "deletable": false,
    "id": "3ee445e4",
    "outputId": "9684deba-1934-42d1-99e1-cda61740f822"
   },
   "outputs": [
    {
     "data": {
      "text/plain": [
       "71"
      ]
     },
     "execution_count": 15,
     "metadata": {},
     "output_type": "execute_result"
    }
   ],
   "source": [
    "data.duplicated().sum()"
   ]
  },
  {
   "cell_type": "code",
   "execution_count": 16,
   "id": "edcf0fa9",
   "metadata": {
    "deletable": false,
    "id": "8575fe05"
   },
   "outputs": [],
   "source": [
    "data = data.drop_duplicates()"
   ]
  },
  {
   "cell_type": "markdown",
   "id": "cf8583c1",
   "metadata": {
    "deletable": false,
    "editable": false,
    "id": "9904cf55"
   },
   "source": [
    "### Категоризация данных"
   ]
  },
  {
   "cell_type": "markdown",
   "id": "63369041",
   "metadata": {
    "deletable": false,
    "editable": false,
    "id": "72fcc8a2"
   },
   "source": [
    "**Задание 16. На основании диапазонов, указанных ниже, создайте в датафрейме `data` столбец `total_income_category` с категориями:**\n",
    "\n",
    "- 0–30000 — `'E'`;\n",
    "- 30001–50000 — `'D'`;\n",
    "- 50001–200000 — `'C'`;\n",
    "- 200001–1000000 — `'B'`;\n",
    "- 1000001 и выше — `'A'`.\n",
    "\n",
    "\n",
    "**Например, кредитополучателю с доходом 25000 нужно назначить категорию `'E'`, а клиенту, получающему 235000, — `'B'`. Используйте собственную функцию с именем `categorize_income()` и метод `apply()`.**"
   ]
  },
  {
   "cell_type": "code",
   "execution_count": 17,
   "id": "960de4c7",
   "metadata": {
    "deletable": false,
    "id": "e1771346"
   },
   "outputs": [],
   "source": [
    "def categorize_income(income):\n",
    "    try:\n",
    "        if 0 <= income <= 30000:\n",
    "            return 'E'\n",
    "        elif 30001 <= income <= 50000:\n",
    "            return 'D'\n",
    "        elif 50001 <= income <= 200000:\n",
    "            return 'C'\n",
    "        elif 200001 <= income <= 1000000:\n",
    "            return 'B'\n",
    "        elif income >= 1000001:\n",
    "            return 'A'\n",
    "    except:\n",
    "        pass"
   ]
  },
  {
   "cell_type": "code",
   "execution_count": 18,
   "id": "0afe508f",
   "metadata": {
    "deletable": false,
    "id": "d5f3586d"
   },
   "outputs": [],
   "source": [
    "data['total_income_category'] = data['total_income'].apply(categorize_income)"
   ]
  },
  {
   "cell_type": "markdown",
   "id": "9bd7ebf3",
   "metadata": {
    "deletable": false,
    "editable": false,
    "id": "dde49b5c"
   },
   "source": [
    "**Задание 17. Выведите на экран перечень уникальных целей взятия кредита из столбца `purpose`.**"
   ]
  },
  {
   "cell_type": "code",
   "execution_count": 19,
   "id": "13cb54d0",
   "metadata": {
    "deletable": false,
    "id": "f67ce9b3",
    "outputId": "673c12d9-7d7e-4ae0-9812-c622c89dd244"
   },
   "outputs": [
    {
     "data": {
      "text/plain": [
       "array(['покупка жилья', 'приобретение автомобиля',\n",
       "       'дополнительное образование', 'сыграть свадьбу',\n",
       "       'операции с жильем', 'образование', 'на проведение свадьбы',\n",
       "       'покупка жилья для семьи', 'покупка недвижимости',\n",
       "       'покупка коммерческой недвижимости', 'покупка жилой недвижимости',\n",
       "       'строительство собственной недвижимости', 'недвижимость',\n",
       "       'строительство недвижимости', 'на покупку подержанного автомобиля',\n",
       "       'на покупку своего автомобиля',\n",
       "       'операции с коммерческой недвижимостью',\n",
       "       'строительство жилой недвижимости', 'жилье',\n",
       "       'операции со своей недвижимостью', 'автомобили',\n",
       "       'заняться образованием', 'сделка с подержанным автомобилем',\n",
       "       'получение образования', 'автомобиль', 'свадьба',\n",
       "       'получение дополнительного образования', 'покупка своего жилья',\n",
       "       'операции с недвижимостью', 'получение высшего образования',\n",
       "       'свой автомобиль', 'сделка с автомобилем',\n",
       "       'профильное образование', 'высшее образование',\n",
       "       'покупка жилья для сдачи', 'на покупку автомобиля', 'ремонт жилью',\n",
       "       'заняться высшим образованием'], dtype=object)"
      ]
     },
     "execution_count": 19,
     "metadata": {},
     "output_type": "execute_result"
    }
   ],
   "source": [
    "data['purpose'].unique()"
   ]
  },
  {
   "cell_type": "markdown",
   "id": "a08a5797",
   "metadata": {
    "deletable": false,
    "editable": false,
    "id": "85d0aef0"
   },
   "source": [
    "**Задание 18. Создайте функцию, которая на основании данных из столбца `purpose` сформирует новый столбец `purpose_category`, в который войдут следующие категории:**\n",
    "\n",
    "- `'операции с автомобилем'`,\n",
    "- `'операции с недвижимостью'`,\n",
    "- `'проведение свадьбы'`,\n",
    "- `'получение образования'`.\n",
    "\n",
    "**Например, если в столбце `purpose` находится подстрока `'на покупку автомобиля'`, то в столбце `purpose_category` должна появиться строка `'операции с автомобилем'`.**\n",
    "\n",
    "**Используйте собственную функцию с именем `categorize_purpose()` и метод `apply()`. Изучите данные в столбце `purpose` и определите, какие подстроки помогут вам правильно определить категорию.**"
   ]
  },
  {
   "cell_type": "code",
   "execution_count": 20,
   "id": "71f77542",
   "metadata": {
    "deletable": false,
    "id": "e149fab4"
   },
   "outputs": [],
   "source": [
    "def categorize_purpose(row):\n",
    "    try:\n",
    "        if 'автом' in row:\n",
    "            return 'операции с автомобилем'\n",
    "        elif 'жил' in row or 'недвиж' in row:\n",
    "            return 'операции с недвижимостью'\n",
    "        elif 'свад' in row:\n",
    "            return 'проведение свадьбы'\n",
    "        elif 'образов' in row:\n",
    "            return 'получение образования'\n",
    "    except:\n",
    "        return 'нет категории'"
   ]
  },
  {
   "cell_type": "code",
   "execution_count": 21,
   "id": "78d9829a",
   "metadata": {
    "deletable": false,
    "id": "bf36e69b",
    "scrolled": true
   },
   "outputs": [
    {
     "data": {
      "text/html": [
       "<div>\n",
       "<style scoped>\n",
       "    .dataframe tbody tr th:only-of-type {\n",
       "        vertical-align: middle;\n",
       "    }\n",
       "\n",
       "    .dataframe tbody tr th {\n",
       "        vertical-align: top;\n",
       "    }\n",
       "\n",
       "    .dataframe thead th {\n",
       "        text-align: right;\n",
       "    }\n",
       "</style>\n",
       "<table border=\"1\" class=\"dataframe\">\n",
       "  <thead>\n",
       "    <tr style=\"text-align: right;\">\n",
       "      <th></th>\n",
       "      <th>children</th>\n",
       "      <th>days_employed</th>\n",
       "      <th>dob_years</th>\n",
       "      <th>education</th>\n",
       "      <th>education_id</th>\n",
       "      <th>family_status</th>\n",
       "      <th>family_status_id</th>\n",
       "      <th>gender</th>\n",
       "      <th>income_type</th>\n",
       "      <th>debt</th>\n",
       "      <th>total_income</th>\n",
       "      <th>purpose</th>\n",
       "      <th>total_income_category</th>\n",
       "      <th>purpose_category</th>\n",
       "    </tr>\n",
       "  </thead>\n",
       "  <tbody>\n",
       "    <tr>\n",
       "      <th>0</th>\n",
       "      <td>1</td>\n",
       "      <td>8437</td>\n",
       "      <td>42</td>\n",
       "      <td>высшее</td>\n",
       "      <td>0</td>\n",
       "      <td>женат / замужем</td>\n",
       "      <td>0</td>\n",
       "      <td>F</td>\n",
       "      <td>сотрудник</td>\n",
       "      <td>0</td>\n",
       "      <td>253875</td>\n",
       "      <td>покупка жилья</td>\n",
       "      <td>B</td>\n",
       "      <td>операции с недвижимостью</td>\n",
       "    </tr>\n",
       "    <tr>\n",
       "      <th>1</th>\n",
       "      <td>1</td>\n",
       "      <td>4024</td>\n",
       "      <td>36</td>\n",
       "      <td>среднее</td>\n",
       "      <td>1</td>\n",
       "      <td>женат / замужем</td>\n",
       "      <td>0</td>\n",
       "      <td>F</td>\n",
       "      <td>сотрудник</td>\n",
       "      <td>0</td>\n",
       "      <td>112080</td>\n",
       "      <td>приобретение автомобиля</td>\n",
       "      <td>C</td>\n",
       "      <td>операции с автомобилем</td>\n",
       "    </tr>\n",
       "    <tr>\n",
       "      <th>2</th>\n",
       "      <td>0</td>\n",
       "      <td>5623</td>\n",
       "      <td>33</td>\n",
       "      <td>среднее</td>\n",
       "      <td>1</td>\n",
       "      <td>женат / замужем</td>\n",
       "      <td>0</td>\n",
       "      <td>M</td>\n",
       "      <td>сотрудник</td>\n",
       "      <td>0</td>\n",
       "      <td>145885</td>\n",
       "      <td>покупка жилья</td>\n",
       "      <td>C</td>\n",
       "      <td>операции с недвижимостью</td>\n",
       "    </tr>\n",
       "    <tr>\n",
       "      <th>3</th>\n",
       "      <td>3</td>\n",
       "      <td>4124</td>\n",
       "      <td>32</td>\n",
       "      <td>среднее</td>\n",
       "      <td>1</td>\n",
       "      <td>женат / замужем</td>\n",
       "      <td>0</td>\n",
       "      <td>M</td>\n",
       "      <td>сотрудник</td>\n",
       "      <td>0</td>\n",
       "      <td>267628</td>\n",
       "      <td>дополнительное образование</td>\n",
       "      <td>B</td>\n",
       "      <td>получение образования</td>\n",
       "    </tr>\n",
       "    <tr>\n",
       "      <th>4</th>\n",
       "      <td>0</td>\n",
       "      <td>340266</td>\n",
       "      <td>53</td>\n",
       "      <td>среднее</td>\n",
       "      <td>1</td>\n",
       "      <td>гражданский брак</td>\n",
       "      <td>1</td>\n",
       "      <td>F</td>\n",
       "      <td>пенсионер</td>\n",
       "      <td>0</td>\n",
       "      <td>158616</td>\n",
       "      <td>сыграть свадьбу</td>\n",
       "      <td>C</td>\n",
       "      <td>проведение свадьбы</td>\n",
       "    </tr>\n",
       "    <tr>\n",
       "      <th>...</th>\n",
       "      <td>...</td>\n",
       "      <td>...</td>\n",
       "      <td>...</td>\n",
       "      <td>...</td>\n",
       "      <td>...</td>\n",
       "      <td>...</td>\n",
       "      <td>...</td>\n",
       "      <td>...</td>\n",
       "      <td>...</td>\n",
       "      <td>...</td>\n",
       "      <td>...</td>\n",
       "      <td>...</td>\n",
       "      <td>...</td>\n",
       "      <td>...</td>\n",
       "    </tr>\n",
       "    <tr>\n",
       "      <th>21520</th>\n",
       "      <td>1</td>\n",
       "      <td>4529</td>\n",
       "      <td>43</td>\n",
       "      <td>среднее</td>\n",
       "      <td>1</td>\n",
       "      <td>гражданский брак</td>\n",
       "      <td>1</td>\n",
       "      <td>F</td>\n",
       "      <td>компаньон</td>\n",
       "      <td>0</td>\n",
       "      <td>224791</td>\n",
       "      <td>операции с жильем</td>\n",
       "      <td>B</td>\n",
       "      <td>операции с недвижимостью</td>\n",
       "    </tr>\n",
       "    <tr>\n",
       "      <th>21521</th>\n",
       "      <td>0</td>\n",
       "      <td>343937</td>\n",
       "      <td>67</td>\n",
       "      <td>среднее</td>\n",
       "      <td>1</td>\n",
       "      <td>женат / замужем</td>\n",
       "      <td>0</td>\n",
       "      <td>F</td>\n",
       "      <td>пенсионер</td>\n",
       "      <td>0</td>\n",
       "      <td>155999</td>\n",
       "      <td>сделка с автомобилем</td>\n",
       "      <td>C</td>\n",
       "      <td>операции с автомобилем</td>\n",
       "    </tr>\n",
       "    <tr>\n",
       "      <th>21522</th>\n",
       "      <td>1</td>\n",
       "      <td>2113</td>\n",
       "      <td>38</td>\n",
       "      <td>среднее</td>\n",
       "      <td>1</td>\n",
       "      <td>гражданский брак</td>\n",
       "      <td>1</td>\n",
       "      <td>M</td>\n",
       "      <td>сотрудник</td>\n",
       "      <td>1</td>\n",
       "      <td>89672</td>\n",
       "      <td>недвижимость</td>\n",
       "      <td>C</td>\n",
       "      <td>операции с недвижимостью</td>\n",
       "    </tr>\n",
       "    <tr>\n",
       "      <th>21523</th>\n",
       "      <td>3</td>\n",
       "      <td>3112</td>\n",
       "      <td>38</td>\n",
       "      <td>среднее</td>\n",
       "      <td>1</td>\n",
       "      <td>женат / замужем</td>\n",
       "      <td>0</td>\n",
       "      <td>M</td>\n",
       "      <td>сотрудник</td>\n",
       "      <td>1</td>\n",
       "      <td>244093</td>\n",
       "      <td>на покупку своего автомобиля</td>\n",
       "      <td>B</td>\n",
       "      <td>операции с автомобилем</td>\n",
       "    </tr>\n",
       "    <tr>\n",
       "      <th>21524</th>\n",
       "      <td>2</td>\n",
       "      <td>1984</td>\n",
       "      <td>40</td>\n",
       "      <td>среднее</td>\n",
       "      <td>1</td>\n",
       "      <td>женат / замужем</td>\n",
       "      <td>0</td>\n",
       "      <td>F</td>\n",
       "      <td>сотрудник</td>\n",
       "      <td>0</td>\n",
       "      <td>82047</td>\n",
       "      <td>на покупку автомобиля</td>\n",
       "      <td>C</td>\n",
       "      <td>операции с автомобилем</td>\n",
       "    </tr>\n",
       "  </tbody>\n",
       "</table>\n",
       "<p>21331 rows × 14 columns</p>\n",
       "</div>"
      ],
      "text/plain": [
       "       children  days_employed  dob_years education  education_id  \\\n",
       "0             1           8437         42    высшее             0   \n",
       "1             1           4024         36   среднее             1   \n",
       "2             0           5623         33   среднее             1   \n",
       "3             3           4124         32   среднее             1   \n",
       "4             0         340266         53   среднее             1   \n",
       "...         ...            ...        ...       ...           ...   \n",
       "21520         1           4529         43   среднее             1   \n",
       "21521         0         343937         67   среднее             1   \n",
       "21522         1           2113         38   среднее             1   \n",
       "21523         3           3112         38   среднее             1   \n",
       "21524         2           1984         40   среднее             1   \n",
       "\n",
       "          family_status  family_status_id gender income_type  debt  \\\n",
       "0       женат / замужем                 0      F   сотрудник     0   \n",
       "1       женат / замужем                 0      F   сотрудник     0   \n",
       "2       женат / замужем                 0      M   сотрудник     0   \n",
       "3       женат / замужем                 0      M   сотрудник     0   \n",
       "4      гражданский брак                 1      F   пенсионер     0   \n",
       "...                 ...               ...    ...         ...   ...   \n",
       "21520  гражданский брак                 1      F   компаньон     0   \n",
       "21521   женат / замужем                 0      F   пенсионер     0   \n",
       "21522  гражданский брак                 1      M   сотрудник     1   \n",
       "21523   женат / замужем                 0      M   сотрудник     1   \n",
       "21524   женат / замужем                 0      F   сотрудник     0   \n",
       "\n",
       "       total_income                       purpose total_income_category  \\\n",
       "0            253875                 покупка жилья                     B   \n",
       "1            112080       приобретение автомобиля                     C   \n",
       "2            145885                 покупка жилья                     C   \n",
       "3            267628    дополнительное образование                     B   \n",
       "4            158616               сыграть свадьбу                     C   \n",
       "...             ...                           ...                   ...   \n",
       "21520        224791             операции с жильем                     B   \n",
       "21521        155999          сделка с автомобилем                     C   \n",
       "21522         89672                  недвижимость                     C   \n",
       "21523        244093  на покупку своего автомобиля                     B   \n",
       "21524         82047         на покупку автомобиля                     C   \n",
       "\n",
       "               purpose_category  \n",
       "0      операции с недвижимостью  \n",
       "1        операции с автомобилем  \n",
       "2      операции с недвижимостью  \n",
       "3         получение образования  \n",
       "4            проведение свадьбы  \n",
       "...                         ...  \n",
       "21520  операции с недвижимостью  \n",
       "21521    операции с автомобилем  \n",
       "21522  операции с недвижимостью  \n",
       "21523    операции с автомобилем  \n",
       "21524    операции с автомобилем  \n",
       "\n",
       "[21331 rows x 14 columns]"
      ]
     },
     "metadata": {},
     "output_type": "display_data"
    }
   ],
   "source": [
    "data['purpose_category'] = data['purpose'].apply(categorize_purpose)\n",
    "display(data)"
   ]
  },
  {
   "cell_type": "markdown",
   "id": "16280a75",
   "metadata": {},
   "source": [
    "Итак, предобработка проведена: `'education'` в нижнем регистре, пропуски в `'days_employed'`  и `'total_income'` заполнены медианными значениями, приведены к типу `'int'` и положительным значениям, удалены дубликаты, проведена категоризация `'total_income'` - `'total_income_category'` и `'purpose'` - `'purpose_category'`."
   ]
  },
  {
   "cell_type": "markdown",
   "id": "98817b3a",
   "metadata": {
    "deletable": false,
    "editable": false,
    "id": "09b242bf"
   },
   "source": [
    "### Шаг 3. Исследуйте данные и ответьте на вопросы"
   ]
  },
  {
   "cell_type": "markdown",
   "id": "8a452487",
   "metadata": {
    "deletable": false,
    "editable": false,
    "id": "c5d66278"
   },
   "source": [
    "#### 3.1 Есть ли зависимость между количеством детей и возвратом кредита в срок?"
   ]
  },
  {
   "cell_type": "code",
   "execution_count": 4,
   "id": "37de0600",
   "metadata": {
    "deletable": false,
    "id": "2cacfc4a"
   },
   "outputs": [
    {
     "data": {
      "text/html": [
       "<div>\n",
       "<style scoped>\n",
       "    .dataframe tbody tr th:only-of-type {\n",
       "        vertical-align: middle;\n",
       "    }\n",
       "\n",
       "    .dataframe tbody tr th {\n",
       "        vertical-align: top;\n",
       "    }\n",
       "\n",
       "    .dataframe thead th {\n",
       "        text-align: right;\n",
       "    }\n",
       "</style>\n",
       "<table border=\"1\" class=\"dataframe\">\n",
       "  <thead>\n",
       "    <tr style=\"text-align: right;\">\n",
       "      <th></th>\n",
       "      <th>count</th>\n",
       "      <th>sum</th>\n",
       "      <th>mean</th>\n",
       "    </tr>\n",
       "    <tr>\n",
       "      <th>children</th>\n",
       "      <th></th>\n",
       "      <th></th>\n",
       "      <th></th>\n",
       "    </tr>\n",
       "  </thead>\n",
       "  <tbody>\n",
       "    <tr>\n",
       "      <th>-1</th>\n",
       "      <td>47</td>\n",
       "      <td>1</td>\n",
       "      <td>0.021277</td>\n",
       "    </tr>\n",
       "    <tr>\n",
       "      <th>0</th>\n",
       "      <td>14149</td>\n",
       "      <td>1063</td>\n",
       "      <td>0.075129</td>\n",
       "    </tr>\n",
       "    <tr>\n",
       "      <th>1</th>\n",
       "      <td>4818</td>\n",
       "      <td>444</td>\n",
       "      <td>0.092154</td>\n",
       "    </tr>\n",
       "    <tr>\n",
       "      <th>2</th>\n",
       "      <td>2055</td>\n",
       "      <td>194</td>\n",
       "      <td>0.094404</td>\n",
       "    </tr>\n",
       "    <tr>\n",
       "      <th>3</th>\n",
       "      <td>330</td>\n",
       "      <td>27</td>\n",
       "      <td>0.081818</td>\n",
       "    </tr>\n",
       "    <tr>\n",
       "      <th>4</th>\n",
       "      <td>41</td>\n",
       "      <td>4</td>\n",
       "      <td>0.097561</td>\n",
       "    </tr>\n",
       "    <tr>\n",
       "      <th>5</th>\n",
       "      <td>9</td>\n",
       "      <td>0</td>\n",
       "      <td>0.000000</td>\n",
       "    </tr>\n",
       "    <tr>\n",
       "      <th>20</th>\n",
       "      <td>76</td>\n",
       "      <td>8</td>\n",
       "      <td>0.105263</td>\n",
       "    </tr>\n",
       "  </tbody>\n",
       "</table>\n",
       "</div>"
      ],
      "text/plain": [
       "          count   sum      mean\n",
       "children                       \n",
       "-1           47     1  0.021277\n",
       " 0        14149  1063  0.075129\n",
       " 1         4818   444  0.092154\n",
       " 2         2055   194  0.094404\n",
       " 3          330    27  0.081818\n",
       " 4           41     4  0.097561\n",
       " 5            9     0  0.000000\n",
       " 20          76     8  0.105263"
      ]
     },
     "metadata": {},
     "output_type": "display_data"
    },
    {
     "data": {
      "text/plain": [
       "<AxesSubplot:xlabel='children'>"
      ]
     },
     "execution_count": 4,
     "metadata": {},
     "output_type": "execute_result"
    },
    {
     "data": {
      "image/png": "[encoded data removed]",
      "text/plain": [
       "<Figure size 432x288 with 1 Axes>"
      ]
     },
     "metadata": {
      "needs_background": "light"
     },
     "output_type": "display_data"
    },
    {
     "data": {
      "image/png": "[encoded data removed]",
      "text/plain": [
       "<Figure size 432x288 with 1 Axes>"
      ]
     },
     "metadata": {
      "needs_background": "light"
     },
     "output_type": "display_data"
    },
    {
     "data": {
      "image/png": "[encoded data removed]",
      "text/plain": [
       "<Figure size 432x288 with 1 Axes>"
      ]
     },
     "metadata": {
      "needs_background": "light"
     },
     "output_type": "display_data"
    }
   ],
   "source": [
    "display(data.groupby('children')['debt'].agg(['count', 'sum', 'mean']))\n",
    "# группируем заемщиков по столбцу 'children' - кол-во детей в семье и находим размер групп заемщиков отн-о количества детей.\n",
    "data.groupby('children', as_index=False)['debt'].agg(['count']).rename(columns={'count':'размер группы'}).plot.bar()\n",
    "# группируем заемщиков по столбцу 'children' и строим зависимость количества должников отн-о количества детей.\n",
    "data.groupby('children', as_index=False)['debt'].agg(['sum']).rename(columns={'sum': 'число должников'}).plot.bar()\n",
    "# группируем заемщиков по столбцу 'children' и строим зависимость доли должников отн-о количества детей.\n",
    "data.groupby('children', as_index=False)['debt'].agg(['mean']).rename(columns={'mean': 'доля должников'}).plot.bar()\n"
   ]
  },
  {
   "cell_type": "markdown",
   "id": "7ca19c9a",
   "metadata": {
    "deletable": false,
    "id": "3a6b99ec"
   },
   "source": [
    "**Вывод:** \n",
    "1. На первом графике отмечается убывающая тенденция размера группы от количества детей: меньшее количество семей обладают всё большим количеством детей. 5 детей всего лишь у 9ти семей.\n",
    "2. Число должников также имеет убывающую тенденцию, т.к. должники появляются из всё той же выборки размера группы от количества детей.\n",
    "3. Лучшими заемщиками являются семьи без детей и семьи с 3-мя детьми. Наихудшими - с 1-им, 2-мя и 4-мя детьми. При этом семьи с 5-ю детьми не учитываются, т.к. выборка в 9 семей очень низкая для построения гипотезы.\n",
    "    "
   ]
  },
  {
   "cell_type": "markdown",
   "id": "51f28c0c",
   "metadata": {
    "deletable": false,
    "editable": false,
    "id": "97be82ca"
   },
   "source": [
    "#### 3.2 Есть ли зависимость между семейным положением и возвратом кредита в срок?"
   ]
  },
  {
   "cell_type": "code",
   "execution_count": 23,
   "id": "7a1ea4ea",
   "metadata": {
    "deletable": false,
    "id": "dc3f7ee8"
   },
   "outputs": [
    {
     "data": {
      "text/html": [
       "<div>\n",
       "<style scoped>\n",
       "    .dataframe tbody tr th:only-of-type {\n",
       "        vertical-align: middle;\n",
       "    }\n",
       "\n",
       "    .dataframe tbody tr th {\n",
       "        vertical-align: top;\n",
       "    }\n",
       "\n",
       "    .dataframe thead th {\n",
       "        text-align: right;\n",
       "    }\n",
       "</style>\n",
       "<table border=\"1\" class=\"dataframe\">\n",
       "  <thead>\n",
       "    <tr style=\"text-align: right;\">\n",
       "      <th></th>\n",
       "      <th>count</th>\n",
       "      <th>sum</th>\n",
       "      <th>mean</th>\n",
       "    </tr>\n",
       "    <tr>\n",
       "      <th>family_status</th>\n",
       "      <th></th>\n",
       "      <th></th>\n",
       "      <th></th>\n",
       "    </tr>\n",
       "  </thead>\n",
       "  <tbody>\n",
       "    <tr>\n",
       "      <th>Не женат / не замужем</th>\n",
       "      <td>2796</td>\n",
       "      <td>273</td>\n",
       "      <td>0.097639</td>\n",
       "    </tr>\n",
       "    <tr>\n",
       "      <th>в разводе</th>\n",
       "      <td>1189</td>\n",
       "      <td>84</td>\n",
       "      <td>0.070648</td>\n",
       "    </tr>\n",
       "    <tr>\n",
       "      <th>вдовец / вдова</th>\n",
       "      <td>951</td>\n",
       "      <td>63</td>\n",
       "      <td>0.066246</td>\n",
       "    </tr>\n",
       "    <tr>\n",
       "      <th>гражданский брак</th>\n",
       "      <td>4134</td>\n",
       "      <td>385</td>\n",
       "      <td>0.093130</td>\n",
       "    </tr>\n",
       "    <tr>\n",
       "      <th>женат / замужем</th>\n",
       "      <td>12261</td>\n",
       "      <td>927</td>\n",
       "      <td>0.075606</td>\n",
       "    </tr>\n",
       "  </tbody>\n",
       "</table>\n",
       "</div>"
      ],
      "text/plain": [
       "                       count  sum      mean\n",
       "family_status                              \n",
       "Не женат / не замужем   2796  273  0.097639\n",
       "в разводе               1189   84  0.070648\n",
       "вдовец / вдова           951   63  0.066246\n",
       "гражданский брак        4134  385  0.093130\n",
       "женат / замужем        12261  927  0.075606"
      ]
     },
     "metadata": {},
     "output_type": "display_data"
    },
    {
     "data": {
      "image/png": "[encoded data removed]",
      "text/plain": [
       "<Figure size 720x360 with 1 Axes>"
      ]
     },
     "metadata": {
      "needs_background": "light"
     },
     "output_type": "display_data"
    },
    {
     "data": {
      "text/plain": [
       "Text(0, 0.5, 'Доля должников, %')"
      ]
     },
     "execution_count": 23,
     "metadata": {},
     "output_type": "execute_result"
    },
    {
     "data": {
      "image/png": "[encoded data removed]",
      "text/plain": [
       "<Figure size 720x360 with 1 Axes>"
      ]
     },
     "metadata": {
      "needs_background": "light"
     },
     "output_type": "display_data"
    },
    {
     "data": {
      "image/png": "[encoded data removed]",
      "text/plain": [
       "<Figure size 720x360 with 1 Axes>"
      ]
     },
     "metadata": {
      "needs_background": "light"
     },
     "output_type": "display_data"
    }
   ],
   "source": [
    "import matplotlib.pyplot as plt\n",
    "\n",
    "display(data.groupby('family_status')['debt'].agg(['count', 'sum', 'mean']))\n",
    "\n",
    "# группируем заемщиков по столбцу 'family_status' - семейное положение и находим размер групп заемщиков отн-о семейного положения.\n",
    "data.groupby('family_status', as_index=False)['debt'].agg(['count'])\\\n",
    "    .plot(kind='bar', title = 'Размер группы в категориях',\n",
    "          figsize = (10,5))\n",
    "plt.xticks(rotation = 0)\n",
    "plt.xlabel('Семейный статус')\n",
    "plt.ylabel('Размер группы')\n",
    "plt.show()\n",
    "\n",
    "# группируем заемщиков по столбцу 'family_status' и строим зависимость количества должников отн-о семейного положения.\n",
    "data.groupby('family_status', as_index=False)['debt'].agg(['sum'])\\\n",
    "    .plot(kind='bar', title = 'Число должников в категориях',\n",
    "          figsize = (10,5))\n",
    "plt.xticks(rotation = 0)\n",
    "plt.xlabel('Семейный статус')\n",
    "plt.ylabel('Число должников')\n",
    "\n",
    "# группируем заемщиков по столбцу 'family_status' и строим зависимость доли должников отн-о семейного положения.\n",
    "data.groupby('family_status', as_index=False)['debt'].agg(['mean'])\\\n",
    "    .plot(kind='bar', title = 'Доля должников в категориях',\n",
    "          figsize = (10,5))\n",
    "plt.xticks(rotation = 0)\n",
    "plt.xlabel('Семейный статус')\n",
    "plt.ylabel('Доля должников, %')\n",
    "\n",
    "# Ваш код будет здесь. Вы можете создавать новые ячейки."
   ]
  },
  {
   "cell_type": "markdown",
   "id": "1281befa",
   "metadata": {
    "deletable": false,
    "id": "1cef7837"
   },
   "source": [
    "*Вывод:** \n",
    "1. Больше всего кредитов берут группы: \"женат / замужем\", \"гражданский брак\";\n",
    "2. Самое большое число должников в этих же группах, при этом в группе \"женат / замужем\" должников в 3.2 раза больше, чем \"гражданский брак\";\n",
    "3. Доли должников примерно равные, но более 7% должников превышают две группы: \"Не женат / не замужем\" - 9.7%, \"гражданский брак\" - 9.3%."
   ]
  },
  {
   "cell_type": "markdown",
   "id": "5917c5a8",
   "metadata": {
    "deletable": false,
    "editable": false,
    "id": "1e8b2fca"
   },
   "source": [
    "#### 3.3 Есть ли зависимость между уровнем дохода и возвратом кредита в срок?"
   ]
  },
  {
   "cell_type": "code",
   "execution_count": 25,
   "id": "3941be69",
   "metadata": {
    "deletable": false,
    "id": "cd7e3720"
   },
   "outputs": [
    {
     "data": {
      "text/html": [
       "<div>\n",
       "<style scoped>\n",
       "    .dataframe tbody tr th:only-of-type {\n",
       "        vertical-align: middle;\n",
       "    }\n",
       "\n",
       "    .dataframe tbody tr th {\n",
       "        vertical-align: top;\n",
       "    }\n",
       "\n",
       "    .dataframe thead th {\n",
       "        text-align: right;\n",
       "    }\n",
       "</style>\n",
       "<table border=\"1\" class=\"dataframe\">\n",
       "  <thead>\n",
       "    <tr style=\"text-align: right;\">\n",
       "      <th></th>\n",
       "      <th>count</th>\n",
       "      <th>sum</th>\n",
       "      <th>mean</th>\n",
       "    </tr>\n",
       "    <tr>\n",
       "      <th>total_income_category</th>\n",
       "      <th></th>\n",
       "      <th></th>\n",
       "      <th></th>\n",
       "    </tr>\n",
       "  </thead>\n",
       "  <tbody>\n",
       "    <tr>\n",
       "      <th>A</th>\n",
       "      <td>25</td>\n",
       "      <td>2</td>\n",
       "      <td>0.080000</td>\n",
       "    </tr>\n",
       "    <tr>\n",
       "      <th>B</th>\n",
       "      <td>5014</td>\n",
       "      <td>354</td>\n",
       "      <td>0.070602</td>\n",
       "    </tr>\n",
       "    <tr>\n",
       "      <th>C</th>\n",
       "      <td>15921</td>\n",
       "      <td>1353</td>\n",
       "      <td>0.084982</td>\n",
       "    </tr>\n",
       "    <tr>\n",
       "      <th>D</th>\n",
       "      <td>349</td>\n",
       "      <td>21</td>\n",
       "      <td>0.060172</td>\n",
       "    </tr>\n",
       "    <tr>\n",
       "      <th>E</th>\n",
       "      <td>22</td>\n",
       "      <td>2</td>\n",
       "      <td>0.090909</td>\n",
       "    </tr>\n",
       "  </tbody>\n",
       "</table>\n",
       "</div>"
      ],
      "text/plain": [
       "                       count   sum      mean\n",
       "total_income_category                       \n",
       "A                         25     2  0.080000\n",
       "B                       5014   354  0.070602\n",
       "C                      15921  1353  0.084982\n",
       "D                        349    21  0.060172\n",
       "E                         22     2  0.090909"
      ]
     },
     "metadata": {},
     "output_type": "display_data"
    },
    {
     "data": {
      "image/png": "[encoded data removed]",
      "text/plain": [
       "<Figure size 720x360 with 1 Axes>"
      ]
     },
     "metadata": {
      "needs_background": "light"
     },
     "output_type": "display_data"
    },
    {
     "data": {
      "image/png": "[encoded data removed]",
      "text/plain": [
       "<Figure size 720x360 with 1 Axes>"
      ]
     },
     "metadata": {
      "needs_background": "light"
     },
     "output_type": "display_data"
    },
    {
     "data": {
      "image/png": "[encoded data removed]",
      "text/plain": [
       "<Figure size 720x360 with 1 Axes>"
      ]
     },
     "metadata": {
      "needs_background": "light"
     },
     "output_type": "display_data"
    }
   ],
   "source": [
    "import matplotlib.pyplot as plt\n",
    "\n",
    "display(data.groupby('total_income_category')['debt'].agg(['count', 'sum', 'mean']))\n",
    "\n",
    "\n",
    "# группируем заемщиков по столбцу 'total_income_category' - категории дохода, разделенные на группы и найдем размер групп заемщиков отн-о категорий дохода.\n",
    "data.groupby('total_income_category', as_index = False)['debt'].agg(['count'])\\\n",
    "    .plot(kind = 'bar', title = 'Размер группы в категориях',\n",
    "         figsize = (10,5))\n",
    "plt.xticks(rotation = 0) #Разворот подписей на оси X\n",
    "plt.xlabel('Категории дохода')\n",
    "plt.ylabel('Размер группы')\n",
    "plt.show()\n",
    "\n",
    "# группируем заемщиков по столбцу 'total_income_category' - категории дохода, разделенные на группы и найдем размер групп заемщиков отн-о категорий дохода.\n",
    "data.groupby('total_income_category', as_index = False)['debt'].agg(['sum'])\\\n",
    "    .plot(kind = 'bar', title = 'Размер группы в категориях',\n",
    "         figsize = (10,5))\n",
    "plt.xticks(rotation = 0) #Разворот подписей на оси X\n",
    "plt.xlabel('Категории дохода')\n",
    "plt.ylabel('Число должников')\n",
    "plt.show()\n",
    "\n",
    "# группируем заемщиков по столбцу 'total_income_category' и строим зависимость доли должников отн-о категорий дохода.\n",
    "data.groupby('total_income_category', as_index = False)['debt'].agg(['mean'])\\\n",
    "    .plot(kind = 'bar', title = 'Доля должников в категориях',\n",
    "         figsize = (10,5))\n",
    "plt.xticks(rotation = 0) #Разворот подписей на оси X\n",
    "plt.xlabel('Категории дохода')\n",
    "plt.ylabel('Доля должников, %')\n",
    "plt.show()\n",
    "\n",
    "# Ваш код будет здесь. Вы можете создавать новые ячейки."
   ]
  },
  {
   "cell_type": "markdown",
   "id": "4c99da4c",
   "metadata": {
    "deletable": false,
    "id": "e8593def"
   },
   "source": [
    "**Вывод:** \n",
    "1. Больше всего заемщиков в категории 'C': `50001-200000 руб.` порядка `16000` человек в 3.1 раза выше, чем в группе `'В'`;\n",
    "2. Число должников также прямопропорционально количеству заемщиков: группа `'C'` лидирует, на втором месте группа `'В'`;\n",
    "3. Доля должников колеблется около `8%` независимо от категории заработка. Выделяется группа `'D' с 6%` должников.\n",
    "4. Если сравнивать две наиболее многочисленные группы: `'В'` и `'C'`, то лучше возвращают свои кредиты группа `'В'` их доля должников соотв-т `7%`. Но не стоит отсекать самую многочисленную группу дохода `'C'`, т.к. эта группа зарабатывает существенно больше `'В'`, то она склонна брать кредиты большего размера. Поэтому если у группы `'C'` кредиты большей суммы и большего срока, то вероятность просрочить платеж также вырастает. Поэтому если возникают два кандидата на кредит из группы `'В'` или `'C'`, то стоит отдать предпочтение кандидату из `'В'`.\n",
    "    "
   ]
  },
  {
   "cell_type": "markdown",
   "id": "1409de68",
   "metadata": {
    "deletable": false,
    "editable": false,
    "id": "99ecbd1f"
   },
   "source": [
    "#### 3.4 Как разные цели кредита влияют на его возврат в срок?"
   ]
  },
  {
   "cell_type": "code",
   "execution_count": 26,
   "id": "8353bd5a",
   "metadata": {
    "deletable": false,
    "id": "2b687290"
   },
   "outputs": [
    {
     "data": {
      "text/html": [
       "<div>\n",
       "<style scoped>\n",
       "    .dataframe tbody tr th:only-of-type {\n",
       "        vertical-align: middle;\n",
       "    }\n",
       "\n",
       "    .dataframe tbody tr th {\n",
       "        vertical-align: top;\n",
       "    }\n",
       "\n",
       "    .dataframe thead th {\n",
       "        text-align: right;\n",
       "    }\n",
       "</style>\n",
       "<table border=\"1\" class=\"dataframe\">\n",
       "  <thead>\n",
       "    <tr style=\"text-align: right;\">\n",
       "      <th></th>\n",
       "      <th>count</th>\n",
       "      <th>sum</th>\n",
       "      <th>mean</th>\n",
       "    </tr>\n",
       "    <tr>\n",
       "      <th>purpose_category</th>\n",
       "      <th></th>\n",
       "      <th></th>\n",
       "      <th></th>\n",
       "    </tr>\n",
       "  </thead>\n",
       "  <tbody>\n",
       "    <tr>\n",
       "      <th>операции с автомобилем</th>\n",
       "      <td>4279</td>\n",
       "      <td>400</td>\n",
       "      <td>0.093480</td>\n",
       "    </tr>\n",
       "    <tr>\n",
       "      <th>операции с недвижимостью</th>\n",
       "      <td>10751</td>\n",
       "      <td>780</td>\n",
       "      <td>0.072551</td>\n",
       "    </tr>\n",
       "    <tr>\n",
       "      <th>получение образования</th>\n",
       "      <td>3988</td>\n",
       "      <td>369</td>\n",
       "      <td>0.092528</td>\n",
       "    </tr>\n",
       "    <tr>\n",
       "      <th>проведение свадьбы</th>\n",
       "      <td>2313</td>\n",
       "      <td>183</td>\n",
       "      <td>0.079118</td>\n",
       "    </tr>\n",
       "  </tbody>\n",
       "</table>\n",
       "</div>"
      ],
      "text/plain": [
       "                          count  sum      mean\n",
       "purpose_category                              \n",
       "операции с автомобилем     4279  400  0.093480\n",
       "операции с недвижимостью  10751  780  0.072551\n",
       "получение образования      3988  369  0.092528\n",
       "проведение свадьбы         2313  183  0.079118"
      ]
     },
     "metadata": {},
     "output_type": "display_data"
    },
    {
     "data": {
      "image/png": "[encoded data removed]",
      "text/plain": [
       "<Figure size 720x360 with 1 Axes>"
      ]
     },
     "metadata": {
      "needs_background": "light"
     },
     "output_type": "display_data"
    },
    {
     "data": {
      "image/png": "[encoded data removed]",
      "text/plain": [
       "<Figure size 720x360 with 1 Axes>"
      ]
     },
     "metadata": {
      "needs_background": "light"
     },
     "output_type": "display_data"
    },
    {
     "data": {
      "image/png": "[encoded data removed]",
      "text/plain": [
       "<Figure size 720x360 with 1 Axes>"
      ]
     },
     "metadata": {
      "needs_background": "light"
     },
     "output_type": "display_data"
    }
   ],
   "source": [
    "display(data.groupby('purpose_category')['debt'].agg(['count', 'sum', 'mean']))\n",
    "\n",
    "# группируем заемщиков по столбцу 'purpose_category' - цели кредита и найдем размер групп заемщиков отн-о цели кредита.\n",
    "data.groupby('purpose_category', as_index = False)['debt'].agg(['count'])\\\n",
    "    .plot(kind = 'bar', title = 'Размер группы отн-о цели кредита',\n",
    "         figsize = (10,5))\n",
    "plt.xticks(rotation = 0) \n",
    "plt.xlabel('Цели кредита')\n",
    "plt.ylabel('Размер группы')\n",
    "plt.show()\n",
    "\n",
    "# группируем заемщиков по столбцу 'purpose_category' и найдем число должников отн-о цели кредита.\n",
    "data.groupby('purpose_category', as_index = False)['debt'].agg(['sum'])\\\n",
    "    .plot(kind = 'bar', title = 'Размер группы отн-о цели кредита',\n",
    "         figsize = (10,5))\n",
    "plt.xticks(rotation = 0) \n",
    "plt.xlabel('Цели кредита')\n",
    "plt.ylabel('Число должников')\n",
    "plt.show()\n",
    "\n",
    "# группируем заемщиков по столбцу 'purpose_category' и строим зависимость доли должников отн-о цели кредита.\n",
    "data.groupby('purpose_category', as_index = False)['debt'].agg(['mean'])\\\n",
    "    .plot(kind = 'bar', title = 'Доля должников отн-о цели кредита',\n",
    "         figsize = (10,5))\n",
    "plt.xticks(rotation = 0)\n",
    "plt.xlabel('Цели кредита')\n",
    "plt.ylabel('Доля должников, %')\n",
    "plt.show()\n",
    "\n",
    "\n",
    "\n",
    "# Ваш код будет здесь. Вы можете создавать новые ячейки."
   ]
  },
  {
   "cell_type": "markdown",
   "id": "76b5fbae",
   "metadata": {
    "deletable": false,
    "id": "b4bb2ce6"
   },
   "source": [
    "**Вывод:** \n",
    "1. Больше всего кредитов берут на операции с недвижимостью порядка 10000 человек, с отрывом в 2.5 раза второе место занимают цели: \"операции с автомобилем\" и \"получение образования\";\n",
    "2. Число должников прямо пропорционально числу заемщиков;\n",
    "3. Процент числа задолжников лидирует у \"операции с автомобилем\" - 9.3% и \"получение образования\" - 9.2%. Что и ожидалось увидеть: размер кредита и его продолжительность в случае ипотеки 10 и более лет, автокредит 5 и более лет - увеличивают вероятность не выплаты кредита в срок."
   ]
  },
  {
   "cell_type": "markdown",
   "id": "b6d23b05",
   "metadata": {
    "deletable": false,
    "editable": false,
    "id": "09c3ac4c"
   },
   "source": [
    "#### 3.5 Приведите возможные причины появления пропусков в исходных данных."
   ]
  },
  {
   "cell_type": "markdown",
   "id": "63625637",
   "metadata": {
    "deletable": false,
    "id": "9da2ceda"
   },
   "source": [
    "*Ответ:* \n",
    "1. Заемщики пожелали сокрыть эту информацию;\n",
    "2. Работники банка забыли её внести;\n",
    "3. Утеря данных из-за технических проблем."
   ]
  },
  {
   "cell_type": "markdown",
   "id": "edbda9e1",
   "metadata": {
    "deletable": false,
    "editable": false,
    "id": "7b0487d6"
   },
   "source": [
    "#### 3.6 Объясните, почему заполнить пропуски медианным значением — лучшее решение для количественных переменных."
   ]
  },
  {
   "cell_type": "markdown",
   "id": "98c5ab87",
   "metadata": {
    "deletable": false,
    "id": "7ecf2b8e"
   },
   "source": [
    "**Ответ:**  \n",
    "С помощью медианы можно найти именно тот показатель, который ближе всего к истинно среднему. Медиана позволяет избавиться от выбросов в данных. Допустим, в случае заработной платы, у кого-то может быть МРОТ 12.000 или стипендия отличника СПбГУ 1.200 руб., а у 10-15 человек из выборки, допустим, ТОП-менеджмент или предприниматели, заработная плата может быть 500.000 или 1.500.000 руб. Среднее слишком сильно \"уведет\" нас от более реального показателя зарплаты, а медианное отсортирует значения по возрастанию и выберет значение по середине. Медиана подходит для распределений, которые не явл-я нормальными: ХИ-квардрат, экспоненциальное, лог-нормальное и пр. "
   ]
  },
  {
   "cell_type": "markdown",
   "id": "57f8ef2c",
   "metadata": {
    "deletable": false,
    "editable": false,
    "id": "6db5255a"
   },
   "source": [
    "### Шаг 4: общий вывод."
   ]
  },
  {
   "cell_type": "markdown",
   "id": "1b11fc4a",
   "metadata": {
    "deletable": false,
    "id": "bad65432"
   },
   "source": [
    "Был рассмотрен датасет заемщиков банка.\n",
    "\n",
    "На первом этапе была произведена предобработка данных: заполнили пропуски медианными значениями в столбцах зарплата 'total_income' и  дни занятости 'days_employed', в текстовых полях привели значения к нижнему регистру, рассмотрели кол-во детей в семье и убрали нереальное значение '-1' и маловероятное '20', провели категоризацию данных: разбили зарплаты заемщиков на группы от 'A' до 'E' и цели кредита (операции с автомобилем, операции с недвижимостью, получение образования, проведение свадьбы).\n",
    "\n",
    "При сборе данных столбец 'edication' стоит заполнять нижним регистром, в дни занятости 'days_employed' вводить целые положительные значения. Выдать обязательное требование работникам банка и программистам, заполняющим таблицу данных: заполнять столбы 'days_employed' и 'total_income', т.к. эти столбцы явл-ся одними из наиболее важных в датафрейме.\n",
    "\n",
    "Итак, перейдем к основным выводам, которые мы получили в исследовании:\n",
    "\n",
    "\n",
    "1. Чем большей детей в семье, тем больше доля должников. При этом семьи с 3-мя детьми на равне с семьями без детей явл-ся лучшими заемщиками.При этом семьи с 5-ю детьми не учитываются, т.к. выборка в 9 семей очень низкая для построения гипотезы. \n",
    "2. Больше всего кредитов берут люди с семейным положением: \"женат / замужем\" и \"гражданский брак\", на 3-ем месте  \"не женат / не замужем\", но наибольше кол-во должников в группах \"не женат / не замужем\" и \"гражданский брак\". \n",
    "3. Больше всего кредитов берут люди с категориями дохода 'B' и 'C'. Если сравнивать две наиболее многочисленные группы: 'В' и 'C', то лучше возвращают свои кредиты группа 'В' их доля должников соотв-т 7%.  Но не стоит отсекать самую многочисленную группу дохода 'C', т.к. эта группа зарабатывает существенно больше 'В', то она склонна брать кредиты большего размера. Поэтому если у группы 'C' кредиты большей суммы и большего срока, то вероятность просрочить платеж также вырастает. Поэтому если возникают два кандидата на кредит из группы 'В' или 'C', то стоит отдать предпочтение кандидату из 'В'. Также выделяется группа 'D' с 6% должников - это самая надежная группа заемщиков.\n",
    "4. Больше всего кредитов берут на \"операции с недвижимостью\", на втором месте: \"операции с автомобилем\" и \"получение образования\". Наибольший процент задолжников  у автокредитов - 9.3% и кредиты на образование - 9.2%."
   ]
  },
  {
   "cell_type": "code",
   "execution_count": null,
   "id": "542e5c38",
   "metadata": {},
   "outputs": [],
   "source": []
  }
 ],
 "metadata": {
  "ExecuteTimeLog": [
   {
    "duration": 431,
    "start_time": "2022-10-14T19:01:38.089Z"
   },
   {
    "duration": 35,
    "start_time": "2022-10-14T19:01:43.748Z"
   },
   {
    "duration": 43,
    "start_time": "2022-10-15T11:03:58.667Z"
   },
   {
    "duration": 744,
    "start_time": "2022-10-15T11:04:06.343Z"
   },
   {
    "duration": 30,
    "start_time": "2022-10-15T11:04:07.089Z"
   },
   {
    "duration": 20,
    "start_time": "2022-10-15T11:04:07.121Z"
   },
   {
    "duration": 12,
    "start_time": "2022-10-15T11:04:07.142Z"
   },
   {
    "duration": 33,
    "start_time": "2022-10-15T11:04:07.157Z"
   },
   {
    "duration": 3,
    "start_time": "2022-10-15T11:04:07.192Z"
   },
   {
    "duration": 30,
    "start_time": "2022-10-15T11:04:07.197Z"
   },
   {
    "duration": 4,
    "start_time": "2022-10-15T11:04:07.229Z"
   },
   {
    "duration": 10,
    "start_time": "2022-10-15T11:04:07.236Z"
   },
   {
    "duration": 7,
    "start_time": "2022-10-15T11:04:07.248Z"
   },
   {
    "duration": 44,
    "start_time": "2022-10-15T11:04:07.257Z"
   },
   {
    "duration": 25,
    "start_time": "2022-10-15T11:04:07.304Z"
   },
   {
    "duration": 5,
    "start_time": "2022-10-15T11:04:07.331Z"
   },
   {
    "duration": 14,
    "start_time": "2022-10-15T11:04:07.338Z"
   },
   {
    "duration": 33,
    "start_time": "2022-10-15T11:04:07.356Z"
   },
   {
    "duration": 16,
    "start_time": "2022-10-15T11:04:07.391Z"
   },
   {
    "duration": 3,
    "start_time": "2022-10-15T11:04:07.409Z"
   },
   {
    "duration": 9,
    "start_time": "2022-10-15T11:04:07.422Z"
   },
   {
    "duration": 5,
    "start_time": "2022-10-15T11:04:07.433Z"
   },
   {
    "duration": 7,
    "start_time": "2022-10-15T11:04:07.439Z"
   },
   {
    "duration": 17,
    "start_time": "2022-10-15T11:04:07.447Z"
   },
   {
    "duration": 13,
    "start_time": "2022-10-15T11:04:07.466Z"
   },
   {
    "duration": 9,
    "start_time": "2022-10-15T11:04:07.480Z"
   },
   {
    "duration": 6,
    "start_time": "2022-10-15T11:04:07.490Z"
   },
   {
    "duration": 5,
    "start_time": "2022-10-15T11:04:07.498Z"
   },
   {
    "duration": 3,
    "start_time": "2022-10-15T11:04:10.555Z"
   },
   {
    "duration": 57,
    "start_time": "2022-10-15T11:04:31.919Z"
   },
   {
    "duration": 9,
    "start_time": "2022-10-15T11:04:57.780Z"
   },
   {
    "duration": 37,
    "start_time": "2022-10-15T11:07:04.556Z"
   },
   {
    "duration": 6,
    "start_time": "2022-10-15T11:12:28.951Z"
   },
   {
    "duration": 7,
    "start_time": "2022-10-15T11:12:36.702Z"
   },
   {
    "duration": 7,
    "start_time": "2022-10-15T11:17:11.408Z"
   },
   {
    "duration": 7,
    "start_time": "2022-10-15T11:17:34.839Z"
   },
   {
    "duration": 9,
    "start_time": "2022-10-15T11:17:43.271Z"
   },
   {
    "duration": 11,
    "start_time": "2022-10-15T11:28:10.309Z"
   },
   {
    "duration": 30,
    "start_time": "2022-10-15T11:29:38.728Z"
   },
   {
    "duration": 16,
    "start_time": "2022-10-15T12:20:41.551Z"
   },
   {
    "duration": 24,
    "start_time": "2022-10-15T12:23:49.943Z"
   },
   {
    "duration": 24,
    "start_time": "2022-10-15T12:33:46.099Z"
   },
   {
    "duration": 27,
    "start_time": "2022-10-15T12:38:40.055Z"
   },
   {
    "duration": 30,
    "start_time": "2022-10-15T12:40:06.498Z"
   },
   {
    "duration": 492,
    "start_time": "2022-10-15T17:46:12.346Z"
   },
   {
    "duration": 21,
    "start_time": "2022-10-15T17:46:12.839Z"
   },
   {
    "duration": 13,
    "start_time": "2022-10-15T17:46:12.862Z"
   },
   {
    "duration": 36,
    "start_time": "2022-10-15T17:46:12.877Z"
   },
   {
    "duration": 50,
    "start_time": "2022-10-15T17:46:12.915Z"
   },
   {
    "duration": 3,
    "start_time": "2022-10-15T17:46:12.967Z"
   },
   {
    "duration": 47,
    "start_time": "2022-10-15T17:46:12.971Z"
   },
   {
    "duration": 8,
    "start_time": "2022-10-15T17:46:13.021Z"
   },
   {
    "duration": 30,
    "start_time": "2022-10-15T17:46:13.031Z"
   },
   {
    "duration": 19,
    "start_time": "2022-10-15T17:46:13.064Z"
   },
   {
    "duration": 58,
    "start_time": "2022-10-15T17:46:13.084Z"
   },
   {
    "duration": 8,
    "start_time": "2022-10-15T17:46:13.144Z"
   },
   {
    "duration": 7,
    "start_time": "2022-10-15T17:46:13.153Z"
   },
   {
    "duration": 17,
    "start_time": "2022-10-15T17:46:13.161Z"
   },
   {
    "duration": 17,
    "start_time": "2022-10-15T17:46:13.179Z"
   },
   {
    "duration": 24,
    "start_time": "2022-10-15T17:46:13.200Z"
   },
   {
    "duration": 3,
    "start_time": "2022-10-15T17:46:13.226Z"
   },
   {
    "duration": 13,
    "start_time": "2022-10-15T17:46:13.231Z"
   },
   {
    "duration": 5,
    "start_time": "2022-10-15T17:46:13.245Z"
   },
   {
    "duration": 4,
    "start_time": "2022-10-15T17:46:13.251Z"
   },
   {
    "duration": 57,
    "start_time": "2022-10-15T17:46:13.256Z"
   },
   {
    "duration": 20,
    "start_time": "2022-10-15T17:46:13.314Z"
   },
   {
    "duration": 2,
    "start_time": "2022-10-15T17:46:13.335Z"
   },
   {
    "duration": 19,
    "start_time": "2022-10-15T17:46:13.338Z"
   },
   {
    "duration": 6,
    "start_time": "2022-10-15T17:46:13.358Z"
   },
   {
    "duration": 18,
    "start_time": "2022-10-15T17:46:18.180Z"
   },
   {
    "duration": 12,
    "start_time": "2022-10-15T17:47:00.714Z"
   },
   {
    "duration": 8,
    "start_time": "2022-10-15T17:47:07.516Z"
   },
   {
    "duration": 10,
    "start_time": "2022-10-15T17:47:23.883Z"
   },
   {
    "duration": 447,
    "start_time": "2022-10-15T17:50:09.089Z"
   },
   {
    "duration": 726,
    "start_time": "2022-10-15T17:53:02.426Z"
   },
   {
    "duration": 28,
    "start_time": "2022-10-15T17:54:16.018Z"
   },
   {
    "duration": 774,
    "start_time": "2022-10-15T17:54:26.309Z"
   },
   {
    "duration": 862,
    "start_time": "2022-10-15T17:54:40.597Z"
   },
   {
    "duration": 723,
    "start_time": "2022-10-15T17:55:13.561Z"
   },
   {
    "duration": 53,
    "start_time": "2022-10-15T18:37:01.178Z"
   },
   {
    "duration": 920,
    "start_time": "2022-10-15T18:37:06.218Z"
   },
   {
    "duration": 148,
    "start_time": "2022-10-15T18:39:47.779Z"
   },
   {
    "duration": 122,
    "start_time": "2022-10-15T18:40:18.713Z"
   },
   {
    "duration": 351,
    "start_time": "2022-10-15T18:41:00.203Z"
   },
   {
    "duration": 150,
    "start_time": "2022-10-15T18:41:13.465Z"
   },
   {
    "duration": 265,
    "start_time": "2022-10-15T18:41:28.152Z"
   },
   {
    "duration": 276,
    "start_time": "2022-10-15T18:42:03.167Z"
   },
   {
    "duration": 39,
    "start_time": "2022-10-15T18:46:13.163Z"
   },
   {
    "duration": 139,
    "start_time": "2022-10-15T18:46:34.977Z"
   },
   {
    "duration": 131,
    "start_time": "2022-10-15T19:08:08.249Z"
   },
   {
    "duration": 148,
    "start_time": "2022-10-15T19:14:53.501Z"
   },
   {
    "duration": 274,
    "start_time": "2022-10-15T19:20:07.028Z"
   },
   {
    "duration": 265,
    "start_time": "2022-10-15T19:26:59.615Z"
   },
   {
    "duration": 267,
    "start_time": "2022-10-15T19:27:05.090Z"
   },
   {
    "duration": 237,
    "start_time": "2022-10-15T19:27:11.228Z"
   },
   {
    "duration": 38,
    "start_time": "2022-10-15T19:34:43.321Z"
   },
   {
    "duration": 45,
    "start_time": "2022-10-15T19:34:54.436Z"
   },
   {
    "duration": 46,
    "start_time": "2022-10-15T19:35:06.961Z"
   },
   {
    "duration": 44,
    "start_time": "2022-10-15T19:35:20.860Z"
   },
   {
    "duration": 40,
    "start_time": "2022-10-15T19:35:33.267Z"
   },
   {
    "duration": 40,
    "start_time": "2022-10-15T19:36:28.895Z"
   },
   {
    "duration": 11,
    "start_time": "2022-10-15T19:36:51.003Z"
   },
   {
    "duration": 206,
    "start_time": "2022-10-15T19:37:04.141Z"
   },
   {
    "duration": 124,
    "start_time": "2022-10-15T19:37:38.231Z"
   },
   {
    "duration": 165,
    "start_time": "2022-10-15T19:38:04.362Z"
   },
   {
    "duration": 129,
    "start_time": "2022-10-15T19:38:25.705Z"
   },
   {
    "duration": 136,
    "start_time": "2022-10-15T19:39:30.527Z"
   },
   {
    "duration": 132,
    "start_time": "2022-10-15T19:39:55.055Z"
   },
   {
    "duration": 249,
    "start_time": "2022-10-15T19:40:02.439Z"
   },
   {
    "duration": 244,
    "start_time": "2022-10-15T19:40:17.756Z"
   },
   {
    "duration": 256,
    "start_time": "2022-10-15T19:40:51.447Z"
   },
   {
    "duration": 291,
    "start_time": "2022-10-15T19:42:46.958Z"
   },
   {
    "duration": 263,
    "start_time": "2022-10-15T19:44:01.794Z"
   },
   {
    "duration": 535,
    "start_time": "2022-10-15T19:49:54.068Z"
   },
   {
    "duration": 388,
    "start_time": "2022-10-15T19:51:37.216Z"
   },
   {
    "duration": 404,
    "start_time": "2022-10-15T19:52:27.967Z"
   },
   {
    "duration": 368,
    "start_time": "2022-10-15T19:53:12.398Z"
   },
   {
    "duration": 390,
    "start_time": "2022-10-15T20:39:28.623Z"
   },
   {
    "duration": 470,
    "start_time": "2022-10-15T20:40:09.411Z"
   },
   {
    "duration": 380,
    "start_time": "2022-10-15T20:40:49.172Z"
   },
   {
    "duration": 354,
    "start_time": "2022-10-15T20:41:17.046Z"
   },
   {
    "duration": 419,
    "start_time": "2022-10-15T20:41:24.221Z"
   },
   {
    "duration": 255,
    "start_time": "2022-10-15T21:24:42.728Z"
   },
   {
    "duration": 151,
    "start_time": "2022-10-15T21:24:55.527Z"
   },
   {
    "duration": 375,
    "start_time": "2022-10-15T21:25:04.868Z"
   },
   {
    "duration": 422,
    "start_time": "2022-10-15T21:34:13.616Z"
   },
   {
    "duration": 20,
    "start_time": "2022-10-15T21:34:14.040Z"
   },
   {
    "duration": 13,
    "start_time": "2022-10-15T21:34:14.062Z"
   },
   {
    "duration": 24,
    "start_time": "2022-10-15T21:34:14.076Z"
   },
   {
    "duration": 30,
    "start_time": "2022-10-15T21:34:14.102Z"
   },
   {
    "duration": 3,
    "start_time": "2022-10-15T21:34:14.134Z"
   },
   {
    "duration": 27,
    "start_time": "2022-10-15T21:34:14.138Z"
   },
   {
    "duration": 4,
    "start_time": "2022-10-15T21:34:14.167Z"
   },
   {
    "duration": 10,
    "start_time": "2022-10-15T21:34:14.173Z"
   },
   {
    "duration": 14,
    "start_time": "2022-10-15T21:34:14.186Z"
   },
   {
    "duration": 33,
    "start_time": "2022-10-15T21:34:14.202Z"
   },
   {
    "duration": 10,
    "start_time": "2022-10-15T21:34:14.236Z"
   },
   {
    "duration": 4,
    "start_time": "2022-10-15T21:34:14.248Z"
   },
   {
    "duration": 13,
    "start_time": "2022-10-15T21:34:14.253Z"
   },
   {
    "duration": 40,
    "start_time": "2022-10-15T21:34:14.268Z"
   },
   {
    "duration": 15,
    "start_time": "2022-10-15T21:34:14.310Z"
   },
   {
    "duration": 3,
    "start_time": "2022-10-15T21:34:14.326Z"
   },
   {
    "duration": 12,
    "start_time": "2022-10-15T21:34:14.330Z"
   },
   {
    "duration": 4,
    "start_time": "2022-10-15T21:34:14.343Z"
   },
   {
    "duration": 9,
    "start_time": "2022-10-15T21:34:14.348Z"
   },
   {
    "duration": 26,
    "start_time": "2022-10-15T21:34:14.359Z"
   },
   {
    "duration": 604,
    "start_time": "2022-10-15T21:34:14.400Z"
   },
   {
    "duration": 409,
    "start_time": "2022-10-15T21:34:15.006Z"
   },
   {
    "duration": 418,
    "start_time": "2022-10-15T21:34:15.418Z"
   },
   {
    "duration": 3,
    "start_time": "2022-10-15T21:34:15.837Z"
   },
   {
    "duration": 341,
    "start_time": "2022-10-15T21:42:45.812Z"
   },
   {
    "duration": 445,
    "start_time": "2022-10-15T21:42:54.300Z"
   },
   {
    "duration": 1104,
    "start_time": "2022-10-16T04:37:06.045Z"
   },
   {
    "duration": 25,
    "start_time": "2022-10-16T04:37:07.151Z"
   },
   {
    "duration": 17,
    "start_time": "2022-10-16T04:37:07.178Z"
   },
   {
    "duration": 25,
    "start_time": "2022-10-16T04:37:07.196Z"
   },
   {
    "duration": 53,
    "start_time": "2022-10-16T04:37:07.223Z"
   },
   {
    "duration": 3,
    "start_time": "2022-10-16T04:37:07.278Z"
   },
   {
    "duration": 11,
    "start_time": "2022-10-16T04:37:07.282Z"
   },
   {
    "duration": 4,
    "start_time": "2022-10-16T04:37:07.295Z"
   },
   {
    "duration": 13,
    "start_time": "2022-10-16T04:37:07.300Z"
   },
   {
    "duration": 5,
    "start_time": "2022-10-16T04:37:07.315Z"
   },
   {
    "duration": 47,
    "start_time": "2022-10-16T04:37:07.322Z"
   },
   {
    "duration": 27,
    "start_time": "2022-10-16T04:37:07.372Z"
   },
   {
    "duration": 4,
    "start_time": "2022-10-16T04:37:07.401Z"
   },
   {
    "duration": 25,
    "start_time": "2022-10-16T04:37:07.408Z"
   },
   {
    "duration": 30,
    "start_time": "2022-10-16T04:37:07.435Z"
   },
   {
    "duration": 25,
    "start_time": "2022-10-16T04:37:07.466Z"
   },
   {
    "duration": 7,
    "start_time": "2022-10-16T04:37:07.493Z"
   },
   {
    "duration": 18,
    "start_time": "2022-10-16T04:37:07.502Z"
   },
   {
    "duration": 19,
    "start_time": "2022-10-16T04:37:07.521Z"
   },
   {
    "duration": 12,
    "start_time": "2022-10-16T04:37:07.542Z"
   },
   {
    "duration": 31,
    "start_time": "2022-10-16T04:37:07.556Z"
   },
   {
    "duration": 907,
    "start_time": "2022-10-16T04:37:07.589Z"
   },
   {
    "duration": 460,
    "start_time": "2022-10-16T04:37:08.498Z"
   },
   {
    "duration": 512,
    "start_time": "2022-10-16T04:37:08.959Z"
   },
   {
    "duration": 469,
    "start_time": "2022-10-16T04:37:09.473Z"
   },
   {
    "duration": 219,
    "start_time": "2022-10-16T04:44:46.667Z"
   },
   {
    "duration": 146,
    "start_time": "2022-10-16T04:45:56.997Z"
   },
   {
    "duration": 151,
    "start_time": "2022-10-16T04:46:29.577Z"
   },
   {
    "duration": 151,
    "start_time": "2022-10-16T04:47:14.054Z"
   },
   {
    "duration": 153,
    "start_time": "2022-10-16T04:47:38.966Z"
   },
   {
    "duration": 43,
    "start_time": "2022-10-16T08:11:32.775Z"
   },
   {
    "duration": 699,
    "start_time": "2022-10-16T08:11:58.905Z"
   },
   {
    "duration": 21,
    "start_time": "2022-10-16T08:11:59.605Z"
   },
   {
    "duration": 15,
    "start_time": "2022-10-16T08:11:59.627Z"
   },
   {
    "duration": 8,
    "start_time": "2022-10-16T08:11:59.643Z"
   },
   {
    "duration": 32,
    "start_time": "2022-10-16T08:11:59.653Z"
   },
   {
    "duration": 2,
    "start_time": "2022-10-16T08:11:59.687Z"
   },
   {
    "duration": 32,
    "start_time": "2022-10-16T08:11:59.691Z"
   },
   {
    "duration": 3,
    "start_time": "2022-10-16T08:11:59.724Z"
   },
   {
    "duration": 9,
    "start_time": "2022-10-16T08:11:59.729Z"
   },
   {
    "duration": 3,
    "start_time": "2022-10-16T08:11:59.740Z"
   },
   {
    "duration": 33,
    "start_time": "2022-10-16T08:11:59.744Z"
   },
   {
    "duration": 7,
    "start_time": "2022-10-16T08:11:59.778Z"
   },
   {
    "duration": 4,
    "start_time": "2022-10-16T08:11:59.787Z"
   },
   {
    "duration": 31,
    "start_time": "2022-10-16T08:11:59.792Z"
   },
   {
    "duration": 17,
    "start_time": "2022-10-16T08:11:59.825Z"
   },
   {
    "duration": 15,
    "start_time": "2022-10-16T08:11:59.843Z"
   },
   {
    "duration": 3,
    "start_time": "2022-10-16T08:11:59.860Z"
   },
   {
    "duration": 20,
    "start_time": "2022-10-16T08:11:59.864Z"
   },
   {
    "duration": 23,
    "start_time": "2022-10-16T08:11:59.886Z"
   },
   {
    "duration": 6,
    "start_time": "2022-10-16T08:11:59.911Z"
   },
   {
    "duration": 28,
    "start_time": "2022-10-16T08:11:59.919Z"
   },
   {
    "duration": 728,
    "start_time": "2022-10-16T08:11:59.949Z"
   },
   {
    "duration": 391,
    "start_time": "2022-10-16T08:12:00.679Z"
   },
   {
    "duration": 194,
    "start_time": "2022-10-16T08:12:01.072Z"
   },
   {
    "duration": 355,
    "start_time": "2022-10-16T08:12:01.268Z"
   },
   {
    "duration": 393,
    "start_time": "2022-10-16T08:12:01.624Z"
   },
   {
    "duration": 369,
    "start_time": "2022-10-16T09:59:44.661Z"
   },
   {
    "duration": 78,
    "start_time": "2022-10-16T10:03:13.678Z"
   },
   {
    "duration": 394,
    "start_time": "2022-10-16T10:04:10.384Z"
   },
   {
    "duration": 381,
    "start_time": "2022-10-16T10:09:28.343Z"
   },
   {
    "duration": 377,
    "start_time": "2022-10-16T10:10:04.446Z"
   },
   {
    "duration": 429,
    "start_time": "2022-10-16T10:10:12.307Z"
   },
   {
    "duration": 435,
    "start_time": "2022-10-16T10:13:04.338Z"
   },
   {
    "duration": 415,
    "start_time": "2022-10-16T10:13:38.015Z"
   },
   {
    "duration": 410,
    "start_time": "2022-10-16T10:13:53.943Z"
   },
   {
    "duration": 390,
    "start_time": "2022-10-16T10:16:32.971Z"
   },
   {
    "duration": 350,
    "start_time": "2022-10-16T10:16:37.747Z"
   },
   {
    "duration": 365,
    "start_time": "2022-10-16T10:17:24.006Z"
   },
   {
    "duration": 405,
    "start_time": "2022-10-16T12:17:19.130Z"
   },
   {
    "duration": 406,
    "start_time": "2022-10-16T12:24:20.471Z"
   },
   {
    "duration": 539,
    "start_time": "2022-10-16T12:29:08.341Z"
   },
   {
    "duration": 394,
    "start_time": "2022-10-16T12:32:49.414Z"
   },
   {
    "duration": 442,
    "start_time": "2022-10-16T13:09:19.757Z"
   },
   {
    "duration": 29,
    "start_time": "2022-10-16T13:09:59.993Z"
   },
   {
    "duration": 31,
    "start_time": "2022-10-16T13:10:16.583Z"
   },
   {
    "duration": 432,
    "start_time": "2022-10-16T13:10:30.780Z"
   },
   {
    "duration": 81,
    "start_time": "2022-10-16T14:16:45.072Z"
   },
   {
    "duration": 86,
    "start_time": "2022-10-16T14:18:22.207Z"
   },
   {
    "duration": 31,
    "start_time": "2022-10-16T17:38:39.419Z"
   },
   {
    "duration": 4,
    "start_time": "2022-10-16T17:40:33.061Z"
   },
   {
    "duration": 21,
    "start_time": "2022-10-16T17:40:39.676Z"
   },
   {
    "duration": 23,
    "start_time": "2022-10-16T17:40:47.428Z"
   },
   {
    "duration": 458,
    "start_time": "2022-10-16T17:41:02.457Z"
   },
   {
    "duration": 68,
    "start_time": "2022-10-17T04:20:03.386Z"
   },
   {
    "duration": 662,
    "start_time": "2022-10-17T04:20:13.815Z"
   },
   {
    "duration": 863,
    "start_time": "2022-10-17T04:20:41.361Z"
   },
   {
    "duration": 24,
    "start_time": "2022-10-17T04:20:42.227Z"
   },
   {
    "duration": 20,
    "start_time": "2022-10-17T04:20:42.252Z"
   },
   {
    "duration": 22,
    "start_time": "2022-10-17T04:20:42.275Z"
   },
   {
    "duration": 49,
    "start_time": "2022-10-17T04:20:42.299Z"
   },
   {
    "duration": 5,
    "start_time": "2022-10-17T04:20:42.350Z"
   },
   {
    "duration": 18,
    "start_time": "2022-10-17T04:20:42.357Z"
   },
   {
    "duration": 25,
    "start_time": "2022-10-17T04:20:42.377Z"
   },
   {
    "duration": 13,
    "start_time": "2022-10-17T04:20:42.406Z"
   },
   {
    "duration": 10,
    "start_time": "2022-10-17T04:20:42.423Z"
   },
   {
    "duration": 71,
    "start_time": "2022-10-17T04:20:42.436Z"
   },
   {
    "duration": 16,
    "start_time": "2022-10-17T04:20:42.509Z"
   },
   {
    "duration": 10,
    "start_time": "2022-10-17T04:20:42.526Z"
   },
   {
    "duration": 17,
    "start_time": "2022-10-17T04:20:42.538Z"
   },
   {
    "duration": 49,
    "start_time": "2022-10-17T04:20:42.557Z"
   },
   {
    "duration": 23,
    "start_time": "2022-10-17T04:20:42.616Z"
   },
   {
    "duration": 5,
    "start_time": "2022-10-17T04:20:42.646Z"
   },
   {
    "duration": 20,
    "start_time": "2022-10-17T04:20:42.653Z"
   },
   {
    "duration": 10,
    "start_time": "2022-10-17T04:20:42.675Z"
   },
   {
    "duration": 7,
    "start_time": "2022-10-17T04:20:42.687Z"
   },
   {
    "duration": 41,
    "start_time": "2022-10-17T04:20:42.696Z"
   },
   {
    "duration": 802,
    "start_time": "2022-10-17T04:20:42.740Z"
   },
   {
    "duration": 631,
    "start_time": "2022-10-17T04:20:43.544Z"
   },
   {
    "duration": 191,
    "start_time": "2022-10-17T04:20:44.177Z"
   },
   {
    "duration": 677,
    "start_time": "2022-10-17T04:20:44.370Z"
   },
   {
    "duration": 654,
    "start_time": "2022-10-17T04:20:45.049Z"
   },
   {
    "duration": 403,
    "start_time": "2022-10-17T04:20:45.708Z"
   },
   {
    "duration": 985,
    "start_time": "2023-07-25T21:23:21.955Z"
   },
   {
    "duration": 79,
    "start_time": "2023-07-25T21:23:34.942Z"
   },
   {
    "duration": 784,
    "start_time": "2023-07-25T21:25:33.887Z"
   },
   {
    "duration": 353,
    "start_time": "2023-07-25T21:25:45.423Z"
   }
  ],
  "colab": {
   "name": "dpp_template_part2.ipynb",
   "provenance": []
  },
  "kernelspec": {
   "display_name": "Python 3 (ipykernel)",
   "language": "python",
   "name": "python3"
  },
  "language_info": {
   "codemirror_mode": {
    "name": "ipython",
    "version": 3
   },
   "file_extension": ".py",
   "mimetype": "text/x-python",
   "name": "python",
   "nbconvert_exporter": "python",
   "pygments_lexer": "ipython3",
   "version": "3.9.5"
  },
  "toc": {
   "base_numbering": 1,
   "nav_menu": {},
   "number_sections": true,
   "sideBar": true,
   "skip_h1_title": true,
   "title_cell": "Table of Contents",
   "title_sidebar": "Contents",
   "toc_cell": false,
   "toc_position": {
    "height": "calc(100% - 180px)",
    "left": "10px",
    "top": "150px",
    "width": "302.188px"
   },
   "toc_section_display": true,
   "toc_window_display": false
  }
 },
 "nbformat": 4,
 "nbformat_minor": 5
}
